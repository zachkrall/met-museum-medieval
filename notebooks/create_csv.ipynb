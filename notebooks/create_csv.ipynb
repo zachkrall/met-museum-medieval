{
 "cells": [
  {
   "cell_type": "code",
   "execution_count": 3,
   "metadata": {},
   "outputs": [],
   "source": [
    "import requests\n",
    "import json\n",
    "import time\n",
    "import os\n",
    "from pathlib import Path\n",
    "import logging\n",
    "from typing import List, Dict\n",
    "import pandas as pd\n",
    "import csv"
   ]
  },
  {
   "cell_type": "code",
   "execution_count": 5,
   "metadata": {},
   "outputs": [],
   "source": [
    "met_base_url = \"https://collectionapi.metmuseum.org/public/collection/v1\""
   ]
  },
  {
   "cell_type": "code",
   "execution_count": 6,
   "metadata": {},
   "outputs": [],
   "source": [
    "department_id = 17 # Medieval Art"
   ]
  },
  {
   "cell_type": "code",
   "execution_count": 7,
   "metadata": {},
   "outputs": [
    {
     "name": "stdout",
     "output_type": "stream",
     "text": [
      "Found 7136 object IDs\n",
      "[32830, 32831, 32832, 32833, 32834]...\n"
     ]
    }
   ],
   "source": [
    "def get_object_ids() -> List[int]:\n",
    "    object_ids = []\n",
    "    url = f\"{met_base_url}/objects?departmentIds={department_id}\"\n",
    "    while url:\n",
    "        response = requests.get(url)\n",
    "        response.raise_for_status()\n",
    "        data = response.json()\n",
    "        object_ids.extend(data[\"objectIDs\"])\n",
    "        url = data.get(\"next\", None)\n",
    "    return object_ids\n",
    "\n",
    "\n",
    "object_ids = get_object_ids()\n",
    "\n",
    "print(\"Found {} object IDs\".format(len(object_ids)))\n",
    "print(\"{}...\".format(object_ids[:5]))"
   ]
  },
  {
   "cell_type": "code",
   "execution_count": 8,
   "metadata": {},
   "outputs": [],
   "source": [
    "object_fields = [\n",
    "    \"objectID\",\n",
    "    \"accessionNumber\",\n",
    "    \"primaryImage\",\n",
    "    \"primaryImageSmall\",\n",
    "    \"objectName\",\n",
    "    \"title\",\n",
    "    \"artistDisplayName\",\n",
    "    \"objectDate\",\n",
    "    \"medium\",\n",
    "    \"classification\",\n",
    "    \"objectURL\",\n",
    "]"
   ]
  },
  {
   "cell_type": "code",
   "execution_count": 9,
   "metadata": {},
   "outputs": [],
   "source": [
    "# create a csv file to store object information in \n",
    "csv_file = Path(\"met_objects.csv\")\n",
    "if not csv_file.exists():\n",
    "    with open(csv_file, \"w\") as f:\n",
    "        f.write(\",\".join(object_fields) + \"\\n\")"
   ]
  },
  {
   "cell_type": "code",
   "execution_count": 10,
   "metadata": {},
   "outputs": [],
   "source": [
    "def get_object_info (object_id: str) -> Dict:\n",
    "    url = f\"{met_base_url}/objects/{object_id}\"\n",
    "    response = requests.get(url)\n",
    "    response.raise_for_status()\n",
    "    json = response.json()\n",
    "    output = {}\n",
    "\n",
    "    for field in object_fields:\n",
    "        output[field] = json.get(field, None)\n",
    "\n",
    "    # only return the fields we want\n",
    "    return output"
   ]
  },
  {
   "cell_type": "code",
   "execution_count": 12,
   "metadata": {},
   "outputs": [
    {
     "data": {
      "text/plain": [
       "{'objectID': 32838,\n",
       " 'accessionNumber': '23.21.10',\n",
       " 'primaryImage': 'https://images.metmuseum.org/CRDImages/md/original/DP163290.jpg',\n",
       " 'primaryImageSmall': 'https://images.metmuseum.org/CRDImages/md/web-large/DP163290.jpg',\n",
       " 'objectName': 'Manuscript leaf cutting perhaps from a breviary',\n",
       " 'title': 'Manuscript Leaf Cutting showing an Illuminated Initial R with St. Protasius and St. Gervasius',\n",
       " 'artistDisplayName': 'Olivetan Master',\n",
       " 'objectDate': 'mid-15th century',\n",
       " 'medium': 'Tempera, gold, and ink on parchment',\n",
       " 'classification': 'Manuscripts and Illuminations',\n",
       " 'objectURL': 'https://www.metmuseum.org/art/collection/search/32838'}"
      ]
     },
     "execution_count": 12,
     "metadata": {},
     "output_type": "execute_result"
    }
   ],
   "source": [
    "get_object_info(\"32838\")"
   ]
  },
  {
   "cell_type": "code",
   "execution_count": null,
   "metadata": {},
   "outputs": [],
   "source": [
    "def download_image (url: str, directory: str, filename: str):\n",
    "    response = requests.get(url)\n",
    "    response.raise_for_status()\n",
    "    \n",
    "    filepath = Path(directory) / filename\n",
    "\n",
    "    with open(filepath, \"wb\") as f:\n",
    "        f.write(response.content)"
   ]
  },
  {
   "cell_type": "code",
   "execution_count": 51,
   "metadata": {},
   "outputs": [],
   "source": [
    "for object_id in object_ids:\n",
    "    df = pd.read_csv(csv_file)\n",
    "\n",
    "    # skip if the object is already in the csv file\n",
    "    if object_id not in df[\"objectID\"].values:\n",
    "        try:\n",
    "            info = get_object_info(object_id)\n",
    "            df = pd.concat([df, pd.DataFrame([info])], ignore_index=True)\n",
    "            df.to_csv(csv_file, index=False, quotechar='\"', quoting=csv.QUOTE_NONNUMERIC)\n",
    "        except Exception as e:\n",
    "            logging.error(f\"Error getting object {object_id}: {e}\")    \n",
    "\n",
    "        logging.info(f\"Created object {object_id}\")\n",
    "        time.sleep(0.05)\n",
    "    else:\n",
    "        logging.info(f\"Skipping object {object_id}\")"
   ]
  },
  {
   "cell_type": "code",
   "execution_count": 7,
   "metadata": {},
   "outputs": [
    {
     "name": "stdout",
     "output_type": "stream",
     "text": [
      "Total rows: 7136\n"
     ]
    }
   ],
   "source": [
    "# identify any duplicate rows \n",
    "df = pd.read_csv(csv_file)\n",
    "\n",
    "duplicates = df[df.duplicated(subset=[\"objectID\"], keep=False)]\n",
    "\n",
    "if not duplicates.empty:\n",
    "    print(f\"Found {len(duplicates)} duplicate rows\")\n",
    "    print(duplicates)\n",
    "\n",
    "# print how many rows are in the csv file\n",
    "print(f\"Total rows: {len(df)}\")"
   ]
  }
 ],
 "metadata": {
  "kernelspec": {
   "display_name": "met-museum-medieval",
   "language": "python",
   "name": "python3"
  },
  "language_info": {
   "codemirror_mode": {
    "name": "ipython",
    "version": 3
   },
   "file_extension": ".py",
   "mimetype": "text/x-python",
   "name": "python",
   "nbconvert_exporter": "python",
   "pygments_lexer": "ipython3",
   "version": "3.10.15"
  }
 },
 "nbformat": 4,
 "nbformat_minor": 2
}
