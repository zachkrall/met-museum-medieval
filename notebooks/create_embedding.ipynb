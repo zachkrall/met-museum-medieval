{
 "cells": [
  {
   "cell_type": "code",
   "execution_count": 8,
   "metadata": {},
   "outputs": [
    {
     "name": "stdout",
     "output_type": "stream",
     "text": [
      "Python 3.10.15\n"
     ]
    }
   ],
   "source": [
    "!python --version"
   ]
  },
  {
   "cell_type": "code",
   "execution_count": 6,
   "metadata": {},
   "outputs": [
    {
     "name": "stdout",
     "output_type": "stream",
     "text": [
      "Channels:\n",
      " - pytorch-nightly\n",
      " - defaults\n",
      " - conda-forge\n",
      "Platform: osx-arm64\n",
      "Collecting package metadata (repodata.json): done\n",
      "Solving environment: done\n",
      "\n",
      "## Package Plan ##\n",
      "\n",
      "  environment location: /opt/homebrew/Caskroom/miniconda/base/envs/met-museum-medieval\n",
      "\n",
      "  added / updated specs:\n",
      "    - pytorch\n",
      "    - torchvision\n",
      "\n",
      "\n",
      "The following NEW packages will be INSTALLED:\n",
      "\n",
      "  blas               pkgs/main/osx-arm64::blas-1.0-openblas \n",
      "  brotli-python      pkgs/main/osx-arm64::brotli-python-1.0.9-py310h313beb8_8 \n",
      "  charset-normalizer pkgs/main/noarch::charset-normalizer-3.3.2-pyhd3eb1b0_0 \n",
      "  filelock           pkgs/main/osx-arm64::filelock-3.13.1-py310hca03da5_0 \n",
      "  freetype           pkgs/main/osx-arm64::freetype-2.12.1-h1192e45_0 \n",
      "  giflib             pkgs/main/osx-arm64::giflib-5.2.2-h80987f9_0 \n",
      "  idna               pkgs/main/osx-arm64::idna-3.7-py310hca03da5_0 \n",
      "  jinja2             pkgs/main/osx-arm64::jinja2-3.1.4-py310hca03da5_0 \n",
      "  jpeg               pkgs/main/osx-arm64::jpeg-9e-h80987f9_3 \n",
      "  lcms2              pkgs/main/osx-arm64::lcms2-2.12-hba8e193_0 \n",
      "  lerc               pkgs/main/osx-arm64::lerc-3.0-hc377ac9_0 \n",
      "  libdeflate         pkgs/main/osx-arm64::libdeflate-1.17-h80987f9_1 \n",
      "  libgfortran        pkgs/main/osx-arm64::libgfortran-5.0.0-11_3_0_hca03da5_28 \n",
      "  libgfortran5       pkgs/main/osx-arm64::libgfortran5-11.3.0-h009349e_28 \n",
      "  libjpeg-turbo      pkgs/main/osx-arm64::libjpeg-turbo-2.0.0-h1a28f6b_0 \n",
      "  libopenblas        pkgs/main/osx-arm64::libopenblas-0.3.21-h269037a_0 \n",
      "  libpng             pkgs/main/osx-arm64::libpng-1.6.39-h80987f9_0 \n",
      "  libtiff            pkgs/main/osx-arm64::libtiff-4.5.1-h313beb8_0 \n",
      "  libwebp            pkgs/main/osx-arm64::libwebp-1.3.2-ha3663a8_0 \n",
      "  libwebp-base       pkgs/main/osx-arm64::libwebp-base-1.3.2-h80987f9_1 \n",
      "  llvm-openmp        pkgs/main/osx-arm64::llvm-openmp-14.0.6-hc6e5704_0 \n",
      "  lz4-c              pkgs/main/osx-arm64::lz4-c-1.9.4-h313beb8_1 \n",
      "  markupsafe         pkgs/main/osx-arm64::markupsafe-2.1.3-py310h80987f9_0 \n",
      "  networkx           pkgs/main/osx-arm64::networkx-3.2.1-py310hca03da5_0 \n",
      "  numpy              pkgs/main/osx-arm64::numpy-2.0.1-py310h3b2db8e_1 \n",
      "  numpy-base         pkgs/main/osx-arm64::numpy-base-2.0.1-py310ha9811e2_1 \n",
      "  openjpeg           pkgs/main/osx-arm64::openjpeg-2.5.2-h54b8e55_0 \n",
      "  pillow             pkgs/main/osx-arm64::pillow-10.4.0-py310h80987f9_0 \n",
      "  pysocks            pkgs/main/osx-arm64::pysocks-1.7.1-py310hca03da5_0 \n",
      "  pyyaml             pkgs/main/osx-arm64::pyyaml-6.0.2-py310h80987f9_0 \n",
      "  requests           pkgs/main/osx-arm64::requests-2.32.3-py310hca03da5_0 \n",
      "  urllib3            pkgs/main/osx-arm64::urllib3-2.2.3-py310hca03da5_0 \n",
      "  yaml               pkgs/main/osx-arm64::yaml-0.2.5-h1a28f6b_0 \n",
      "  zstd               pkgs/main/osx-arm64::zstd-1.5.6-hfb09047_0 \n",
      "\n",
      "\n",
      "\n",
      "Downloading and Extracting Packages:\n",
      "\n",
      "Preparing transaction: done\n",
      "Verifying transaction: done\n",
      "Executing transaction: done\n",
      "\n",
      "Note: you may need to restart the kernel to use updated packages.\n"
     ]
    }
   ],
   "source": [
    "%conda install pytorch torchvision -c pytorch-nightly"
   ]
  },
  {
   "cell_type": "code",
   "execution_count": 4,
   "metadata": {},
   "outputs": [
    {
     "name": "stdout",
     "output_type": "stream",
     "text": [
      "Requirement already satisfied: pandas in /opt/homebrew/Caskroom/miniconda/base/envs/met-museum-medieval/lib/python3.10/site-packages (2.2.3)\n",
      "Collecting numpy\n",
      "  Downloading numpy-2.1.3-cp310-cp310-macosx_14_0_arm64.whl.metadata (62 kB)\n",
      "Collecting pillow\n",
      "  Downloading pillow-11.0.0-cp310-cp310-macosx_11_0_arm64.whl.metadata (9.1 kB)\n",
      "Requirement already satisfied: python-dateutil>=2.8.2 in /opt/homebrew/Caskroom/miniconda/base/envs/met-museum-medieval/lib/python3.10/site-packages (from pandas) (2.9.0)\n",
      "Requirement already satisfied: pytz>=2020.1 in /opt/homebrew/Caskroom/miniconda/base/envs/met-museum-medieval/lib/python3.10/site-packages (from pandas) (2024.2)\n",
      "Requirement already satisfied: tzdata>=2022.7 in /opt/homebrew/Caskroom/miniconda/base/envs/met-museum-medieval/lib/python3.10/site-packages (from pandas) (2024.2)\n",
      "Requirement already satisfied: six>=1.5 in /opt/homebrew/Caskroom/miniconda/base/envs/met-museum-medieval/lib/python3.10/site-packages (from python-dateutil>=2.8.2->pandas) (1.16.0)\n",
      "Downloading numpy-2.1.3-cp310-cp310-macosx_14_0_arm64.whl (5.4 MB)\n",
      "\u001b[2K   \u001b[38;2;114;156;31m━━━━━━━━━━━━━━━━━━━━━━━━━━━━━━━━━━━━━━━━\u001b[0m \u001b[32m5.4/5.4 MB\u001b[0m \u001b[31m56.3 MB/s\u001b[0m eta \u001b[36m0:00:00\u001b[0m\n",
      "\u001b[?25hDownloading pillow-11.0.0-cp310-cp310-macosx_11_0_arm64.whl (3.0 MB)\n",
      "\u001b[2K   \u001b[38;2;114;156;31m━━━━━━━━━━━━━━━━━━━━━━━━━━━━━━━━━━━━━━━━\u001b[0m \u001b[32m3.0/3.0 MB\u001b[0m \u001b[31m61.5 MB/s\u001b[0m eta \u001b[36m0:00:00\u001b[0m\n",
      "\u001b[?25hInstalling collected packages: pillow, numpy\n",
      "Successfully installed numpy-2.1.3 pillow-11.0.0\n",
      "Note: you may need to restart the kernel to use updated packages.\n",
      "Requirement already satisfied: scikit-learn in /opt/homebrew/Caskroom/miniconda/base/envs/met-museum-medieval/lib/python3.10/site-packages (1.5.2)\n",
      "Requirement already satisfied: numpy>=1.19.5 in /opt/homebrew/Caskroom/miniconda/base/envs/met-museum-medieval/lib/python3.10/site-packages (from scikit-learn) (2.1.3)\n",
      "Requirement already satisfied: scipy>=1.6.0 in /opt/homebrew/Caskroom/miniconda/base/envs/met-museum-medieval/lib/python3.10/site-packages (from scikit-learn) (1.14.1)\n",
      "Requirement already satisfied: joblib>=1.2.0 in /opt/homebrew/Caskroom/miniconda/base/envs/met-museum-medieval/lib/python3.10/site-packages (from scikit-learn) (1.4.2)\n",
      "Requirement already satisfied: threadpoolctl>=3.1.0 in /opt/homebrew/Caskroom/miniconda/base/envs/met-museum-medieval/lib/python3.10/site-packages (from scikit-learn) (3.5.0)\n",
      "Note: you may need to restart the kernel to use updated packages.\n",
      "Requirement already satisfied: plotly in /opt/homebrew/Caskroom/miniconda/base/envs/met-museum-medieval/lib/python3.10/site-packages (5.24.1)\n",
      "Requirement already satisfied: tenacity>=6.2.0 in /opt/homebrew/Caskroom/miniconda/base/envs/met-museum-medieval/lib/python3.10/site-packages (from plotly) (9.0.0)\n",
      "Requirement already satisfied: packaging in /opt/homebrew/Caskroom/miniconda/base/envs/met-museum-medieval/lib/python3.10/site-packages (from plotly) (24.1)\n",
      "Note: you may need to restart the kernel to use updated packages.\n"
     ]
    }
   ],
   "source": [
    "%pip install pandas numpy pillow\n",
    "%pip install scikit-learn\n",
    "%pip install plotly"
   ]
  },
  {
   "cell_type": "code",
   "execution_count": 14,
   "metadata": {},
   "outputs": [
    {
     "name": "stdout",
     "output_type": "stream",
     "text": [
      "Requirement already satisfied: torchvision in /opt/homebrew/Caskroom/miniconda/base/envs/met-museum-medieval/lib/python3.10/site-packages (0.20.1)\n",
      "Requirement already satisfied: numpy in /opt/homebrew/Caskroom/miniconda/base/envs/met-museum-medieval/lib/python3.10/site-packages (from torchvision) (2.0.1)\n",
      "Requirement already satisfied: torch==2.5.1 in /opt/homebrew/Caskroom/miniconda/base/envs/met-museum-medieval/lib/python3.10/site-packages (from torchvision) (2.5.1)\n",
      "Requirement already satisfied: pillow!=8.3.*,>=5.3.0 in /opt/homebrew/Caskroom/miniconda/base/envs/met-museum-medieval/lib/python3.10/site-packages (from torchvision) (10.4.0)\n",
      "Requirement already satisfied: filelock in /opt/homebrew/Caskroom/miniconda/base/envs/met-museum-medieval/lib/python3.10/site-packages (from torch==2.5.1->torchvision) (3.13.1)\n",
      "Requirement already satisfied: typing-extensions>=4.8.0 in /opt/homebrew/Caskroom/miniconda/base/envs/met-museum-medieval/lib/python3.10/site-packages (from torch==2.5.1->torchvision) (4.12.2)\n",
      "Requirement already satisfied: networkx in /opt/homebrew/Caskroom/miniconda/base/envs/met-museum-medieval/lib/python3.10/site-packages (from torch==2.5.1->torchvision) (3.2.1)\n",
      "Requirement already satisfied: jinja2 in /opt/homebrew/Caskroom/miniconda/base/envs/met-museum-medieval/lib/python3.10/site-packages (from torch==2.5.1->torchvision) (3.1.4)\n",
      "Requirement already satisfied: fsspec in /opt/homebrew/Caskroom/miniconda/base/envs/met-museum-medieval/lib/python3.10/site-packages (from torch==2.5.1->torchvision) (2024.10.0)\n",
      "Requirement already satisfied: sympy==1.13.1 in /opt/homebrew/Caskroom/miniconda/base/envs/met-museum-medieval/lib/python3.10/site-packages (from torch==2.5.1->torchvision) (1.13.1)\n",
      "Requirement already satisfied: mpmath<1.4,>=1.1.0 in /opt/homebrew/Caskroom/miniconda/base/envs/met-museum-medieval/lib/python3.10/site-packages (from sympy==1.13.1->torch==2.5.1->torchvision) (1.3.0)\n",
      "Requirement already satisfied: MarkupSafe>=2.0 in /opt/homebrew/Caskroom/miniconda/base/envs/met-museum-medieval/lib/python3.10/site-packages (from jinja2->torch==2.5.1->torchvision) (2.1.3)\n",
      "Note: you may need to restart the kernel to use updated packages.\n"
     ]
    }
   ],
   "source": [
    "%pip install torchvision"
   ]
  },
  {
   "cell_type": "code",
   "execution_count": 16,
   "metadata": {},
   "outputs": [
    {
     "ename": "ImportError",
     "evalue": "cannot import name 'Tensor' from 'torch' (unknown location)",
     "output_type": "error",
     "traceback": [
      "\u001b[0;31m---------------------------------------------------------------------------\u001b[0m",
      "\u001b[0;31mImportError\u001b[0m                               Traceback (most recent call last)",
      "Cell \u001b[0;32mIn[16], line 4\u001b[0m\n\u001b[1;32m      2\u001b[0m \u001b[38;5;28;01mimport\u001b[39;00m \u001b[38;5;21;01mnumpy\u001b[39;00m \u001b[38;5;28;01mas\u001b[39;00m \u001b[38;5;21;01mnp\u001b[39;00m\n\u001b[1;32m      3\u001b[0m \u001b[38;5;28;01mimport\u001b[39;00m \u001b[38;5;21;01mtorch\u001b[39;00m\n\u001b[0;32m----> 4\u001b[0m \u001b[38;5;28;01mfrom\u001b[39;00m \u001b[38;5;21;01mtorchvision\u001b[39;00m \u001b[38;5;28;01mimport\u001b[39;00m transforms, models\n\u001b[1;32m      5\u001b[0m \u001b[38;5;28;01mfrom\u001b[39;00m \u001b[38;5;21;01mPIL\u001b[39;00m \u001b[38;5;28;01mimport\u001b[39;00m Image\n\u001b[1;32m      6\u001b[0m \u001b[38;5;28;01mfrom\u001b[39;00m \u001b[38;5;21;01mpathlib\u001b[39;00m \u001b[38;5;28;01mimport\u001b[39;00m Path\n",
      "File \u001b[0;32m/opt/homebrew/Caskroom/miniconda/base/envs/met-museum-medieval/lib/python3.10/site-packages/torchvision/transforms/__init__.py:1\u001b[0m\n\u001b[0;32m----> 1\u001b[0m \u001b[38;5;28;01mfrom\u001b[39;00m \u001b[38;5;21;01m.\u001b[39;00m\u001b[38;5;21;01mtransforms\u001b[39;00m \u001b[38;5;28;01mimport\u001b[39;00m \u001b[38;5;241m*\u001b[39m\n\u001b[1;32m      2\u001b[0m \u001b[38;5;28;01mfrom\u001b[39;00m \u001b[38;5;21;01m.\u001b[39;00m\u001b[38;5;21;01mautoaugment\u001b[39;00m \u001b[38;5;28;01mimport\u001b[39;00m \u001b[38;5;241m*\u001b[39m\n",
      "File \u001b[0;32m/opt/homebrew/Caskroom/miniconda/base/envs/met-museum-medieval/lib/python3.10/site-packages/torchvision/transforms/transforms.py:9\u001b[0m\n\u001b[1;32m      6\u001b[0m \u001b[38;5;28;01mfrom\u001b[39;00m \u001b[38;5;21;01mtyping\u001b[39;00m \u001b[38;5;28;01mimport\u001b[39;00m List, Optional, Tuple, Union\n\u001b[1;32m      8\u001b[0m \u001b[38;5;28;01mimport\u001b[39;00m \u001b[38;5;21;01mtorch\u001b[39;00m\n\u001b[0;32m----> 9\u001b[0m \u001b[38;5;28;01mfrom\u001b[39;00m \u001b[38;5;21;01mtorch\u001b[39;00m \u001b[38;5;28;01mimport\u001b[39;00m Tensor\n\u001b[1;32m     11\u001b[0m \u001b[38;5;28;01mtry\u001b[39;00m:\n\u001b[1;32m     12\u001b[0m     \u001b[38;5;28;01mimport\u001b[39;00m \u001b[38;5;21;01maccimage\u001b[39;00m\n",
      "\u001b[0;31mImportError\u001b[0m: cannot import name 'Tensor' from 'torch' (unknown location)"
     ]
    }
   ],
   "source": [
    "import pandas as pd\n",
    "import numpy as np\n",
    "import torch\n",
    "from torchvision import transforms, models\n",
    "from PIL import Image\n",
    "from pathlib import Path\n",
    "import plotly.express as px\n",
    "from sklearn.manifold import TSNE"
   ]
  },
  {
   "cell_type": "code",
   "execution_count": 37,
   "metadata": {},
   "outputs": [],
   "source": [
    "import plotly.io as pio\n",
    "pio.renderers.default = 'notebook'"
   ]
  },
  {
   "cell_type": "code",
   "execution_count": 2,
   "metadata": {},
   "outputs": [
    {
     "name": "stdout",
     "output_type": "stream",
     "text": [
      "Dataset shape: (7136, 11)\n",
      "\n",
      "First few rows:\n",
      "   objectID accessionNumber  \\\n",
      "0    157612   2009.300.2750   \n",
      "1    462739        04.2.818   \n",
      "2    462740        04.2.819   \n",
      "3    462741        04.2.820   \n",
      "4    462742        04.2.821   \n",
      "\n",
      "                                        primaryImage  \\\n",
      "0  https://images.metmuseum.org/CRDImages/md/orig...   \n",
      "1  https://images.metmuseum.org/CRDImages/md/orig...   \n",
      "2  https://images.metmuseum.org/CRDImages/md/orig...   \n",
      "3  https://images.metmuseum.org/CRDImages/md/orig...   \n",
      "4  https://images.metmuseum.org/CRDImages/md/orig...   \n",
      "\n",
      "                                   primaryImageSmall objectName  \\\n",
      "0  https://images.metmuseum.org/CRDImages/md/web-...    Orphrey   \n",
      "1  https://images.metmuseum.org/CRDImages/md/web-...    Solidus   \n",
      "2  https://images.metmuseum.org/CRDImages/md/web-...    Solidus   \n",
      "3  https://images.metmuseum.org/CRDImages/md/web-...    Solidus   \n",
      "4  https://images.metmuseum.org/CRDImages/md/web-...    Solidus   \n",
      "\n",
      "                                            title artistDisplayName  \\\n",
      "0                                         Orphrey               NaN   \n",
      "1                                         Solidus               NaN   \n",
      "2          Gold Solidus of Theodosius II (408–50)               NaN   \n",
      "3                                         Solidus               NaN   \n",
      "4  Solidus of Heraclius and Heraclius Constantine               NaN   \n",
      "\n",
      "                   objectDate              medium classification  \\\n",
      "0  third quarter 14th century  metal, silk, linen       Textiles   \n",
      "1                     396–408                Gold          Coins   \n",
      "2                     408–450                Gold          Coins   \n",
      "3                     610–641                Gold          Coins   \n",
      "4                     629–631                Gold          Coins   \n",
      "\n",
      "                                           objectURL  \n",
      "0  https://www.metmuseum.org/art/collection/searc...  \n",
      "1  https://www.metmuseum.org/art/collection/searc...  \n",
      "2  https://www.metmuseum.org/art/collection/searc...  \n",
      "3  https://www.metmuseum.org/art/collection/searc...  \n",
      "4  https://www.metmuseum.org/art/collection/searc...  \n"
     ]
    }
   ],
   "source": [
    "df = pd.read_csv('met_objects.csv')\n",
    "print(\"Dataset shape:\", df.shape)\n",
    "print(\"\\nFirst few rows:\")\n",
    "print(df.head())"
   ]
  },
  {
   "cell_type": "code",
   "execution_count": 17,
   "metadata": {},
   "outputs": [
    {
     "name": "stdout",
     "output_type": "stream",
     "text": [
      "Dataset shape after removing rows with missing image URLs: (6917, 11)\n"
     ]
    }
   ],
   "source": [
    "# remove rows with missing image URLs\n",
    "df = df.dropna(subset=['primaryImage'])\n",
    "\n",
    "# show length of dataset after removing rows with missing image URLs\n",
    "print(\"Dataset shape after removing rows with missing image URLs:\", df.shape)"
   ]
  },
  {
   "cell_type": "code",
   "execution_count": 3,
   "metadata": {},
   "outputs": [],
   "source": [
    "preprocess = transforms.Compose([\n",
    "    transforms.Resize(256),\n",
    "    transforms.CenterCrop(224),\n",
    "    transforms.ToTensor(),\n",
    "    transforms.Normalize(\n",
    "        mean=[0.485, 0.456, 0.406],\n",
    "        std=[0.229, 0.224, 0.225]\n",
    "    )\n",
    "])"
   ]
  },
  {
   "cell_type": "code",
   "execution_count": 7,
   "metadata": {},
   "outputs": [
    {
     "name": "stdout",
     "output_type": "stream",
     "text": [
      "Using device: mps\n"
     ]
    }
   ],
   "source": [
    "device = (\n",
    "    \"mps\" \n",
    "    if torch.backends.mps.is_available() \n",
    "    else \"cpu\"\n",
    ")\n",
    "print(f\"Using device: {device}\")"
   ]
  },
  {
   "cell_type": "code",
   "execution_count": 8,
   "metadata": {},
   "outputs": [
    {
     "name": "stderr",
     "output_type": "stream",
     "text": [
      "Downloading: \"https://download.pytorch.org/models/resnet50-11ad3fa6.pth\" to /Users/zach/.cache/torch/hub/checkpoints/resnet50-11ad3fa6.pth\n",
      "100.0%\n"
     ]
    },
    {
     "data": {
      "text/plain": [
       "Sequential(\n",
       "  (0): Conv2d(3, 64, kernel_size=(7, 7), stride=(2, 2), padding=(3, 3), bias=False)\n",
       "  (1): BatchNorm2d(64, eps=1e-05, momentum=0.1, affine=True, track_running_stats=True)\n",
       "  (2): ReLU(inplace=True)\n",
       "  (3): MaxPool2d(kernel_size=3, stride=2, padding=1, dilation=1, ceil_mode=False)\n",
       "  (4): Sequential(\n",
       "    (0): Bottleneck(\n",
       "      (conv1): Conv2d(64, 64, kernel_size=(1, 1), stride=(1, 1), bias=False)\n",
       "      (bn1): BatchNorm2d(64, eps=1e-05, momentum=0.1, affine=True, track_running_stats=True)\n",
       "      (conv2): Conv2d(64, 64, kernel_size=(3, 3), stride=(1, 1), padding=(1, 1), bias=False)\n",
       "      (bn2): BatchNorm2d(64, eps=1e-05, momentum=0.1, affine=True, track_running_stats=True)\n",
       "      (conv3): Conv2d(64, 256, kernel_size=(1, 1), stride=(1, 1), bias=False)\n",
       "      (bn3): BatchNorm2d(256, eps=1e-05, momentum=0.1, affine=True, track_running_stats=True)\n",
       "      (relu): ReLU(inplace=True)\n",
       "      (downsample): Sequential(\n",
       "        (0): Conv2d(64, 256, kernel_size=(1, 1), stride=(1, 1), bias=False)\n",
       "        (1): BatchNorm2d(256, eps=1e-05, momentum=0.1, affine=True, track_running_stats=True)\n",
       "      )\n",
       "    )\n",
       "    (1): Bottleneck(\n",
       "      (conv1): Conv2d(256, 64, kernel_size=(1, 1), stride=(1, 1), bias=False)\n",
       "      (bn1): BatchNorm2d(64, eps=1e-05, momentum=0.1, affine=True, track_running_stats=True)\n",
       "      (conv2): Conv2d(64, 64, kernel_size=(3, 3), stride=(1, 1), padding=(1, 1), bias=False)\n",
       "      (bn2): BatchNorm2d(64, eps=1e-05, momentum=0.1, affine=True, track_running_stats=True)\n",
       "      (conv3): Conv2d(64, 256, kernel_size=(1, 1), stride=(1, 1), bias=False)\n",
       "      (bn3): BatchNorm2d(256, eps=1e-05, momentum=0.1, affine=True, track_running_stats=True)\n",
       "      (relu): ReLU(inplace=True)\n",
       "    )\n",
       "    (2): Bottleneck(\n",
       "      (conv1): Conv2d(256, 64, kernel_size=(1, 1), stride=(1, 1), bias=False)\n",
       "      (bn1): BatchNorm2d(64, eps=1e-05, momentum=0.1, affine=True, track_running_stats=True)\n",
       "      (conv2): Conv2d(64, 64, kernel_size=(3, 3), stride=(1, 1), padding=(1, 1), bias=False)\n",
       "      (bn2): BatchNorm2d(64, eps=1e-05, momentum=0.1, affine=True, track_running_stats=True)\n",
       "      (conv3): Conv2d(64, 256, kernel_size=(1, 1), stride=(1, 1), bias=False)\n",
       "      (bn3): BatchNorm2d(256, eps=1e-05, momentum=0.1, affine=True, track_running_stats=True)\n",
       "      (relu): ReLU(inplace=True)\n",
       "    )\n",
       "  )\n",
       "  (5): Sequential(\n",
       "    (0): Bottleneck(\n",
       "      (conv1): Conv2d(256, 128, kernel_size=(1, 1), stride=(1, 1), bias=False)\n",
       "      (bn1): BatchNorm2d(128, eps=1e-05, momentum=0.1, affine=True, track_running_stats=True)\n",
       "      (conv2): Conv2d(128, 128, kernel_size=(3, 3), stride=(2, 2), padding=(1, 1), bias=False)\n",
       "      (bn2): BatchNorm2d(128, eps=1e-05, momentum=0.1, affine=True, track_running_stats=True)\n",
       "      (conv3): Conv2d(128, 512, kernel_size=(1, 1), stride=(1, 1), bias=False)\n",
       "      (bn3): BatchNorm2d(512, eps=1e-05, momentum=0.1, affine=True, track_running_stats=True)\n",
       "      (relu): ReLU(inplace=True)\n",
       "      (downsample): Sequential(\n",
       "        (0): Conv2d(256, 512, kernel_size=(1, 1), stride=(2, 2), bias=False)\n",
       "        (1): BatchNorm2d(512, eps=1e-05, momentum=0.1, affine=True, track_running_stats=True)\n",
       "      )\n",
       "    )\n",
       "    (1): Bottleneck(\n",
       "      (conv1): Conv2d(512, 128, kernel_size=(1, 1), stride=(1, 1), bias=False)\n",
       "      (bn1): BatchNorm2d(128, eps=1e-05, momentum=0.1, affine=True, track_running_stats=True)\n",
       "      (conv2): Conv2d(128, 128, kernel_size=(3, 3), stride=(1, 1), padding=(1, 1), bias=False)\n",
       "      (bn2): BatchNorm2d(128, eps=1e-05, momentum=0.1, affine=True, track_running_stats=True)\n",
       "      (conv3): Conv2d(128, 512, kernel_size=(1, 1), stride=(1, 1), bias=False)\n",
       "      (bn3): BatchNorm2d(512, eps=1e-05, momentum=0.1, affine=True, track_running_stats=True)\n",
       "      (relu): ReLU(inplace=True)\n",
       "    )\n",
       "    (2): Bottleneck(\n",
       "      (conv1): Conv2d(512, 128, kernel_size=(1, 1), stride=(1, 1), bias=False)\n",
       "      (bn1): BatchNorm2d(128, eps=1e-05, momentum=0.1, affine=True, track_running_stats=True)\n",
       "      (conv2): Conv2d(128, 128, kernel_size=(3, 3), stride=(1, 1), padding=(1, 1), bias=False)\n",
       "      (bn2): BatchNorm2d(128, eps=1e-05, momentum=0.1, affine=True, track_running_stats=True)\n",
       "      (conv3): Conv2d(128, 512, kernel_size=(1, 1), stride=(1, 1), bias=False)\n",
       "      (bn3): BatchNorm2d(512, eps=1e-05, momentum=0.1, affine=True, track_running_stats=True)\n",
       "      (relu): ReLU(inplace=True)\n",
       "    )\n",
       "    (3): Bottleneck(\n",
       "      (conv1): Conv2d(512, 128, kernel_size=(1, 1), stride=(1, 1), bias=False)\n",
       "      (bn1): BatchNorm2d(128, eps=1e-05, momentum=0.1, affine=True, track_running_stats=True)\n",
       "      (conv2): Conv2d(128, 128, kernel_size=(3, 3), stride=(1, 1), padding=(1, 1), bias=False)\n",
       "      (bn2): BatchNorm2d(128, eps=1e-05, momentum=0.1, affine=True, track_running_stats=True)\n",
       "      (conv3): Conv2d(128, 512, kernel_size=(1, 1), stride=(1, 1), bias=False)\n",
       "      (bn3): BatchNorm2d(512, eps=1e-05, momentum=0.1, affine=True, track_running_stats=True)\n",
       "      (relu): ReLU(inplace=True)\n",
       "    )\n",
       "  )\n",
       "  (6): Sequential(\n",
       "    (0): Bottleneck(\n",
       "      (conv1): Conv2d(512, 256, kernel_size=(1, 1), stride=(1, 1), bias=False)\n",
       "      (bn1): BatchNorm2d(256, eps=1e-05, momentum=0.1, affine=True, track_running_stats=True)\n",
       "      (conv2): Conv2d(256, 256, kernel_size=(3, 3), stride=(2, 2), padding=(1, 1), bias=False)\n",
       "      (bn2): BatchNorm2d(256, eps=1e-05, momentum=0.1, affine=True, track_running_stats=True)\n",
       "      (conv3): Conv2d(256, 1024, kernel_size=(1, 1), stride=(1, 1), bias=False)\n",
       "      (bn3): BatchNorm2d(1024, eps=1e-05, momentum=0.1, affine=True, track_running_stats=True)\n",
       "      (relu): ReLU(inplace=True)\n",
       "      (downsample): Sequential(\n",
       "        (0): Conv2d(512, 1024, kernel_size=(1, 1), stride=(2, 2), bias=False)\n",
       "        (1): BatchNorm2d(1024, eps=1e-05, momentum=0.1, affine=True, track_running_stats=True)\n",
       "      )\n",
       "    )\n",
       "    (1): Bottleneck(\n",
       "      (conv1): Conv2d(1024, 256, kernel_size=(1, 1), stride=(1, 1), bias=False)\n",
       "      (bn1): BatchNorm2d(256, eps=1e-05, momentum=0.1, affine=True, track_running_stats=True)\n",
       "      (conv2): Conv2d(256, 256, kernel_size=(3, 3), stride=(1, 1), padding=(1, 1), bias=False)\n",
       "      (bn2): BatchNorm2d(256, eps=1e-05, momentum=0.1, affine=True, track_running_stats=True)\n",
       "      (conv3): Conv2d(256, 1024, kernel_size=(1, 1), stride=(1, 1), bias=False)\n",
       "      (bn3): BatchNorm2d(1024, eps=1e-05, momentum=0.1, affine=True, track_running_stats=True)\n",
       "      (relu): ReLU(inplace=True)\n",
       "    )\n",
       "    (2): Bottleneck(\n",
       "      (conv1): Conv2d(1024, 256, kernel_size=(1, 1), stride=(1, 1), bias=False)\n",
       "      (bn1): BatchNorm2d(256, eps=1e-05, momentum=0.1, affine=True, track_running_stats=True)\n",
       "      (conv2): Conv2d(256, 256, kernel_size=(3, 3), stride=(1, 1), padding=(1, 1), bias=False)\n",
       "      (bn2): BatchNorm2d(256, eps=1e-05, momentum=0.1, affine=True, track_running_stats=True)\n",
       "      (conv3): Conv2d(256, 1024, kernel_size=(1, 1), stride=(1, 1), bias=False)\n",
       "      (bn3): BatchNorm2d(1024, eps=1e-05, momentum=0.1, affine=True, track_running_stats=True)\n",
       "      (relu): ReLU(inplace=True)\n",
       "    )\n",
       "    (3): Bottleneck(\n",
       "      (conv1): Conv2d(1024, 256, kernel_size=(1, 1), stride=(1, 1), bias=False)\n",
       "      (bn1): BatchNorm2d(256, eps=1e-05, momentum=0.1, affine=True, track_running_stats=True)\n",
       "      (conv2): Conv2d(256, 256, kernel_size=(3, 3), stride=(1, 1), padding=(1, 1), bias=False)\n",
       "      (bn2): BatchNorm2d(256, eps=1e-05, momentum=0.1, affine=True, track_running_stats=True)\n",
       "      (conv3): Conv2d(256, 1024, kernel_size=(1, 1), stride=(1, 1), bias=False)\n",
       "      (bn3): BatchNorm2d(1024, eps=1e-05, momentum=0.1, affine=True, track_running_stats=True)\n",
       "      (relu): ReLU(inplace=True)\n",
       "    )\n",
       "    (4): Bottleneck(\n",
       "      (conv1): Conv2d(1024, 256, kernel_size=(1, 1), stride=(1, 1), bias=False)\n",
       "      (bn1): BatchNorm2d(256, eps=1e-05, momentum=0.1, affine=True, track_running_stats=True)\n",
       "      (conv2): Conv2d(256, 256, kernel_size=(3, 3), stride=(1, 1), padding=(1, 1), bias=False)\n",
       "      (bn2): BatchNorm2d(256, eps=1e-05, momentum=0.1, affine=True, track_running_stats=True)\n",
       "      (conv3): Conv2d(256, 1024, kernel_size=(1, 1), stride=(1, 1), bias=False)\n",
       "      (bn3): BatchNorm2d(1024, eps=1e-05, momentum=0.1, affine=True, track_running_stats=True)\n",
       "      (relu): ReLU(inplace=True)\n",
       "    )\n",
       "    (5): Bottleneck(\n",
       "      (conv1): Conv2d(1024, 256, kernel_size=(1, 1), stride=(1, 1), bias=False)\n",
       "      (bn1): BatchNorm2d(256, eps=1e-05, momentum=0.1, affine=True, track_running_stats=True)\n",
       "      (conv2): Conv2d(256, 256, kernel_size=(3, 3), stride=(1, 1), padding=(1, 1), bias=False)\n",
       "      (bn2): BatchNorm2d(256, eps=1e-05, momentum=0.1, affine=True, track_running_stats=True)\n",
       "      (conv3): Conv2d(256, 1024, kernel_size=(1, 1), stride=(1, 1), bias=False)\n",
       "      (bn3): BatchNorm2d(1024, eps=1e-05, momentum=0.1, affine=True, track_running_stats=True)\n",
       "      (relu): ReLU(inplace=True)\n",
       "    )\n",
       "  )\n",
       "  (7): Sequential(\n",
       "    (0): Bottleneck(\n",
       "      (conv1): Conv2d(1024, 512, kernel_size=(1, 1), stride=(1, 1), bias=False)\n",
       "      (bn1): BatchNorm2d(512, eps=1e-05, momentum=0.1, affine=True, track_running_stats=True)\n",
       "      (conv2): Conv2d(512, 512, kernel_size=(3, 3), stride=(2, 2), padding=(1, 1), bias=False)\n",
       "      (bn2): BatchNorm2d(512, eps=1e-05, momentum=0.1, affine=True, track_running_stats=True)\n",
       "      (conv3): Conv2d(512, 2048, kernel_size=(1, 1), stride=(1, 1), bias=False)\n",
       "      (bn3): BatchNorm2d(2048, eps=1e-05, momentum=0.1, affine=True, track_running_stats=True)\n",
       "      (relu): ReLU(inplace=True)\n",
       "      (downsample): Sequential(\n",
       "        (0): Conv2d(1024, 2048, kernel_size=(1, 1), stride=(2, 2), bias=False)\n",
       "        (1): BatchNorm2d(2048, eps=1e-05, momentum=0.1, affine=True, track_running_stats=True)\n",
       "      )\n",
       "    )\n",
       "    (1): Bottleneck(\n",
       "      (conv1): Conv2d(2048, 512, kernel_size=(1, 1), stride=(1, 1), bias=False)\n",
       "      (bn1): BatchNorm2d(512, eps=1e-05, momentum=0.1, affine=True, track_running_stats=True)\n",
       "      (conv2): Conv2d(512, 512, kernel_size=(3, 3), stride=(1, 1), padding=(1, 1), bias=False)\n",
       "      (bn2): BatchNorm2d(512, eps=1e-05, momentum=0.1, affine=True, track_running_stats=True)\n",
       "      (conv3): Conv2d(512, 2048, kernel_size=(1, 1), stride=(1, 1), bias=False)\n",
       "      (bn3): BatchNorm2d(2048, eps=1e-05, momentum=0.1, affine=True, track_running_stats=True)\n",
       "      (relu): ReLU(inplace=True)\n",
       "    )\n",
       "    (2): Bottleneck(\n",
       "      (conv1): Conv2d(2048, 512, kernel_size=(1, 1), stride=(1, 1), bias=False)\n",
       "      (bn1): BatchNorm2d(512, eps=1e-05, momentum=0.1, affine=True, track_running_stats=True)\n",
       "      (conv2): Conv2d(512, 512, kernel_size=(3, 3), stride=(1, 1), padding=(1, 1), bias=False)\n",
       "      (bn2): BatchNorm2d(512, eps=1e-05, momentum=0.1, affine=True, track_running_stats=True)\n",
       "      (conv3): Conv2d(512, 2048, kernel_size=(1, 1), stride=(1, 1), bias=False)\n",
       "      (bn3): BatchNorm2d(2048, eps=1e-05, momentum=0.1, affine=True, track_running_stats=True)\n",
       "      (relu): ReLU(inplace=True)\n",
       "    )\n",
       "  )\n",
       "  (8): AdaptiveAvgPool2d(output_size=(1, 1))\n",
       ")"
      ]
     },
     "execution_count": 8,
     "metadata": {},
     "output_type": "execute_result"
    }
   ],
   "source": [
    "model = models.resnet50(weights=models.ResNet50_Weights.DEFAULT)\n",
    "# Remove the final classification layer\n",
    "model = torch.nn.Sequential(*list(model.children())[:-1])\n",
    "model = model.to(device)\n",
    "model.eval()"
   ]
  },
  {
   "cell_type": "code",
   "execution_count": 18,
   "metadata": {},
   "outputs": [
    {
     "name": "stdout",
     "output_type": "stream",
     "text": [
      "Processed 32 images\n",
      "Processed 64 images\n",
      "Processed 96 images\n",
      "Processed 128 images\n",
      "Processed 160 images\n",
      "Processed 192 images\n",
      "Image not found for 463201\n",
      "Processed 223 images\n",
      "Processed 255 images\n",
      "Processed 287 images\n",
      "Processed 319 images\n",
      "Processed 351 images\n",
      "Processed 383 images\n",
      "Processed 415 images\n",
      "Processed 447 images\n",
      "Processed 479 images\n",
      "Processed 511 images\n",
      "Processed 543 images\n",
      "Processed 575 images\n",
      "Processed 607 images\n",
      "Processed 639 images\n",
      "Processed 671 images\n",
      "Processed 703 images\n",
      "Processed 735 images\n",
      "Processed 767 images\n",
      "Processed 799 images\n",
      "Processed 831 images\n",
      "Processed 863 images\n",
      "Processed 895 images\n",
      "Processed 927 images\n",
      "Processed 959 images\n",
      "Image not found for 464931\n",
      "Processed 990 images\n",
      "Processed 1022 images\n",
      "Processed 1054 images\n",
      "Processed 1086 images\n",
      "Processed 1118 images\n",
      "Processed 1150 images\n",
      "Processed 1182 images\n",
      "Processed 1214 images\n",
      "Processed 1246 images\n",
      "Processed 1278 images\n",
      "Processed 1310 images\n",
      "Processed 1342 images\n",
      "Processed 1374 images\n",
      "Processed 1406 images\n",
      "Processed 1438 images\n",
      "Processed 1470 images\n",
      "Processed 1502 images\n",
      "Processed 1534 images\n",
      "Processed 1566 images\n",
      "Processed 1598 images\n",
      "Processed 1630 images\n",
      "Processed 1662 images\n",
      "Processed 1694 images\n",
      "Processed 1726 images\n",
      "Processed 1758 images\n",
      "Processed 1790 images\n",
      "Processed 1822 images\n",
      "Processed 1854 images\n",
      "Processed 1886 images\n",
      "Processed 1918 images\n",
      "Image not found for 329835\n",
      "Image not found for 329836\n",
      "Image not found for 329837\n",
      "Processed 1947 images\n",
      "Image not found for 330150\n",
      "Image not found for 330151\n",
      "Image not found for 330152\n",
      "Image not found for 330153\n",
      "Processed 1975 images\n",
      "Processed 2007 images\n",
      "Processed 2039 images\n",
      "Image not found for 464518\n",
      "Processed 2070 images\n",
      "Processed 2102 images\n",
      "Processed 2134 images\n",
      "Processed 2166 images\n",
      "Processed 2198 images\n",
      "Processed 2230 images\n",
      "Processed 2262 images\n",
      "Processed 2294 images\n",
      "Processed 2326 images\n",
      "Processed 2358 images\n",
      "Processed 2390 images\n",
      "Processed 2422 images\n",
      "Processed 2454 images\n",
      "Processed 2486 images\n",
      "Processed 2518 images\n",
      "Processed 2550 images\n",
      "Processed 2582 images\n",
      "Processed 2614 images\n",
      "Image not found for 467363\n",
      "Processed 2645 images\n",
      "Processed 2677 images\n",
      "Processed 2709 images\n",
      "Processed 2741 images\n",
      "Processed 2773 images\n",
      "Processed 2805 images\n",
      "Processed 2837 images\n",
      "Processed 2869 images\n",
      "Processed 2901 images\n",
      "Processed 2933 images\n",
      "Processed 2965 images\n",
      "Processed 2997 images\n",
      "Processed 3029 images\n",
      "Processed 3061 images\n",
      "Processed 3093 images\n",
      "Processed 3125 images\n",
      "Processed 3157 images\n",
      "Processed 3189 images\n",
      "Processed 3221 images\n",
      "Processed 3253 images\n",
      "Processed 3285 images\n",
      "Processed 3317 images\n",
      "Processed 3349 images\n",
      "Processed 3381 images\n",
      "Processed 3413 images\n",
      "Processed 3445 images\n",
      "Processed 3477 images\n",
      "Processed 3509 images\n",
      "Processed 3541 images\n",
      "Processed 3573 images\n",
      "Processed 3605 images\n",
      "Processed 3637 images\n",
      "Processed 3669 images\n",
      "Processed 3701 images\n",
      "Processed 3733 images\n",
      "Processed 3765 images\n",
      "Processed 3797 images\n",
      "Processed 3829 images\n",
      "Processed 3861 images\n",
      "Processed 3893 images\n",
      "Processed 3925 images\n",
      "Processed 3957 images\n",
      "Processed 3989 images\n",
      "Processed 4021 images\n",
      "Processed 4053 images\n",
      "Processed 4085 images\n",
      "Processed 4117 images\n",
      "Processed 4149 images\n",
      "Processed 4181 images\n",
      "Processed 4213 images\n",
      "Processed 4245 images\n",
      "Processed 4277 images\n",
      "Processed 4309 images\n",
      "Processed 4341 images\n",
      "Processed 4373 images\n",
      "Image not found for 474923\n",
      "Image not found for 474925\n",
      "Image not found for 468661\n",
      "Image not found for 468662\n",
      "Image not found for 468663\n",
      "Image not found for 468664\n",
      "Image not found for 468665\n",
      "Image not found for 468666\n",
      "Image not found for 468667\n",
      "Image not found for 468668\n",
      "Image not found for 468669\n",
      "Image not found for 468670\n",
      "Image not found for 468671\n",
      "Image not found for 468672\n",
      "Image not found for 468673\n",
      "Image not found for 468674\n",
      "Processed 4389 images\n",
      "Image not found for 468675\n",
      "Image not found for 468676\n",
      "Image not found for 468678\n",
      "Image not found for 468679\n",
      "Image not found for 468682\n",
      "Image not found for 468683\n",
      "Image not found for 468684\n",
      "Image not found for 468685\n",
      "Image not found for 468686\n",
      "Image not found for 468687\n",
      "Image not found for 468688\n",
      "Image not found for 468689\n",
      "Image not found for 468691\n",
      "Image not found for 468692\n",
      "Image not found for 468693\n",
      "Image not found for 468694\n",
      "Image not found for 468695\n",
      "Image not found for 468696\n",
      "Image not found for 468697\n",
      "Image not found for 468698\n",
      "Image not found for 468699\n",
      "Image not found for 468700\n",
      "Image not found for 468701\n",
      "Image not found for 468702\n",
      "Image not found for 468703\n",
      "Image not found for 468704\n",
      "Image not found for 468706\n",
      "Image not found for 468707\n",
      "Image not found for 468708\n",
      "Image not found for 468709\n",
      "Image not found for 468710\n",
      "Image not found for 468711\n",
      "Processed 4389 images\n",
      "Image not found for 468712\n",
      "Image not found for 468713\n",
      "Image not found for 468714\n",
      "Image not found for 468715\n",
      "Image not found for 468717\n",
      "Image not found for 468718\n",
      "Image not found for 468719\n",
      "Image not found for 468720\n",
      "Image not found for 468721\n",
      "Image not found for 468722\n",
      "Image not found for 468724\n",
      "Image not found for 468725\n",
      "Image not found for 468727\n",
      "Image not found for 468728\n",
      "Image not found for 468729\n",
      "Image not found for 468730\n",
      "Image not found for 468731\n",
      "Image not found for 468732\n",
      "Image not found for 468733\n",
      "Image not found for 468735\n",
      "Image not found for 468736\n",
      "Image not found for 468737\n",
      "Image not found for 468738\n",
      "Image not found for 468739\n",
      "Image not found for 468740\n",
      "Image not found for 468742\n",
      "Image not found for 468744\n",
      "Image not found for 468749\n",
      "Image not found for 468751\n",
      "Image not found for 468753\n",
      "Image not found for 468754\n",
      "Image not found for 468755\n",
      "Processed 4389 images\n",
      "Image not found for 468756\n",
      "Image not found for 468757\n",
      "Image not found for 468759\n",
      "Image not found for 468760\n",
      "Image not found for 468761\n",
      "Image not found for 468762\n",
      "Image not found for 468763\n",
      "Image not found for 468764\n",
      "Image not found for 468765\n",
      "Image not found for 468766\n",
      "Image not found for 468767\n",
      "Image not found for 468768\n",
      "Image not found for 468769\n",
      "Image not found for 468770\n",
      "Image not found for 468771\n",
      "Image not found for 468772\n",
      "Image not found for 468773\n",
      "Image not found for 468774\n",
      "Image not found for 468775\n",
      "Image not found for 468776\n",
      "Image not found for 468777\n",
      "Image not found for 468778\n",
      "Image not found for 468779\n",
      "Image not found for 468780\n",
      "Image not found for 468781\n",
      "Image not found for 468784\n",
      "Image not found for 468785\n",
      "Image not found for 468786\n",
      "Image not found for 468789\n",
      "Image not found for 468790\n",
      "Image not found for 468791\n",
      "Image not found for 468792\n",
      "Processed 4389 images\n",
      "Image not found for 468793\n",
      "Image not found for 468794\n",
      "Image not found for 468795\n",
      "Image not found for 468796\n",
      "Image not found for 468797\n",
      "Image not found for 468798\n",
      "Image not found for 468799\n",
      "Image not found for 468800\n",
      "Image not found for 468801\n",
      "Image not found for 468802\n",
      "Image not found for 468804\n",
      "Image not found for 468805\n",
      "Image not found for 468806\n",
      "Image not found for 468807\n",
      "Image not found for 468808\n",
      "Image not found for 468809\n",
      "Image not found for 468810\n",
      "Image not found for 468811\n",
      "Image not found for 468812\n",
      "Image not found for 468813\n",
      "Image not found for 468814\n",
      "Image not found for 468815\n",
      "Image not found for 468816\n",
      "Image not found for 468817\n",
      "Image not found for 468818\n",
      "Image not found for 468819\n",
      "Image not found for 468820\n",
      "Image not found for 468821\n",
      "Image not found for 468822\n",
      "Image not found for 468823\n",
      "Image not found for 468824\n",
      "Image not found for 468825\n",
      "Processed 4389 images\n",
      "Image not found for 468826\n",
      "Image not found for 468827\n",
      "Image not found for 468828\n",
      "Image not found for 468829\n",
      "Image not found for 468830\n",
      "Image not found for 468831\n",
      "Image not found for 468832\n",
      "Image not found for 468833\n",
      "Image not found for 468834\n",
      "Image not found for 468835\n",
      "Image not found for 468836\n",
      "Image not found for 468837\n",
      "Image not found for 468838\n",
      "Image not found for 468839\n",
      "Image not found for 468840\n",
      "Image not found for 468841\n",
      "Image not found for 468842\n",
      "Image not found for 468843\n",
      "Image not found for 468844\n",
      "Image not found for 468845\n",
      "Image not found for 468846\n",
      "Image not found for 468847\n",
      "Image not found for 468848\n",
      "Image not found for 468849\n",
      "Image not found for 468850\n",
      "Image not found for 468851\n",
      "Image not found for 468852\n",
      "Image not found for 468853\n",
      "Image not found for 468854\n",
      "Image not found for 468855\n",
      "Image not found for 468856\n",
      "Image not found for 468858\n",
      "Processed 4389 images\n",
      "Image not found for 468859\n",
      "Image not found for 468860\n",
      "Image not found for 468861\n",
      "Image not found for 468862\n",
      "Image not found for 468863\n",
      "Image not found for 468864\n",
      "Image not found for 468865\n",
      "Image not found for 468867\n",
      "Image not found for 468868\n",
      "Image not found for 468869\n",
      "Image not found for 468870\n",
      "Image not found for 468871\n",
      "Image not found for 468872\n",
      "Image not found for 468873\n",
      "Image not found for 468874\n",
      "Image not found for 468875\n",
      "Image not found for 468876\n",
      "Image not found for 468877\n",
      "Image not found for 468878\n",
      "Image not found for 468879\n",
      "Image not found for 468880\n",
      "Image not found for 468881\n",
      "Image not found for 468882\n",
      "Image not found for 468883\n",
      "Image not found for 468884\n",
      "Image not found for 468885\n",
      "Image not found for 468886\n",
      "Image not found for 468887\n",
      "Image not found for 468888\n",
      "Image not found for 468889\n",
      "Image not found for 468890\n",
      "Image not found for 468891\n",
      "Processed 4389 images\n",
      "Image not found for 468892\n",
      "Image not found for 468893\n",
      "Image not found for 468894\n",
      "Image not found for 468895\n",
      "Image not found for 468896\n",
      "Image not found for 468897\n",
      "Image not found for 468898\n",
      "Image not found for 468899\n",
      "Image not found for 468900\n",
      "Image not found for 468902\n",
      "Image not found for 468903\n",
      "Image not found for 468904\n",
      "Image not found for 468905\n",
      "Image not found for 468906\n",
      "Image not found for 468907\n",
      "Image not found for 468908\n",
      "Image not found for 468909\n",
      "Image not found for 468910\n",
      "Image not found for 468911\n",
      "Image not found for 468912\n",
      "Image not found for 468913\n",
      "Image not found for 468914\n",
      "Image not found for 468915\n",
      "Image not found for 468916\n",
      "Image not found for 468917\n",
      "Image not found for 468918\n",
      "Image not found for 468919\n",
      "Image not found for 468920\n",
      "Image not found for 468921\n",
      "Image not found for 468925\n",
      "Image not found for 468932\n",
      "Image not found for 468939\n",
      "Processed 4389 images\n",
      "Image not found for 468941\n",
      "Image not found for 468946\n",
      "Image not found for 468947\n",
      "Image not found for 468948\n",
      "Image not found for 468949\n",
      "Image not found for 468950\n",
      "Image not found for 468972\n",
      "Image not found for 468974\n",
      "Image not found for 468975\n",
      "Image not found for 468976\n",
      "Image not found for 468977\n",
      "Image not found for 468978\n",
      "Image not found for 468979\n",
      "Image not found for 468980\n",
      "Image not found for 468985\n",
      "Image not found for 468986\n",
      "Image not found for 468990\n",
      "Image not found for 468991\n",
      "Image not found for 468992\n",
      "Image not found for 468993\n",
      "Image not found for 468994\n",
      "Image not found for 468995\n",
      "Image not found for 468996\n",
      "Image not found for 468997\n",
      "Image not found for 468999\n",
      "Image not found for 469000\n",
      "Image not found for 469001\n",
      "Image not found for 469002\n",
      "Image not found for 469003\n",
      "Image not found for 469004\n",
      "Image not found for 469005\n",
      "Image not found for 469006\n",
      "Processed 4389 images\n",
      "Image not found for 469008\n",
      "Image not found for 469009\n",
      "Image not found for 469010\n",
      "Image not found for 469011\n",
      "Image not found for 469012\n",
      "Image not found for 469013\n",
      "Image not found for 469014\n",
      "Image not found for 469015\n",
      "Image not found for 469016\n",
      "Image not found for 469017\n",
      "Image not found for 469018\n",
      "Image not found for 469019\n",
      "Image not found for 469020\n",
      "Image not found for 469021\n",
      "Image not found for 469022\n",
      "Image not found for 469023\n",
      "Image not found for 469024\n",
      "Image not found for 469025\n",
      "Image not found for 469026\n",
      "Image not found for 469027\n",
      "Image not found for 469028\n",
      "Image not found for 469029\n",
      "Image not found for 469030\n",
      "Image not found for 469031\n",
      "Image not found for 469032\n",
      "Image not found for 469033\n",
      "Image not found for 469037\n",
      "Image not found for 469038\n",
      "Image not found for 469041\n",
      "Image not found for 469042\n",
      "Image not found for 469043\n",
      "Image not found for 469044\n",
      "Processed 4389 images\n",
      "Image not found for 469045\n",
      "Image not found for 469046\n",
      "Image not found for 469047\n",
      "Image not found for 469048\n",
      "Image not found for 469049\n",
      "Image not found for 469050\n",
      "Image not found for 469051\n",
      "Image not found for 469052\n",
      "Image not found for 469053\n",
      "Image not found for 469054\n",
      "Image not found for 469055\n",
      "Image not found for 469056\n",
      "Image not found for 469057\n",
      "Image not found for 469058\n",
      "Image not found for 469059\n",
      "Image not found for 469060\n",
      "Image not found for 469061\n",
      "Image not found for 469062\n",
      "Image not found for 469063\n",
      "Image not found for 469064\n",
      "Image not found for 469065\n",
      "Image not found for 469066\n",
      "Image not found for 469067\n",
      "Image not found for 469068\n",
      "Image not found for 469069\n",
      "Image not found for 469072\n",
      "Image not found for 469074\n",
      "Image not found for 469075\n",
      "Image not found for 469076\n",
      "Image not found for 469087\n",
      "Image not found for 469088\n",
      "Image not found for 469160\n",
      "Processed 4389 images\n",
      "Image not found for 469161\n",
      "Image not found for 469162\n",
      "Image not found for 469163\n",
      "Image not found for 469164\n",
      "Image not found for 469165\n",
      "Image not found for 469166\n",
      "Image not found for 469167\n",
      "Image not found for 469168\n",
      "Image not found for 469169\n",
      "Image not found for 469170\n",
      "Image not found for 469171\n",
      "Image not found for 469172\n",
      "Image not found for 469712\n",
      "Image not found for 469713\n",
      "Image not found for 469714\n",
      "Image not found for 469715\n",
      "Image not found for 469716\n",
      "Image not found for 469726\n",
      "Image not found for 469727\n",
      "Image not found for 469728\n",
      "Image not found for 469763\n",
      "Image not found for 469764\n",
      "Image not found for 469765\n",
      "Image not found for 469766\n",
      "Image not found for 469768\n",
      "Image not found for 469769\n",
      "Image not found for 469770\n",
      "Image not found for 469771\n",
      "Image not found for 469772\n",
      "Image not found for 469773\n",
      "Image not found for 469774\n",
      "Image not found for 469775\n",
      "Processed 4389 images\n",
      "Image not found for 469776\n",
      "Image not found for 469777\n",
      "Image not found for 469778\n",
      "Image not found for 469779\n",
      "Image not found for 469780\n",
      "Image not found for 469781\n",
      "Image not found for 469782\n",
      "Image not found for 469783\n",
      "Image not found for 469784\n",
      "Image not found for 469785\n",
      "Image not found for 469786\n",
      "Image not found for 469787\n",
      "Image not found for 469788\n",
      "Image not found for 469789\n",
      "Image not found for 469790\n",
      "Image not found for 469792\n",
      "Image not found for 469793\n",
      "Image not found for 469794\n",
      "Image not found for 469795\n",
      "Image not found for 469796\n",
      "Image not found for 469797\n",
      "Image not found for 469798\n",
      "Image not found for 469799\n",
      "Image not found for 469800\n",
      "Image not found for 469801\n",
      "Image not found for 469802\n",
      "Image not found for 469803\n",
      "Image not found for 469804\n",
      "Image not found for 469805\n",
      "Image not found for 469806\n",
      "Image not found for 469807\n",
      "Image not found for 469808\n",
      "Processed 4389 images\n",
      "Image not found for 469810\n",
      "Image not found for 469811\n",
      "Image not found for 469812\n",
      "Image not found for 469813\n",
      "Image not found for 469814\n",
      "Image not found for 469815\n",
      "Image not found for 469816\n",
      "Image not found for 469817\n",
      "Image not found for 469818\n",
      "Image not found for 469819\n",
      "Image not found for 469820\n",
      "Image not found for 469821\n",
      "Image not found for 469822\n",
      "Image not found for 469823\n",
      "Image not found for 469824\n",
      "Image not found for 469825\n",
      "Image not found for 469826\n",
      "Image not found for 469827\n",
      "Image not found for 469828\n",
      "Image not found for 469829\n",
      "Image not found for 469830\n",
      "Image not found for 469835\n",
      "Image not found for 469836\n",
      "Image not found for 479281\n",
      "Image not found for 479282\n",
      "Image not found for 479283\n",
      "Image not found for 479284\n",
      "Image not found for 479285\n",
      "Image not found for 479286\n",
      "Image not found for 479287\n",
      "Image not found for 479288\n",
      "Image not found for 479289\n",
      "Processed 4389 images\n",
      "Image not found for 479290\n",
      "Image not found for 479291\n",
      "Image not found for 479292\n",
      "Image not found for 479293\n",
      "Image not found for 479294\n",
      "Image not found for 479295\n",
      "Image not found for 479296\n",
      "Image not found for 479297\n",
      "Image not found for 479298\n",
      "Image not found for 479299\n",
      "Image not found for 479300\n",
      "Image not found for 479301\n",
      "Image not found for 479303\n",
      "Image not found for 479304\n",
      "Image not found for 479305\n",
      "Image not found for 479306\n",
      "Image not found for 479307\n",
      "Image not found for 479308\n",
      "Image not found for 479316\n",
      "Image not found for 479317\n",
      "Image not found for 479319\n",
      "Image not found for 479320\n",
      "Image not found for 479321\n",
      "Image not found for 479322\n",
      "Image not found for 479323\n",
      "Image not found for 479324\n",
      "Image not found for 479325\n",
      "Image not found for 479326\n",
      "Image not found for 479327\n",
      "Image not found for 479328\n",
      "Image not found for 479329\n",
      "Image not found for 479330\n",
      "Processed 4389 images\n",
      "Image not found for 479331\n",
      "Image not found for 479332\n",
      "Image not found for 479333\n",
      "Image not found for 479334\n",
      "Image not found for 479337\n",
      "Image not found for 479338\n",
      "Image not found for 479339\n",
      "Image not found for 479340\n",
      "Image not found for 479341\n",
      "Image not found for 479342\n",
      "Image not found for 479343\n",
      "Image not found for 479347\n",
      "Image not found for 479348\n",
      "Image not found for 479349\n",
      "Image not found for 479350\n",
      "Image not found for 479351\n",
      "Image not found for 479379\n",
      "Image not found for 479380\n",
      "Image not found for 479381\n",
      "Image not found for 479382\n",
      "Image not found for 479383\n",
      "Image not found for 479384\n",
      "Image not found for 479385\n",
      "Image not found for 479402\n",
      "Image not found for 479496\n",
      "Image not found for 479547\n",
      "Image not found for 479577\n",
      "Image not found for 479579\n",
      "Image not found for 479597\n",
      "Image not found for 479601\n",
      "Image not found for 479602\n",
      "Image not found for 479603\n",
      "Processed 4389 images\n",
      "Image not found for 479604\n",
      "Image not found for 479605\n",
      "Image not found for 479606\n",
      "Image not found for 479607\n",
      "Image not found for 479608\n",
      "Image not found for 479609\n",
      "Image not found for 479614\n",
      "Image not found for 479631\n",
      "Image not found for 479632\n",
      "Image not found for 479633\n",
      "Image not found for 479634\n",
      "Image not found for 479635\n",
      "Image not found for 479636\n",
      "Image not found for 479656\n",
      "Image not found for 467110\n",
      "Image not found for 467111\n",
      "Image not found for 467112\n",
      "Image not found for 467113\n",
      "Image not found for 467114\n",
      "Image not found for 467115\n",
      "Image not found for 467116\n",
      "Image not found for 467117\n",
      "Image not found for 467118\n",
      "Image not found for 467119\n",
      "Image not found for 478644\n",
      "Image not found for 478645\n",
      "Image not found for 478664\n",
      "Image not found for 478665\n",
      "Image not found for 478666\n",
      "Image not found for 478667\n",
      "Image not found for 478668\n",
      "Image not found for 478669\n",
      "Processed 4389 images\n",
      "Image not found for 478670\n",
      "Image not found for 478671\n",
      "Image not found for 478672\n",
      "Image not found for 478673\n",
      "Image not found for 478674\n",
      "Image not found for 478675\n",
      "Image not found for 478676\n",
      "Image not found for 478677\n",
      "Image not found for 478678\n",
      "Image not found for 478679\n",
      "Image not found for 478680\n",
      "Image not found for 478681\n",
      "Image not found for 478682\n",
      "Image not found for 478683\n",
      "Image not found for 478684\n",
      "Image not found for 478685\n",
      "Image not found for 478686\n",
      "Image not found for 478687\n",
      "Image not found for 478688\n",
      "Image not found for 478689\n",
      "Image not found for 478690\n",
      "Image not found for 478691\n",
      "Image not found for 478692\n",
      "Image not found for 478693\n",
      "Image not found for 478694\n",
      "Image not found for 478695\n",
      "Image not found for 478696\n",
      "Image not found for 478697\n",
      "Image not found for 478698\n",
      "Image not found for 478699\n",
      "Image not found for 478700\n",
      "Image not found for 478701\n",
      "Processed 4389 images\n",
      "Image not found for 478702\n",
      "Image not found for 478703\n",
      "Image not found for 478704\n",
      "Image not found for 478705\n",
      "Image not found for 478706\n",
      "Image not found for 478707\n",
      "Image not found for 478708\n",
      "Image not found for 478709\n",
      "Image not found for 478710\n",
      "Image not found for 478711\n",
      "Image not found for 478712\n",
      "Image not found for 478713\n",
      "Image not found for 478714\n",
      "Image not found for 478715\n",
      "Image not found for 478716\n",
      "Image not found for 478717\n",
      "Image not found for 478718\n",
      "Image not found for 478719\n",
      "Image not found for 478720\n",
      "Image not found for 478721\n",
      "Image not found for 478723\n",
      "Image not found for 478724\n",
      "Image not found for 478725\n",
      "Image not found for 478726\n",
      "Image not found for 478727\n",
      "Image not found for 478728\n",
      "Image not found for 478729\n",
      "Image not found for 478730\n",
      "Image not found for 478731\n",
      "Image not found for 478732\n",
      "Image not found for 478733\n",
      "Image not found for 478734\n",
      "Processed 4389 images\n",
      "Image not found for 478735\n",
      "Image not found for 478736\n",
      "Image not found for 478737\n",
      "Image not found for 478738\n",
      "Image not found for 478739\n",
      "Image not found for 478740\n",
      "Image not found for 478741\n",
      "Image not found for 478742\n",
      "Image not found for 478743\n",
      "Image not found for 478744\n",
      "Image not found for 478745\n",
      "Image not found for 478746\n",
      "Image not found for 478747\n",
      "Image not found for 478748\n",
      "Image not found for 478749\n",
      "Image not found for 478750\n",
      "Image not found for 478751\n",
      "Image not found for 478752\n",
      "Image not found for 478753\n",
      "Image not found for 478754\n",
      "Image not found for 478755\n",
      "Image not found for 478756\n",
      "Image not found for 478757\n",
      "Image not found for 478758\n",
      "Image not found for 478759\n",
      "Image not found for 478760\n",
      "Image not found for 478761\n",
      "Image not found for 478762\n",
      "Image not found for 478763\n",
      "Image not found for 478764\n",
      "Image not found for 478765\n",
      "Image not found for 478766\n",
      "Processed 4389 images\n",
      "Image not found for 478767\n",
      "Image not found for 478768\n",
      "Image not found for 478769\n",
      "Image not found for 478770\n",
      "Image not found for 478771\n",
      "Image not found for 478772\n",
      "Image not found for 478773\n",
      "Image not found for 478809\n",
      "Image not found for 478810\n",
      "Image not found for 478811\n",
      "Image not found for 478812\n",
      "Image not found for 478813\n",
      "Image not found for 478814\n",
      "Image not found for 478815\n",
      "Image not found for 478816\n",
      "Image not found for 478817\n",
      "Image not found for 478818\n",
      "Image not found for 478819\n",
      "Image not found for 478820\n",
      "Image not found for 478821\n",
      "Image not found for 478822\n",
      "Image not found for 478823\n",
      "Image not found for 478824\n",
      "Image not found for 478825\n",
      "Image not found for 478826\n",
      "Image not found for 478827\n",
      "Image not found for 478828\n",
      "Image not found for 478829\n",
      "Image not found for 478830\n",
      "Image not found for 478831\n",
      "Image not found for 478832\n",
      "Image not found for 478833\n",
      "Processed 4389 images\n",
      "Image not found for 478834\n",
      "Image not found for 478835\n",
      "Image not found for 478836\n",
      "Image not found for 478837\n",
      "Image not found for 478838\n",
      "Image not found for 478839\n",
      "Image not found for 478840\n",
      "Image not found for 478841\n",
      "Image not found for 478842\n",
      "Image not found for 478843\n",
      "Image not found for 478844\n",
      "Image not found for 478845\n",
      "Image not found for 478846\n",
      "Image not found for 478847\n",
      "Image not found for 478848\n",
      "Image not found for 478849\n",
      "Image not found for 478850\n",
      "Image not found for 478851\n",
      "Image not found for 478852\n",
      "Image not found for 478853\n",
      "Image not found for 478854\n",
      "Image not found for 478855\n",
      "Image not found for 478856\n",
      "Image not found for 478857\n",
      "Image not found for 478858\n",
      "Image not found for 478859\n",
      "Image not found for 478860\n",
      "Image not found for 478861\n",
      "Image not found for 478862\n",
      "Image not found for 478863\n",
      "Image not found for 478864\n",
      "Image not found for 478865\n",
      "Processed 4389 images\n",
      "Image not found for 478866\n",
      "Image not found for 478867\n",
      "Image not found for 478868\n",
      "Image not found for 478869\n",
      "Image not found for 478870\n",
      "Image not found for 478871\n",
      "Image not found for 478872\n",
      "Image not found for 478873\n",
      "Image not found for 478874\n",
      "Image not found for 478875\n",
      "Image not found for 478876\n",
      "Image not found for 478877\n",
      "Image not found for 478878\n",
      "Image not found for 478879\n",
      "Image not found for 478880\n",
      "Image not found for 478881\n",
      "Image not found for 478882\n",
      "Image not found for 478883\n",
      "Image not found for 478884\n",
      "Image not found for 478885\n",
      "Image not found for 478886\n",
      "Image not found for 478887\n",
      "Image not found for 478888\n",
      "Image not found for 478889\n",
      "Image not found for 478890\n",
      "Image not found for 478891\n",
      "Image not found for 478892\n",
      "Image not found for 478893\n",
      "Image not found for 478894\n",
      "Image not found for 478895\n",
      "Image not found for 478896\n",
      "Image not found for 478897\n",
      "Processed 4389 images\n",
      "Image not found for 478898\n",
      "Image not found for 478899\n",
      "Image not found for 478900\n",
      "Image not found for 478901\n",
      "Image not found for 478902\n",
      "Image not found for 478903\n",
      "Image not found for 478904\n",
      "Image not found for 478910\n",
      "Image not found for 478911\n",
      "Image not found for 478912\n",
      "Image not found for 478913\n",
      "Image not found for 478914\n",
      "Image not found for 478915\n",
      "Image not found for 478916\n",
      "Image not found for 478917\n",
      "Image not found for 478918\n",
      "Image not found for 478919\n",
      "Image not found for 478920\n",
      "Image not found for 478921\n",
      "Image not found for 478922\n",
      "Image not found for 478923\n",
      "Image not found for 478924\n",
      "Image not found for 478925\n",
      "Image not found for 478926\n",
      "Image not found for 478927\n",
      "Image not found for 478928\n",
      "Image not found for 478929\n",
      "Image not found for 478930\n",
      "Image not found for 478931\n",
      "Image not found for 478932\n",
      "Image not found for 478933\n",
      "Image not found for 478934\n",
      "Processed 4389 images\n",
      "Image not found for 478935\n",
      "Image not found for 478936\n",
      "Image not found for 478937\n",
      "Image not found for 478938\n",
      "Image not found for 478939\n",
      "Image not found for 478940\n",
      "Image not found for 478941\n",
      "Image not found for 478942\n",
      "Image not found for 478943\n",
      "Image not found for 478944\n",
      "Image not found for 478945\n",
      "Image not found for 478946\n",
      "Image not found for 478973\n",
      "Image not found for 478974\n",
      "Image not found for 478979\n",
      "Image not found for 478980\n",
      "Image not found for 478984\n",
      "Image not found for 478985\n",
      "Image not found for 478986\n",
      "Image not found for 478993\n",
      "Image not found for 478994\n",
      "Image not found for 478995\n",
      "Image not found for 478996\n",
      "Image not found for 479002\n",
      "Image not found for 479089\n",
      "Image not found for 479090\n",
      "Image not found for 479091\n",
      "Image not found for 479092\n",
      "Image not found for 479093\n",
      "Image not found for 479094\n",
      "Image not found for 479095\n",
      "Image not found for 479096\n",
      "Processed 4389 images\n",
      "Image not found for 479097\n",
      "Image not found for 479098\n",
      "Image not found for 479099\n",
      "Image not found for 479100\n",
      "Image not found for 479101\n",
      "Image not found for 479102\n",
      "Image not found for 479103\n",
      "Image not found for 479105\n",
      "Image not found for 479106\n",
      "Image not found for 479107\n",
      "Image not found for 479108\n",
      "Image not found for 479109\n",
      "Image not found for 479110\n",
      "Image not found for 479111\n",
      "Image not found for 479112\n",
      "Image not found for 479113\n",
      "Image not found for 479114\n",
      "Image not found for 479115\n",
      "Image not found for 479116\n",
      "Image not found for 479117\n",
      "Image not found for 479118\n",
      "Image not found for 479119\n",
      "Image not found for 479120\n",
      "Image not found for 479121\n",
      "Image not found for 479122\n",
      "Image not found for 479123\n",
      "Image not found for 479124\n",
      "Image not found for 479125\n",
      "Image not found for 479126\n",
      "Image not found for 479127\n",
      "Image not found for 479128\n",
      "Image not found for 479129\n",
      "Processed 4389 images\n",
      "Image not found for 479130\n",
      "Image not found for 479131\n",
      "Image not found for 479132\n",
      "Image not found for 479133\n",
      "Image not found for 479134\n",
      "Image not found for 479135\n",
      "Image not found for 479136\n",
      "Image not found for 479137\n",
      "Image not found for 479138\n",
      "Image not found for 479139\n",
      "Image not found for 479140\n",
      "Image not found for 479141\n",
      "Image not found for 479142\n",
      "Image not found for 479143\n",
      "Image not found for 479144\n",
      "Image not found for 479145\n",
      "Image not found for 479146\n",
      "Image not found for 479147\n",
      "Image not found for 479148\n",
      "Image not found for 479149\n",
      "Image not found for 479150\n",
      "Image not found for 479151\n",
      "Image not found for 479152\n",
      "Image not found for 479153\n",
      "Image not found for 479154\n",
      "Image not found for 479155\n",
      "Image not found for 479156\n",
      "Image not found for 479157\n",
      "Image not found for 479158\n",
      "Image not found for 479159\n",
      "Image not found for 479160\n",
      "Image not found for 479161\n",
      "Processed 4389 images\n",
      "Image not found for 479162\n",
      "Image not found for 479163\n",
      "Image not found for 479164\n",
      "Image not found for 479165\n",
      "Image not found for 479166\n",
      "Image not found for 479167\n",
      "Image not found for 479168\n",
      "Image not found for 479169\n",
      "Image not found for 479170\n",
      "Image not found for 479171\n",
      "Image not found for 479172\n",
      "Image not found for 479173\n",
      "Image not found for 479174\n",
      "Image not found for 479175\n",
      "Image not found for 479176\n",
      "Image not found for 479177\n",
      "Image not found for 479178\n",
      "Image not found for 479179\n",
      "Image not found for 479180\n",
      "Image not found for 479181\n",
      "Image not found for 479182\n",
      "Image not found for 479183\n",
      "Image not found for 479184\n",
      "Image not found for 479185\n",
      "Image not found for 479186\n",
      "Image not found for 479187\n",
      "Image not found for 479188\n",
      "Image not found for 479189\n",
      "Image not found for 479190\n",
      "Image not found for 479191\n",
      "Image not found for 479192\n",
      "Image not found for 479193\n",
      "Processed 4389 images\n",
      "Image not found for 479194\n",
      "Image not found for 479195\n",
      "Image not found for 479196\n",
      "Image not found for 479197\n",
      "Image not found for 479198\n",
      "Image not found for 479199\n",
      "Image not found for 479200\n",
      "Image not found for 479201\n",
      "Image not found for 479202\n",
      "Image not found for 479203\n",
      "Image not found for 479204\n",
      "Image not found for 479215\n",
      "Image not found for 479216\n",
      "Image not found for 479217\n",
      "Image not found for 479218\n",
      "Image not found for 479219\n",
      "Image not found for 479220\n",
      "Image not found for 479221\n",
      "Image not found for 479222\n",
      "Image not found for 479223\n",
      "Image not found for 479224\n",
      "Image not found for 479225\n",
      "Image not found for 479226\n",
      "Image not found for 479227\n",
      "Image not found for 479228\n",
      "Image not found for 479229\n",
      "Image not found for 479230\n",
      "Image not found for 479231\n",
      "Image not found for 479232\n",
      "Image not found for 479233\n",
      "Image not found for 479234\n",
      "Image not found for 479235\n",
      "Processed 4389 images\n",
      "Image not found for 479236\n",
      "Image not found for 479237\n",
      "Image not found for 479238\n",
      "Image not found for 479239\n",
      "Image not found for 479240\n",
      "Image not found for 479241\n",
      "Image not found for 479242\n",
      "Image not found for 479243\n",
      "Image not found for 479244\n",
      "Image not found for 479245\n",
      "Image not found for 479246\n",
      "Image not found for 479247\n",
      "Image not found for 479248\n",
      "Image not found for 479249\n",
      "Image not found for 479250\n",
      "Image not found for 479251\n",
      "Image not found for 479252\n",
      "Image not found for 479253\n",
      "Image not found for 479254\n",
      "Image not found for 479255\n",
      "Image not found for 479256\n",
      "Image not found for 479257\n",
      "Image not found for 479258\n",
      "Image not found for 479259\n",
      "Image not found for 479260\n",
      "Image not found for 479261\n",
      "Image not found for 479262\n",
      "Image not found for 479263\n",
      "Image not found for 479264\n",
      "Image not found for 479265\n",
      "Image not found for 479266\n",
      "Image not found for 479267\n",
      "Processed 4389 images\n",
      "Image not found for 479268\n",
      "Image not found for 479269\n",
      "Image not found for 479270\n",
      "Image not found for 479271\n",
      "Image not found for 479272\n",
      "Image not found for 479273\n",
      "Image not found for 479274\n",
      "Image not found for 479275\n",
      "Image not found for 479276\n",
      "Image not found for 479277\n",
      "Image not found for 479278\n",
      "Image not found for 479279\n",
      "Image not found for 479280\n",
      "Image not found for 694179\n",
      "Image not found for 694180\n",
      "Image not found for 694181\n",
      "Image not found for 694182\n",
      "Image not found for 694184\n",
      "Image not found for 694186\n",
      "Image not found for 694188\n",
      "Image not found for 694189\n",
      "Image not found for 694190\n",
      "Image not found for 694191\n",
      "Image not found for 694192\n",
      "Image not found for 694193\n",
      "Image not found for 694194\n",
      "Image not found for 694195\n",
      "Image not found for 694196\n",
      "Image not found for 694197\n",
      "Image not found for 694198\n",
      "Image not found for 694199\n",
      "Image not found for 694200\n",
      "Processed 4389 images\n",
      "Image not found for 694202\n",
      "Image not found for 694204\n",
      "Image not found for 694205\n",
      "Image not found for 694206\n",
      "Image not found for 694207\n",
      "Image not found for 694210\n",
      "Image not found for 694211\n",
      "Image not found for 694212\n",
      "Image not found for 694213\n",
      "Image not found for 694214\n",
      "Image not found for 694215\n",
      "Image not found for 694216\n",
      "Image not found for 694217\n",
      "Image not found for 694218\n",
      "Image not found for 694219\n",
      "Image not found for 694221\n",
      "Image not found for 694223\n",
      "Image not found for 694224\n",
      "Image not found for 694225\n",
      "Image not found for 694226\n",
      "Image not found for 694227\n",
      "Image not found for 694228\n",
      "Image not found for 694229\n",
      "Image not found for 694230\n",
      "Image not found for 694231\n",
      "Image not found for 694232\n",
      "Image not found for 694233\n",
      "Image not found for 694234\n",
      "Image not found for 694235\n",
      "Image not found for 694236\n",
      "Image not found for 694237\n",
      "Image not found for 694238\n",
      "Processed 4389 images\n",
      "Image not found for 694239\n",
      "Image not found for 694240\n",
      "Image not found for 694241\n",
      "Image not found for 694242\n",
      "Image not found for 694243\n",
      "Image not found for 694244\n",
      "Image not found for 694245\n",
      "Image not found for 694246\n",
      "Image not found for 694271\n",
      "Image not found for 694273\n",
      "Image not found for 694275\n",
      "Image not found for 694276\n",
      "Image not found for 694277\n",
      "Image not found for 467759\n",
      "Image not found for 467760\n",
      "Image not found for 467761\n",
      "Image not found for 467763\n",
      "Image not found for 467766\n",
      "Image not found for 467767\n",
      "Image not found for 467768\n",
      "Image not found for 467769\n",
      "Image not found for 467772\n",
      "Image not found for 467773\n",
      "Image not found for 467774\n",
      "Image not found for 467775\n",
      "Image not found for 467776\n",
      "Image not found for 467777\n",
      "Image not found for 467778\n",
      "Image not found for 467779\n",
      "Image not found for 467780\n",
      "Image not found for 467781\n",
      "Image not found for 467782\n",
      "Processed 4389 images\n",
      "Image not found for 467783\n",
      "Image not found for 467784\n",
      "Image not found for 467785\n",
      "Image not found for 467786\n",
      "Image not found for 467787\n",
      "Image not found for 467788\n",
      "Image not found for 467789\n",
      "Image not found for 467794\n",
      "Image not found for 467803\n",
      "Image not found for 467804\n",
      "Image not found for 467808\n",
      "Image not found for 467817\n",
      "Image not found for 467825\n",
      "Image not found for 467828\n",
      "Image not found for 467829\n",
      "Image not found for 467832\n",
      "Image not found for 467835\n",
      "Image not found for 467836\n",
      "Image not found for 467837\n",
      "Image not found for 467838\n",
      "Image not found for 467839\n",
      "Image not found for 467840\n",
      "Image not found for 476702\n",
      "Image not found for 476944\n",
      "Image not found for 477063\n",
      "Image not found for 477064\n",
      "Image not found for 477065\n",
      "Image not found for 477066\n",
      "Image not found for 477067\n",
      "Image not found for 477068\n",
      "Image not found for 477069\n",
      "Image not found for 477070\n",
      "Processed 4389 images\n",
      "Image not found for 477071\n",
      "Image not found for 477072\n",
      "Image not found for 477073\n",
      "Image not found for 477074\n",
      "Image not found for 477075\n",
      "Image not found for 477076\n",
      "Image not found for 477077\n",
      "Image not found for 477078\n",
      "Image not found for 477079\n",
      "Image not found for 477080\n",
      "Image not found for 477081\n",
      "Image not found for 477082\n",
      "Image not found for 477083\n",
      "Image not found for 477084\n",
      "Image not found for 477085\n",
      "Image not found for 477086\n",
      "Image not found for 477087\n",
      "Image not found for 477088\n",
      "Image not found for 477089\n",
      "Image not found for 477090\n",
      "Image not found for 477091\n",
      "Image not found for 477092\n",
      "Image not found for 477093\n",
      "Image not found for 477108\n",
      "Image not found for 477109\n",
      "Image not found for 477110\n",
      "Image not found for 477111\n",
      "Image not found for 477112\n",
      "Image not found for 477113\n",
      "Image not found for 477114\n",
      "Image not found for 477115\n",
      "Image not found for 477116\n",
      "Processed 4389 images\n",
      "Image not found for 477117\n",
      "Image not found for 477118\n",
      "Image not found for 477119\n",
      "Image not found for 477120\n",
      "Image not found for 477121\n",
      "Image not found for 477122\n",
      "Image not found for 477123\n",
      "Image not found for 477124\n",
      "Image not found for 477125\n",
      "Image not found for 477126\n",
      "Image not found for 477127\n",
      "Image not found for 477128\n",
      "Image not found for 477129\n",
      "Image not found for 477130\n",
      "Image not found for 477131\n",
      "Image not found for 477132\n",
      "Image not found for 477133\n",
      "Image not found for 477134\n",
      "Image not found for 477135\n",
      "Image not found for 477136\n",
      "Image not found for 477137\n",
      "Image not found for 477138\n",
      "Image not found for 477139\n",
      "Image not found for 477140\n",
      "Image not found for 477141\n",
      "Image not found for 477142\n",
      "Image not found for 477143\n",
      "Image not found for 477148\n",
      "Image not found for 477221\n",
      "Image not found for 477247\n",
      "Image not found for 477262\n",
      "Image not found for 477263\n",
      "Processed 4389 images\n",
      "Image not found for 477264\n",
      "Image not found for 477265\n",
      "Image not found for 477266\n",
      "Image not found for 477267\n",
      "Image not found for 477268\n",
      "Image not found for 477269\n",
      "Image not found for 477270\n",
      "Image not found for 477271\n",
      "Image not found for 477272\n",
      "Image not found for 477273\n",
      "Image not found for 477274\n",
      "Image not found for 477275\n",
      "Image not found for 477276\n",
      "Image not found for 477277\n",
      "Image not found for 477278\n",
      "Image not found for 477279\n",
      "Image not found for 477280\n",
      "Image not found for 477281\n",
      "Image not found for 477282\n",
      "Image not found for 477283\n",
      "Image not found for 477284\n",
      "Image not found for 477285\n",
      "Image not found for 477286\n",
      "Image not found for 477287\n",
      "Image not found for 477288\n",
      "Image not found for 477289\n",
      "Image not found for 477290\n",
      "Image not found for 477291\n",
      "Image not found for 477292\n",
      "Image not found for 477294\n",
      "Image not found for 477295\n",
      "Image not found for 477296\n",
      "Processed 4389 images\n",
      "Image not found for 477297\n",
      "Image not found for 477298\n",
      "Image not found for 477299\n",
      "Image not found for 477300\n",
      "Image not found for 477301\n",
      "Image not found for 477302\n",
      "Image not found for 477303\n",
      "Image not found for 477304\n",
      "Image not found for 477305\n",
      "Image not found for 477306\n",
      "Image not found for 477307\n",
      "Image not found for 477308\n",
      "Image not found for 477309\n",
      "Image not found for 477310\n",
      "Image not found for 477311\n",
      "Image not found for 477312\n",
      "Image not found for 477313\n",
      "Image not found for 477314\n",
      "Image not found for 477315\n",
      "Image not found for 477316\n",
      "Image not found for 477321\n",
      "Image not found for 477322\n",
      "Image not found for 477323\n",
      "Image not found for 477324\n",
      "Image not found for 477325\n",
      "Image not found for 477326\n",
      "Image not found for 477327\n",
      "Image not found for 477328\n",
      "Image not found for 477329\n",
      "Image not found for 477330\n",
      "Image not found for 477331\n",
      "Image not found for 477332\n",
      "Processed 4389 images\n",
      "Image not found for 477333\n",
      "Image not found for 477334\n",
      "Image not found for 477335\n",
      "Image not found for 477336\n",
      "Image not found for 477337\n",
      "Image not found for 477338\n",
      "Image not found for 477339\n",
      "Image not found for 477340\n",
      "Image not found for 477341\n",
      "Image not found for 477342\n",
      "Image not found for 477343\n",
      "Image not found for 477344\n",
      "Image not found for 477345\n",
      "Image not found for 477346\n",
      "Image not found for 477347\n",
      "Image not found for 477348\n",
      "Image not found for 477360\n",
      "Image not found for 477361\n",
      "Image not found for 477499\n",
      "Image not found for 477718\n",
      "Image not found for 477724\n",
      "Image not found for 477740\n",
      "Image not found for 477741\n",
      "Image not found for 477742\n",
      "Image not found for 477743\n",
      "Image not found for 477744\n",
      "Image not found for 477745\n",
      "Image not found for 477746\n",
      "Image not found for 477747\n",
      "Image not found for 477748\n",
      "Image not found for 477749\n",
      "Image not found for 477750\n",
      "Processed 4389 images\n",
      "Image not found for 477751\n",
      "Image not found for 477752\n",
      "Image not found for 477753\n",
      "Image not found for 477754\n",
      "Image not found for 477755\n",
      "Image not found for 477756\n",
      "Image not found for 477757\n",
      "Image not found for 477758\n",
      "Image not found for 477760\n",
      "Image not found for 477761\n",
      "Image not found for 477762\n",
      "Image not found for 477763\n",
      "Image not found for 477764\n",
      "Image not found for 477765\n",
      "Image not found for 477766\n",
      "Image not found for 477767\n",
      "Image not found for 477768\n",
      "Image not found for 477769\n",
      "Image not found for 477770\n",
      "Image not found for 477771\n",
      "Image not found for 477772\n",
      "Image not found for 477773\n",
      "Image not found for 477774\n",
      "Image not found for 477775\n",
      "Image not found for 477779\n",
      "Image not found for 477816\n",
      "Image not found for 477817\n",
      "Image not found for 477838\n",
      "Image not found for 477845\n",
      "Image not found for 477846\n",
      "Image not found for 478173\n",
      "Image not found for 478174\n",
      "Processed 4389 images\n",
      "Image not found for 478175\n",
      "Image not found for 478176\n",
      "Image not found for 478177\n",
      "Image not found for 478178\n",
      "Image not found for 478179\n",
      "Image not found for 478180\n",
      "Image not found for 478181\n",
      "Image not found for 478182\n",
      "Image not found for 478183\n",
      "Image not found for 478213\n",
      "Image not found for 478214\n",
      "Image not found for 478261\n",
      "Image not found for 478383\n",
      "Image not found for 478391\n",
      "Image not found for 478392\n",
      "Image not found for 478410\n",
      "Image not found for 478413\n",
      "Image not found for 478414\n",
      "Image not found for 478415\n",
      "Image not found for 478416\n",
      "Image not found for 478417\n",
      "Image not found for 478418\n",
      "Image not found for 478419\n",
      "Image not found for 478420\n",
      "Image not found for 478421\n",
      "Image not found for 478422\n",
      "Image not found for 478423\n",
      "Image not found for 478424\n",
      "Image not found for 478425\n",
      "Image not found for 478426\n",
      "Image not found for 478427\n",
      "Image not found for 478429\n",
      "Processed 4389 images\n",
      "Image not found for 478430\n",
      "Image not found for 478431\n",
      "Image not found for 478432\n",
      "Image not found for 478433\n",
      "Image not found for 478434\n",
      "Image not found for 478435\n",
      "Image not found for 478436\n",
      "Image not found for 478437\n",
      "Image not found for 478438\n",
      "Image not found for 478439\n",
      "Image not found for 478440\n",
      "Image not found for 478441\n",
      "Image not found for 478442\n",
      "Image not found for 478443\n",
      "Image not found for 478444\n",
      "Image not found for 478445\n",
      "Image not found for 478446\n",
      "Image not found for 478447\n",
      "Image not found for 478448\n",
      "Image not found for 478449\n",
      "Image not found for 478450\n",
      "Image not found for 478451\n",
      "Image not found for 478452\n",
      "Image not found for 478453\n",
      "Image not found for 478454\n",
      "Image not found for 478455\n",
      "Image not found for 478456\n",
      "Image not found for 478457\n",
      "Image not found for 478458\n",
      "Image not found for 478459\n",
      "Image not found for 478460\n",
      "Image not found for 478461\n",
      "Processed 4389 images\n",
      "Image not found for 478462\n",
      "Image not found for 478463\n",
      "Image not found for 478464\n",
      "Image not found for 478465\n",
      "Image not found for 478466\n",
      "Image not found for 478467\n",
      "Image not found for 478468\n",
      "Image not found for 478469\n",
      "Image not found for 478470\n",
      "Image not found for 478471\n",
      "Image not found for 478472\n",
      "Image not found for 478473\n",
      "Image not found for 478474\n",
      "Image not found for 478475\n",
      "Image not found for 478476\n",
      "Image not found for 478477\n",
      "Image not found for 478478\n",
      "Image not found for 478479\n",
      "Image not found for 478480\n",
      "Image not found for 478481\n",
      "Image not found for 478482\n",
      "Image not found for 478483\n",
      "Image not found for 478484\n",
      "Image not found for 478485\n",
      "Image not found for 478486\n",
      "Image not found for 478487\n",
      "Image not found for 478488\n",
      "Image not found for 478489\n",
      "Image not found for 478490\n",
      "Image not found for 478491\n",
      "Image not found for 478492\n",
      "Image not found for 478493\n",
      "Processed 4389 images\n",
      "Image not found for 478494\n",
      "Image not found for 478495\n",
      "Image not found for 478496\n",
      "Image not found for 478497\n",
      "Image not found for 478498\n",
      "Image not found for 478499\n",
      "Image not found for 478500\n",
      "Image not found for 478501\n",
      "Image not found for 478502\n",
      "Image not found for 478503\n",
      "Image not found for 478504\n",
      "Image not found for 478505\n",
      "Image not found for 478506\n",
      "Image not found for 478507\n",
      "Image not found for 478508\n",
      "Image not found for 478509\n",
      "Image not found for 478510\n",
      "Image not found for 478511\n",
      "Image not found for 478512\n",
      "Image not found for 478513\n",
      "Image not found for 478516\n",
      "Image not found for 478518\n",
      "Image not found for 478520\n",
      "Image not found for 478522\n",
      "Image not found for 478523\n",
      "Image not found for 478524\n",
      "Image not found for 478526\n",
      "Image not found for 478530\n",
      "Image not found for 478533\n",
      "Image not found for 478534\n",
      "Image not found for 478535\n",
      "Image not found for 478544\n",
      "Processed 4389 images\n",
      "Image not found for 478545\n",
      "Image not found for 478546\n",
      "Image not found for 478547\n",
      "Image not found for 478548\n",
      "Image not found for 478549\n",
      "Image not found for 478550\n",
      "Image not found for 478551\n",
      "Image not found for 478552\n",
      "Image not found for 478553\n",
      "Image not found for 478554\n",
      "Image not found for 478555\n",
      "Image not found for 478556\n",
      "Image not found for 478557\n",
      "Image not found for 478558\n",
      "Image not found for 478559\n",
      "Image not found for 478560\n",
      "Image not found for 478561\n",
      "Image not found for 478562\n",
      "Image not found for 478563\n",
      "Image not found for 478564\n",
      "Image not found for 478565\n",
      "Image not found for 478566\n",
      "Image not found for 478567\n",
      "Image not found for 478568\n",
      "Image not found for 478569\n",
      "Image not found for 478570\n",
      "Image not found for 662941\n",
      "Image not found for 695232\n",
      "Image not found for 695233\n",
      "Image not found for 695235\n",
      "Image not found for 695236\n",
      "Image not found for 695237\n",
      "Processed 4389 images\n",
      "Image not found for 695239\n",
      "Image not found for 695241\n",
      "Image not found for 695242\n",
      "Image not found for 695243\n",
      "Image not found for 695244\n",
      "Image not found for 695245\n",
      "Image not found for 695246\n",
      "Image not found for 695248\n",
      "Image not found for 695249\n",
      "Image not found for 695250\n",
      "Image not found for 695252\n",
      "Image not found for 695253\n",
      "Image not found for 695254\n",
      "Image not found for 695255\n",
      "Image not found for 695256\n",
      "Image not found for 695258\n",
      "Image not found for 695260\n",
      "Image not found for 695263\n",
      "Image not found for 695265\n",
      "Image not found for 695267\n",
      "Image not found for 695269\n",
      "Image not found for 695271\n",
      "Image not found for 695282\n",
      "Image not found for 695288\n",
      "Image not found for 695289\n",
      "Image not found for 695290\n",
      "Image not found for 695291\n",
      "Image not found for 695292\n",
      "Image not found for 695294\n",
      "Image not found for 695295\n",
      "Image not found for 695297\n",
      "Image not found for 695299\n",
      "Processed 4389 images\n",
      "Image not found for 695300\n",
      "Image not found for 695302\n",
      "Image not found for 695303\n",
      "Image not found for 695304\n",
      "Image not found for 695306\n",
      "Image not found for 695307\n",
      "Image not found for 695308\n",
      "Image not found for 695309\n",
      "Image not found for 695311\n",
      "Image not found for 695312\n",
      "Image not found for 695313\n",
      "Image not found for 695315\n",
      "Image not found for 695316\n",
      "Image not found for 695318\n",
      "Image not found for 695319\n",
      "Image not found for 695324\n",
      "Image not found for 695325\n",
      "Image not found for 695326\n",
      "Image not found for 695327\n",
      "Image not found for 695329\n",
      "Image not found for 695330\n",
      "Image not found for 695331\n",
      "Image not found for 695332\n",
      "Image not found for 695336\n",
      "Image not found for 695337\n",
      "Image not found for 695338\n",
      "Image not found for 695339\n",
      "Image not found for 695340\n",
      "Image not found for 695341\n",
      "Image not found for 695342\n",
      "Image not found for 695344\n",
      "Image not found for 695345\n",
      "Processed 4389 images\n",
      "Image not found for 695346\n",
      "Image not found for 695347\n",
      "Image not found for 695348\n",
      "Image not found for 695349\n",
      "Image not found for 695350\n",
      "Image not found for 695351\n",
      "Image not found for 695352\n",
      "Image not found for 695353\n",
      "Image not found for 695354\n",
      "Image not found for 695356\n",
      "Image not found for 695357\n",
      "Image not found for 695358\n",
      "Image not found for 695359\n",
      "Image not found for 695360\n",
      "Image not found for 695362\n",
      "Image not found for 695363\n",
      "Image not found for 695364\n",
      "Image not found for 695382\n",
      "Image not found for 695383\n",
      "Image not found for 695384\n",
      "Image not found for 695385\n",
      "Image not found for 695387\n",
      "Image not found for 695388\n",
      "Image not found for 695389\n",
      "Image not found for 695390\n",
      "Image not found for 695391\n",
      "Image not found for 695392\n",
      "Image not found for 695393\n",
      "Image not found for 695394\n",
      "Image not found for 695395\n",
      "Image not found for 695396\n",
      "Image not found for 695397\n",
      "Processed 4389 images\n",
      "Image not found for 695398\n",
      "Image not found for 695400\n",
      "Image not found for 695401\n",
      "Image not found for 695403\n",
      "Image not found for 695406\n",
      "Image not found for 695408\n",
      "Image not found for 695409\n",
      "Image not found for 695410\n",
      "Image not found for 695412\n",
      "Image not found for 695413\n",
      "Image not found for 695416\n",
      "Image not found for 695417\n",
      "Image not found for 695419\n",
      "Image not found for 695420\n",
      "Image not found for 695421\n",
      "Image not found for 695422\n",
      "Image not found for 695423\n",
      "Image not found for 695424\n",
      "Image not found for 695426\n",
      "Image not found for 695428\n",
      "Image not found for 695429\n",
      "Image not found for 695430\n",
      "Image not found for 695431\n",
      "Image not found for 695432\n",
      "Image not found for 695433\n",
      "Image not found for 695436\n",
      "Image not found for 695437\n",
      "Image not found for 695438\n",
      "Image not found for 695439\n",
      "Image not found for 695440\n",
      "Image not found for 695441\n",
      "Image not found for 696676\n",
      "Processed 4389 images\n",
      "Image not found for 696695\n",
      "Image not found for 696710\n",
      "Image not found for 700984\n",
      "Image not found for 709305\n",
      "Image not found for 729805\n",
      "Image not found for 729806\n",
      "Image not found for 729810\n",
      "Image not found for 729811\n",
      "Image not found for 729824\n",
      "Image not found for 729825\n",
      "Image not found for 729826\n",
      "Image not found for 729827\n",
      "Image not found for 729829\n",
      "Image not found for 729830\n",
      "Image not found for 754082\n",
      "Image not found for 754083\n",
      "Image not found for 754084\n",
      "Image not found for 765030\n",
      "Image not found for 465454\n",
      "Image not found for 465455\n",
      "Image not found for 465456\n",
      "Image not found for 465458\n",
      "Image not found for 465459\n",
      "Image not found for 465460\n",
      "Image not found for 465461\n",
      "Image not found for 465462\n",
      "Image not found for 465463\n",
      "Image not found for 465464\n",
      "Image not found for 465466\n",
      "Image not found for 465467\n",
      "Image not found for 465468\n",
      "Image not found for 465469\n",
      "Processed 4389 images\n",
      "Image not found for 465470\n",
      "Image not found for 465471\n",
      "Image not found for 465472\n",
      "Image not found for 465473\n",
      "Image not found for 465474\n",
      "Image not found for 465475\n",
      "Image not found for 465476\n",
      "Image not found for 465478\n",
      "Image not found for 465479\n",
      "Image not found for 465480\n",
      "Image not found for 465481\n",
      "Image not found for 465482\n",
      "Image not found for 465483\n",
      "Image not found for 465484\n",
      "Image not found for 465485\n",
      "Image not found for 465486\n",
      "Image not found for 465487\n",
      "Image not found for 465488\n",
      "Image not found for 465489\n",
      "Image not found for 465490\n",
      "Image not found for 465491\n",
      "Image not found for 465492\n",
      "Image not found for 465493\n",
      "Image not found for 465494\n",
      "Image not found for 465495\n",
      "Image not found for 465496\n",
      "Image not found for 465497\n",
      "Image not found for 465498\n",
      "Image not found for 465499\n",
      "Image not found for 465500\n",
      "Image not found for 465501\n",
      "Image not found for 465502\n",
      "Processed 4389 images\n",
      "Image not found for 465504\n",
      "Image not found for 465506\n",
      "Image not found for 465507\n",
      "Image not found for 465508\n",
      "Image not found for 465509\n",
      "Image not found for 465510\n",
      "Image not found for 465511\n",
      "Image not found for 465512\n",
      "Image not found for 465513\n",
      "Image not found for 465514\n",
      "Image not found for 465515\n",
      "Image not found for 465516\n",
      "Image not found for 465517\n",
      "Image not found for 465518\n",
      "Image not found for 465519\n",
      "Image not found for 465520\n",
      "Image not found for 465521\n",
      "Image not found for 465522\n",
      "Image not found for 465523\n",
      "Image not found for 465524\n",
      "Image not found for 465525\n",
      "Image not found for 465526\n",
      "Image not found for 465527\n",
      "Image not found for 465528\n",
      "Image not found for 465529\n",
      "Image not found for 465530\n",
      "Image not found for 465531\n",
      "Image not found for 465532\n",
      "Image not found for 465533\n",
      "Image not found for 465534\n",
      "Image not found for 465535\n",
      "Image not found for 465536\n",
      "Processed 4389 images\n",
      "Image not found for 465537\n",
      "Image not found for 465538\n",
      "Image not found for 465539\n",
      "Image not found for 465540\n",
      "Image not found for 465541\n",
      "Image not found for 465542\n",
      "Image not found for 465543\n",
      "Image not found for 465545\n",
      "Image not found for 465546\n",
      "Image not found for 465547\n",
      "Image not found for 465548\n",
      "Image not found for 465549\n",
      "Image not found for 465550\n",
      "Image not found for 465552\n",
      "Image not found for 465553\n",
      "Image not found for 471045\n",
      "Image not found for 471254\n",
      "Image not found for 474996\n",
      "Image not found for 474998\n",
      "Image not found for 475000\n",
      "Image not found for 475001\n",
      "Image not found for 475002\n",
      "Image not found for 475003\n",
      "Image not found for 475004\n",
      "Image not found for 475005\n",
      "Image not found for 475006\n",
      "Image not found for 475007\n",
      "Image not found for 475008\n",
      "Image not found for 475011\n",
      "Image not found for 475012\n",
      "Image not found for 475013\n",
      "Image not found for 475014\n",
      "Processed 4389 images\n",
      "Image not found for 475016\n",
      "Image not found for 475017\n",
      "Image not found for 475020\n",
      "Image not found for 475021\n",
      "Image not found for 475022\n",
      "Image not found for 475023\n",
      "Image not found for 475024\n",
      "Image not found for 475025\n",
      "Image not found for 475026\n",
      "Image not found for 475027\n",
      "Image not found for 475028\n",
      "Image not found for 475029\n",
      "Image not found for 475030\n",
      "Image not found for 475031\n",
      "Image not found for 475032\n",
      "Image not found for 475033\n",
      "Image not found for 475042\n",
      "Image not found for 475043\n",
      "Image not found for 475044\n",
      "Image not found for 475045\n",
      "Image not found for 475046\n",
      "Image not found for 475047\n",
      "Image not found for 475048\n",
      "Image not found for 475049\n",
      "Image not found for 475050\n",
      "Image not found for 475051\n",
      "Image not found for 475052\n",
      "Image not found for 475053\n",
      "Image not found for 475054\n",
      "Image not found for 475055\n",
      "Image not found for 475056\n",
      "Image not found for 475057\n",
      "Processed 4389 images\n",
      "Image not found for 475058\n",
      "Image not found for 475070\n",
      "Image not found for 475071\n",
      "Image not found for 475072\n",
      "Image not found for 475073\n",
      "Image not found for 475074\n",
      "Image not found for 475075\n",
      "Image not found for 475076\n",
      "Image not found for 475077\n",
      "Image not found for 475078\n",
      "Image not found for 475079\n",
      "Image not found for 475080\n",
      "Image not found for 475081\n",
      "Image not found for 475082\n",
      "Image not found for 475083\n",
      "Image not found for 475084\n",
      "Image not found for 475085\n",
      "Image not found for 475087\n",
      "Image not found for 475088\n",
      "Image not found for 475089\n",
      "Image not found for 475090\n",
      "Image not found for 475091\n",
      "Image not found for 475092\n",
      "Image not found for 475095\n",
      "Image not found for 475096\n",
      "Image not found for 475097\n",
      "Image not found for 475098\n",
      "Image not found for 475099\n",
      "Image not found for 475100\n",
      "Image not found for 475101\n",
      "Image not found for 475102\n",
      "Image not found for 475103\n",
      "Processed 4389 images\n",
      "Image not found for 475104\n",
      "Image not found for 475105\n",
      "Image not found for 475106\n",
      "Image not found for 475107\n",
      "Image not found for 475108\n",
      "Image not found for 475109\n",
      "Image not found for 475110\n",
      "Image not found for 475113\n",
      "Image not found for 475114\n",
      "Image not found for 475115\n",
      "Image not found for 475116\n",
      "Image not found for 475118\n",
      "Image not found for 475119\n",
      "Image not found for 475121\n",
      "Image not found for 475128\n",
      "Image not found for 475129\n",
      "Image not found for 475131\n",
      "Image not found for 475132\n",
      "Image not found for 475134\n",
      "Image not found for 475135\n",
      "Image not found for 475136\n",
      "Image not found for 475175\n",
      "Image not found for 475223\n",
      "Image not found for 475224\n",
      "Image not found for 475225\n",
      "Image not found for 475226\n",
      "Image not found for 475227\n",
      "Image not found for 475228\n",
      "Image not found for 475229\n",
      "Image not found for 475230\n",
      "Image not found for 475231\n",
      "Image not found for 475232\n",
      "Processed 4389 images\n",
      "Image not found for 475233\n",
      "Image not found for 475234\n",
      "Image not found for 475235\n",
      "Image not found for 475236\n",
      "Image not found for 475237\n",
      "Image not found for 475238\n",
      "Image not found for 475239\n",
      "Image not found for 475240\n",
      "Image not found for 475241\n",
      "Image not found for 475242\n",
      "Image not found for 475243\n",
      "Image not found for 475244\n",
      "Image not found for 475245\n",
      "Image not found for 475246\n",
      "Image not found for 475247\n",
      "Image not found for 475248\n",
      "Image not found for 475249\n",
      "Image not found for 475250\n",
      "Image not found for 475251\n",
      "Image not found for 475252\n",
      "Image not found for 475253\n",
      "Image not found for 475254\n",
      "Image not found for 475255\n",
      "Image not found for 475256\n",
      "Image not found for 475257\n",
      "Image not found for 475258\n",
      "Image not found for 475259\n",
      "Image not found for 475260\n",
      "Image not found for 475261\n",
      "Image not found for 475262\n",
      "Image not found for 475263\n",
      "Image not found for 475264\n",
      "Processed 4389 images\n",
      "Image not found for 475265\n",
      "Image not found for 475266\n",
      "Image not found for 475267\n",
      "Image not found for 475268\n",
      "Image not found for 475269\n",
      "Image not found for 475270\n",
      "Image not found for 475271\n",
      "Image not found for 475272\n",
      "Image not found for 475273\n",
      "Image not found for 475274\n",
      "Image not found for 475275\n",
      "Image not found for 475276\n",
      "Image not found for 475277\n",
      "Image not found for 475278\n",
      "Image not found for 475279\n",
      "Image not found for 475280\n",
      "Image not found for 475281\n",
      "Image not found for 475282\n",
      "Image not found for 475283\n",
      "Image not found for 475284\n",
      "Image not found for 475285\n",
      "Image not found for 475286\n",
      "Image not found for 475287\n",
      "Image not found for 475289\n",
      "Image not found for 475290\n",
      "Image not found for 475291\n",
      "Image not found for 475292\n",
      "Image not found for 475307\n",
      "Image not found for 475308\n",
      "Image not found for 475309\n",
      "Image not found for 475310\n",
      "Image not found for 475311\n",
      "Processed 4389 images\n",
      "Image not found for 475312\n",
      "Image not found for 475313\n",
      "Image not found for 475314\n",
      "Image not found for 475315\n",
      "Image not found for 475316\n",
      "Image not found for 475317\n",
      "Image not found for 475318\n",
      "Image not found for 475319\n",
      "Image not found for 475320\n",
      "Image not found for 475321\n",
      "Image not found for 475322\n",
      "Image not found for 475323\n",
      "Image not found for 475324\n",
      "Image not found for 475325\n",
      "Image not found for 475326\n",
      "Image not found for 475327\n",
      "Image not found for 475328\n",
      "Image not found for 475329\n",
      "Image not found for 475330\n",
      "Image not found for 475331\n",
      "Image not found for 475332\n",
      "Image not found for 475333\n",
      "Image not found for 475334\n",
      "Image not found for 475335\n",
      "Image not found for 475336\n",
      "Image not found for 475337\n",
      "Image not found for 475338\n",
      "Image not found for 475339\n",
      "Image not found for 475340\n",
      "Image not found for 475341\n",
      "Image not found for 475342\n",
      "Image not found for 475343\n",
      "Processed 4389 images\n",
      "Image not found for 475344\n",
      "Image not found for 475345\n",
      "Image not found for 475346\n",
      "Image not found for 475347\n",
      "Image not found for 475348\n",
      "Image not found for 475349\n",
      "Image not found for 475350\n",
      "Image not found for 475351\n",
      "Image not found for 475352\n",
      "Image not found for 475353\n",
      "Image not found for 475354\n",
      "Image not found for 475355\n",
      "Image not found for 475356\n",
      "Image not found for 475357\n",
      "Image not found for 475358\n",
      "Image not found for 475359\n",
      "Image not found for 475360\n",
      "Image not found for 475361\n",
      "Image not found for 475362\n",
      "Image not found for 475363\n",
      "Image not found for 475364\n",
      "Image not found for 475365\n",
      "Image not found for 475366\n",
      "Image not found for 475367\n",
      "Image not found for 475368\n",
      "Image not found for 475369\n",
      "Image not found for 475370\n",
      "Image not found for 475371\n",
      "Image not found for 475372\n",
      "Image not found for 475373\n",
      "Image not found for 475394\n",
      "Image not found for 475399\n",
      "Processed 4389 images\n",
      "Image not found for 475416\n",
      "Image not found for 475418\n",
      "Image not found for 475421\n",
      "Image not found for 475422\n",
      "Image not found for 475423\n",
      "Image not found for 475424\n",
      "Image not found for 475425\n",
      "Image not found for 475426\n",
      "Image not found for 475427\n",
      "Image not found for 475428\n",
      "Image not found for 475429\n",
      "Image not found for 475430\n",
      "Image not found for 475431\n",
      "Image not found for 475432\n",
      "Image not found for 475433\n",
      "Image not found for 475434\n",
      "Image not found for 475437\n",
      "Image not found for 475438\n",
      "Image not found for 475439\n",
      "Image not found for 475440\n",
      "Image not found for 475441\n",
      "Image not found for 475442\n",
      "Image not found for 475443\n",
      "Image not found for 475444\n",
      "Image not found for 475445\n",
      "Image not found for 475475\n",
      "Image not found for 475476\n",
      "Image not found for 475477\n",
      "Image not found for 475484\n",
      "Image not found for 475723\n",
      "Image not found for 475725\n",
      "Image not found for 475726\n",
      "Processed 4389 images\n",
      "Image not found for 475749\n",
      "Image not found for 475750\n",
      "Image not found for 475751\n",
      "Image not found for 475752\n",
      "Image not found for 475753\n",
      "Image not found for 475754\n",
      "Image not found for 475755\n",
      "Image not found for 475756\n",
      "Image not found for 475757\n",
      "Image not found for 475758\n",
      "Image not found for 475759\n",
      "Image not found for 475760\n",
      "Image not found for 475761\n",
      "Image not found for 476250\n",
      "Image not found for 476251\n",
      "Image not found for 476252\n",
      "Image not found for 476253\n",
      "Image not found for 476254\n",
      "Image not found for 476255\n",
      "Image not found for 476256\n",
      "Image not found for 476257\n",
      "Image not found for 476258\n",
      "Image not found for 476263\n",
      "Image not found for 476264\n",
      "Image not found for 476265\n",
      "Image not found for 476266\n",
      "Image not found for 476267\n",
      "Image not found for 476268\n",
      "Image not found for 476269\n",
      "Image not found for 476270\n",
      "Image not found for 476271\n",
      "Image not found for 476272\n",
      "Processed 4389 images\n",
      "Image not found for 476273\n",
      "Image not found for 476274\n",
      "Image not found for 476275\n",
      "Image not found for 476276\n",
      "Image not found for 476277\n",
      "Image not found for 476278\n",
      "Image not found for 476279\n",
      "Image not found for 476280\n",
      "Image not found for 476281\n",
      "Image not found for 476282\n",
      "Image not found for 476283\n",
      "Image not found for 476284\n",
      "Image not found for 476285\n",
      "Image not found for 476286\n",
      "Image not found for 476287\n",
      "Image not found for 476288\n",
      "Image not found for 476289\n",
      "Image not found for 476290\n",
      "Image not found for 476291\n",
      "Image not found for 476292\n",
      "Image not found for 476293\n",
      "Image not found for 476294\n",
      "Image not found for 476295\n",
      "Image not found for 476296\n",
      "Image not found for 476297\n",
      "Image not found for 476298\n",
      "Image not found for 476299\n",
      "Image not found for 476300\n",
      "Image not found for 476301\n",
      "Image not found for 476302\n",
      "Image not found for 476303\n",
      "Image not found for 476304\n",
      "Processed 4389 images\n",
      "Image not found for 476335\n",
      "Image not found for 476336\n",
      "Image not found for 476391\n",
      "Image not found for 476394\n",
      "Image not found for 476395\n",
      "Image not found for 476436\n",
      "Image not found for 476539\n",
      "Image not found for 476543\n",
      "Image not found for 476544\n",
      "Image not found for 476552\n",
      "Image not found for 476562\n",
      "Image not found for 476564\n",
      "Image not found for 476612\n",
      "Image not found for 693775\n",
      "Image not found for 693892\n",
      "Image not found for 693893\n",
      "Image not found for 693894\n",
      "Image not found for 693895\n",
      "Image not found for 693896\n",
      "Image not found for 693897\n",
      "Image not found for 702911\n",
      "Image not found for 708069\n",
      "Image not found for 708072\n",
      "Image not found for 708074\n",
      "Image not found for 711012\n",
      "Image not found for 841757\n",
      "Image not found for 479657\n",
      "Image not found for 479658\n",
      "Image not found for 479659\n",
      "Image not found for 479663\n",
      "Image not found for 479664\n",
      "Image not found for 479674\n",
      "Processed 4389 images\n",
      "Image not found for 479681\n",
      "Image not found for 479682\n",
      "Image not found for 479733\n",
      "Image not found for 479780\n",
      "Image not found for 479781\n",
      "Image not found for 479784\n",
      "Image not found for 479788\n",
      "Image not found for 479795\n",
      "Image not found for 479796\n",
      "Image not found for 633712\n",
      "Image not found for 696554\n",
      "Image not found for 696556\n",
      "Image not found for 696557\n",
      "Image not found for 696558\n",
      "Image not found for 696560\n",
      "Image not found for 696561\n",
      "Image not found for 696562\n",
      "Image not found for 696563\n",
      "Image not found for 696564\n",
      "Image not found for 696565\n",
      "Image not found for 696566\n",
      "Image not found for 696567\n",
      "Image not found for 696568\n",
      "Image not found for 696569\n",
      "Image not found for 696570\n",
      "Image not found for 696571\n",
      "Image not found for 696573\n",
      "Image not found for 696574\n",
      "Image not found for 696575\n",
      "Image not found for 696576\n",
      "Image not found for 696579\n",
      "Image not found for 696580\n",
      "Processed 4389 images\n",
      "Image not found for 696581\n",
      "Image not found for 696583\n",
      "Image not found for 696585\n",
      "Image not found for 696587\n",
      "Image not found for 696588\n",
      "Image not found for 696589\n",
      "Image not found for 696591\n",
      "Image not found for 696592\n",
      "Image not found for 696593\n",
      "Image not found for 696594\n",
      "Image not found for 696595\n",
      "Image not found for 696597\n",
      "Image not found for 696599\n",
      "Image not found for 696600\n",
      "Image not found for 696601\n",
      "Image not found for 696602\n",
      "Image not found for 696603\n",
      "Image not found for 696604\n",
      "Image not found for 696605\n",
      "Image not found for 696606\n",
      "Image not found for 696607\n",
      "Image not found for 696608\n",
      "Image not found for 696609\n",
      "Image not found for 696610\n",
      "Image not found for 696611\n",
      "Image not found for 696612\n",
      "Image not found for 696613\n",
      "Image not found for 696614\n",
      "Image not found for 696615\n",
      "Image not found for 696616\n",
      "Image not found for 696617\n",
      "Image not found for 696618\n",
      "Processed 4389 images\n",
      "Image not found for 696619\n",
      "Image not found for 696620\n",
      "Image not found for 696621\n",
      "Image not found for 696623\n",
      "Image not found for 696624\n",
      "Image not found for 696625\n",
      "Image not found for 696626\n",
      "Image not found for 696627\n",
      "Image not found for 696628\n",
      "Image not found for 696629\n",
      "Image not found for 696630\n",
      "Image not found for 696631\n",
      "Image not found for 696632\n",
      "Image not found for 696633\n",
      "Image not found for 696634\n",
      "Image not found for 696635\n",
      "Image not found for 696636\n",
      "Image not found for 696637\n",
      "Image not found for 696638\n",
      "Image not found for 696639\n",
      "Image not found for 696640\n",
      "Image not found for 696641\n",
      "Image not found for 696643\n",
      "Image not found for 696644\n",
      "Image not found for 696645\n",
      "Image not found for 696646\n",
      "Image not found for 696647\n",
      "Image not found for 705263\n",
      "Image not found for 812954\n",
      "Image not found for 812956\n",
      "Image not found for 812957\n",
      "Image not found for 812958\n",
      "Processed 4389 images\n",
      "Image not found for 812961\n",
      "Image not found for 812963\n",
      "Image not found for 812964\n",
      "Image not found for 812965\n",
      "Image not found for 818468\n",
      "Image not found for 818469\n",
      "Image not found for 818574\n",
      "Image not found for 831188\n",
      "Image not found for 468571\n",
      "Image not found for 468572\n",
      "Image not found for 472525\n",
      "Image not found for 472526\n",
      "Image not found for 472527\n",
      "Image not found for 472548\n",
      "Image not found for 472549\n",
      "Image not found for 472550\n",
      "Image not found for 472562\n",
      "Image not found for 472618\n",
      "Image not found for 472619\n",
      "Image not found for 472620\n",
      "Image not found for 472621\n",
      "Image not found for 472628\n",
      "Image not found for 472629\n",
      "Image not found for 472630\n",
      "Image not found for 472724\n",
      "Image not found for 472729\n",
      "Image not found for 472745\n",
      "Image not found for 472746\n",
      "Image not found for 472747\n",
      "Image not found for 472749\n",
      "Image not found for 472750\n",
      "Image not found for 472752\n",
      "Processed 4389 images\n",
      "Image not found for 472753\n",
      "Image not found for 472754\n",
      "Image not found for 472756\n",
      "Image not found for 472757\n",
      "Image not found for 472758\n",
      "Image not found for 472761\n",
      "Image not found for 472762\n",
      "Image not found for 472763\n",
      "Image not found for 472764\n",
      "Image not found for 472765\n",
      "Image not found for 472766\n",
      "Image not found for 472835\n",
      "Image not found for 472836\n",
      "Image not found for 472837\n",
      "Image not found for 472842\n",
      "Image not found for 472843\n",
      "Image not found for 472844\n",
      "Image not found for 472849\n",
      "Image not found for 472935\n",
      "Image not found for 473023\n",
      "Image not found for 473039\n",
      "Image not found for 473051\n",
      "Image not found for 473058\n",
      "Image not found for 473068\n",
      "Image not found for 473080\n",
      "Image not found for 473100\n",
      "Image not found for 473116\n",
      "Image not found for 473117\n",
      "Image not found for 473118\n",
      "Image not found for 473119\n",
      "Image not found for 473120\n",
      "Image not found for 473121\n",
      "Processed 4389 images\n",
      "Image not found for 473125\n",
      "Image not found for 473126\n",
      "Image not found for 473161\n",
      "Image not found for 473202\n",
      "Image not found for 473206\n",
      "Image not found for 473253\n",
      "Image not found for 473278\n",
      "Image not found for 473280\n",
      "Image not found for 473283\n",
      "Image not found for 473286\n",
      "Image not found for 473287\n",
      "Image not found for 473288\n",
      "Image not found for 473289\n",
      "Image not found for 473290\n",
      "Image not found for 473291\n",
      "Image not found for 473292\n",
      "Image not found for 473293\n",
      "Image not found for 473294\n",
      "Image not found for 473295\n",
      "Image not found for 473296\n",
      "Image not found for 473297\n",
      "Image not found for 473298\n",
      "Image not found for 473301\n",
      "Image not found for 473302\n",
      "Image not found for 473327\n",
      "Image not found for 473329\n",
      "Image not found for 473391\n",
      "Image not found for 473392\n",
      "Image not found for 473393\n",
      "Image not found for 473394\n",
      "Image not found for 473395\n",
      "Image not found for 473396\n",
      "Processed 4389 images\n",
      "Image not found for 473397\n",
      "Image not found for 473398\n",
      "Image not found for 473399\n",
      "Image not found for 473400\n",
      "Image not found for 473401\n",
      "Image not found for 473402\n",
      "Image not found for 473403\n",
      "Image not found for 473404\n",
      "Image not found for 473412\n",
      "Image not found for 473435\n",
      "Image not found for 473470\n",
      "Image not found for 473473\n",
      "Image not found for 473485\n",
      "Image not found for 473486\n",
      "Image not found for 473633\n",
      "Image not found for 473636\n",
      "Image not found for 473637\n",
      "Image not found for 473638\n",
      "Image not found for 473639\n",
      "Image not found for 473640\n",
      "Image not found for 473641\n",
      "Image not found for 473642\n",
      "Image not found for 473643\n",
      "Image not found for 473644\n",
      "Image not found for 473657\n",
      "Image not found for 474200\n",
      "Image not found for 474201\n",
      "Image not found for 474204\n",
      "Image not found for 474205\n",
      "Image not found for 474206\n",
      "Image not found for 474207\n",
      "Image not found for 474208\n",
      "Processed 4389 images\n",
      "Image not found for 474209\n",
      "Image not found for 474210\n",
      "Image not found for 474211\n",
      "Image not found for 474212\n",
      "Image not found for 474213\n",
      "Image not found for 474214\n",
      "Image not found for 474215\n",
      "Image not found for 474216\n",
      "Image not found for 474217\n",
      "Image not found for 474218\n",
      "Image not found for 474219\n",
      "Image not found for 474220\n",
      "Image not found for 474221\n",
      "Image not found for 474222\n",
      "Image not found for 474223\n",
      "Image not found for 474224\n",
      "Image not found for 474225\n",
      "Image not found for 474226\n",
      "Image not found for 474227\n",
      "Image not found for 474228\n",
      "Image not found for 474229\n",
      "Image not found for 474230\n",
      "Image not found for 474231\n",
      "Image not found for 474232\n",
      "Image not found for 474233\n",
      "Image not found for 474234\n",
      "Image not found for 474236\n",
      "Image not found for 474276\n",
      "Image not found for 474277\n",
      "Image not found for 474316\n",
      "Image not found for 474317\n",
      "Image not found for 474318\n",
      "Processed 4389 images\n",
      "Image not found for 474319\n",
      "Image not found for 474336\n",
      "Image not found for 474363\n",
      "Image not found for 474364\n",
      "Image not found for 474365\n",
      "Image not found for 474366\n",
      "Image not found for 474367\n",
      "Image not found for 474368\n",
      "Image not found for 474369\n",
      "Image not found for 474370\n",
      "Image not found for 474371\n",
      "Image not found for 474372\n",
      "Image not found for 474373\n",
      "Image not found for 474374\n",
      "Image not found for 474375\n",
      "Image not found for 474376\n",
      "Image not found for 474377\n",
      "Image not found for 474378\n",
      "Image not found for 474379\n",
      "Image not found for 474380\n",
      "Image not found for 474381\n",
      "Image not found for 474382\n",
      "Image not found for 474389\n",
      "Image not found for 474390\n",
      "Image not found for 681657\n",
      "Image not found for 695138\n",
      "Image not found for 695139\n",
      "Image not found for 695140\n",
      "Image not found for 695141\n",
      "Image not found for 695142\n",
      "Image not found for 695143\n",
      "Image not found for 695144\n",
      "Processed 4389 images\n",
      "Image not found for 695145\n",
      "Image not found for 695146\n",
      "Image not found for 695147\n",
      "Image not found for 695148\n",
      "Image not found for 695149\n",
      "Image not found for 695150\n",
      "Image not found for 695151\n",
      "Image not found for 695152\n",
      "Image not found for 695153\n",
      "Image not found for 695154\n",
      "Image not found for 695155\n",
      "Image not found for 695157\n",
      "Image not found for 695158\n",
      "Image not found for 695159\n",
      "Image not found for 695160\n",
      "Image not found for 695161\n",
      "Image not found for 695162\n",
      "Image not found for 695164\n",
      "Image not found for 695165\n",
      "Image not found for 695166\n",
      "Image not found for 695167\n",
      "Image not found for 695168\n",
      "Image not found for 695169\n",
      "Image not found for 695170\n",
      "Image not found for 695171\n",
      "Image not found for 695172\n",
      "Image not found for 695173\n",
      "Image not found for 695174\n",
      "Image not found for 695175\n",
      "Image not found for 695176\n",
      "Image not found for 695178\n",
      "Image not found for 695179\n",
      "Processed 4389 images\n",
      "Image not found for 695181\n",
      "Image not found for 695182\n",
      "Image not found for 695183\n",
      "Image not found for 695185\n",
      "Image not found for 695186\n",
      "Image not found for 695187\n",
      "Image not found for 695188\n",
      "Image not found for 695189\n",
      "Image not found for 695191\n",
      "Image not found for 695192\n",
      "Image not found for 695193\n",
      "Image not found for 695195\n",
      "Image not found for 755508\n",
      "Image not found for 694278\n",
      "Image not found for 694279\n",
      "Image not found for 694280\n",
      "Image not found for 694281\n",
      "Image not found for 694282\n",
      "Image not found for 694308\n",
      "Image not found for 694309\n",
      "Image not found for 694310\n",
      "Image not found for 694311\n",
      "Image not found for 694312\n",
      "Image not found for 694313\n",
      "Image not found for 694314\n",
      "Image not found for 694315\n",
      "Image not found for 694316\n",
      "Image not found for 694317\n",
      "Image not found for 694318\n",
      "Image not found for 694319\n",
      "Image not found for 694320\n",
      "Image not found for 694321\n",
      "Processed 4389 images\n",
      "Image not found for 694322\n",
      "Image not found for 694323\n",
      "Image not found for 694324\n",
      "Image not found for 694325\n",
      "Image not found for 694326\n",
      "Image not found for 694327\n",
      "Image not found for 694328\n",
      "Image not found for 694329\n",
      "Image not found for 694330\n",
      "Image not found for 694331\n",
      "Image not found for 694332\n",
      "Image not found for 694333\n",
      "Image not found for 694334\n",
      "Image not found for 694335\n",
      "Image not found for 694336\n",
      "Image not found for 694337\n",
      "Image not found for 694338\n",
      "Image not found for 694339\n",
      "Image not found for 694340\n",
      "Image not found for 694342\n",
      "Image not found for 694343\n",
      "Image not found for 694344\n",
      "Image not found for 694345\n",
      "Image not found for 694346\n",
      "Image not found for 694347\n",
      "Image not found for 694348\n",
      "Image not found for 694349\n",
      "Image not found for 694350\n",
      "Image not found for 694351\n",
      "Image not found for 694352\n",
      "Image not found for 694353\n",
      "Image not found for 694354\n",
      "Processed 4389 images\n",
      "Image not found for 694355\n",
      "Image not found for 694356\n",
      "Image not found for 694358\n",
      "Image not found for 694359\n",
      "Image not found for 694360\n",
      "Image not found for 694361\n",
      "Image not found for 694362\n",
      "Image not found for 694363\n",
      "Image not found for 694364\n",
      "Image not found for 694365\n",
      "Image not found for 694366\n",
      "Image not found for 694367\n",
      "Image not found for 694368\n",
      "Image not found for 694369\n",
      "Image not found for 694370\n",
      "Image not found for 694371\n",
      "Image not found for 694372\n",
      "Image not found for 694373\n",
      "Image not found for 694374\n",
      "Image not found for 694376\n",
      "Image not found for 694377\n",
      "Image not found for 694378\n",
      "Image not found for 694379\n",
      "Image not found for 694380\n",
      "Image not found for 694381\n",
      "Image not found for 694382\n",
      "Image not found for 694383\n",
      "Image not found for 694384\n",
      "Image not found for 694385\n",
      "Image not found for 694386\n",
      "Image not found for 694388\n",
      "Image not found for 694389\n",
      "Processed 4389 images\n",
      "Image not found for 694390\n",
      "Image not found for 694391\n",
      "Image not found for 694392\n",
      "Image not found for 694393\n",
      "Image not found for 694394\n",
      "Image not found for 694395\n",
      "Image not found for 694396\n",
      "Image not found for 694397\n",
      "Image not found for 694398\n",
      "Image not found for 694400\n",
      "Image not found for 694401\n",
      "Image not found for 694403\n",
      "Image not found for 694404\n",
      "Image not found for 694405\n",
      "Image not found for 701436\n",
      "Image not found for 707114\n",
      "Image not found for 751462\n",
      "Image not found for 773198\n",
      "Image not found for 844002\n",
      "Image not found for 474926\n",
      "Image not found for 474927\n",
      "Image not found for 474929\n",
      "Image not found for 474930\n",
      "Image not found for 474931\n",
      "Image not found for 474932\n",
      "Image not found for 474934\n",
      "Image not found for 474935\n",
      "Image not found for 474936\n",
      "Image not found for 474937\n",
      "Image not found for 474938\n",
      "Image not found for 474939\n",
      "Image not found for 474940\n",
      "Processed 4389 images\n",
      "Image not found for 474941\n",
      "Image not found for 474942\n",
      "Image not found for 474943\n",
      "Image not found for 474944\n",
      "Image not found for 474945\n",
      "Image not found for 474946\n",
      "Image not found for 474947\n",
      "Image not found for 474948\n",
      "Image not found for 474953\n",
      "Image not found for 474954\n",
      "Image not found for 474955\n",
      "Image not found for 474956\n",
      "Image not found for 474957\n",
      "Image not found for 474958\n",
      "Image not found for 474959\n",
      "Image not found for 474960\n",
      "Image not found for 474961\n",
      "Image not found for 474962\n",
      "Image not found for 474963\n",
      "Image not found for 474964\n",
      "Image not found for 474965\n",
      "Image not found for 474966\n",
      "Image not found for 474968\n",
      "Image not found for 474970\n",
      "Image not found for 474971\n",
      "Image not found for 474972\n",
      "Image not found for 474973\n",
      "Image not found for 474974\n",
      "Image not found for 474975\n",
      "Image not found for 474976\n",
      "Image not found for 474977\n",
      "Image not found for 474993\n",
      "Processed 4389 images\n",
      "Image not found for 474994\n",
      "Image not found for 474995\n",
      "Image not found for 679276\n",
      "Image not found for 852384\n",
      "Image not found for 855233\n",
      "Processed 4389 images\n"
     ]
    }
   ],
   "source": [
    "img_dir = Path('images')\n",
    "embeddings = []\n",
    "processed_metadata = []\n",
    "batch_size = 32\n",
    "\n",
    "for i in range(0, len(df), batch_size):\n",
    "    batch_df = df.iloc[i:i+batch_size]\n",
    "    batch_embeddings = []\n",
    "    \n",
    "    for _, row in batch_df.iterrows():\n",
    "        # only if image exists\n",
    "        if (img_dir / f\"{row['objectID']}.jpg\").exists():\n",
    "            try:\n",
    "                # Load and preprocess image\n",
    "                img_path = img_dir / f\"{row['objectID']}.jpg\"\n",
    "                image = Image.open(img_path).convert('RGB')\n",
    "                image_tensor = preprocess(image).unsqueeze(0).to(device)\n",
    "                \n",
    "                # Generate embedding\n",
    "                with torch.no_grad():\n",
    "                    embedding = model(image_tensor)\n",
    "                    embedding = embedding.squeeze().cpu().numpy()\n",
    "                    \n",
    "                batch_embeddings.append(embedding)\n",
    "                processed_metadata.append({\n",
    "                    'objectID': row['objectID'],\n",
    "                    'title': row['title']\n",
    "                    # Add any other metadata fields you want to keep\n",
    "                })\n",
    "                \n",
    "            except Exception as e:\n",
    "                print(f\"Error processing {row['objectID']}: {e}\")\n",
    "                continue\n",
    "        else:\n",
    "            print(f\"Image not found for {row['objectID']}\")\n",
    "    \n",
    "    embeddings.extend(batch_embeddings)\n",
    "    print(f\"Processed {len(embeddings)} images\")"
   ]
  },
  {
   "cell_type": "code",
   "execution_count": 19,
   "metadata": {},
   "outputs": [
    {
     "data": {
      "text/plain": [
       "[array([0.02943092, 0.00421154, 0.39779222, ..., 0.        , 0.        ,\n",
       "        0.        ], dtype=float32),\n",
       " array([0.06907681, 0.00924976, 0.        , ..., 0.        , 0.        ,\n",
       "        0.        ], dtype=float32),\n",
       " array([0.03793921, 0.        , 0.        , ..., 0.        , 0.        ,\n",
       "        0.        ], dtype=float32),\n",
       " array([0.15432765, 0.        , 0.        , ..., 0.        , 0.        ,\n",
       "        0.        ], dtype=float32),\n",
       " array([9.8160398e-01, 2.1305862e-04, 0.0000000e+00, ..., 0.0000000e+00,\n",
       "        0.0000000e+00, 0.0000000e+00], dtype=float32),\n",
       " array([1.5415555, 0.       , 0.       , ..., 0.       , 0.       ,\n",
       "        0.       ], dtype=float32),\n",
       " array([0.00210683, 0.        , 0.02662036, ..., 0.        , 0.        ,\n",
       "        0.01964532], dtype=float32),\n",
       " array([0.22840597, 0.07208687, 0.        , ..., 0.        , 0.        ,\n",
       "        0.        ], dtype=float32),\n",
       " array([0.20660858, 0.13507883, 0.        , ..., 0.        , 0.        ,\n",
       "        0.        ], dtype=float32),\n",
       " array([0.05148396, 0.02432718, 0.        , ..., 0.        , 0.        ,\n",
       "        0.        ], dtype=float32),\n",
       " array([0.29406485, 0.        , 0.        , ..., 0.        , 0.        ,\n",
       "        0.        ], dtype=float32),\n",
       " array([0.3805176, 0.0319862, 0.       , ..., 0.       , 0.       ,\n",
       "        0.       ], dtype=float32),\n",
       " array([0.50111157, 0.030747  , 0.00251318, ..., 0.        , 0.00625201,\n",
       "        0.02447579], dtype=float32),\n",
       " array([0.        , 0.        , 0.        , ..., 0.49708003, 0.        ,\n",
       "        0.        ], dtype=float32),\n",
       " array([0.05626188, 0.        , 0.03574103, ..., 0.        , 0.0046839 ,\n",
       "        0.00930111], dtype=float32),\n",
       " array([0.        , 0.11049557, 0.        , ..., 0.03675419, 0.        ,\n",
       "        0.00696291], dtype=float32),\n",
       " array([0.2795115 , 0.        , 0.03173696, ..., 0.00047946, 0.        ,\n",
       "        0.        ], dtype=float32),\n",
       " array([0.0000000e+00, 0.0000000e+00, 0.0000000e+00, ..., 0.0000000e+00,\n",
       "        1.2064676e-02, 5.8592581e-05], dtype=float32),\n",
       " array([0.32173565, 0.00673776, 0.0820716 , ..., 0.00824804, 0.        ,\n",
       "        0.03191505], dtype=float32),\n",
       " array([0.00215018, 0.        , 0.00605191, ..., 0.01565846, 0.        ,\n",
       "        0.        ], dtype=float32),\n",
       " array([0.        , 0.        , 0.        , ..., 0.        , 0.        ,\n",
       "        0.89887124], dtype=float32),\n",
       " array([0., 0., 0., ..., 0., 0., 0.], dtype=float32),\n",
       " array([0.9637377 , 0.        , 0.03905171, ..., 0.00183933, 0.        ,\n",
       "        0.0327061 ], dtype=float32),\n",
       " array([0.        , 0.        , 0.34930232, ..., 0.        , 0.        ,\n",
       "        0.        ], dtype=float32),\n",
       " array([0.00489171, 0.        , 0.02472769, ..., 0.        , 0.        ,\n",
       "        0.        ], dtype=float32),\n",
       " array([0.00672132, 0.        , 0.        , ..., 0.        , 0.        ,\n",
       "        0.01081453], dtype=float32),\n",
       " array([0.        , 0.        , 0.0225307 , ..., 0.01436095, 0.        ,\n",
       "        0.        ], dtype=float32),\n",
       " array([0.       , 0.       , 0.       , ..., 0.2923055, 0.       ,\n",
       "        0.       ], dtype=float32),\n",
       " array([0.        , 0.        , 0.        , ..., 0.10233295, 0.        ,\n",
       "        0.01375556], dtype=float32),\n",
       " array([0.        , 0.        , 0.1365511 , ..., 0.01199348, 0.        ,\n",
       "        0.00673987], dtype=float32),\n",
       " array([0., 0., 0., ..., 0., 0., 0.], dtype=float32),\n",
       " array([0.        , 0.        , 0.0239072 , ..., 0.03850923, 0.        ,\n",
       "        0.05689985], dtype=float32),\n",
       " array([0.        , 0.        , 0.05922503, ..., 0.0078146 , 0.        ,\n",
       "        0.6322188 ], dtype=float32),\n",
       " array([0.00703061, 0.07317649, 0.        , ..., 0.03771079, 0.        ,\n",
       "        0.        ], dtype=float32),\n",
       " array([0.        , 0.        , 0.        , ..., 0.        , 0.        ,\n",
       "        0.09349327], dtype=float32),\n",
       " array([0.05104617, 0.04344435, 0.10559613, ..., 0.        , 0.01115955,\n",
       "        0.02020329], dtype=float32),\n",
       " array([0.        , 0.        , 0.0472075 , ..., 0.09591373, 0.        ,\n",
       "        0.        ], dtype=float32),\n",
       " array([0.15767813, 0.        , 0.        , ..., 0.02137309, 0.        ,\n",
       "        0.        ], dtype=float32),\n",
       " array([0.00336437, 0.18587685, 0.        , ..., 0.        , 0.        ,\n",
       "        0.        ], dtype=float32),\n",
       " array([0.3251675, 0.       , 0.       , ..., 0.       , 0.       ,\n",
       "        0.       ], dtype=float32),\n",
       " array([0.        , 0.        , 0.00341094, ..., 0.04515758, 0.03410118,\n",
       "        0.03316814], dtype=float32),\n",
       " array([0.0585806 , 0.        , 0.        , ..., 0.06159045, 0.        ,\n",
       "        0.        ], dtype=float32),\n",
       " array([0.841317  , 0.02037391, 0.06710487, ..., 0.        , 0.06294476,\n",
       "        0.46470484], dtype=float32),\n",
       " array([0.        , 0.00273845, 0.        , ..., 0.        , 0.        ,\n",
       "        0.00975867], dtype=float32),\n",
       " array([0.        , 0.        , 0.        , ..., 0.        , 0.        ,\n",
       "        0.02718975], dtype=float32),\n",
       " array([0., 0., 0., ..., 0., 0., 0.], dtype=float32),\n",
       " array([0., 0., 0., ..., 0., 0., 0.], dtype=float32),\n",
       " array([0.5802593, 0.       , 0.       , ..., 0.       , 0.       ,\n",
       "        0.       ], dtype=float32),\n",
       " array([0.        , 0.06796558, 0.00062941, ..., 0.1172673 , 0.        ,\n",
       "        0.        ], dtype=float32),\n",
       " array([0.04961779, 0.        , 0.        , ..., 0.        , 0.        ,\n",
       "        0.        ], dtype=float32),\n",
       " array([0.        , 0.        , 0.        , ..., 0.        , 0.        ,\n",
       "        0.09908943], dtype=float32),\n",
       " array([0.        , 0.00623026, 0.00805337, ..., 0.        , 0.01703609,\n",
       "        1.581452  ], dtype=float32),\n",
       " array([0.00689934, 0.07986419, 0.00459394, ..., 0.03922261, 0.        ,\n",
       "        0.02045846], dtype=float32),\n",
       " array([0.06917364, 0.10780761, 0.01595506, ..., 0.00258093, 0.00499139,\n",
       "        0.        ], dtype=float32),\n",
       " array([0.00406139, 0.12295774, 0.        , ..., 0.        , 0.        ,\n",
       "        0.35968697], dtype=float32),\n",
       " array([0.19215599, 0.06241972, 0.        , ..., 0.        , 0.        ,\n",
       "        0.18045464], dtype=float32),\n",
       " array([0.03150382, 0.        , 0.13846183, ..., 0.        , 0.        ,\n",
       "        0.        ], dtype=float32),\n",
       " array([0.02024075, 0.09620973, 0.00045683, ..., 0.        , 0.        ,\n",
       "        0.00078888], dtype=float32),\n",
       " array([0.01934815, 0.02604365, 0.        , ..., 0.07493694, 0.        ,\n",
       "        0.07415641], dtype=float32),\n",
       " array([0.885973  , 0.43920726, 0.00426868, ..., 0.        , 0.        ,\n",
       "        0.30417913], dtype=float32),\n",
       " array([0.        , 0.04438169, 0.        , ..., 0.        , 0.        ,\n",
       "        0.20376654], dtype=float32),\n",
       " array([0.00405797, 0.14286631, 0.0058824 , ..., 0.07067238, 0.        ,\n",
       "        0.649191  ], dtype=float32),\n",
       " array([0.        , 0.05822396, 0.        , ..., 0.        , 0.        ,\n",
       "        1.3760718 ], dtype=float32),\n",
       " array([0.        , 0.14287159, 0.        , ..., 0.06799515, 0.        ,\n",
       "        0.36703998], dtype=float32),\n",
       " array([0.        , 0.01156871, 0.01058177, ..., 0.        , 0.        ,\n",
       "        0.43865144], dtype=float32),\n",
       " array([0.        , 0.06310941, 0.        , ..., 0.04546465, 0.        ,\n",
       "        0.        ], dtype=float32),\n",
       " array([0.        , 0.04674769, 0.13114837, ..., 0.        , 0.        ,\n",
       "        0.21658146], dtype=float32),\n",
       " array([0.00830584, 0.0409994 , 0.        , ..., 0.01915346, 0.        ,\n",
       "        0.        ], dtype=float32),\n",
       " array([0.       , 0.0468913, 0.       , ..., 0.       , 0.0320318,\n",
       "        1.0608844], dtype=float32),\n",
       " array([0.05846323, 0.        , 0.        , ..., 0.        , 0.00524363,\n",
       "        0.04505817], dtype=float32),\n",
       " array([0.        , 0.        , 0.00819035, ..., 0.        , 0.        ,\n",
       "        2.141248  ], dtype=float32),\n",
       " array([0.        , 0.05699628, 0.        , ..., 0.        , 0.        ,\n",
       "        0.02827466], dtype=float32),\n",
       " array([0.        , 0.        , 0.05643368, ..., 0.        , 0.        ,\n",
       "        0.40018794], dtype=float32),\n",
       " array([0.1983258 , 0.16540776, 0.        , ..., 0.        , 0.        ,\n",
       "        0.00571688], dtype=float32),\n",
       " array([0.        , 0.02984429, 0.00684525, ..., 0.        , 0.        ,\n",
       "        0.06600682], dtype=float32),\n",
       " array([0.        , 0.09147527, 0.03524375, ..., 0.        , 0.07258265,\n",
       "        0.38419983], dtype=float32),\n",
       " array([0.        , 0.06836768, 0.        , ..., 0.        , 0.        ,\n",
       "        1.6671524 ], dtype=float32),\n",
       " array([0.        , 0.03663383, 0.0422408 , ..., 0.        , 0.0246438 ,\n",
       "        0.        ], dtype=float32),\n",
       " array([0.        , 0.        , 0.        , ..., 0.        , 0.        ,\n",
       "        0.07335339], dtype=float32),\n",
       " array([0.        , 0.01140079, 0.        , ..., 0.        , 0.        ,\n",
       "        0.7868579 ], dtype=float32),\n",
       " array([0.11640034, 0.10427677, 0.        , ..., 0.        , 0.00282937,\n",
       "        0.702802  ], dtype=float32),\n",
       " array([0.0000000e+00, 0.0000000e+00, 4.1708652e-05, ..., 0.0000000e+00,\n",
       "        0.0000000e+00, 2.6393164e-02], dtype=float32),\n",
       " array([0.        , 0.00561517, 0.14071482, ..., 0.        , 0.        ,\n",
       "        0.0784435 ], dtype=float32),\n",
       " array([0.        , 0.        , 0.00049899, ..., 0.02736322, 0.07352234,\n",
       "        0.        ], dtype=float32),\n",
       " array([0.00565094, 0.        , 0.02350066, ..., 0.        , 0.        ,\n",
       "        0.        ], dtype=float32),\n",
       " array([1.6705714 , 0.07364155, 0.        , ..., 0.        , 0.03080606,\n",
       "        0.        ], dtype=float32),\n",
       " array([0.        , 0.03828045, 0.        , ..., 0.        , 0.        ,\n",
       "        0.        ], dtype=float32),\n",
       " array([0.        , 0.01267697, 0.00223754, ..., 0.        , 0.        ,\n",
       "        0.00670829], dtype=float32),\n",
       " array([0.00096622, 0.        , 0.        , ..., 0.        , 0.        ,\n",
       "        0.        ], dtype=float32),\n",
       " array([0.10528066, 0.        , 0.07257406, ..., 0.00387969, 0.        ,\n",
       "        0.        ], dtype=float32),\n",
       " array([0.16217911, 0.00188835, 0.        , ..., 0.        , 0.        ,\n",
       "        0.04754658], dtype=float32),\n",
       " array([0., 0., 0., ..., 0., 0., 0.], dtype=float32),\n",
       " array([0.0215111 , 0.0474875 , 0.01161749, ..., 0.00118037, 0.        ,\n",
       "        0.        ], dtype=float32),\n",
       " array([0.01626024, 0.03544988, 0.00267311, ..., 0.        , 0.        ,\n",
       "        0.        ], dtype=float32),\n",
       " array([0.        , 0.09347645, 0.        , ..., 0.        , 0.10770729,\n",
       "        0.        ], dtype=float32),\n",
       " array([0., 0., 0., ..., 0., 0., 0.], dtype=float32),\n",
       " array([0.        , 0.01653424, 0.00647063, ..., 0.06815518, 0.        ,\n",
       "        0.        ], dtype=float32),\n",
       " array([0.22161344, 0.        , 0.0011294 , ..., 0.        , 0.        ,\n",
       "        0.        ], dtype=float32),\n",
       " array([0.07439941, 0.03569925, 0.07726155, ..., 0.02424837, 0.        ,\n",
       "        0.        ], dtype=float32),\n",
       " array([0.39211226, 0.        , 0.        , ..., 0.        , 0.        ,\n",
       "        0.02452133], dtype=float32),\n",
       " array([0.        , 0.00262281, 0.        , ..., 0.03899205, 0.        ,\n",
       "        0.        ], dtype=float32),\n",
       " array([0.        , 0.        , 0.42843056, ..., 0.        , 0.        ,\n",
       "        0.02736334], dtype=float32),\n",
       " array([0.01963746, 0.        , 0.04384001, ..., 0.        , 0.02233234,\n",
       "        0.31180808], dtype=float32),\n",
       " array([0.        , 0.1312313 , 0.        , ..., 0.00480875, 0.        ,\n",
       "        0.        ], dtype=float32),\n",
       " array([0.32764757, 0.05063473, 0.00288863, ..., 0.01671758, 0.02836086,\n",
       "        0.0880162 ], dtype=float32),\n",
       " array([0.        , 0.        , 0.01009586, ..., 0.07950124, 0.        ,\n",
       "        0.0353675 ], dtype=float32),\n",
       " array([0.04571018, 0.17572708, 0.        , ..., 0.        , 0.        ,\n",
       "        0.05858198], dtype=float32),\n",
       " array([0.25379896, 0.35352188, 0.        , ..., 0.        , 0.00828099,\n",
       "        0.00752588], dtype=float32),\n",
       " array([0.        , 0.2172444 , 0.        , ..., 0.08388103, 0.        ,\n",
       "        0.        ], dtype=float32),\n",
       " array([0.        , 0.        , 0.        , ..., 0.        , 0.        ,\n",
       "        0.02418166], dtype=float32),\n",
       " array([0.        , 0.        , 0.        , ..., 0.        , 0.        ,\n",
       "        0.23560771], dtype=float32),\n",
       " array([0.        , 0.        , 0.        , ..., 0.        , 0.        ,\n",
       "        0.00951483], dtype=float32),\n",
       " array([0.01332545, 0.        , 0.00313771, ..., 0.        , 0.        ,\n",
       "        0.01009993], dtype=float32),\n",
       " array([0.03189011, 0.02918388, 0.        , ..., 0.        , 0.        ,\n",
       "        0.08225972], dtype=float32),\n",
       " array([0.15043812, 0.05028536, 0.        , ..., 0.        , 0.        ,\n",
       "        0.0210644 ], dtype=float32),\n",
       " array([0.        , 0.12703528, 0.00533788, ..., 0.        , 0.        ,\n",
       "        0.        ], dtype=float32),\n",
       " array([0.09234768, 0.        , 0.        , ..., 0.00662166, 0.        ,\n",
       "        0.02819093], dtype=float32),\n",
       " array([0.        , 0.13604179, 0.01722836, ..., 0.        , 0.        ,\n",
       "        0.10853281], dtype=float32),\n",
       " array([0.02617529, 0.05470936, 0.        , ..., 0.02122339, 0.        ,\n",
       "        0.        ], dtype=float32),\n",
       " array([0.        , 0.02626163, 0.00063323, ..., 0.06431757, 0.19808944,\n",
       "        0.        ], dtype=float32),\n",
       " array([0.        , 0.04141407, 0.0141077 , ..., 0.00618485, 0.01211921,\n",
       "        0.08078941], dtype=float32),\n",
       " array([0.        , 0.        , 0.00084061, ..., 0.03351049, 0.        ,\n",
       "        0.        ], dtype=float32),\n",
       " array([0.13574252, 0.20886993, 0.10135606, ..., 0.        , 0.        ,\n",
       "        0.        ], dtype=float32),\n",
       " array([0.        , 0.        , 0.02459251, ..., 0.00287316, 0.        ,\n",
       "        0.02337397], dtype=float32),\n",
       " array([0.05787508, 0.00244391, 0.0305745 , ..., 0.        , 0.        ,\n",
       "        0.02950315], dtype=float32),\n",
       " array([0.        , 0.02487308, 0.16417713, ..., 0.        , 0.        ,\n",
       "        0.        ], dtype=float32),\n",
       " array([0.04240996, 0.00010712, 0.06563989, ..., 0.        , 0.        ,\n",
       "        0.02890888], dtype=float32),\n",
       " array([0.        , 0.        , 0.00355246, ..., 0.        , 0.        ,\n",
       "        0.        ], dtype=float32),\n",
       " array([0.        , 0.        , 0.        , ..., 0.        , 0.        ,\n",
       "        0.04801848], dtype=float32),\n",
       " array([0.01471456, 0.14043413, 0.00982825, ..., 0.15625031, 0.        ,\n",
       "        0.00095152], dtype=float32),\n",
       " array([0.00076345, 0.23693971, 0.        , ..., 0.        , 0.        ,\n",
       "        0.00396042], dtype=float32),\n",
       " array([0.0452149 , 0.01906106, 0.03610655, ..., 0.        , 0.00192436,\n",
       "        0.08910947], dtype=float32),\n",
       " array([0.        , 0.        , 0.        , ..., 0.        , 0.03054721,\n",
       "        0.        ], dtype=float32),\n",
       " array([0.        , 0.07406316, 0.        , ..., 0.        , 0.        ,\n",
       "        0.03515171], dtype=float32),\n",
       " array([0.        , 0.        , 0.01374086, ..., 0.00185436, 0.        ,\n",
       "        0.        ], dtype=float32),\n",
       " array([0.00500215, 0.        , 0.05898936, ..., 0.00041607, 0.        ,\n",
       "        0.        ], dtype=float32),\n",
       " array([0.00827756, 0.        , 0.9505855 , ..., 0.        , 0.        ,\n",
       "        0.        ], dtype=float32),\n",
       " array([0.        , 0.        , 0.01454164, ..., 0.00582814, 0.        ,\n",
       "        0.        ], dtype=float32),\n",
       " array([0.00356697, 0.        , 0.00249617, ..., 0.        , 0.        ,\n",
       "        0.        ], dtype=float32),\n",
       " array([0.        , 0.        , 0.        , ..., 0.26880255, 0.        ,\n",
       "        0.08157451], dtype=float32),\n",
       " array([0.15834464, 0.        , 0.00709098, ..., 0.01436828, 0.        ,\n",
       "        0.        ], dtype=float32),\n",
       " array([0.02562085, 0.        , 0.        , ..., 0.0075575 , 0.        ,\n",
       "        0.        ], dtype=float32),\n",
       " array([0.        , 0.        , 0.        , ..., 0.        , 0.        ,\n",
       "        0.01582757], dtype=float32),\n",
       " array([0.09890984, 0.        , 0.00261189, ..., 0.        , 0.        ,\n",
       "        0.0084192 ], dtype=float32),\n",
       " array([0.04296916, 0.        , 0.00161296, ..., 0.01343282, 0.        ,\n",
       "        0.        ], dtype=float32),\n",
       " array([0.02545697, 0.        , 0.06503972, ..., 0.        , 0.        ,\n",
       "        0.        ], dtype=float32),\n",
       " array([0.02545697, 0.        , 0.06503972, ..., 0.        , 0.        ,\n",
       "        0.        ], dtype=float32),\n",
       " array([0.02545697, 0.        , 0.06503972, ..., 0.        , 0.        ,\n",
       "        0.        ], dtype=float32),\n",
       " array([0.02545697, 0.        , 0.06503972, ..., 0.        , 0.        ,\n",
       "        0.        ], dtype=float32),\n",
       " array([0.02545697, 0.        , 0.06503972, ..., 0.        , 0.        ,\n",
       "        0.        ], dtype=float32),\n",
       " array([0.02545697, 0.        , 0.06503972, ..., 0.        , 0.        ,\n",
       "        0.        ], dtype=float32),\n",
       " array([0.        , 0.        , 0.27542093, ..., 0.01761819, 0.        ,\n",
       "        0.02078556], dtype=float32),\n",
       " array([0., 0., 0., ..., 0., 0., 0.], dtype=float32),\n",
       " array([0.        , 0.        , 0.11187707, ..., 0.        , 0.        ,\n",
       "        0.03964224], dtype=float32),\n",
       " array([0.19558509, 0.        , 0.        , ..., 0.        , 0.        ,\n",
       "        0.        ], dtype=float32),\n",
       " array([0.19558509, 0.        , 0.        , ..., 0.        , 0.        ,\n",
       "        0.        ], dtype=float32),\n",
       " array([0.08083414, 0.        , 0.02069041, ..., 0.        , 0.        ,\n",
       "        0.        ], dtype=float32),\n",
       " array([0.08083414, 0.        , 0.02069041, ..., 0.        , 0.        ,\n",
       "        0.        ], dtype=float32),\n",
       " array([0.08083414, 0.        , 0.02069041, ..., 0.        , 0.        ,\n",
       "        0.        ], dtype=float32),\n",
       " array([0.        , 0.        , 0.        , ..., 0.        , 0.        ,\n",
       "        0.00762604], dtype=float32),\n",
       " array([0.30335328, 0.        , 0.49296734, ..., 0.1019986 , 0.        ,\n",
       "        0.03294644], dtype=float32),\n",
       " array([0.40437514, 0.        , 0.        , ..., 0.        , 0.        ,\n",
       "        0.        ], dtype=float32),\n",
       " array([0.01370027, 0.08056679, 0.        , ..., 0.00677723, 0.05319466,\n",
       "        0.052798  ], dtype=float32),\n",
       " array([0., 0., 0., ..., 0., 0., 0.], dtype=float32),\n",
       " array([0., 0., 0., ..., 0., 0., 0.], dtype=float32),\n",
       " array([0.0202712 , 0.        , 0.00430085, ..., 0.01828431, 0.        ,\n",
       "        0.        ], dtype=float32),\n",
       " array([0.22861694, 0.        , 0.        , ..., 0.        , 0.        ,\n",
       "        0.        ], dtype=float32),\n",
       " array([0., 0., 0., ..., 0., 0., 0.], dtype=float32),\n",
       " array([6.4046949e-02, 0.0000000e+00, 1.1663350e+00, ..., 5.3344938e-05,\n",
       "        5.8548236e-01, 4.0894389e-02], dtype=float32),\n",
       " array([0.        , 0.        , 0.15303442, ..., 0.13833831, 0.        ,\n",
       "        0.00194883], dtype=float32),\n",
       " array([0., 0., 0., ..., 0., 0., 0.], dtype=float32),\n",
       " array([0.       , 0.       , 0.       , ..., 0.4994886, 0.       ,\n",
       "        0.       ], dtype=float32),\n",
       " array([0.07436817, 0.05620047, 0.00395056, ..., 0.00040271, 0.        ,\n",
       "        0.3158121 ], dtype=float32),\n",
       " array([0.24290137, 0.        , 0.08298218, ..., 0.        , 0.        ,\n",
       "        0.12852122], dtype=float32),\n",
       " array([0.40263677, 0.00523304, 0.08493017, ..., 0.        , 0.        ,\n",
       "        0.29890728], dtype=float32),\n",
       " array([0.        , 0.        , 0.        , ..., 0.49617952, 0.01051062,\n",
       "        0.        ], dtype=float32),\n",
       " array([0., 0., 0., ..., 0., 0., 0.], dtype=float32),\n",
       " array([0., 0., 0., ..., 0., 0., 0.], dtype=float32),\n",
       " array([0.30154133, 0.        , 0.        , ..., 0.        , 0.        ,\n",
       "        0.00422251], dtype=float32),\n",
       " array([0.03070678, 0.        , 0.01176219, ..., 0.        , 0.        ,\n",
       "        0.        ], dtype=float32),\n",
       " array([0.02975411, 0.47439456, 0.03141663, ..., 0.02302474, 0.07423208,\n",
       "        0.3712263 ], dtype=float32),\n",
       " array([0.        , 0.02132058, 0.22630773, ..., 0.        , 0.06575714,\n",
       "        0.06654344], dtype=float32),\n",
       " array([0.30207017, 0.        , 0.02605111, ..., 0.        , 0.01019581,\n",
       "        0.10928178], dtype=float32),\n",
       " array([0.        , 0.        , 0.06564999, ..., 0.        , 0.        ,\n",
       "        0.        ], dtype=float32),\n",
       " array([0.        , 0.02088812, 0.        , ..., 0.        , 0.        ,\n",
       "        0.14781748], dtype=float32),\n",
       " array([0.84649146, 0.        , 0.        , ..., 0.        , 0.        ,\n",
       "        0.        ], dtype=float32),\n",
       " array([0.04323541, 0.        , 0.        , ..., 0.        , 0.        ,\n",
       "        0.08237175], dtype=float32),\n",
       " array([0.        , 0.00401233, 0.00941772, ..., 0.71115017, 0.27794126,\n",
       "        0.04006637], dtype=float32),\n",
       " array([0.4295278 , 0.        , 0.01080343, ..., 0.07520716, 0.        ,\n",
       "        0.        ], dtype=float32),\n",
       " array([0.3854977 , 0.        , 0.03013587, ..., 0.        , 0.        ,\n",
       "        0.        ], dtype=float32),\n",
       " array([0.00540052, 0.        , 0.01085806, ..., 0.05818479, 0.        ,\n",
       "        0.        ], dtype=float32),\n",
       " array([0.04010919, 0.        , 0.00974081, ..., 0.0050367 , 0.00244364,\n",
       "        0.        ], dtype=float32),\n",
       " array([0.        , 0.        , 0.03566991, ..., 0.        , 0.        ,\n",
       "        0.        ], dtype=float32),\n",
       " array([0.04008367, 0.        , 0.0106418 , ..., 0.        , 0.        ,\n",
       "        0.        ], dtype=float32),\n",
       " array([0.        , 0.        , 0.        , ..., 0.0498127 , 0.04442568,\n",
       "        0.        ], dtype=float32),\n",
       " array([0.12905668, 0.        , 0.05269884, ..., 0.00303265, 0.16311803,\n",
       "        0.        ], dtype=float32),\n",
       " array([0.        , 0.        , 0.05205385, ..., 0.00558954, 0.        ,\n",
       "        0.        ], dtype=float32),\n",
       " array([0., 0., 0., ..., 0., 0., 0.], dtype=float32),\n",
       " array([0.07372188, 0.00138628, 0.10358468, ..., 0.07989824, 0.        ,\n",
       "        0.02650364], dtype=float32),\n",
       " array([0., 0., 0., ..., 0., 0., 0.], dtype=float32),\n",
       " array([0.        , 0.        , 0.        , ..., 0.00225615, 0.        ,\n",
       "        0.        ], dtype=float32),\n",
       " array([0.0182561 , 0.00989695, 0.10634284, ..., 0.09761742, 0.02347893,\n",
       "        0.14493209], dtype=float32),\n",
       " array([2.5682923e-01, 0.0000000e+00, 9.6530326e-05, ..., 1.2220217e-02,\n",
       "        0.0000000e+00, 4.1192016e-01], dtype=float32),\n",
       " array([0.00454675, 0.00475737, 0.7755324 , ..., 0.0393873 , 0.02583435,\n",
       "        0.13909246], dtype=float32),\n",
       " array([0.02901486, 0.15329841, 0.05776644, ..., 0.15154777, 0.01520573,\n",
       "        0.        ], dtype=float32),\n",
       " array([0., 0., 0., ..., 0., 0., 0.], dtype=float32),\n",
       " array([3.500812e-04, 6.208712e-03, 8.690956e-01, ..., 8.011149e-02,\n",
       "        5.857839e-01, 0.000000e+00], dtype=float32),\n",
       " array([0., 0., 0., ..., 0., 0., 0.], dtype=float32),\n",
       " array([0.00036551, 0.0611131 , 0.        , ..., 0.        , 0.0005874 ,\n",
       "        0.09478436], dtype=float32),\n",
       " array([0.2005796 , 0.        , 0.31717166, ..., 0.01209263, 0.        ,\n",
       "        0.        ], dtype=float32),\n",
       " array([0.22257645, 0.        , 0.22645731, ..., 0.01012861, 0.        ,\n",
       "        0.        ], dtype=float32),\n",
       " array([0.41063815, 0.00182412, 0.08786721, ..., 0.        , 0.        ,\n",
       "        0.06597723], dtype=float32),\n",
       " array([0.        , 0.        , 0.        , ..., 0.01507503, 0.        ,\n",
       "        0.18943097], dtype=float32),\n",
       " array([0.01331643, 0.00384747, 0.00025047, ..., 0.        , 0.        ,\n",
       "        0.08061659], dtype=float32),\n",
       " array([0.        , 0.        , 0.        , ..., 0.        , 0.01382707,\n",
       "        0.36152524], dtype=float32),\n",
       " array([0.03448064, 0.05327704, 0.        , ..., 0.        , 0.        ,\n",
       "        0.24148352], dtype=float32),\n",
       " array([0.00017289, 0.        , 0.        , ..., 0.01361041, 0.05002896,\n",
       "        0.01758859], dtype=float32),\n",
       " array([0.01503289, 0.00979764, 0.21054913, ..., 0.01418955, 0.00090218,\n",
       "        0.11304653], dtype=float32),\n",
       " array([0.01902685, 0.        , 0.00632663, ..., 0.        , 0.06512681,\n",
       "        0.        ], dtype=float32),\n",
       " array([0.13089879, 0.02332817, 0.        , ..., 0.04628326, 0.        ,\n",
       "        0.04743757], dtype=float32),\n",
       " array([0.        , 0.        , 0.        , ..., 0.00737732, 0.        ,\n",
       "        0.6534018 ], dtype=float32),\n",
       " array([0.06794187, 0.        , 0.        , ..., 0.        , 0.        ,\n",
       "        0.01269983], dtype=float32),\n",
       " array([0.11560199, 0.00539823, 0.        , ..., 0.        , 0.        ,\n",
       "        0.01437069], dtype=float32),\n",
       " array([0., 0., 0., ..., 0., 0., 0.], dtype=float32),\n",
       " array([0.        , 0.00096972, 0.02227634, ..., 0.01142712, 0.08964866,\n",
       "        0.20268047], dtype=float32),\n",
       " array([0.        , 0.        , 0.        , ..., 0.        , 0.06524713,\n",
       "        0.        ], dtype=float32),\n",
       " array([0.7255764 , 0.2772516 , 0.        , ..., 0.        , 0.        ,\n",
       "        0.02346659], dtype=float32),\n",
       " array([0.        , 0.        , 0.        , ..., 0.        , 0.        ,\n",
       "        0.00268368], dtype=float32),\n",
       " array([0.        , 0.        , 0.05441484, ..., 0.        , 0.        ,\n",
       "        0.        ], dtype=float32),\n",
       " array([0.        , 0.        , 0.02891603, ..., 0.        , 0.        ,\n",
       "        0.        ], dtype=float32),\n",
       " array([0.        , 0.        , 0.        , ..., 0.08683523, 0.        ,\n",
       "        0.04062931], dtype=float32),\n",
       " array([0.        , 0.04553176, 0.13621832, ..., 0.        , 0.        ,\n",
       "        0.        ], dtype=float32),\n",
       " array([0.        , 0.01850248, 0.00911301, ..., 0.1212787 , 0.        ,\n",
       "        0.16448064], dtype=float32),\n",
       " array([0.04111952, 0.        , 0.        , ..., 0.        , 0.        ,\n",
       "        0.01746137], dtype=float32),\n",
       " array([0.        , 0.        , 0.19935162, ..., 0.00222801, 0.05600355,\n",
       "        0.        ], dtype=float32),\n",
       " array([0.6131437 , 0.0461588 , 0.        , ..., 0.00707975, 0.        ,\n",
       "        0.01167144], dtype=float32),\n",
       " array([0.04147882, 0.        , 0.01837428, ..., 0.01877912, 0.        ,\n",
       "        0.04139229], dtype=float32),\n",
       " array([0.        , 0.        , 0.        , ..., 0.05717629, 0.        ,\n",
       "        0.02121376], dtype=float32),\n",
       " array([0.00792026, 0.00246665, 0.04023079, ..., 0.        , 0.        ,\n",
       "        0.00340933], dtype=float32),\n",
       " array([0.03366103, 0.01170246, 0.11362418, ..., 0.        , 0.        ,\n",
       "        0.00519497], dtype=float32),\n",
       " array([0.        , 0.        , 0.00958316, ..., 0.        , 0.02668269,\n",
       "        0.00426622], dtype=float32),\n",
       " array([0.02368752, 0.        , 0.        , ..., 0.        , 0.        ,\n",
       "        0.        ], dtype=float32),\n",
       " array([0.03992629, 0.24611804, 0.        , ..., 0.        , 0.        ,\n",
       "        0.17827809], dtype=float32),\n",
       " array([0.00635902, 0.        , 0.16011728, ..., 0.01110892, 0.        ,\n",
       "        0.        ], dtype=float32),\n",
       " array([0.01106861, 0.1110413 , 0.        , ..., 0.        , 0.0628605 ,\n",
       "        0.3728675 ], dtype=float32),\n",
       " array([0.03667727, 0.11208014, 0.0804005 , ..., 0.        , 0.        ,\n",
       "        0.04414723], dtype=float32),\n",
       " array([0.00337107, 0.        , 0.01821619, ..., 0.00520522, 0.        ,\n",
       "        0.10137524], dtype=float32),\n",
       " array([2.8046271e-01, 5.8204781e-02, 2.4851487e-04, ..., 7.2272085e-02,\n",
       "        0.0000000e+00, 4.8930887e-03], dtype=float32),\n",
       " array([0.        , 0.        , 0.        , ..., 0.00270456, 0.        ,\n",
       "        0.01271623], dtype=float32),\n",
       " array([0.03544962, 0.        , 0.        , ..., 0.04518098, 0.        ,\n",
       "        0.        ], dtype=float32),\n",
       " array([0.        , 0.        , 0.0077643 , ..., 0.        , 0.        ,\n",
       "        0.01870514], dtype=float32),\n",
       " array([0., 0., 0., ..., 0., 0., 0.], dtype=float32),\n",
       " array([0.        , 0.        , 0.08928245, ..., 0.0067101 , 0.        ,\n",
       "        0.05900474], dtype=float32),\n",
       " array([0.04021236, 0.        , 0.00221482, ..., 0.        , 0.12222965,\n",
       "        0.0304004 ], dtype=float32),\n",
       " array([0., 0., 0., ..., 0., 0., 0.], dtype=float32),\n",
       " array([0.05067423, 0.02968186, 0.03468328, ..., 0.00401301, 0.        ,\n",
       "        0.00387528], dtype=float32),\n",
       " array([0.1555262 , 0.        , 0.00858712, ..., 0.        , 0.04872122,\n",
       "        0.        ], dtype=float32),\n",
       " array([0., 0., 0., ..., 0., 0., 0.], dtype=float32),\n",
       " array([0.12601593, 0.00173714, 0.03605649, ..., 0.008314  , 0.        ,\n",
       "        0.3976128 ], dtype=float32),\n",
       " array([0.        , 0.01325054, 0.01212103, ..., 0.00013367, 0.        ,\n",
       "        0.        ], dtype=float32),\n",
       " array([0.        , 0.        , 0.0431134 , ..., 0.01129363, 0.        ,\n",
       "        0.        ], dtype=float32),\n",
       " array([0.02595266, 0.40823925, 0.02689218, ..., 0.        , 0.10291484,\n",
       "        0.        ], dtype=float32),\n",
       " array([0., 0., 0., ..., 0., 0., 0.], dtype=float32),\n",
       " array([0.        , 0.        , 0.17483146, ..., 0.        , 0.        ,\n",
       "        0.        ], dtype=float32),\n",
       " array([0.21618077, 0.01332301, 0.04885662, ..., 0.00984597, 0.        ,\n",
       "        0.067687  ], dtype=float32),\n",
       " array([0.        , 0.00050514, 0.        , ..., 0.        , 0.        ,\n",
       "        0.02669644], dtype=float32),\n",
       " array([0.        , 0.3777715 , 0.        , ..., 0.03204578, 0.        ,\n",
       "        0.09166929], dtype=float32),\n",
       " array([0.09758841, 0.        , 0.        , ..., 0.        , 0.        ,\n",
       "        0.        ], dtype=float32),\n",
       " array([0.17671242, 0.29706278, 0.01604016, ..., 0.        , 0.03730358,\n",
       "        0.        ], dtype=float32),\n",
       " array([0.05569814, 0.00717709, 0.06542622, ..., 0.        , 0.        ,\n",
       "        0.        ], dtype=float32),\n",
       " array([0.00189713, 0.        , 0.        , ..., 0.02346073, 0.        ,\n",
       "        0.03071114], dtype=float32),\n",
       " array([0.        , 0.        , 0.47819474, ..., 0.        , 0.        ,\n",
       "        0.        ], dtype=float32),\n",
       " array([0.        , 0.        , 0.04329284, ..., 0.00452956, 0.        ,\n",
       "        0.05305827], dtype=float32),\n",
       " array([0.10495269, 0.02825116, 0.02537146, ..., 0.        , 0.        ,\n",
       "        0.        ], dtype=float32),\n",
       " array([0.01785096, 0.        , 0.        , ..., 0.        , 0.        ,\n",
       "        0.        ], dtype=float32),\n",
       " array([0.03364923, 0.        , 0.05440684, ..., 0.        , 0.        ,\n",
       "        0.        ], dtype=float32),\n",
       " array([0.       , 0.       , 0.1240023, ..., 0.       , 0.       ,\n",
       "        0.       ], dtype=float32),\n",
       " array([0.00474201, 0.09820288, 0.02255734, ..., 0.        , 0.        ,\n",
       "        0.10597509], dtype=float32),\n",
       " array([0.00508083, 0.        , 0.65548503, ..., 0.        , 0.        ,\n",
       "        0.00082829], dtype=float32),\n",
       " array([0., 0., 0., ..., 0., 0., 0.], dtype=float32),\n",
       " array([0.        , 0.        , 0.        , ..., 0.00135442, 0.        ,\n",
       "        0.        ], dtype=float32),\n",
       " array([0., 0., 0., ..., 0., 0., 0.], dtype=float32),\n",
       " array([0.        , 0.        , 0.        , ..., 0.        , 0.        ,\n",
       "        0.00626247], dtype=float32),\n",
       " array([0., 0., 0., ..., 0., 0., 0.], dtype=float32),\n",
       " array([0.15336339, 0.        , 0.        , ..., 0.00676136, 0.        ,\n",
       "        0.        ], dtype=float32),\n",
       " array([0.36989114, 0.00952541, 0.15269637, ..., 0.03957295, 0.        ,\n",
       "        0.02271927], dtype=float32),\n",
       " array([0.01029692, 0.        , 0.30109388, ..., 0.00180733, 0.        ,\n",
       "        0.06500773], dtype=float32),\n",
       " array([0.7568848 , 0.14232849, 0.00982039, ..., 0.213902  , 0.        ,\n",
       "        0.04799012], dtype=float32),\n",
       " array([0.11195613, 0.        , 0.        , ..., 0.00491333, 0.        ,\n",
       "        0.06673466], dtype=float32),\n",
       " array([0.        , 0.0045746 , 0.01766339, ..., 0.        , 0.        ,\n",
       "        0.04079457], dtype=float32),\n",
       " array([0.00419005, 0.05177339, 0.06460976, ..., 0.01808685, 0.        ,\n",
       "        0.34443742], dtype=float32),\n",
       " array([0.06077907, 0.        , 0.22084454, ..., 0.00858265, 0.03623874,\n",
       "        0.25306755], dtype=float32),\n",
       " array([0.06249759, 0.16182028, 0.02512259, ..., 0.06645834, 0.        ,\n",
       "        0.01825696], dtype=float32),\n",
       " array([0.12569341, 0.01763559, 0.04911163, ..., 0.        , 0.        ,\n",
       "        0.02647419], dtype=float32),\n",
       " array([0.06951228, 0.02245427, 0.12383116, ..., 0.00308079, 0.        ,\n",
       "        0.02459406], dtype=float32),\n",
       " array([0.        , 0.15833072, 0.02358845, ..., 0.        , 0.        ,\n",
       "        0.02981763], dtype=float32),\n",
       " array([0.        , 0.03379   , 0.40210155, ..., 0.        , 0.        ,\n",
       "        0.        ], dtype=float32),\n",
       " array([0.00472406, 0.00684596, 0.        , ..., 0.        , 0.        ,\n",
       "        0.        ], dtype=float32),\n",
       " array([0.20365724, 0.09396633, 0.02418664, ..., 0.        , 0.        ,\n",
       "        0.06712627], dtype=float32),\n",
       " array([0.        , 0.        , 0.01010888, ..., 0.        , 0.        ,\n",
       "        0.02033732], dtype=float32),\n",
       " array([0.04489569, 0.        , 0.03556068, ..., 0.        , 0.        ,\n",
       "        0.        ], dtype=float32),\n",
       " array([0.08214119, 0.        , 0.03257742, ..., 0.00225609, 0.01714471,\n",
       "        0.15298934], dtype=float32),\n",
       " array([0.00537315, 0.        , 0.        , ..., 0.        , 0.        ,\n",
       "        0.0543505 ], dtype=float32),\n",
       " array([0.01294014, 0.04081953, 0.06657082, ..., 0.03662243, 0.        ,\n",
       "        0.00275126], dtype=float32),\n",
       " array([0.07264557, 0.        , 0.06797027, ..., 0.        , 0.02357615,\n",
       "        0.        ], dtype=float32),\n",
       " array([0.12586313, 0.        , 0.00277019, ..., 0.01492505, 0.        ,\n",
       "        0.        ], dtype=float32),\n",
       " array([0.        , 0.        , 0.        , ..., 0.        , 0.        ,\n",
       "        0.00321329], dtype=float32),\n",
       " array([0.07752348, 0.        , 0.        , ..., 0.        , 0.02470107,\n",
       "        0.        ], dtype=float32),\n",
       " array([0.16378525, 0.05201469, 0.        , ..., 0.        , 0.        ,\n",
       "        0.        ], dtype=float32),\n",
       " array([0.01144064, 0.07479876, 0.3181936 , ..., 0.        , 0.01361022,\n",
       "        0.02346876], dtype=float32),\n",
       " array([0.00535436, 0.        , 0.02011038, ..., 0.        , 0.        ,\n",
       "        0.03064332], dtype=float32),\n",
       " array([0.        , 0.12093487, 0.01977592, ..., 0.0247262 , 0.        ,\n",
       "        0.01951857], dtype=float32),\n",
       " array([0.04166137, 0.05064107, 0.17484418, ..., 0.00113733, 0.        ,\n",
       "        0.01848737], dtype=float32),\n",
       " array([0., 0., 0., ..., 0., 0., 0.], dtype=float32),\n",
       " array([0.00200208, 0.02375713, 0.08204912, ..., 0.        , 0.        ,\n",
       "        0.04124973], dtype=float32),\n",
       " array([0.98800033, 0.        , 0.        , ..., 0.        , 0.        ,\n",
       "        0.00209045], dtype=float32),\n",
       " array([0.5799254 , 0.0583711 , 0.00895902, ..., 0.01068205, 0.        ,\n",
       "        0.01826907], dtype=float32),\n",
       " array([0., 0., 0., ..., 0., 0., 0.], dtype=float32),\n",
       " array([0.0439738 , 0.        , 0.00470481, ..., 0.0064192 , 0.        ,\n",
       "        0.00503948], dtype=float32),\n",
       " array([0.        , 0.00896853, 0.06476998, ..., 0.00521445, 0.        ,\n",
       "        0.04445261], dtype=float32),\n",
       " array([0.        , 0.2697335 , 0.16969194, ..., 0.0079428 , 0.        ,\n",
       "        0.0235033 ], dtype=float32),\n",
       " array([0.04094074, 0.        , 0.        , ..., 0.03347485, 0.        ,\n",
       "        0.        ], dtype=float32),\n",
       " array([0.        , 0.03367295, 0.00071324, ..., 0.        , 0.        ,\n",
       "        0.        ], dtype=float32),\n",
       " array([0.00728558, 0.03077237, 0.03202775, ..., 0.01016689, 0.05874865,\n",
       "        0.        ], dtype=float32),\n",
       " array([0.        , 0.0492298 , 0.05231635, ..., 0.        , 0.        ,\n",
       "        0.        ], dtype=float32),\n",
       " array([0.02470861, 0.        , 0.01484073, ..., 0.        , 0.        ,\n",
       "        0.00887483], dtype=float32),\n",
       " array([0.00655048, 0.19385059, 0.        , ..., 0.00055833, 0.        ,\n",
       "        0.02833776], dtype=float32),\n",
       " array([0.05173688, 0.58391744, 0.        , ..., 0.00382116, 0.        ,\n",
       "        0.00364712], dtype=float32),\n",
       " array([0.00667732, 0.11587417, 0.        , ..., 0.05812413, 0.        ,\n",
       "        0.04001746], dtype=float32),\n",
       " array([0.08546077, 0.73935544, 0.        , ..., 0.        , 0.        ,\n",
       "        0.05352186], dtype=float32),\n",
       " array([0.        , 0.0601863 , 0.02355527, ..., 0.06855619, 0.        ,\n",
       "        0.02340752], dtype=float32),\n",
       " array([0.        , 0.        , 0.00368106, ..., 0.        , 0.        ,\n",
       "        0.02038641], dtype=float32),\n",
       " array([0.04693339, 0.01251856, 0.04083055, ..., 0.        , 0.        ,\n",
       "        0.01633937], dtype=float32),\n",
       " array([0.        , 0.4639195 , 0.        , ..., 0.        , 0.        ,\n",
       "        0.01532445], dtype=float32),\n",
       " array([0.02471805, 0.        , 0.        , ..., 0.        , 0.        ,\n",
       "        0.04300098], dtype=float32),\n",
       " array([0.02929004, 0.08455157, 0.22100623, ..., 0.00686131, 0.        ,\n",
       "        0.        ], dtype=float32),\n",
       " array([0.28668207, 0.01743922, 0.        , ..., 0.02953543, 0.        ,\n",
       "        0.01748355], dtype=float32),\n",
       " array([0.        , 0.0237145 , 0.01997721, ..., 0.        , 0.        ,\n",
       "        0.        ], dtype=float32),\n",
       " array([0.02110537, 0.        , 0.01204296, ..., 0.00288309, 0.        ,\n",
       "        0.00560258], dtype=float32),\n",
       " array([0.        , 0.14980814, 0.00202206, ..., 0.        , 0.        ,\n",
       "        0.01249844], dtype=float32),\n",
       " array([0.        , 0.02098937, 0.        , ..., 0.        , 0.        ,\n",
       "        0.        ], dtype=float32),\n",
       " array([0.005337, 0.      , 0.      , ..., 0.      , 0.      , 0.      ],\n",
       "       dtype=float32),\n",
       " array([0.        , 0.18478101, 0.02450995, ..., 0.00189383, 0.        ,\n",
       "        0.        ], dtype=float32),\n",
       " array([0.        , 0.        , 0.00094667, ..., 0.00474123, 0.        ,\n",
       "        0.        ], dtype=float32),\n",
       " array([0.        , 0.        , 0.        , ..., 0.        , 0.        ,\n",
       "        0.00155075], dtype=float32),\n",
       " array([0.00577762, 0.00664404, 0.08457129, ..., 0.        , 0.18705827,\n",
       "        0.03337484], dtype=float32),\n",
       " array([0.02019506, 0.15722503, 0.        , ..., 0.        , 0.07002221,\n",
       "        0.012741  ], dtype=float32),\n",
       " array([0.        , 0.        , 0.04491027, ..., 0.        , 0.01701418,\n",
       "        0.0119294 ], dtype=float32),\n",
       " array([0.        , 0.04338652, 0.02401753, ..., 0.        , 0.00553573,\n",
       "        0.        ], dtype=float32),\n",
       " array([0.        , 0.        , 0.        , ..., 0.        , 0.01327441,\n",
       "        0.        ], dtype=float32),\n",
       " array([0., 0., 0., ..., 0., 0., 0.], dtype=float32),\n",
       " array([0.        , 0.        , 0.01037617, ..., 0.        , 0.        ,\n",
       "        0.02292645], dtype=float32),\n",
       " array([0.0000000e+00, 0.0000000e+00, 8.7188215e-05, ..., 0.0000000e+00,\n",
       "        0.0000000e+00, 8.6067393e-02], dtype=float32),\n",
       " array([0.1403058 , 0.        , 0.06418381, ..., 0.        , 0.        ,\n",
       "        0.00524307], dtype=float32),\n",
       " array([0.10899288, 0.05534306, 0.21578492, ..., 0.02707183, 0.        ,\n",
       "        0.01560278], dtype=float32),\n",
       " array([0.20926243, 0.        , 0.05087427, ..., 0.        , 0.        ,\n",
       "        0.        ], dtype=float32),\n",
       " array([0.        , 0.        , 0.        , ..., 0.01615817, 0.        ,\n",
       "        0.00569225], dtype=float32),\n",
       " array([0.        , 0.        , 0.10482647, ..., 0.        , 0.        ,\n",
       "        0.        ], dtype=float32),\n",
       " array([0.        , 0.        , 0.01006734, ..., 0.        , 0.        ,\n",
       "        0.        ], dtype=float32),\n",
       " array([0.4096993 , 0.4662161 , 0.00219636, ..., 0.        , 0.        ,\n",
       "        0.02478767], dtype=float32),\n",
       " array([0.        , 0.12488168, 0.00739524, ..., 0.00706919, 0.        ,\n",
       "        0.00629378], dtype=float32),\n",
       " array([0.17190889, 0.        , 0.01582519, ..., 0.00191789, 0.        ,\n",
       "        0.        ], dtype=float32),\n",
       " array([0.02825416, 0.        , 0.01647377, ..., 0.21261096, 0.        ,\n",
       "        0.0576285 ], dtype=float32),\n",
       " array([0.        , 0.        , 0.        , ..., 0.13647206, 0.        ,\n",
       "        0.        ], dtype=float32),\n",
       " array([0.01119342, 0.        , 0.05034973, ..., 0.03257537, 0.01668172,\n",
       "        0.5475345 ], dtype=float32),\n",
       " array([0.19052722, 0.00130966, 0.        , ..., 0.        , 0.        ,\n",
       "        0.        ], dtype=float32),\n",
       " array([0.06131764, 0.03200205, 0.        , ..., 0.        , 0.        ,\n",
       "        0.01326721], dtype=float32),\n",
       " array([0.0635037, 0.126252 , 0.       , ..., 0.       , 0.       ,\n",
       "        0.       ], dtype=float32),\n",
       " array([0.17108147, 0.        , 0.        , ..., 0.        , 0.        ,\n",
       "        0.        ], dtype=float32),\n",
       " array([0.        , 0.01463337, 0.        , ..., 0.        , 0.        ,\n",
       "        0.02368634], dtype=float32),\n",
       " array([0.01457615, 0.32948127, 0.        , ..., 0.        , 0.01541698,\n",
       "        0.6141499 ], dtype=float32),\n",
       " array([0.        , 0.        , 0.01275638, ..., 0.        , 0.        ,\n",
       "        0.        ], dtype=float32),\n",
       " array([0.        , 0.        , 0.02392694, ..., 0.01901852, 0.09411088,\n",
       "        0.31343028], dtype=float32),\n",
       " array([0.00287351, 0.        , 0.        , ..., 0.        , 0.        ,\n",
       "        0.        ], dtype=float32),\n",
       " array([0.        , 0.        , 0.        , ..., 0.        , 0.00973441,\n",
       "        0.        ], dtype=float32),\n",
       " array([1.9909923 , 0.06612314, 0.        , ..., 0.        , 0.        ,\n",
       "        0.        ], dtype=float32),\n",
       " array([0.96947354, 0.0051873 , 0.        , ..., 0.        , 0.        ,\n",
       "        0.        ], dtype=float32),\n",
       " array([0.13534787, 0.        , 0.        , ..., 0.05422497, 0.        ,\n",
       "        0.        ], dtype=float32),\n",
       " array([0.0005547, 0.       , 0.       , ..., 0.       , 0.       ,\n",
       "        0.       ], dtype=float32),\n",
       " array([0.       , 0.       , 0.       , ..., 0.       , 0.0036671,\n",
       "        0.       ], dtype=float32),\n",
       " array([0.0387799 , 0.        , 0.01940952, ..., 0.        , 0.        ,\n",
       "        0.        ], dtype=float32),\n",
       " array([0.00107702, 0.        , 0.02995897, ..., 0.02408719, 0.        ,\n",
       "        0.00707503], dtype=float32),\n",
       " array([0.13237526, 0.        , 0.20872691, ..., 0.03458416, 0.        ,\n",
       "        0.        ], dtype=float32),\n",
       " array([0.        , 0.        , 0.        , ..., 0.        , 0.        ,\n",
       "        0.01748707], dtype=float32),\n",
       " array([0., 0., 0., ..., 0., 0., 0.], dtype=float32),\n",
       " array([0., 0., 0., ..., 0., 0., 0.], dtype=float32),\n",
       " array([0.        , 0.        , 0.00227786, ..., 0.        , 0.        ,\n",
       "        0.        ], dtype=float32),\n",
       " array([0.        , 0.        , 0.40455735, ..., 0.12278548, 0.        ,\n",
       "        1.3877178 ], dtype=float32),\n",
       " array([0.008952  , 0.08203707, 0.00372956, ..., 0.        , 0.        ,\n",
       "        0.02877314], dtype=float32),\n",
       " array([0.        , 0.        , 0.        , ..., 0.        , 0.        ,\n",
       "        0.00838807], dtype=float32),\n",
       " array([0., 0., 0., ..., 0., 0., 0.], dtype=float32),\n",
       " array([0.        , 0.        , 0.        , ..., 0.01131126, 0.        ,\n",
       "        0.        ], dtype=float32),\n",
       " array([0., 0., 0., ..., 0., 0., 0.], dtype=float32),\n",
       " array([0.        , 0.        , 0.        , ..., 0.06244016, 0.        ,\n",
       "        0.00952671], dtype=float32),\n",
       " array([0.        , 0.        , 0.        , ..., 0.05343959, 0.        ,\n",
       "        0.02360364], dtype=float32),\n",
       " array([0.        , 0.00557233, 0.        , ..., 0.4133117 , 0.        ,\n",
       "        0.        ], dtype=float32),\n",
       " array([0.30775777, 0.        , 0.        , ..., 0.13006769, 0.        ,\n",
       "        0.        ], dtype=float32),\n",
       " array([0., 0., 0., ..., 0., 0., 0.], dtype=float32),\n",
       " array([0.        , 0.        , 0.        , ..., 0.        , 0.        ,\n",
       "        0.03738855], dtype=float32),\n",
       " array([0.        , 0.        , 0.10905666, ..., 0.00937133, 0.        ,\n",
       "        0.06160602], dtype=float32),\n",
       " array([1.2452221 , 0.        , 0.        , ..., 0.        , 0.        ,\n",
       "        0.04499509], dtype=float32),\n",
       " array([0.02543059, 0.        , 0.        , ..., 0.00480161, 0.01184412,\n",
       "        0.        ], dtype=float32),\n",
       " array([0., 0., 0., ..., 0., 0., 0.], dtype=float32),\n",
       " array([0., 0., 0., ..., 0., 0., 0.], dtype=float32),\n",
       " array([0.        , 0.        , 0.        , ..., 0.01115832, 0.        ,\n",
       "        0.        ], dtype=float32),\n",
       " array([0.        , 0.        , 0.21921471, ..., 0.00091358, 0.        ,\n",
       "        0.        ], dtype=float32),\n",
       " array([0.        , 0.        , 0.        , ..., 0.00107355, 0.        ,\n",
       "        0.        ], dtype=float32),\n",
       " array([0.03555039, 0.        , 0.        , ..., 0.        , 0.        ,\n",
       "        0.        ], dtype=float32),\n",
       " array([0.        , 0.        , 0.00787371, ..., 0.        , 0.        ,\n",
       "        0.        ], dtype=float32),\n",
       " array([0., 0., 0., ..., 0., 0., 0.], dtype=float32),\n",
       " array([0.        , 0.        , 0.        , ..., 0.        , 0.        ,\n",
       "        0.04965222], dtype=float32),\n",
       " array([0.        , 0.        , 0.        , ..., 0.        , 0.        ,\n",
       "        0.01151476], dtype=float32),\n",
       " array([0.        , 0.        , 0.        , ..., 0.        , 0.        ,\n",
       "        0.07364681], dtype=float32),\n",
       " array([0.00334909, 0.        , 0.27413508, ..., 0.        , 0.        ,\n",
       "        0.00072887], dtype=float32),\n",
       " array([0.17028354, 0.00896122, 0.2791002 , ..., 0.07207089, 0.        ,\n",
       "        0.10597766], dtype=float32),\n",
       " array([0.        , 0.01336504, 0.0583076 , ..., 0.        , 0.        ,\n",
       "        0.        ], dtype=float32),\n",
       " array([0.11353932, 0.        , 0.13242793, ..., 0.00619431, 0.        ,\n",
       "        0.04540829], dtype=float32),\n",
       " array([0., 0., 0., ..., 0., 0., 0.], dtype=float32),\n",
       " array([0.5381299 , 0.05828032, 0.        , ..., 0.        , 0.        ,\n",
       "        0.05231586], dtype=float32),\n",
       " array([0., 0., 0., ..., 0., 0., 0.], dtype=float32),\n",
       " array([0.22057344, 0.        , 0.        , ..., 0.        , 0.        ,\n",
       "        0.        ], dtype=float32),\n",
       " array([0., 0., 0., ..., 0., 0., 0.], dtype=float32),\n",
       " array([0.        , 0.00841098, 0.19061813, ..., 0.        , 0.        ,\n",
       "        0.33970144], dtype=float32),\n",
       " array([0.       , 0.       , 0.       , ..., 0.0266571, 0.       ,\n",
       "        0.       ], dtype=float32),\n",
       " array([0.00707859, 0.        , 0.        , ..., 0.        , 0.        ,\n",
       "        0.        ], dtype=float32),\n",
       " array([0.04309866, 0.        , 0.        , ..., 0.00095994, 0.        ,\n",
       "        0.        ], dtype=float32),\n",
       " array([0.0522011 , 0.02307971, 0.01052601, ..., 0.        , 0.        ,\n",
       "        0.        ], dtype=float32),\n",
       " array([0.01895072, 0.03127755, 0.        , ..., 0.        , 0.        ,\n",
       "        0.0007312 ], dtype=float32),\n",
       " array([0.        , 0.05183135, 0.        , ..., 0.        , 0.        ,\n",
       "        0.13735409], dtype=float32),\n",
       " array([0.        , 0.        , 0.04577494, ..., 0.09578776, 0.        ,\n",
       "        0.        ], dtype=float32),\n",
       " array([0.12207208, 0.        , 0.15010096, ..., 0.        , 0.        ,\n",
       "        0.        ], dtype=float32),\n",
       " array([0.01239026, 0.        , 0.1295253 , ..., 0.        , 0.        ,\n",
       "        0.        ], dtype=float32),\n",
       " array([0.07971524, 0.        , 0.01097243, ..., 0.        , 0.        ,\n",
       "        0.14349456], dtype=float32),\n",
       " array([0.75335985, 0.00105149, 0.        , ..., 0.0174348 , 0.        ,\n",
       "        0.05219763], dtype=float32),\n",
       " array([0.        , 0.        , 0.17785683, ..., 0.0042261 , 0.        ,\n",
       "        0.0794164 ], dtype=float32),\n",
       " array([0.03880742, 0.        , 0.        , ..., 0.        , 0.00507872,\n",
       "        0.        ], dtype=float32),\n",
       " array([0.05153142, 0.        , 0.01596143, ..., 0.04540481, 0.15647584,\n",
       "        0.        ], dtype=float32),\n",
       " array([0.0379734 , 0.        , 0.3032441 , ..., 0.19352329, 0.        ,\n",
       "        0.        ], dtype=float32),\n",
       " array([0.0255383 , 0.        , 0.06428853, ..., 0.02491598, 0.00198619,\n",
       "        0.01117422], dtype=float32),\n",
       " array([0.        , 0.        , 0.        , ..., 0.08112808, 0.        ,\n",
       "        0.        ], dtype=float32),\n",
       " array([1.1690181 , 0.        , 0.0110985 , ..., 0.02925341, 0.        ,\n",
       "        0.        ], dtype=float32),\n",
       " array([0.        , 0.        , 0.        , ..., 0.01529679, 0.        ,\n",
       "        0.        ], dtype=float32),\n",
       " array([0.        , 0.        , 0.13786985, ..., 0.06832454, 0.        ,\n",
       "        0.        ], dtype=float32),\n",
       " array([0.10048267, 0.        , 1.1471349 , ..., 0.        , 0.        ,\n",
       "        0.        ], dtype=float32),\n",
       " array([0.        , 0.        , 0.00818998, ..., 0.        , 0.        ,\n",
       "        0.        ], dtype=float32),\n",
       " array([0.05421199, 0.        , 0.00475678, ..., 0.04720749, 0.00858656,\n",
       "        0.05877843], dtype=float32),\n",
       " array([0.02740553, 0.        , 0.        , ..., 0.00725961, 0.        ,\n",
       "        0.        ], dtype=float32),\n",
       " array([0., 0., 0., ..., 0., 0., 0.], dtype=float32),\n",
       " array([0.02280914, 0.        , 0.        , ..., 0.01202537, 0.        ,\n",
       "        0.        ], dtype=float32),\n",
       " array([0.03732092, 0.        , 0.        , ..., 0.        , 0.        ,\n",
       "        0.        ], dtype=float32),\n",
       " array([0.        , 0.        , 0.        , ..., 0.        , 0.00306158,\n",
       "        0.        ], dtype=float32),\n",
       " array([0.30600896, 0.13942294, 0.        , ..., 0.        , 0.        ,\n",
       "        0.00059759], dtype=float32),\n",
       " array([0.        , 0.00634805, 0.04085137, ..., 0.        , 0.        ,\n",
       "        0.11817402], dtype=float32),\n",
       " array([0.00293772, 0.        , 0.18692751, ..., 0.        , 0.        ,\n",
       "        0.00643039], dtype=float32),\n",
       " array([0.        , 0.        , 0.4084099 , ..., 0.        , 0.        ,\n",
       "        0.04374872], dtype=float32),\n",
       " array([0.       , 0.       , 0.       , ..., 0.       , 0.       ,\n",
       "        0.0533419], dtype=float32),\n",
       " array([0.18432274, 0.        , 0.26795536, ..., 0.13567658, 0.        ,\n",
       "        0.        ], dtype=float32),\n",
       " array([0.00364093, 0.07091675, 0.00509784, ..., 0.        , 0.00407486,\n",
       "        0.02443497], dtype=float32),\n",
       " array([0.        , 0.        , 0.3501298 , ..., 0.        , 0.        ,\n",
       "        0.01764375], dtype=float32),\n",
       " array([0.00937987, 0.        , 0.17627853, ..., 0.        , 0.00441519,\n",
       "        0.        ], dtype=float32),\n",
       " array([0.02060666, 0.        , 0.11155761, ..., 0.        , 0.        ,\n",
       "        0.        ], dtype=float32),\n",
       " array([0.0122965 , 0.        , 0.        , ..., 0.02065783, 0.18482383,\n",
       "        0.0481632 ], dtype=float32),\n",
       " array([0.02179805, 1.0285205 , 0.        , ..., 0.        , 0.00871387,\n",
       "        0.        ], dtype=float32),\n",
       " array([0.        , 0.5058675 , 0.01673735, ..., 0.        , 0.        ,\n",
       "        0.00904955], dtype=float32),\n",
       " array([0.01165809, 0.        , 0.        , ..., 0.0066749 , 0.        ,\n",
       "        0.        ], dtype=float32),\n",
       " array([0.        , 0.03038453, 0.07067014, ..., 0.        , 0.        ,\n",
       "        0.01923582], dtype=float32),\n",
       " array([0.        , 0.        , 0.03395008, ..., 0.        , 0.        ,\n",
       "        0.21998708], dtype=float32),\n",
       " array([0.00367904, 0.        , 0.11779973, ..., 0.        , 0.        ,\n",
       "        0.21832919], dtype=float32),\n",
       " array([0.        , 0.        , 0.26542068, ..., 0.01617397, 0.        ,\n",
       "        0.        ], dtype=float32),\n",
       " array([2.8647501e-03, 0.0000000e+00, 3.7988588e-02, ..., 3.1685829e-04,\n",
       "        2.6557273e-01, 9.6089888e-01], dtype=float32),\n",
       " array([0.        , 0.        , 0.        , ..., 0.03708609, 0.        ,\n",
       "        0.        ], dtype=float32),\n",
       " array([0.        , 0.        , 0.01554181, ..., 0.13949125, 0.00500348,\n",
       "        0.        ], dtype=float32),\n",
       " array([0., 0., 0., ..., 0., 0., 0.], dtype=float32),\n",
       " array([0.        , 0.00914439, 0.        , ..., 0.        , 0.        ,\n",
       "        0.        ], dtype=float32),\n",
       " array([0.05166743, 0.        , 0.00408757, ..., 0.        , 0.        ,\n",
       "        0.        ], dtype=float32),\n",
       " array([0.2972782 , 0.59268   , 0.25298488, ..., 0.04903627, 0.        ,\n",
       "        0.10694154], dtype=float32),\n",
       " array([0.05259535, 0.        , 0.137576  , ..., 0.        , 0.        ,\n",
       "        0.        ], dtype=float32),\n",
       " array([0.13272402, 0.00952038, 0.05208491, ..., 0.        , 0.0055885 ,\n",
       "        0.12627858], dtype=float32),\n",
       " array([0.00549347, 0.00255248, 0.        , ..., 0.        , 0.        ,\n",
       "        0.3193885 ], dtype=float32),\n",
       " array([0., 0., 0., ..., 0., 0., 0.], dtype=float32),\n",
       " array([0.05975957, 0.00042738, 0.39560807, ..., 0.0008111 , 0.08211152,\n",
       "        0.03974155], dtype=float32),\n",
       " array([0.        , 0.        , 0.02693776, ..., 0.        , 0.        ,\n",
       "        0.        ], dtype=float32),\n",
       " array([0.        , 0.        , 0.        , ..., 0.00433751, 0.        ,\n",
       "        0.        ], dtype=float32),\n",
       " array([0., 0., 0., ..., 0., 0., 0.], dtype=float32),\n",
       " array([0.        , 0.07412705, 0.        , ..., 0.        , 0.02325459,\n",
       "        0.07308353], dtype=float32),\n",
       " array([0., 0., 0., ..., 0., 0., 0.], dtype=float32),\n",
       " array([0.        , 0.00886984, 0.        , ..., 0.        , 0.        ,\n",
       "        0.        ], dtype=float32),\n",
       " array([0.06769587, 0.        , 0.00756193, ..., 0.        , 0.        ,\n",
       "        0.        ], dtype=float32),\n",
       " array([0.11070164, 0.        , 0.00622029, ..., 0.        , 0.        ,\n",
       "        0.        ], dtype=float32),\n",
       " array([0., 0., 0., ..., 0., 0., 0.], dtype=float32),\n",
       " array([0.       , 0.       , 0.       , ..., 0.0531945, 0.       ,\n",
       "        0.       ], dtype=float32),\n",
       " array([0.        , 0.02914797, 0.14334273, ..., 0.02615427, 0.        ,\n",
       "        0.06375661], dtype=float32),\n",
       " array([0.11636512, 0.        , 0.        , ..., 0.02750903, 0.        ,\n",
       "        0.3629027 ], dtype=float32),\n",
       " array([0., 0., 0., ..., 0., 0., 0.], dtype=float32),\n",
       " array([0.3188782 , 0.        , 0.00940304, ..., 0.        , 0.        ,\n",
       "        0.01080056], dtype=float32),\n",
       " array([0.21751457, 0.        , 0.        , ..., 0.        , 0.        ,\n",
       "        0.11450867], dtype=float32),\n",
       " array([0.0000000e+00, 0.0000000e+00, 8.1552692e-02, ..., 7.4508236e-05,\n",
       "        1.4612256e-02, 3.8093966e-01], dtype=float32),\n",
       " array([0.00796746, 0.00396986, 0.        , ..., 0.        , 0.11467855,\n",
       "        0.01060159], dtype=float32),\n",
       " array([0.3307179 , 0.00953518, 0.06959301, ..., 0.15041757, 0.        ,\n",
       "        0.100867  ], dtype=float32),\n",
       " array([0.11519434, 0.22556764, 0.55658007, ..., 0.07909796, 0.        ,\n",
       "        0.        ], dtype=float32),\n",
       " array([0.       , 0.       , 0.       , ..., 0.       , 0.       ,\n",
       "        0.0104448], dtype=float32),\n",
       " array([0.00683373, 0.0428292 , 0.0559431 , ..., 0.        , 0.0030946 ,\n",
       "        0.08867039], dtype=float32),\n",
       " array([0.        , 0.39142883, 0.01196775, ..., 0.30044702, 0.        ,\n",
       "        0.11165241], dtype=float32),\n",
       " array([0.        , 0.        , 0.        , ..., 0.02213276, 0.00625093,\n",
       "        0.        ], dtype=float32),\n",
       " array([0.        , 0.        , 0.        , ..., 0.04887122, 0.        ,\n",
       "        0.        ], dtype=float32),\n",
       " array([0., 0., 0., ..., 0., 0., 0.], dtype=float32),\n",
       " array([0.        , 0.        , 0.00080302, ..., 0.00893483, 0.        ,\n",
       "        0.        ], dtype=float32),\n",
       " array([0.04094443, 0.        , 0.00958581, ..., 0.        , 0.        ,\n",
       "        0.        ], dtype=float32),\n",
       " array([0.00879437, 0.        , 0.        , ..., 0.07631884, 0.        ,\n",
       "        0.03576372], dtype=float32),\n",
       " array([0., 0., 0., ..., 0., 0., 0.], dtype=float32),\n",
       " array([0.        , 0.15929902, 0.8154921 , ..., 0.04654377, 0.04373424,\n",
       "        0.09656535], dtype=float32),\n",
       " array([0.39082286, 0.        , 0.        , ..., 0.00389027, 0.        ,\n",
       "        0.00581831], dtype=float32),\n",
       " array([0.        , 0.        , 0.        , ..., 0.        , 0.        ,\n",
       "        0.02233781], dtype=float32),\n",
       " array([0.06264284, 0.        , 0.07241496, ..., 0.04072231, 0.        ,\n",
       "        0.10101777], dtype=float32),\n",
       " array([0.        , 0.        , 0.        , ..., 0.        , 0.        ,\n",
       "        0.00782249], dtype=float32),\n",
       " array([0.00122693, 0.        , 0.        , ..., 0.        , 0.        ,\n",
       "        0.14293373], dtype=float32),\n",
       " array([0.18535298, 0.        , 0.11199376, ..., 0.        , 0.        ,\n",
       "        0.00443539], dtype=float32),\n",
       " array([0.0111187 , 0.        , 0.00542611, ..., 0.00645615, 0.        ,\n",
       "        0.41716015], dtype=float32),\n",
       " array([0.00502239, 0.        , 0.        , ..., 0.00714162, 0.        ,\n",
       "        0.        ], dtype=float32),\n",
       " array([0.04372288, 0.        , 0.14705779, ..., 0.02244326, 0.        ,\n",
       "        0.        ], dtype=float32),\n",
       " array([0.        , 0.        , 0.        , ..., 0.11324593, 0.        ,\n",
       "        0.0007524 ], dtype=float32),\n",
       " array([8.8549301e-02, 5.6138816e-03, 4.0845472e-02, ..., 2.6293288e-03,\n",
       "        1.1238760e-04, 1.2626943e-01], dtype=float32),\n",
       " array([0.        , 0.        , 0.582777  , ..., 0.01403478, 0.        ,\n",
       "        0.0477387 ], dtype=float32),\n",
       " array([0.        , 0.        , 0.6550296 , ..., 0.        , 0.        ,\n",
       "        0.01400282], dtype=float32),\n",
       " array([0.        , 0.        , 0.        , ..., 0.        , 0.00056933,\n",
       "        0.05706255], dtype=float32),\n",
       " array([0.22620991, 0.        , 0.        , ..., 0.        , 0.        ,\n",
       "        0.        ], dtype=float32),\n",
       " array([0.03818989, 0.00470283, 0.13787673, ..., 0.04369368, 0.        ,\n",
       "        0.1437787 ], dtype=float32),\n",
       " array([0.00604791, 0.        , 0.00392742, ..., 0.        , 0.        ,\n",
       "        0.01406732], dtype=float32),\n",
       " array([0.        , 0.        , 0.04543335, ..., 0.00234766, 0.        ,\n",
       "        0.00248033], dtype=float32),\n",
       " array([0.        , 0.        , 0.        , ..., 0.01606572, 0.00431071,\n",
       "        0.00095366], dtype=float32),\n",
       " array([0.        , 0.        , 1.0122885 , ..., 0.12774754, 0.        ,\n",
       "        0.71711916], dtype=float32),\n",
       " array([0., 0., 0., ..., 0., 0., 0.], dtype=float32),\n",
       " array([0.12181763, 0.01025165, 0.6273534 , ..., 0.08395161, 0.17785117,\n",
       "        0.29396406], dtype=float32),\n",
       " array([3.9527096e-02, 4.1961670e-05, 0.0000000e+00, ..., 0.0000000e+00,\n",
       "        0.0000000e+00, 0.0000000e+00], dtype=float32),\n",
       " array([0.07574018, 0.        , 0.        , ..., 0.        , 0.01607673,\n",
       "        0.        ], dtype=float32),\n",
       " array([0.        , 0.01113839, 0.01872773, ..., 0.00119692, 0.04152571,\n",
       "        0.09075774], dtype=float32),\n",
       " array([0., 0., 0., ..., 0., 0., 0.], dtype=float32),\n",
       " array([0.        , 0.00872071, 0.01322985, ..., 0.        , 0.        ,\n",
       "        0.0340777 ], dtype=float32),\n",
       " array([0.        , 0.        , 0.06782597, ..., 0.        , 0.        ,\n",
       "        0.        ], dtype=float32),\n",
       " array([0.        , 0.        , 0.02551509, ..., 0.        , 0.        ,\n",
       "        0.6416888 ], dtype=float32),\n",
       " array([0.        , 0.        , 0.        , ..., 0.00420181, 0.        ,\n",
       "        0.        ], dtype=float32),\n",
       " array([0.        , 0.        , 0.02887335, ..., 0.        , 0.        ,\n",
       "        0.17363662], dtype=float32),\n",
       " array([0.        , 0.        , 0.1058286 , ..., 0.01173664, 0.        ,\n",
       "        0.01272394], dtype=float32),\n",
       " array([0.12423564, 0.        , 0.09861419, ..., 0.00577733, 0.01479583,\n",
       "        0.09329604], dtype=float32),\n",
       " array([0.        , 0.        , 0.        , ..., 0.00112721, 0.        ,\n",
       "        0.01010222], dtype=float32),\n",
       " array([0.00381848, 0.        , 0.        , ..., 0.        , 0.        ,\n",
       "        0.0266548 ], dtype=float32),\n",
       " array([0.01114142, 0.        , 0.        , ..., 0.        , 0.        ,\n",
       "        0.11244293], dtype=float32),\n",
       " array([9.1824418e-01, 0.0000000e+00, 8.7405302e-02, ..., 0.0000000e+00,\n",
       "        0.0000000e+00, 5.5607967e-04], dtype=float32),\n",
       " array([0.12481681, 0.        , 0.        , ..., 0.02578047, 0.        ,\n",
       "        0.        ], dtype=float32),\n",
       " array([0.        , 0.        , 0.11637777, ..., 0.00171315, 0.        ,\n",
       "        0.02912246], dtype=float32),\n",
       " array([0.01556251, 0.        , 0.        , ..., 0.10185847, 0.        ,\n",
       "        0.        ], dtype=float32),\n",
       " array([0.2051151 , 0.        , 0.        , ..., 0.        , 0.        ,\n",
       "        0.03217962], dtype=float32),\n",
       " array([0.        , 0.        , 0.        , ..., 0.05565229, 0.00391053,\n",
       "        0.04320858], dtype=float32),\n",
       " array([0.09722745, 0.        , 0.02316055, ..., 0.06617285, 0.        ,\n",
       "        0.        ], dtype=float32),\n",
       " array([0.        , 0.        , 0.        , ..., 0.02246001, 0.        ,\n",
       "        0.01525464], dtype=float32),\n",
       " array([0.2653982 , 0.        , 0.        , ..., 0.01016567, 0.        ,\n",
       "        0.        ], dtype=float32),\n",
       " array([0.00162998, 0.        , 0.        , ..., 0.        , 0.        ,\n",
       "        0.01029322], dtype=float32),\n",
       " array([0.00799821, 0.        , 0.        , ..., 0.02210538, 0.        ,\n",
       "        0.        ], dtype=float32),\n",
       " array([0., 0., 0., ..., 0., 0., 0.], dtype=float32),\n",
       " array([0.        , 0.10172647, 0.29351887, ..., 0.        , 0.        ,\n",
       "        0.14033309], dtype=float32),\n",
       " array([0.        , 0.        , 0.06449252, ..., 0.        , 0.        ,\n",
       "        0.11259888], dtype=float32),\n",
       " array([0.        , 0.04382148, 0.        , ..., 0.00887507, 0.        ,\n",
       "        0.15092938], dtype=float32),\n",
       " array([0.      , 0.      , 0.      , ..., 0.      , 0.      , 0.309512],\n",
       "       dtype=float32),\n",
       " array([0.        , 0.        , 0.        , ..., 0.        , 0.        ,\n",
       "        0.00605008], dtype=float32),\n",
       " array([0.        , 0.        , 0.        , ..., 0.05885255, 0.00131809,\n",
       "        0.13871755], dtype=float32),\n",
       " array([0.        , 0.04558254, 0.        , ..., 0.        , 0.        ,\n",
       "        0.        ], dtype=float32),\n",
       " array([0.10381407, 0.5922818 , 0.        , ..., 0.01678384, 0.        ,\n",
       "        0.27411094], dtype=float32),\n",
       " array([0.04680469, 0.        , 0.02242348, ..., 0.00289371, 0.        ,\n",
       "        0.        ], dtype=float32),\n",
       " array([0.        , 0.        , 0.02716472, ..., 0.        , 0.        ,\n",
       "        0.        ], dtype=float32),\n",
       " array([0.        , 0.        , 0.06302308, ..., 0.03444222, 0.        ,\n",
       "        0.09431455], dtype=float32),\n",
       " array([0., 0., 0., ..., 0., 0., 0.], dtype=float32),\n",
       " array([0.        , 0.        , 0.00130677, ..., 0.        , 0.        ,\n",
       "        0.19706777], dtype=float32),\n",
       " array([0.03408909, 0.        , 0.        , ..., 0.01270178, 0.0110688 ,\n",
       "        0.03359162], dtype=float32),\n",
       " array([0.        , 0.        , 0.07179499, ..., 0.01921565, 0.20376372,\n",
       "        0.06167875], dtype=float32),\n",
       " array([0.        , 0.1852672 , 0.61369073, ..., 0.10883555, 0.        ,\n",
       "        0.        ], dtype=float32),\n",
       " array([0., 0., 0., ..., 0., 0., 0.], dtype=float32),\n",
       " array([0.03675089, 0.        , 0.03009056, ..., 0.        , 0.        ,\n",
       "        0.0544034 ], dtype=float32),\n",
       " array([0.        , 0.        , 0.        , ..., 0.00028752, 0.        ,\n",
       "        0.        ], dtype=float32),\n",
       " array([1.2858059e-04, 3.0551186e-01, 5.7806958e-02, ..., 9.9084768e-03,\n",
       "        0.0000000e+00, 5.3820878e-01], dtype=float32),\n",
       " array([0.02922622, 0.        , 0.        , ..., 0.        , 0.        ,\n",
       "        0.05413361], dtype=float32),\n",
       " array([0.        , 0.        , 0.        , ..., 0.00648578, 0.        ,\n",
       "        0.        ], dtype=float32),\n",
       " array([0.        , 0.        , 0.17301066, ..., 0.        , 0.        ,\n",
       "        0.28277683], dtype=float32),\n",
       " array([0., 0., 0., ..., 0., 0., 0.], dtype=float32),\n",
       " array([0.        , 0.04405497, 0.        , ..., 0.        , 0.        ,\n",
       "        0.01350495], dtype=float32),\n",
       " array([0.        , 0.        , 0.67770946, ..., 0.        , 0.        ,\n",
       "        0.        ], dtype=float32),\n",
       " array([0.        , 0.00048544, 0.13482463, ..., 0.        , 0.        ,\n",
       "        0.08635239], dtype=float32),\n",
       " array([0.15274213, 0.        , 0.        , ..., 0.10828095, 0.        ,\n",
       "        0.03781287], dtype=float32),\n",
       " array([0.0405547 , 0.02089821, 0.15201664, ..., 0.        , 0.        ,\n",
       "        0.        ], dtype=float32),\n",
       " array([0., 0., 0., ..., 0., 0., 0.], dtype=float32),\n",
       " array([0.00618572, 0.02368565, 0.02733633, ..., 0.        , 0.        ,\n",
       "        0.08345645], dtype=float32),\n",
       " array([0.        , 0.00232646, 0.11540662, ..., 0.        , 0.        ,\n",
       "        0.05688637], dtype=float32),\n",
       " array([0.09755418, 0.        , 0.10593708, ..., 0.        , 0.        ,\n",
       "        0.        ], dtype=float32),\n",
       " array([0.        , 0.05368457, 0.01553335, ..., 0.        , 0.01492718,\n",
       "        0.4864931 ], dtype=float32),\n",
       " array([0.03081693, 0.        , 0.0583801 , ..., 0.        , 0.        ,\n",
       "        0.02631895], dtype=float32),\n",
       " array([0.        , 0.0145372 , 0.04722999, ..., 0.        , 0.        ,\n",
       "        0.        ], dtype=float32),\n",
       " array([0.13941176, 0.        , 0.08891651, ..., 0.07004648, 0.        ,\n",
       "        0.        ], dtype=float32),\n",
       " array([0.01977378, 0.03497377, 0.00884164, ..., 0.        , 0.        ,\n",
       "        0.        ], dtype=float32),\n",
       " array([0.        , 0.        , 0.00652402, ..., 0.0240612 , 0.        ,\n",
       "        0.29118037], dtype=float32),\n",
       " array([0.        , 0.        , 0.        , ..., 0.        , 0.        ,\n",
       "        0.23868416], dtype=float32),\n",
       " array([0.06727485, 0.        , 0.        , ..., 0.        , 0.        ,\n",
       "        0.03273653], dtype=float32),\n",
       " array([0.08514962, 0.        , 0.        , ..., 0.00449723, 0.00418366,\n",
       "        0.05619077], dtype=float32),\n",
       " array([0.25205904, 0.02745211, 0.00322214, ..., 0.00429332, 0.        ,\n",
       "        0.04286086], dtype=float32),\n",
       " array([0.0541161, 0.       , 0.       , ..., 0.       , 0.       ,\n",
       "        0.       ], dtype=float32),\n",
       " array([0., 0., 0., ..., 0., 0., 0.], dtype=float32),\n",
       " array([0.        , 0.        , 0.        , ..., 0.        , 0.        ,\n",
       "        0.29546118], dtype=float32),\n",
       " array([0.02013515, 0.        , 0.05404774, ..., 0.00117536, 0.        ,\n",
       "        0.0453702 ], dtype=float32),\n",
       " array([0.        , 0.        , 0.0200948 , ..., 0.00918154, 0.        ,\n",
       "        0.00968702], dtype=float32),\n",
       " array([0.        , 0.        , 0.09901103, ..., 0.01251809, 0.        ,\n",
       "        0.        ], dtype=float32),\n",
       " array([0.        , 0.        , 0.        , ..., 0.        , 0.        ,\n",
       "        0.00011188], dtype=float32),\n",
       " array([0.0000000e+00, 0.0000000e+00, 4.5476619e-02, ..., 0.0000000e+00,\n",
       "        3.2570897e-05, 0.0000000e+00], dtype=float32),\n",
       " array([0.08332404, 0.        , 0.        , ..., 0.        , 0.02765248,\n",
       "        0.00692723], dtype=float32),\n",
       " array([0.1605579 , 0.        , 0.        , ..., 0.        , 0.00521289,\n",
       "        0.34963405], dtype=float32),\n",
       " array([0.        , 0.15527007, 0.03243403, ..., 0.01596916, 0.        ,\n",
       "        0.11139607], dtype=float32),\n",
       " array([0.08425762, 0.        , 0.09251621, ..., 0.        , 0.        ,\n",
       "        0.05467997], dtype=float32),\n",
       " array([0.15754545, 0.        , 0.        , ..., 0.        , 0.        ,\n",
       "        0.        ], dtype=float32),\n",
       " array([0.03341331, 0.        , 0.        , ..., 0.        , 0.        ,\n",
       "        0.        ], dtype=float32),\n",
       " array([0.08787032, 0.        , 0.        , ..., 0.        , 0.        ,\n",
       "        0.        ], dtype=float32),\n",
       " array([0.        , 0.00674955, 0.0461663 , ..., 0.        , 0.01180993,\n",
       "        0.05048938], dtype=float32),\n",
       " array([0.        , 0.        , 0.        , ..., 0.        , 0.        ,\n",
       "        0.07049071], dtype=float32),\n",
       " array([0.        , 0.        , 0.        , ..., 0.05302016, 0.        ,\n",
       "        0.03880908], dtype=float32),\n",
       " array([0.        , 0.        , 0.07177639, ..., 0.        , 0.        ,\n",
       "        0.00706048], dtype=float32),\n",
       " array([0.01015937, 0.        , 0.        , ..., 0.0090717 , 0.        ,\n",
       "        0.        ], dtype=float32),\n",
       " array([0.02486325, 0.        , 0.        , ..., 0.        , 0.        ,\n",
       "        0.        ], dtype=float32),\n",
       " array([0.5347299 , 0.        , 0.0129877 , ..., 0.        , 0.05384695,\n",
       "        0.25325662], dtype=float32),\n",
       " array([0.14679706, 0.07507931, 0.        , ..., 0.        , 0.00729656,\n",
       "        0.        ], dtype=float32),\n",
       " array([0.        , 0.        , 0.02281096, ..., 0.        , 0.        ,\n",
       "        0.00988907], dtype=float32),\n",
       " array([0.00201058, 0.        , 0.        , ..., 0.        , 0.        ,\n",
       "        0.        ], dtype=float32),\n",
       " array([0.02105089, 0.        , 0.06328747, ..., 0.01484641, 0.13046882,\n",
       "        0.00648542], dtype=float32),\n",
       " array([0.        , 0.        , 0.20306283, ..., 0.30121344, 0.        ,\n",
       "        0.12041847], dtype=float32),\n",
       " array([0.       , 0.       , 0.       , ..., 0.0425569, 0.       ,\n",
       "        0.       ], dtype=float32),\n",
       " array([0.        , 0.        , 0.05536886, ..., 0.        , 0.        ,\n",
       "        0.        ], dtype=float32),\n",
       " array([0.22164251, 0.        , 0.        , ..., 0.        , 0.        ,\n",
       "        0.06353566], dtype=float32),\n",
       " array([0.02740883, 0.        , 0.0524656 , ..., 0.        , 0.        ,\n",
       "        0.        ], dtype=float32),\n",
       " array([0.        , 0.        , 0.18830658, ..., 0.        , 0.        ,\n",
       "        0.39041665], dtype=float32),\n",
       " array([0.05764424, 0.        , 0.        , ..., 0.02982485, 0.        ,\n",
       "        0.        ], dtype=float32),\n",
       " array([0.        , 0.        , 0.0008159 , ..., 0.01729908, 0.01365883,\n",
       "        0.0162901 ], dtype=float32),\n",
       " array([0.05468981, 0.6724844 , 0.05712155, ..., 0.        , 0.09154203,\n",
       "        0.17794482], dtype=float32),\n",
       " array([0.17321599, 0.01404663, 0.        , ..., 0.08297631, 0.        ,\n",
       "        0.0559206 ], dtype=float32),\n",
       " array([0.12240952, 0.07940976, 0.00025959, ..., 0.        , 0.        ,\n",
       "        0.00293157], dtype=float32),\n",
       " array([0.        , 0.        , 0.01003721, ..., 0.        , 0.        ,\n",
       "        0.03930784], dtype=float32),\n",
       " array([0.0005246 , 0.        , 0.05197359, ..., 0.        , 0.        ,\n",
       "        0.03111861], dtype=float32),\n",
       " array([2.2407022 , 0.        , 0.05308146, ..., 0.        , 0.05776964,\n",
       "        0.06369387], dtype=float32),\n",
       " array([0.        , 0.        , 0.00043679, ..., 0.        , 0.        ,\n",
       "        0.        ], dtype=float32),\n",
       " array([0.        , 0.        , 0.02238882, ..., 0.01704198, 0.        ,\n",
       "        0.03100922], dtype=float32),\n",
       " array([0.0000000e+00, 0.0000000e+00, 1.0731755e-04, ..., 0.0000000e+00,\n",
       "        7.2618556e-01, 1.2408402e-02], dtype=float32),\n",
       " array([0., 0., 0., ..., 0., 0., 0.], dtype=float32),\n",
       " array([0.        , 0.        , 0.02112984, ..., 0.        , 0.17019336,\n",
       "        0.01361014], dtype=float32),\n",
       " array([0.        , 0.39652446, 0.        , ..., 0.        , 0.        ,\n",
       "        0.        ], dtype=float32),\n",
       " array([0.        , 0.        , 0.02300346, ..., 0.        , 0.00817194,\n",
       "        0.00201869], dtype=float32),\n",
       " array([0., 0., 0., ..., 0., 0., 0.], dtype=float32),\n",
       " array([0.        , 0.        , 0.        , ..., 0.00573705, 0.        ,\n",
       "        0.        ], dtype=float32),\n",
       " array([0.        , 0.        , 0.        , ..., 0.04549837, 0.        ,\n",
       "        0.        ], dtype=float32),\n",
       " array([0., 0., 0., ..., 0., 0., 0.], dtype=float32),\n",
       " array([0.        , 0.08060986, 0.018488  , ..., 0.        , 0.01883883,\n",
       "        0.07097502], dtype=float32),\n",
       " array([0.04976114, 0.03315393, 0.        , ..., 0.        , 0.00456568,\n",
       "        0.01018346], dtype=float32),\n",
       " array([0.2557953, 0.       , 0.       , ..., 0.       , 0.       ,\n",
       "        0.       ], dtype=float32),\n",
       " array([0.25985253, 0.        , 0.        , ..., 0.02797805, 0.02613548,\n",
       "        0.        ], dtype=float32),\n",
       " array([0.37065917, 0.        , 0.00201848, ..., 0.        , 0.01796201,\n",
       "        0.01457833], dtype=float32),\n",
       " array([0.12469886, 0.        , 0.03329061, ..., 0.08646474, 0.        ,\n",
       "        0.0114595 ], dtype=float32),\n",
       " array([0.        , 0.        , 0.        , ..., 0.08492711, 0.        ,\n",
       "        0.        ], dtype=float32),\n",
       " array([0.07491548, 0.03294148, 0.01101328, ..., 0.        , 0.01642141,\n",
       "        0.03308095], dtype=float32),\n",
       " array([0.        , 0.        , 0.        , ..., 0.        , 0.01071446,\n",
       "        0.00697742], dtype=float32),\n",
       " array([0.        , 0.        , 0.        , ..., 0.        , 0.        ,\n",
       "        0.00992682], dtype=float32),\n",
       " array([0.01887502, 0.        , 0.14449805, ..., 0.        , 0.        ,\n",
       "        0.        ], dtype=float32),\n",
       " array([0.09409988, 0.02407185, 0.        , ..., 0.        , 0.        ,\n",
       "        0.        ], dtype=float32),\n",
       " array([0.26737753, 0.00336823, 0.        , ..., 0.        , 0.        ,\n",
       "        0.        ], dtype=float32),\n",
       " array([0.        , 0.04943223, 0.01491704, ..., 0.01185126, 0.010691  ,\n",
       "        0.        ], dtype=float32),\n",
       " array([0.        , 0.00838583, 0.        , ..., 0.        , 0.        ,\n",
       "        0.0758853 ], dtype=float32),\n",
       " array([0.        , 0.10510907, 0.        , ..., 0.        , 0.01212557,\n",
       "        0.        ], dtype=float32),\n",
       " array([0.35764953, 0.02507785, 0.01072025, ..., 0.00908752, 0.00698058,\n",
       "        0.00515843], dtype=float32),\n",
       " array([0.        , 0.13785979, 0.01010778, ..., 0.        , 0.        ,\n",
       "        0.06772552], dtype=float32),\n",
       " array([0.        , 0.        , 0.        , ..., 0.        , 0.00188811,\n",
       "        0.00714486], dtype=float32),\n",
       " array([0.        , 0.00574601, 0.21287048, ..., 0.        , 0.        ,\n",
       "        0.01227443], dtype=float32),\n",
       " array([0.        , 0.        , 0.5315471 , ..., 0.00314808, 0.        ,\n",
       "        0.        ], dtype=float32),\n",
       " array([0.0095088 , 0.        , 1.2606298 , ..., 0.02823205, 0.00158584,\n",
       "        0.02175475], dtype=float32),\n",
       " array([0., 0., 0., ..., 0., 0., 0.], dtype=float32),\n",
       " array([0.        , 0.        , 0.28908685, ..., 0.15416895, 0.        ,\n",
       "        0.35338655], dtype=float32),\n",
       " array([0.        , 0.        , 0.5903975 , ..., 0.03432855, 0.        ,\n",
       "        0.76785463], dtype=float32),\n",
       " array([0., 0., 0., ..., 0., 0., 0.], dtype=float32),\n",
       " array([0.02556661, 0.02207571, 0.        , ..., 0.        , 0.03928866,\n",
       "        0.02679555], dtype=float32),\n",
       " array([0.        , 0.01347071, 0.        , ..., 0.        , 0.        ,\n",
       "        0.02077583], dtype=float32),\n",
       " array([1.3762153 , 0.11231662, 0.01044628, ..., 0.1434581 , 0.        ,\n",
       "        0.        ], dtype=float32),\n",
       " array([3.663939  , 0.        , 0.41503578, ..., 0.01383128, 0.        ,\n",
       "        0.        ], dtype=float32),\n",
       " array([2.9903655e+00, 8.1768617e-02, 1.0630925e+00, ..., 0.0000000e+00,\n",
       "        0.0000000e+00, 1.4462277e-03], dtype=float32),\n",
       " array([0.001127  , 0.        , 0.03882529, ..., 0.        , 0.        ,\n",
       "        0.01084196], dtype=float32),\n",
       " array([2.22052   , 0.00624132, 0.42275602, ..., 0.        , 0.        ,\n",
       "        0.09694653], dtype=float32),\n",
       " array([0.0000000e+00, 4.2722799e-02, 9.8418212e-05, ..., 9.4287954e-03,\n",
       "        0.0000000e+00, 1.4463677e-02], dtype=float32),\n",
       " array([0.01107219, 0.        , 0.        , ..., 0.        , 0.        ,\n",
       "        0.0455764 ], dtype=float32),\n",
       " array([0.00750559, 0.        , 0.00519693, ..., 0.00290093, 0.        ,\n",
       "        0.        ], dtype=float32),\n",
       " array([0.41723886, 0.41979808, 0.        , ..., 0.        , 0.008208  ,\n",
       "        0.        ], dtype=float32),\n",
       " array([0.07587291, 0.        , 0.        , ..., 0.        , 0.        ,\n",
       "        0.        ], dtype=float32),\n",
       " array([0.07903717, 0.        , 0.16734715, ..., 0.00199389, 0.        ,\n",
       "        0.02526024], dtype=float32),\n",
       " array([0.13732429, 0.        , 0.        , ..., 0.        , 0.        ,\n",
       "        0.        ], dtype=float32),\n",
       " array([0.       , 0.0041406, 0.       , ..., 0.       , 0.       ,\n",
       "        0.       ], dtype=float32),\n",
       " array([0.05233576, 0.01136758, 0.        , ..., 0.00591433, 0.01336278,\n",
       "        0.01792419], dtype=float32),\n",
       " array([0.00677901, 0.        , 0.        , ..., 0.        , 0.        ,\n",
       "        0.        ], dtype=float32),\n",
       " array([2.77082467e+00, 0.00000000e+00, 2.50857294e-01, ...,\n",
       "        2.76045408e-03, 3.66029935e-03, 1.13349006e-01], dtype=float32),\n",
       " array([0.        , 0.10524973, 0.        , ..., 0.        , 0.        ,\n",
       "        0.05712862], dtype=float32),\n",
       " array([0.01813516, 0.        , 0.        , ..., 0.        , 0.        ,\n",
       "        0.        ], dtype=float32),\n",
       " array([0.        , 0.        , 0.        , ..., 0.0049151 , 0.        ,\n",
       "        0.12133983], dtype=float32),\n",
       " array([0.12083434, 0.        , 0.09043393, ..., 0.        , 0.        ,\n",
       "        0.0281865 ], dtype=float32),\n",
       " array([0.        , 0.        , 0.        , ..., 0.00116597, 0.        ,\n",
       "        0.        ], dtype=float32),\n",
       " array([2.6650035 , 0.        , 0.1096575 , ..., 0.01052363, 0.        ,\n",
       "        0.02284443], dtype=float32),\n",
       " array([0.00348835, 0.        , 0.00072349, ..., 0.00214083, 0.        ,\n",
       "        0.        ], dtype=float32),\n",
       " array([0.        , 0.00542217, 0.0198455 , ..., 0.01153488, 0.0067557 ,\n",
       "        0.09866689], dtype=float32),\n",
       " array([0.00631639, 0.        , 0.        , ..., 0.        , 0.        ,\n",
       "        0.        ], dtype=float32),\n",
       " array([0.00586602, 0.00761718, 0.        , ..., 0.        , 0.03375438,\n",
       "        0.0054232 ], dtype=float32),\n",
       " array([0., 0., 0., ..., 0., 0., 0.], dtype=float32),\n",
       " array([0.04102502, 0.        , 0.        , ..., 0.        , 0.        ,\n",
       "        0.        ], dtype=float32),\n",
       " array([3.1871526 , 0.05540867, 0.63392866, ..., 0.        , 0.        ,\n",
       "        0.01847142], dtype=float32),\n",
       " array([0.00110055, 0.        , 0.07448158, ..., 0.        , 0.        ,\n",
       "        0.04338458], dtype=float32),\n",
       " array([3.0714865e+00, 1.9009794e-03, 2.7214041e-01, ..., 1.4997589e-02,\n",
       "        0.0000000e+00, 1.7695597e-03], dtype=float32),\n",
       " array([0.        , 0.00067637, 0.        , ..., 0.        , 0.0098001 ,\n",
       "        0.21839188], dtype=float32),\n",
       " array([0.        , 0.        , 0.        , ..., 0.        , 0.        ,\n",
       "        0.02306892], dtype=float32),\n",
       " array([0.5711594 , 0.23640338, 0.01117538, ..., 0.        , 0.        ,\n",
       "        0.        ], dtype=float32),\n",
       " array([0.01095436, 0.        , 0.        , ..., 0.        , 0.        ,\n",
       "        0.        ], dtype=float32),\n",
       " array([0.33777392, 0.        , 0.        , ..., 0.        , 0.        ,\n",
       "        0.        ], dtype=float32),\n",
       " array([0.47669032, 0.02511568, 0.        , ..., 0.        , 0.        ,\n",
       "        0.01075495], dtype=float32),\n",
       " array([0.01379467, 0.        , 0.11939415, ..., 0.01454187, 0.        ,\n",
       "        0.00712745], dtype=float32),\n",
       " array([0.00555133, 0.        , 0.        , ..., 0.04508726, 0.        ,\n",
       "        0.        ], dtype=float32),\n",
       " array([0.        , 0.        , 0.        , ..., 0.00481644, 0.        ,\n",
       "        0.        ], dtype=float32),\n",
       " array([0.        , 0.        , 0.        , ..., 0.03575951, 0.        ,\n",
       "        0.        ], dtype=float32),\n",
       " array([8.2418573e-01, 0.0000000e+00, 0.0000000e+00, ..., 1.8329036e-05,\n",
       "        2.8369182e-03, 7.3430292e-02], dtype=float32),\n",
       " array([0.        , 0.        , 0.        , ..., 0.        , 0.00360904,\n",
       "        0.02544592], dtype=float32),\n",
       " array([0.01848679, 0.        , 0.        , ..., 0.        , 0.01406417,\n",
       "        0.        ], dtype=float32),\n",
       " array([0., 0., 0., ..., 0., 0., 0.], dtype=float32),\n",
       " array([0.05550479, 0.        , 0.0291732 , ..., 0.01285433, 0.        ,\n",
       "        0.00243216], dtype=float32),\n",
       " array([0.01673667, 0.01303725, 0.4098333 , ..., 0.28502896, 0.01471127,\n",
       "        0.8959478 ], dtype=float32),\n",
       " array([1.21214725e-01, 1.21394515e-01, 2.40190089e-01, ...,\n",
       "        4.24686732e-04, 1.88661292e-02, 4.80087996e-01], dtype=float32),\n",
       " array([0.22307317, 0.02206116, 0.        , ..., 0.        , 0.        ,\n",
       "        0.01416026], dtype=float32),\n",
       " array([0., 0., 0., ..., 0., 0., 0.], dtype=float32),\n",
       " array([0., 0., 0., ..., 0., 0., 0.], dtype=float32),\n",
       " array([0., 0., 0., ..., 0., 0., 0.], dtype=float32),\n",
       " array([0.        , 0.        , 0.        , ..., 0.01707601, 0.        ,\n",
       "        0.        ], dtype=float32),\n",
       " array([0.00026263, 0.        , 0.14195143, ..., 0.09232792, 0.00205674,\n",
       "        0.02218352], dtype=float32),\n",
       " array([0.        , 0.        , 0.        , ..., 0.        , 0.04073333,\n",
       "        0.        ], dtype=float32),\n",
       " array([0., 0., 0., ..., 0., 0., 0.], dtype=float32),\n",
       " array([0.0012765, 0.       , 0.       , ..., 0.       , 0.       ,\n",
       "        0.       ], dtype=float32),\n",
       " array([0.01611842, 0.        , 0.        , ..., 0.        , 0.        ,\n",
       "        0.        ], dtype=float32),\n",
       " array([0.        , 0.        , 0.05716275, ..., 0.        , 0.05978944,\n",
       "        0.16154006], dtype=float32),\n",
       " array([0.        , 0.01093317, 0.08072096, ..., 0.        , 0.03196261,\n",
       "        0.12389664], dtype=float32),\n",
       " array([0.        , 0.        , 0.03762322, ..., 0.        , 0.        ,\n",
       "        0.        ], dtype=float32),\n",
       " array([0.        , 0.00257216, 0.        , ..., 0.        , 0.        ,\n",
       "        0.        ], dtype=float32),\n",
       " array([0.03036002, 0.        , 0.04254701, ..., 0.        , 0.        ,\n",
       "        0.07779966], dtype=float32),\n",
       " array([0.03015545, 0.        , 0.        , ..., 0.        , 0.        ,\n",
       "        0.06950292], dtype=float32),\n",
       " array([0., 0., 0., ..., 0., 0., 0.], dtype=float32),\n",
       " array([0.01824197, 0.        , 0.00462525, ..., 0.        , 0.        ,\n",
       "        0.14717697], dtype=float32),\n",
       " array([0.04506693, 0.        , 0.        , ..., 0.00136454, 0.        ,\n",
       "        0.        ], dtype=float32),\n",
       " array([0.01169846, 0.        , 0.02122981, ..., 0.        , 0.        ,\n",
       "        0.        ], dtype=float32),\n",
       " array([0.        , 0.        , 0.05898193, ..., 0.        , 0.        ,\n",
       "        0.        ], dtype=float32),\n",
       " array([0.00572753, 0.        , 0.        , ..., 0.24736446, 0.        ,\n",
       "        0.        ], dtype=float32),\n",
       " array([0., 0., 0., ..., 0., 0., 0.], dtype=float32),\n",
       " array([0.        , 0.        , 0.        , ..., 0.01571603, 0.        ,\n",
       "        0.        ], dtype=float32),\n",
       " array([0.        , 0.        , 0.        , ..., 0.        , 0.01564643,\n",
       "        0.        ], dtype=float32),\n",
       " array([0.        , 0.        , 0.        , ..., 0.        , 0.        ,\n",
       "        0.05299795], dtype=float32),\n",
       " array([0., 0., 0., ..., 0., 0., 0.], dtype=float32),\n",
       " array([0.        , 0.        , 0.        , ..., 0.        , 0.11807357,\n",
       "        0.        ], dtype=float32),\n",
       " array([0.03520179, 0.11302318, 0.00489706, ..., 0.        , 0.        ,\n",
       "        0.22569256], dtype=float32),\n",
       " array([0.        , 0.05463575, 0.        , ..., 0.        , 0.        ,\n",
       "        0.38226533], dtype=float32),\n",
       " array([0.09066372, 0.        , 0.27437088, ..., 0.0629549 , 0.05247198,\n",
       "        0.03521287], dtype=float32),\n",
       " array([0.0039569 , 0.        , 0.00901776, ..., 0.01662591, 0.        ,\n",
       "        0.        ], dtype=float32),\n",
       " array([0.00591149, 0.        , 0.00566769, ..., 0.01202501, 0.        ,\n",
       "        0.15992779], dtype=float32),\n",
       " array([0., 0., 0., ..., 0., 0., 0.], dtype=float32),\n",
       " array([0., 0., 0., ..., 0., 0., 0.], dtype=float32),\n",
       " array([1.6673481e-01, 1.6019767e-02, 5.4689087e-03, ..., 1.8398032e-02,\n",
       "        0.0000000e+00, 4.6068308e-05], dtype=float32),\n",
       " array([0.        , 0.        , 0.        , ..., 0.00726073, 0.01065386,\n",
       "        0.09903638], dtype=float32),\n",
       " array([0.        , 0.00243069, 0.00290316, ..., 0.01482821, 0.        ,\n",
       "        0.        ], dtype=float32),\n",
       " array([0.        , 0.        , 0.        , ..., 0.        , 0.        ,\n",
       "        0.00998534], dtype=float32),\n",
       " array([0.       , 0.       , 0.1687746, ..., 0.       , 0.       ,\n",
       "        0.       ], dtype=float32),\n",
       " array([0.00342698, 0.        , 0.1353441 , ..., 0.00055919, 0.        ,\n",
       "        0.07451135], dtype=float32),\n",
       " array([0.0089493 , 0.02556364, 0.02583524, ..., 0.22479738, 0.        ,\n",
       "        0.0328181 ], dtype=float32),\n",
       " array([0.0130026 , 0.        , 0.0379904 , ..., 0.09840782, 0.        ,\n",
       "        0.06368808], dtype=float32),\n",
       " array([0.01484846, 0.        , 0.11914578, ..., 0.06580313, 0.        ,\n",
       "        0.02435466], dtype=float32),\n",
       " array([0.        , 0.        , 0.        , ..., 0.        , 0.02772461,\n",
       "        0.        ], dtype=float32),\n",
       " array([0.        , 0.        , 0.0481078 , ..., 0.01514767, 0.        ,\n",
       "        0.03921858], dtype=float32),\n",
       " array([0.04443619, 0.        , 0.        , ..., 0.01066407, 0.        ,\n",
       "        0.00730643], dtype=float32),\n",
       " array([0.        , 0.00853413, 0.        , ..., 0.        , 0.        ,\n",
       "        0.        ], dtype=float32),\n",
       " array([0.        , 0.15472627, 0.01244174, ..., 0.        , 0.01347692,\n",
       "        0.01436637], dtype=float32),\n",
       " array([0.        , 0.        , 0.        , ..., 0.        , 0.        ,\n",
       "        0.08199643], dtype=float32),\n",
       " array([0.279723  , 0.        , 0.        , ..., 0.        , 0.00679808,\n",
       "        0.        ], dtype=float32),\n",
       " array([0.        , 0.40469438, 0.        , ..., 0.        , 0.        ,\n",
       "        0.18078104], dtype=float32),\n",
       " array([0.05070761, 0.12006138, 0.00238967, ..., 0.        , 0.01253963,\n",
       "        0.4674731 ], dtype=float32),\n",
       " array([0.1686456 , 0.00031087, 0.        , ..., 0.        , 0.09928086,\n",
       "        0.01572091], dtype=float32),\n",
       " array([0.8061873, 0.       , 0.       , ..., 0.       , 0.       ,\n",
       "        0.       ], dtype=float32),\n",
       " array([0.01535999, 0.        , 0.00925007, ..., 0.01629323, 0.        ,\n",
       "        0.01829609], dtype=float32),\n",
       " array([0., 0., 0., ..., 0., 0., 0.], dtype=float32),\n",
       " array([0.       , 0.       , 0.       , ..., 0.       , 0.       ,\n",
       "        0.0151748], dtype=float32),\n",
       " array([0.00392082, 0.07801918, 0.        , ..., 0.01454882, 0.        ,\n",
       "        0.        ], dtype=float32),\n",
       " array([0.        , 0.01013929, 0.        , ..., 0.        , 0.        ,\n",
       "        0.        ], dtype=float32),\n",
       " array([0., 0., 0., ..., 0., 0., 0.], dtype=float32),\n",
       " array([0., 0., 0., ..., 0., 0., 0.], dtype=float32),\n",
       " array([0.        , 0.        , 0.00124202, ..., 0.        , 0.00251379,\n",
       "        0.0092879 ], dtype=float32),\n",
       " array([0., 0., 0., ..., 0., 0., 0.], dtype=float32),\n",
       " array([0., 0., 0., ..., 0., 0., 0.], dtype=float32),\n",
       " array([0.5396022 , 0.04576111, 0.        , ..., 0.        , 0.        ,\n",
       "        0.        ], dtype=float32),\n",
       " array([0.4116917, 0.       , 0.       , ..., 0.       , 0.       ,\n",
       "        0.       ], dtype=float32),\n",
       " array([1.0771379e+00, 0.0000000e+00, 0.0000000e+00, ..., 0.0000000e+00,\n",
       "        0.0000000e+00, 3.7172376e-04], dtype=float32),\n",
       " array([0.8238273, 0.       , 0.       , ..., 0.       , 0.       ,\n",
       "        0.       ], dtype=float32),\n",
       " array([0.4691607 , 0.00057655, 0.        , ..., 0.        , 0.        ,\n",
       "        0.        ], dtype=float32),\n",
       " array([0.11063879, 0.        , 0.        , ..., 0.        , 0.        ,\n",
       "        0.        ], dtype=float32),\n",
       " array([0.31061545, 0.        , 0.        , ..., 0.        , 0.        ,\n",
       "        0.        ], dtype=float32),\n",
       " array([0.5785769 , 0.01374185, 0.        , ..., 0.        , 0.        ,\n",
       "        0.00334034], dtype=float32),\n",
       " array([0.4177281, 0.       , 0.       , ..., 0.       , 0.       ,\n",
       "        0.       ], dtype=float32),\n",
       " array([0.7165536 , 0.01771848, 0.        , ..., 0.        , 0.        ,\n",
       "        0.        ], dtype=float32),\n",
       " array([0.34878275, 0.03302857, 0.        , ..., 0.        , 0.        ,\n",
       "        0.        ], dtype=float32),\n",
       " array([0.1554276 , 0.03118346, 0.        , ..., 0.        , 0.        ,\n",
       "        0.        ], dtype=float32),\n",
       " array([0.        , 0.03044111, 0.05052677, ..., 0.3148785 , 0.        ,\n",
       "        0.        ], dtype=float32),\n",
       " array([0., 0., 0., ..., 0., 0., 0.], dtype=float32),\n",
       " array([0.5984657 , 0.        , 0.        , ..., 0.        , 0.        ,\n",
       "        0.07217124], dtype=float32),\n",
       " array([0.        , 0.08222573, 0.00273098, ..., 0.        , 0.        ,\n",
       "        0.9994736 ], dtype=float32),\n",
       " array([0.       , 0.       , 0.       , ..., 0.       , 0.       ,\n",
       "        0.0966471], dtype=float32),\n",
       " array([0.09773741, 0.00114987, 0.03933731, ..., 0.        , 0.        ,\n",
       "        0.52561235], dtype=float32),\n",
       " array([0.18674421, 0.        , 0.1536799 , ..., 0.        , 0.04591374,\n",
       "        0.14892463], dtype=float32),\n",
       " array([0.92059135, 0.        , 0.12204295, ..., 0.11318855, 0.        ,\n",
       "        0.        ], dtype=float32),\n",
       " array([0.        , 0.        , 0.        , ..., 0.00190978, 0.        ,\n",
       "        0.11966983], dtype=float32),\n",
       " array([0.06300315, 0.        , 0.        , ..., 0.03992902, 0.06965325,\n",
       "        0.03252788], dtype=float32),\n",
       " array([0.0117902 , 0.        , 0.5780586 , ..., 0.02724181, 0.00638663,\n",
       "        0.01310147], dtype=float32),\n",
       " array([0.       , 0.       , 0.       , ..., 0.2633408, 0.       ,\n",
       "        0.       ], dtype=float32),\n",
       " array([0.        , 0.        , 0.46232444, ..., 0.00484366, 0.        ,\n",
       "        0.09193423], dtype=float32),\n",
       " array([0.00019528, 0.        , 0.03723088, ..., 0.00207801, 0.03748487,\n",
       "        0.01015164], dtype=float32),\n",
       " array([0.05463239, 0.        , 0.01990026, ..., 0.42923298, 0.01594835,\n",
       "        0.00939418], dtype=float32),\n",
       " array([0., 0., 0., ..., 0., 0., 0.], dtype=float32),\n",
       " array([0., 0., 0., ..., 0., 0., 0.], dtype=float32),\n",
       " array([0., 0., 0., ..., 0., 0., 0.], dtype=float32),\n",
       " array([0.        , 0.        , 0.        , ..., 0.00260726, 0.        ,\n",
       "        0.        ], dtype=float32),\n",
       " array([0.        , 0.        , 0.0273806 , ..., 0.04924155, 0.        ,\n",
       "        0.03214932], dtype=float32),\n",
       " array([0.0154109 , 0.00079269, 0.06135936, ..., 0.        , 0.        ,\n",
       "        0.        ], dtype=float32),\n",
       " array([0.11125222, 0.21087095, 0.01453326, ..., 0.01436602, 0.        ,\n",
       "        0.        ], dtype=float32),\n",
       " array([0.        , 0.        , 0.87553465, ..., 0.        , 0.        ,\n",
       "        0.00093104], dtype=float32),\n",
       " array([0.01534444, 0.        , 0.        , ..., 0.        , 0.        ,\n",
       "        0.03110984], dtype=float32),\n",
       " array([0.00110825, 0.01348028, 0.        , ..., 0.        , 0.        ,\n",
       "        0.        ], dtype=float32),\n",
       " array([0.        , 0.        , 0.        , ..., 0.        , 0.        ,\n",
       "        0.00349156], dtype=float32),\n",
       " array([0.085834  , 0.08087923, 0.        , ..., 0.        , 0.        ,\n",
       "        0.        ], dtype=float32),\n",
       " array([0., 0., 0., ..., 0., 0., 0.], dtype=float32),\n",
       " array([0.02206852, 0.01086036, 0.00209256, ..., 0.        , 0.00058468,\n",
       "        0.15735416], dtype=float32),\n",
       " array([0.04804729, 0.        , 0.        , ..., 0.        , 0.        ,\n",
       "        0.        ], dtype=float32),\n",
       " array([0.1101156 , 0.        , 0.00649002, ..., 0.        , 0.        ,\n",
       "        0.00880118], dtype=float32),\n",
       " array([0., 0., 0., ..., 0., 0., 0.], dtype=float32),\n",
       " array([0.05634483, 0.        , 0.00176541, ..., 0.02424145, 0.        ,\n",
       "        0.        ], dtype=float32),\n",
       " array([0.        , 0.        , 0.02075727, ..., 0.        , 0.        ,\n",
       "        0.02813026], dtype=float32),\n",
       " array([0.01062435, 0.21632859, 0.00105439, ..., 0.        , 0.17112163,\n",
       "        0.1238528 ], dtype=float32),\n",
       " array([0.05443036, 0.04103287, 0.        , ..., 0.        , 0.09794436,\n",
       "        0.        ], dtype=float32),\n",
       " array([0.15770121, 0.21359286, 0.        , ..., 0.        , 0.15621205,\n",
       "        0.19803277], dtype=float32),\n",
       " array([0.01769041, 0.        , 0.55304813, ..., 0.        , 0.        ,\n",
       "        0.01316143], dtype=float32),\n",
       " array([0., 0., 0., ..., 0., 0., 0.], dtype=float32),\n",
       " array([0.        , 0.        , 0.        , ..., 0.        , 0.        ,\n",
       "        0.01293813], dtype=float32),\n",
       " array([0.01019535, 0.        , 0.00381233, ..., 0.        , 0.00845372,\n",
       "        0.04702129], dtype=float32),\n",
       " array([0.00019762, 0.        , 0.02058557, ..., 0.06729741, 0.00593269,\n",
       "        0.0720328 ], dtype=float32),\n",
       " array([0.        , 0.        , 0.00408866, ..., 0.        , 0.00152931,\n",
       "        0.00742372], dtype=float32),\n",
       " array([0.        , 0.        , 0.        , ..., 0.        , 0.00655967,\n",
       "        0.        ], dtype=float32),\n",
       " array([0.        , 0.        , 0.11641598, ..., 0.07707653, 0.        ,\n",
       "        0.        ], dtype=float32),\n",
       " array([0.        , 0.        , 0.        , ..., 0.        , 0.        ,\n",
       "        0.00611069], dtype=float32),\n",
       " array([0.00861685, 0.        , 0.        , ..., 0.06091538, 0.00969912,\n",
       "        0.        ], dtype=float32),\n",
       " array([8.9613757e-05, 0.0000000e+00, 0.0000000e+00, ..., 2.9607013e-02,\n",
       "        0.0000000e+00, 0.0000000e+00], dtype=float32),\n",
       " array([0.        , 0.04529884, 0.        , ..., 0.        , 0.        ,\n",
       "        0.04661214], dtype=float32),\n",
       " array([0.00281376, 0.        , 0.        , ..., 0.00279343, 0.01542393,\n",
       "        0.        ], dtype=float32),\n",
       " array([0., 0., 0., ..., 0., 0., 0.], dtype=float32),\n",
       " array([0., 0., 0., ..., 0., 0., 0.], dtype=float32),\n",
       " array([0.        , 0.        , 0.21323963, ..., 0.        , 0.        ,\n",
       "        0.        ], dtype=float32),\n",
       " array([0.        , 0.00918363, 0.04655055, ..., 0.        , 0.0056708 ,\n",
       "        0.03312255], dtype=float32),\n",
       " array([0.        , 0.        , 0.00428376, ..., 0.        , 0.05767629,\n",
       "        0.03346509], dtype=float32),\n",
       " array([0.        , 0.        , 0.00656955, ..., 0.        , 0.        ,\n",
       "        0.        ], dtype=float32),\n",
       " array([0.        , 0.02221272, 0.        , ..., 0.        , 0.        ,\n",
       "        0.02224243], dtype=float32),\n",
       " array([0.        , 0.        , 0.        , ..., 0.        , 0.03070312,\n",
       "        0.        ], dtype=float32),\n",
       " array([0., 0., 0., ..., 0., 0., 0.], dtype=float32),\n",
       " array([0., 0., 0., ..., 0., 0., 0.], dtype=float32),\n",
       " array([3.3080928e-02, 0.0000000e+00, 0.0000000e+00, ..., 0.0000000e+00,\n",
       "        6.9754460e-05, 0.0000000e+00], dtype=float32),\n",
       " array([0.       , 0.       , 0.       , ..., 0.       , 0.0061014,\n",
       "        0.       ], dtype=float32),\n",
       " array([0.07143235, 0.        , 0.0070146 , ..., 0.        , 0.        ,\n",
       "        0.        ], dtype=float32),\n",
       " array([0.        , 0.        , 0.04180728, ..., 0.01133048, 0.02195808,\n",
       "        0.01783137], dtype=float32),\n",
       " array([0.        , 0.00700807, 0.00981129, ..., 0.00352685, 0.03684027,\n",
       "        0.03448045], dtype=float32),\n",
       " array([0.00210024, 0.1801012 , 0.03839798, ..., 0.004522  , 0.05567464,\n",
       "        0.10042161], dtype=float32),\n",
       " array([0.        , 0.        , 0.        , ..., 0.        , 0.00984812,\n",
       "        0.00319581], dtype=float32),\n",
       " array([0.03664958, 0.        , 0.        , ..., 0.22036941, 0.        ,\n",
       "        0.        ], dtype=float32),\n",
       " array([0.        , 0.        , 0.50526506, ..., 0.0351747 , 0.        ,\n",
       "        0.        ], dtype=float32),\n",
       " array([0.        , 0.        , 0.17929232, ..., 0.        , 0.        ,\n",
       "        0.        ], dtype=float32),\n",
       " array([0.        , 0.        , 0.0032232 , ..., 0.        , 0.0161867 ,\n",
       "        0.03493667], dtype=float32),\n",
       " array([0.07181027, 0.        , 0.07524388, ..., 0.        , 0.        ,\n",
       "        0.        ], dtype=float32),\n",
       " array([0., 0., 0., ..., 0., 0., 0.], dtype=float32),\n",
       " array([0.00811551, 0.        , 0.        , ..., 0.        , 0.        ,\n",
       "        0.        ], dtype=float32),\n",
       " array([0.000000e+00, 5.996655e-02, 5.498224e-07, ..., 0.000000e+00,\n",
       "        9.373879e-03, 0.000000e+00], dtype=float32),\n",
       " array([0.        , 0.        , 0.        , ..., 0.0170068 , 0.00244895,\n",
       "        0.04667931], dtype=float32),\n",
       " array([0.015917  , 0.        , 0.15238297, ..., 0.00745133, 0.        ,\n",
       "        0.03454319], dtype=float32),\n",
       " array([0.03422639, 0.        , 0.        , ..., 0.02240057, 0.        ,\n",
       "        0.        ], dtype=float32),\n",
       " array([0.07096279, 0.        , 0.        , ..., 0.        , 0.        ,\n",
       "        0.00234089], dtype=float32),\n",
       " array([0.00608394, 0.        , 0.5824098 , ..., 0.        , 0.        ,\n",
       "        0.        ], dtype=float32),\n",
       " array([0.02703328, 0.        , 0.        , ..., 0.        , 0.        ,\n",
       "        0.        ], dtype=float32),\n",
       " array([0.        , 0.09849367, 0.0355402 , ..., 0.01396114, 0.24232338,\n",
       "        0.11669335], dtype=float32),\n",
       " array([0.03505314, 0.        , 0.        , ..., 0.8092426 , 0.        ,\n",
       "        0.        ], dtype=float32),\n",
       " array([0.00240467, 0.        , 0.        , ..., 0.        , 0.        ,\n",
       "        0.0086285 ], dtype=float32),\n",
       " array([0.0126637 , 0.        , 0.02654015, ..., 0.06380889, 0.        ,\n",
       "        0.        ], dtype=float32),\n",
       " array([0.00104356, 0.        , 0.        , ..., 0.06561375, 0.        ,\n",
       "        0.07292118], dtype=float32),\n",
       " array([0.00997956, 0.        , 0.36316225, ..., 0.        , 0.        ,\n",
       "        0.01770352], dtype=float32),\n",
       " array([0.56523156, 0.        , 0.        , ..., 0.        , 0.        ,\n",
       "        0.        ], dtype=float32),\n",
       " array([0.16511646, 0.00914475, 1.4834734 , ..., 0.02466964, 0.        ,\n",
       "        0.03402013], dtype=float32),\n",
       " array([0.03938804, 0.        , 0.0103123 , ..., 0.01245874, 0.        ,\n",
       "        0.        ], dtype=float32),\n",
       " array([0.01419661, 0.        , 0.02150393, ..., 0.00932576, 0.        ,\n",
       "        0.04743601], dtype=float32),\n",
       " array([0.00064812, 0.        , 0.        , ..., 0.00675288, 0.        ,\n",
       "        0.        ], dtype=float32),\n",
       " array([0.00256291, 0.07396778, 0.        , ..., 0.        , 0.        ,\n",
       "        0.        ], dtype=float32),\n",
       " array([1.1722089e+00, 9.3873121e-02, 3.2286011e-03, ..., 3.4111582e-02,\n",
       "        7.1330942e-05, 5.8494471e-02], dtype=float32),\n",
       " array([0.1317811 , 0.        , 0.01337366, ..., 0.        , 0.        ,\n",
       "        0.        ], dtype=float32),\n",
       " array([0.        , 0.        , 0.        , ..., 0.        , 0.        ,\n",
       "        0.01459448], dtype=float32),\n",
       " array([0.09756964, 0.        , 0.01848843, ..., 0.1728788 , 0.        ,\n",
       "        0.04600801], dtype=float32),\n",
       " array([0.00594547, 0.        , 0.        , ..., 0.        , 0.        ,\n",
       "        0.14088444], dtype=float32),\n",
       " array([0.        , 0.        , 0.00443119, ..., 0.02547415, 0.03733794,\n",
       "        0.        ], dtype=float32),\n",
       " array([0.01689861, 0.        , 0.30259675, ..., 0.01760728, 0.        ,\n",
       "        0.00474951], dtype=float32),\n",
       " array([0.01160572, 0.        , 0.00222886, ..., 0.02478063, 0.        ,\n",
       "        0.        ], dtype=float32),\n",
       " array([0.        , 0.        , 0.00822511, ..., 0.        , 0.        ,\n",
       "        0.        ], dtype=float32),\n",
       " array([0.00758624, 0.        , 0.        , ..., 0.        , 0.        ,\n",
       "        0.        ], dtype=float32),\n",
       " array([0.        , 0.        , 0.04093394, ..., 0.        , 0.        ,\n",
       "        0.        ], dtype=float32),\n",
       " array([0.        , 0.        , 0.        , ..., 0.05911592, 0.01201971,\n",
       "        0.        ], dtype=float32),\n",
       " array([0., 0., 0., ..., 0., 0., 0.], dtype=float32),\n",
       " array([0.        , 0.        , 0.        , ..., 0.03104549, 0.        ,\n",
       "        0.04437426], dtype=float32),\n",
       " array([0.09738388, 0.        , 0.01645473, ..., 0.        , 0.        ,\n",
       "        0.00399631], dtype=float32),\n",
       " array([0.45508566, 0.        , 0.03268313, ..., 0.        , 0.        ,\n",
       "        0.        ], dtype=float32),\n",
       " array([0.        , 0.        , 0.00372329, ..., 0.        , 0.        ,\n",
       "        0.        ], dtype=float32),\n",
       " array([0.00791366, 0.        , 0.05680808, ..., 0.02408889, 0.        ,\n",
       "        0.        ], dtype=float32),\n",
       " array([0., 0., 0., ..., 0., 0., 0.], dtype=float32),\n",
       " array([0.06000036, 0.        , 0.        , ..., 0.        , 0.        ,\n",
       "        0.        ], dtype=float32),\n",
       " array([0.18492123, 0.        , 0.        , ..., 0.01771711, 0.        ,\n",
       "        0.        ], dtype=float32),\n",
       " array([0.       , 0.       , 0.       , ..., 0.1570122, 0.       ,\n",
       "        0.       ], dtype=float32),\n",
       " array([0.        , 0.        , 0.21939108, ..., 0.13994315, 0.        ,\n",
       "        0.        ], dtype=float32),\n",
       " array([0.01439436, 0.00372705, 0.7397668 , ..., 0.15109678, 0.01583951,\n",
       "        0.07493144], dtype=float32),\n",
       " array([0.13076383, 0.        , 0.        , ..., 0.        , 0.        ,\n",
       "        0.02930167], dtype=float32),\n",
       " array([0.        , 0.        , 0.11720092, ..., 0.02067409, 0.00861058,\n",
       "        0.1420214 ], dtype=float32),\n",
       " array([0.06230652, 0.00852569, 0.04027957, ..., 0.00354505, 0.        ,\n",
       "        0.07223403], dtype=float32),\n",
       " array([0.        , 0.        , 0.12110838, ..., 0.01938899, 0.        ,\n",
       "        0.02462267], dtype=float32),\n",
       " array([0.30531716, 0.00915224, 0.00249358, ..., 0.        , 0.        ,\n",
       "        0.        ], dtype=float32),\n",
       " array([0., 0., 0., ..., 0., 0., 0.], dtype=float32),\n",
       " array([0.       , 0.       , 0.       , ..., 0.0066621, 0.       ,\n",
       "        0.       ], dtype=float32),\n",
       " array([0.01180591, 0.01933249, 0.        , ..., 0.        , 0.        ,\n",
       "        0.        ], dtype=float32),\n",
       " array([0.01081329, 0.16607012, 0.06515975, ..., 0.19451004, 0.        ,\n",
       "        0.2589525 ], dtype=float32),\n",
       " array([0.04320349, 0.        , 0.        , ..., 0.03585264, 0.        ,\n",
       "        0.00266199], dtype=float32),\n",
       " array([0.01380111, 0.        , 0.14291988, ..., 0.        , 0.        ,\n",
       "        0.41720307], dtype=float32),\n",
       " array([0.00274619, 0.        , 0.02233457, ..., 0.        , 0.        ,\n",
       "        0.01448098], dtype=float32),\n",
       " array([0.        , 0.        , 0.0560444 , ..., 0.        , 0.        ,\n",
       "        0.02094311], dtype=float32),\n",
       " array([0.0435429 , 0.        , 0.        , ..., 0.06195294, 0.        ,\n",
       "        0.        ], dtype=float32),\n",
       " array([0.        , 0.        , 0.        , ..., 0.01913587, 0.        ,\n",
       "        0.00266394], dtype=float32),\n",
       " array([0.01814213, 0.        , 0.        , ..., 0.00236243, 0.        ,\n",
       "        0.        ], dtype=float32),\n",
       " array([0.03153263, 0.00290115, 0.1639217 , ..., 0.03171022, 0.01469384,\n",
       "        0.2902614 ], dtype=float32),\n",
       " array([0.01352076, 0.        , 0.        , ..., 0.        , 0.        ,\n",
       "        0.        ], dtype=float32),\n",
       " array([0.00627683, 0.05436423, 0.        , ..., 0.        , 0.        ,\n",
       "        0.01281077], dtype=float32),\n",
       " array([0.00867465, 0.02218638, 0.        , ..., 0.        , 0.        ,\n",
       "        0.02428327], dtype=float32),\n",
       " array([0.03205835, 0.        , 0.        , ..., 0.        , 0.        ,\n",
       "        0.        ], dtype=float32),\n",
       " array([0., 0., 0., ..., 0., 0., 0.], dtype=float32),\n",
       " array([0.00147361, 0.        , 0.        , ..., 0.        , 0.        ,\n",
       "        0.        ], dtype=float32),\n",
       " array([0.        , 0.00446309, 0.        , ..., 0.        , 0.        ,\n",
       "        0.        ], dtype=float32),\n",
       " array([0., 0., 0., ..., 0., 0., 0.], dtype=float32),\n",
       " array([0.00252418, 0.        , 0.01102728, ..., 0.01073975, 0.        ,\n",
       "        0.02201536], dtype=float32),\n",
       " array([0.03218377, 0.        , 0.        , ..., 0.00360832, 0.        ,\n",
       "        0.        ], dtype=float32),\n",
       " array([0.09717192, 0.        , 0.22241122, ..., 0.02683626, 0.005452  ,\n",
       "        0.11036532], dtype=float32),\n",
       " array([0., 0., 0., ..., 0., 0., 0.], dtype=float32),\n",
       " array([0.03661227, 0.        , 0.04734641, ..., 0.        , 0.        ,\n",
       "        0.        ], dtype=float32),\n",
       " array([0.        , 0.        , 0.26003084, ..., 0.        , 0.        ,\n",
       "        0.01375033], dtype=float32),\n",
       " array([0.        , 0.01775927, 0.        , ..., 0.        , 0.        ,\n",
       "        0.        ], dtype=float32),\n",
       " array([0.        , 0.1683507 , 0.07714833, ..., 0.        , 0.01037731,\n",
       "        0.01742219], dtype=float32),\n",
       " array([0.00271308, 0.26603222, 0.05395805, ..., 0.        , 0.00051727,\n",
       "        0.        ], dtype=float32),\n",
       " array([0.        , 0.1805662 , 0.00532867, ..., 0.        , 0.        ,\n",
       "        0.19659838], dtype=float32),\n",
       " array([0.13530998, 0.0453987 , 0.        , ..., 0.        , 0.        ,\n",
       "        0.19936997], dtype=float32),\n",
       " array([0.03013132, 0.00651199, 0.00922712, ..., 0.03960858, 0.        ,\n",
       "        0.        ], dtype=float32),\n",
       " array([0.26064038, 0.23887159, 0.01901548, ..., 0.        , 0.        ,\n",
       "        0.37902933], dtype=float32),\n",
       " array([0.08126755, 0.        , 0.05114386, ..., 0.00172504, 0.        ,\n",
       "        0.0320971 ], dtype=float32),\n",
       " array([0.1424728 , 0.        , 0.04557486, ..., 0.        , 0.        ,\n",
       "        0.34159976], dtype=float32),\n",
       " array([0.        , 0.        , 0.15243438, ..., 0.        , 0.        ,\n",
       "        0.        ], dtype=float32),\n",
       " array([0.        , 0.        , 0.        , ..., 0.        , 0.        ,\n",
       "        0.03066591], dtype=float32),\n",
       " array([0.        , 0.        , 0.07816374, ..., 0.        , 0.        ,\n",
       "        0.04768229], dtype=float32),\n",
       " array([0.0015346, 0.       , 0.       , ..., 0.       , 0.       ,\n",
       "        0.       ], dtype=float32),\n",
       " array([0.29779762, 0.        , 0.        , ..., 0.        , 0.        ,\n",
       "        0.01190546], dtype=float32),\n",
       " array([0.0141388 , 0.        , 0.        , ..., 0.        , 0.        ,\n",
       "        0.04476246], dtype=float32),\n",
       " array([0.01319005, 0.0183868 , 0.09800518, ..., 0.        , 0.00313394,\n",
       "        0.10052197], dtype=float32),\n",
       " array([1.6148017e-01, 6.2384899e-04, 8.8472855e-01, ..., 2.1925313e-02,\n",
       "        4.5033279e-03, 1.1010051e-01], dtype=float32),\n",
       " array([0.43125215, 0.29789466, 0.26195022, ..., 0.02254372, 0.        ,\n",
       "        0.00659047], dtype=float32),\n",
       " array([0.32467476, 0.3338894 , 0.59530675, ..., 0.00419716, 0.        ,\n",
       "        0.        ], dtype=float32),\n",
       " array([0.5437658 , 0.        , 0.03996444, ..., 0.00872277, 0.0465419 ,\n",
       "        0.        ], dtype=float32),\n",
       " array([0.       , 0.0839031, 0.       , ..., 0.       , 0.       ,\n",
       "        0.227966 ], dtype=float32),\n",
       " array([0.00395059, 0.        , 0.32436633, ..., 0.        , 0.        ,\n",
       "        0.10016711], dtype=float32),\n",
       " array([0., 0., 0., ..., 0., 0., 0.], dtype=float32),\n",
       " array([0.05894508, 0.13271332, 0.        , ..., 0.        , 0.        ,\n",
       "        0.67158276], dtype=float32),\n",
       " array([0.39246655, 0.        , 0.        , ..., 0.04031099, 0.        ,\n",
       "        0.0299475 ], dtype=float32),\n",
       " array([0.32977632, 0.05797301, 0.01030811, ..., 0.        , 0.        ,\n",
       "        0.60211295], dtype=float32),\n",
       " array([0.        , 0.03977969, 0.004193  , ..., 0.        , 0.01370212,\n",
       "        0.11034714], dtype=float32),\n",
       " array([0.        , 0.08025439, 0.09096336, ..., 0.00635208, 0.03425963,\n",
       "        0.05545739], dtype=float32),\n",
       " array([0.05337078, 0.        , 0.        , ..., 0.        , 0.        ,\n",
       "        0.05000622], dtype=float32),\n",
       " array([7.3325878e-05, 1.6540459e-03, 2.8336214e-02, ..., 0.0000000e+00,\n",
       "        8.1464900e-03, 1.3091223e-02], dtype=float32),\n",
       " array([0.        , 0.        , 0.01502095, ..., 0.        , 0.39615154,\n",
       "        0.15065171], dtype=float32),\n",
       " array([0.03733993, 0.        , 0.05032771, ..., 0.        , 0.05619705,\n",
       "        0.07074153], dtype=float32),\n",
       " array([0.02043773, 0.        , 0.        , ..., 0.        , 0.        ,\n",
       "        0.09634005], dtype=float32),\n",
       " array([0., 0., 0., ..., 0., 0., 0.], dtype=float32),\n",
       " array([0.        , 0.        , 0.        , ..., 0.        , 0.        ,\n",
       "        0.05427916], dtype=float32),\n",
       " array([0.0007907 , 0.        , 0.        , ..., 0.        , 0.        ,\n",
       "        0.17309298], dtype=float32),\n",
       " array([0.        , 0.        , 0.04631102, ..., 0.        , 0.3748916 ,\n",
       "        0.        ], dtype=float32),\n",
       " array([0.08483735, 0.        , 0.        , ..., 0.        , 0.        ,\n",
       "        0.        ], dtype=float32),\n",
       " array([0.00531467, 0.02992929, 0.        , ..., 0.05186499, 0.38148156,\n",
       "        0.12085825], dtype=float32),\n",
       " array([0.        , 0.        , 0.06693967, ..., 0.        , 0.        ,\n",
       "        0.        ], dtype=float32),\n",
       " array([0.01202039, 0.        , 0.01282404, ..., 0.        , 0.0476272 ,\n",
       "        0.16696168], dtype=float32),\n",
       " array([0.        , 0.03994741, 0.15624776, ..., 0.0602089 , 0.        ,\n",
       "        0.04375743], dtype=float32),\n",
       " array([0.15563682, 0.        , 0.05348561, ..., 0.        , 0.03072179,\n",
       "        0.        ], dtype=float32),\n",
       " array([0.        , 0.25971252, 0.0766427 , ..., 0.        , 0.05860326,\n",
       "        0.03950782], dtype=float32),\n",
       " array([0.2304951 , 0.        , 0.0080355 , ..., 0.03114438, 0.        ,\n",
       "        0.        ], dtype=float32),\n",
       " array([0., 0., 0., ..., 0., 0., 0.], dtype=float32),\n",
       " ...]"
      ]
     },
     "execution_count": 19,
     "metadata": {},
     "output_type": "execute_result"
    }
   ],
   "source": [
    "embeddings"
   ]
  },
  {
   "cell_type": "code",
   "execution_count": 20,
   "metadata": {},
   "outputs": [
    {
     "data": {
      "text/plain": [
       "[{'objectID': 157612, 'title': 'Orphrey'},\n",
       " {'objectID': 462739, 'title': 'Solidus'},\n",
       " {'objectID': 462740, 'title': 'Gold Solidus of Theodosius II (408–50)'},\n",
       " {'objectID': 462741, 'title': 'Solidus'},\n",
       " {'objectID': 462742,\n",
       "  'title': 'Solidus of Heraclius and Heraclius Constantine'},\n",
       " {'objectID': 462743,\n",
       "  'title': 'Solidus of Heraclius, Heraclius Constantine, and Heraclonas'},\n",
       " {'objectID': 462744, 'title': 'Panel with John the Baptist and other saints'},\n",
       " {'objectID': 462765, 'title': 'Solidus'},\n",
       " {'objectID': 462766, 'title': 'Solidus'},\n",
       " {'objectID': 462767, 'title': 'Solidus'},\n",
       " {'objectID': 462768, 'title': 'Gold Solidus of Constans II (641–68)'},\n",
       " {'objectID': 462769, 'title': 'Solidus'},\n",
       " {'objectID': 462770, 'title': 'Gold Tremissis of Emperor Justinian I'},\n",
       " {'objectID': 462771, 'title': 'Olearium'},\n",
       " {'objectID': 462773, 'title': 'Chest Front'},\n",
       " {'objectID': 462776, 'title': 'Pietà (Lamentation)'},\n",
       " {'objectID': 462778, 'title': 'Chest Front'},\n",
       " {'objectID': 462780, 'title': 'Chest Front'},\n",
       " {'objectID': 462786, 'title': 'Cassone'},\n",
       " {'objectID': 462787, 'title': 'Chest Front'},\n",
       " {'objectID': 462789, 'title': 'Boss or Volute'},\n",
       " {'objectID': 462800, 'title': 'Altar Frontal Textile'},\n",
       " {'objectID': 462871, 'title': 'Ascoli Cope'},\n",
       " {'objectID': 462872, 'title': 'Panel with Coat of Arms'},\n",
       " {'objectID': 462873, 'title': 'Panel with Coat of Arms'},\n",
       " {'objectID': 462874, 'title': 'Beaker with Cobalt Trailing'},\n",
       " {'objectID': 462875, 'title': 'Beaker'},\n",
       " {'objectID': 462876, 'title': 'Beaker'},\n",
       " {'objectID': 462877, 'title': 'Beaker'},\n",
       " {'objectID': 462880, 'title': 'Cabinet'},\n",
       " {'objectID': 462886, 'title': 'Nativity'},\n",
       " {'objectID': 462887, 'title': 'Female Saint'},\n",
       " {'objectID': 462888, 'title': 'Descent from the Cross'},\n",
       " {'objectID': 462890, 'title': 'Key or Key Handle'},\n",
       " {'objectID': 462891, 'title': 'Key Handle'},\n",
       " {'objectID': 462892, 'title': 'Key'},\n",
       " {'objectID': 462893, 'title': 'Key Handle'},\n",
       " {'objectID': 462894, 'title': 'Key Handle'},\n",
       " {'objectID': 462895, 'title': 'Key Handle'},\n",
       " {'objectID': 462896, 'title': 'Key Handle'},\n",
       " {'objectID': 462897, 'title': 'Key Handle'},\n",
       " {'objectID': 462898, 'title': 'Key Handle'},\n",
       " {'objectID': 462899, 'title': 'Key Handle'},\n",
       " {'objectID': 462900, 'title': 'Key Handle'},\n",
       " {'objectID': 462901, 'title': 'Key Handle'},\n",
       " {'objectID': 462902, 'title': 'Key-Handle'},\n",
       " {'objectID': 462903, 'title': 'Key Handle'},\n",
       " {'objectID': 462904, 'title': 'Key Handle'},\n",
       " {'objectID': 462905, 'title': 'Key Handle'},\n",
       " {'objectID': 462906, 'title': 'Key Handle'},\n",
       " {'objectID': 462907, 'title': 'Key Handle in the Form of a Horse’s Head'},\n",
       " {'objectID': 462908, 'title': 'Key Handle or Knife Handle'},\n",
       " {'objectID': 462909, 'title': 'Key Handle'},\n",
       " {'objectID': 462910, 'title': 'Key Handle'},\n",
       " {'objectID': 462911, 'title': 'Key Handle'},\n",
       " {'objectID': 462912, 'title': 'Key Handle'},\n",
       " {'objectID': 462913, 'title': 'Key-Handle'},\n",
       " {'objectID': 462914, 'title': 'Key Handle'},\n",
       " {'objectID': 462915, 'title': 'Key Handle'},\n",
       " {'objectID': 462916, 'title': 'Key Handle'},\n",
       " {'objectID': 462917, 'title': 'Key Handle'},\n",
       " {'objectID': 462918, 'title': 'Key Handle'},\n",
       " {'objectID': 462919, 'title': 'Key Handle'},\n",
       " {'objectID': 462920, 'title': 'Key Handle'},\n",
       " {'objectID': 462921, 'title': 'Key Handle or Knife Handle'},\n",
       " {'objectID': 462922, 'title': 'Top of Key Handle'},\n",
       " {'objectID': 462923, 'title': 'Fragment of Key Handle'},\n",
       " {'objectID': 462924, 'title': 'Key Handle'},\n",
       " {'objectID': 462925, 'title': 'Top of Key Handle'},\n",
       " {'objectID': 462926, 'title': 'Key Handle'},\n",
       " {'objectID': 462927, 'title': 'Key Handle'},\n",
       " {'objectID': 462928, 'title': 'Key Handle'},\n",
       " {'objectID': 462929, 'title': 'Key Handle'},\n",
       " {'objectID': 462930, 'title': 'Key Handle'},\n",
       " {'objectID': 462931, 'title': 'Key Handle'},\n",
       " {'objectID': 462932, 'title': 'Key Handle'},\n",
       " {'objectID': 462933, 'title': 'Key Handle'},\n",
       " {'objectID': 462934, 'title': 'Key Handle'},\n",
       " {'objectID': 462935, 'title': 'Key Handle'},\n",
       " {'objectID': 462936, 'title': 'Key Handle'},\n",
       " {'objectID': 462937, 'title': 'Key Handle'},\n",
       " {'objectID': 462938, 'title': 'Key Handle'},\n",
       " {'objectID': 462939, 'title': 'Key Latch'},\n",
       " {'objectID': 462940, 'title': 'Key'},\n",
       " {'objectID': 462941, 'title': 'Key Latch'},\n",
       " {'objectID': 462942, 'title': 'Key'},\n",
       " {'objectID': 462943, 'title': 'Key'},\n",
       " {'objectID': 462944, 'title': 'Key'},\n",
       " {'objectID': 462945, 'title': 'Key'},\n",
       " {'objectID': 462946, 'title': 'Key Handle'},\n",
       " {'objectID': 462947, 'title': 'Key'},\n",
       " {'objectID': 462948, 'title': 'Key'},\n",
       " {'objectID': 462949, 'title': 'Key'},\n",
       " {'objectID': 462950, 'title': 'Key'},\n",
       " {'objectID': 462951, 'title': 'Key'},\n",
       " {'objectID': 462952, 'title': 'Key Latch'},\n",
       " {'objectID': 462953, 'title': 'Key with Bow'},\n",
       " {'objectID': 462954, 'title': 'Key'},\n",
       " {'objectID': 462955, 'title': 'Key'},\n",
       " {'objectID': 462956, 'title': 'Key'},\n",
       " {'objectID': 462957, 'title': 'Key Handle'},\n",
       " {'objectID': 462958, 'title': 'Key'},\n",
       " {'objectID': 462959, 'title': 'Key Handle'},\n",
       " {'objectID': 462960, 'title': 'Key Handle'},\n",
       " {'objectID': 462961, 'title': 'Key Handle or Knife Handle'},\n",
       " {'objectID': 462962, 'title': 'Key'},\n",
       " {'objectID': 462963, 'title': 'Key'},\n",
       " {'objectID': 462964, 'title': 'Key'},\n",
       " {'objectID': 462965, 'title': 'Key'},\n",
       " {'objectID': 462966, 'title': 'Key'},\n",
       " {'objectID': 462967, 'title': 'Key'},\n",
       " {'objectID': 462968, 'title': 'Key Handle'},\n",
       " {'objectID': 462971, 'title': 'Key'},\n",
       " {'objectID': 462972, 'title': 'Key'},\n",
       " {'objectID': 462973, 'title': 'Key'},\n",
       " {'objectID': 462974, 'title': 'Chain Fragment with Suspensory Bar'},\n",
       " {'objectID': 462975, 'title': 'Key'},\n",
       " {'objectID': 462976, 'title': 'Key'},\n",
       " {'objectID': 462977, 'title': 'Key'},\n",
       " {'objectID': 462978, 'title': 'Key'},\n",
       " {'objectID': 462979, 'title': 'Key Handle'},\n",
       " {'objectID': 462980, 'title': 'Key'},\n",
       " {'objectID': 462981, 'title': 'Key'},\n",
       " {'objectID': 462982, 'title': 'Key'},\n",
       " {'objectID': 462983, 'title': 'Key'},\n",
       " {'objectID': 462984, 'title': 'Key'},\n",
       " {'objectID': 462985, 'title': 'Key'},\n",
       " {'objectID': 462986, 'title': 'Key'},\n",
       " {'objectID': 462987, 'title': 'Key Latch'},\n",
       " {'objectID': 462988, 'title': 'Key'},\n",
       " {'objectID': 462989, 'title': 'Key'},\n",
       " {'objectID': 462990, 'title': 'The Entombment'},\n",
       " {'objectID': 462991, 'title': 'The Ascension'},\n",
       " {'objectID': 462992, 'title': 'The Crucifixion'},\n",
       " {'objectID': 462997, 'title': 'Crucifix'},\n",
       " {'objectID': 462998, 'title': 'Textile with Animals and Birds'},\n",
       " {'objectID': 462999, 'title': 'High-Backed Chair'},\n",
       " {'objectID': 463000, 'title': 'Coffer'},\n",
       " {'objectID': 463001, 'title': 'Saint Catherine of Alexandria'},\n",
       " {'objectID': 463002, 'title': 'Pyx'},\n",
       " {'objectID': 463014, 'title': 'Chest'},\n",
       " {'objectID': 463021, 'title': 'Candlestick'},\n",
       " {'objectID': 463022, 'title': 'Brocade Textile'},\n",
       " {'objectID': 463023, 'title': 'Brocade Textile'},\n",
       " {'objectID': 463024, 'title': 'Brocade Textile'},\n",
       " {'objectID': 463026, 'title': 'Pilaster'},\n",
       " {'objectID': 463027, 'title': 'Pilaster'},\n",
       " {'objectID': 463028, 'title': 'Pilaster'},\n",
       " {'objectID': 463029, 'title': 'Pilaster'},\n",
       " {'objectID': 463030, 'title': 'Pilaster'},\n",
       " {'objectID': 463031, 'title': 'Pilaster'},\n",
       " {'objectID': 463032,\n",
       "  'title': 'The Entombment of Christ with the Virgin Mary, Saint John, Nicodemus, and Joseph of Arimathea'},\n",
       " {'objectID': 463033, 'title': 'Credence'},\n",
       " {'objectID': 463035, 'title': 'Top of a Fire Screen'},\n",
       " {'objectID': 463036,\n",
       "  'title': 'Scenes from the Story of the Seven Sacraments, Matrimony and Extreme Unction'},\n",
       " {'objectID': 463037,\n",
       "  'title': 'Scenes from the Story of the Seven Sacraments, God the Father Uniting Adam and Eve, and David Being Annoited King at Hebron'},\n",
       " {'objectID': 463038,\n",
       "  'title': 'Seven Scenes from the Story of the Seven Sacraments, Namaan Being Cleansed in the Jordan'},\n",
       " {'objectID': 463039,\n",
       "  'title': 'Seven Scenes from the Story of the Seven Sacraments, Jacob Blessing Ephraim and Manasseh'},\n",
       " {'objectID': 463040,\n",
       "  'title': 'Seven Scenes from the Story of the Seven Sacraments, Baptism'},\n",
       " {'objectID': 463041, 'title': 'Figured Silk Weave Textile'},\n",
       " {'objectID': 463044, 'title': 'Bell of Saint Patrick'},\n",
       " {'objectID': 463045, 'title': 'Ardagh Brooch'},\n",
       " {'objectID': 463048, 'title': 'Cross of Cong'},\n",
       " {'objectID': 463050, 'title': 'The Ardagh Chalice'},\n",
       " {'objectID': 463052, 'title': 'Dish'},\n",
       " {'objectID': 463080, 'title': 'Chalice and Paten'},\n",
       " {'objectID': 463081, 'title': 'Paten'},\n",
       " {'objectID': 463082, 'title': 'Chalice'},\n",
       " {'objectID': 463083, 'title': 'Crozier Head'},\n",
       " {'objectID': 463084, 'title': 'Crozier Head'},\n",
       " {'objectID': 463085, 'title': 'Pharmacy Jar'},\n",
       " {'objectID': 463086, 'title': 'Pharmacy Jar'},\n",
       " {'objectID': 463087, 'title': 'Virgin, Saint Anne & Saint Joachim'},\n",
       " {'objectID': 463091, 'title': 'Escutcheon'},\n",
       " {'objectID': 463092, 'title': 'Escutcheon'},\n",
       " {'objectID': 463093, 'title': 'Cistern or Fountain'},\n",
       " {'objectID': 463094, 'title': 'Book Cover'},\n",
       " {'objectID': 463095, 'title': 'Book Cover'},\n",
       " {'objectID': 463096, 'title': 'Column Statue of Saint Hilary of Galeata'},\n",
       " {'objectID': 463107, 'title': 'Panel'},\n",
       " {'objectID': 463108, 'title': 'Panels'},\n",
       " {'objectID': 463115, 'title': \"Pilgrim's Badge\"},\n",
       " {'objectID': 463116, 'title': \"Pilgrim's Badge\"},\n",
       " {'objectID': 463117, 'title': \"Pilgrim's Badge\"},\n",
       " {'objectID': 463118, 'title': \"Pilgrim's Badge\"},\n",
       " {'objectID': 463125, 'title': 'Dalriada Brooch'},\n",
       " {'objectID': 463127, 'title': 'Celtic Brooch'},\n",
       " {'objectID': 463132, 'title': 'Lismore Crozier'},\n",
       " {'objectID': 463140, 'title': 'Lough Erne Shrine'},\n",
       " {'objectID': 463141, 'title': 'Lough Erne Shrine'},\n",
       " {'objectID': 463142, 'title': '\"Book of Dimma\" Shrine'},\n",
       " {'objectID': 463150, 'title': 'Brooch from Kilmainham'},\n",
       " {'objectID': 463151, 'title': 'Crescent or Gorget'},\n",
       " {'objectID': 463156, 'title': 'Cross of Clogher'},\n",
       " {'objectID': 463157, 'title': \"Crozier of Dysert O'Dea\"},\n",
       " {'objectID': 463158,\n",
       "  'title': 'Crozier of Saint Mura, of Fahan, County Donegal'},\n",
       " {'objectID': 463159, 'title': 'Shrine of The Gospels of Saint Molaise'},\n",
       " {'objectID': 463160, 'title': \"Shrine of Saint Patrick's Gospels\"},\n",
       " {'objectID': 463162, 'title': \"Shrine of Saint Patrick's Hand\"},\n",
       " {'objectID': 463164, 'title': \"Shrine of Saint Lachtin's Arm\"},\n",
       " {'objectID': 463165, 'title': \"Shrine of O'Donnell, Cathach or Battler\"},\n",
       " {'objectID': 463166, 'title': 'Crozier of Crmac McCarthy'},\n",
       " {'objectID': 463177, 'title': 'Saint Barbara'},\n",
       " {'objectID': 463178, 'title': 'Andiron'},\n",
       " {'objectID': 463179, 'title': 'Wall Bracket'},\n",
       " {'objectID': 463180, 'title': 'Altar Shrine with Four Saints'},\n",
       " {'objectID': 463184, 'title': 'Wall Tile'},\n",
       " {'objectID': 463185, 'title': 'Wall Tile'},\n",
       " {'objectID': 463186, 'title': 'Panel'},\n",
       " {'objectID': 463187,\n",
       "  'title': 'Courtiers in a Rose Garden: Two Ladies and Two Gentlemen'},\n",
       " {'objectID': 463188,\n",
       "  'title': 'Courtiers in a Rose Garden: A Lady and Two Gentlemen'},\n",
       " {'objectID': 463189,\n",
       "  'title': 'Courtiers in a Rose Garden: Four Gentlemen and Four Ladies'},\n",
       " {'objectID': 463190, 'title': 'Mourning Virgin'},\n",
       " {'objectID': 463193, 'title': 'Decorative Roundel'},\n",
       " {'objectID': 463194, 'title': 'Decorative Roundel'},\n",
       " {'objectID': 463195, 'title': 'Decorative Roundel'},\n",
       " {'objectID': 463197, 'title': 'Censer'},\n",
       " {'objectID': 463198, 'title': 'Censer'},\n",
       " {'objectID': 463199, 'title': 'Censer with Animal and Scroll Motifs'},\n",
       " {'objectID': 463200, 'title': 'Censer with Pierced Geometric Motifs'},\n",
       " {'objectID': 463202, 'title': 'Fragment of an Animal Relief'},\n",
       " {'objectID': 463203, 'title': 'Decorative Roundel'},\n",
       " {'objectID': 463204, 'title': 'Arch'},\n",
       " {'objectID': 463205, 'title': 'Pilasters'},\n",
       " {'objectID': 463207,\n",
       "  'title': 'Episodes in the Story of the Vengeance of Our Lord'},\n",
       " {'objectID': 463208, 'title': 'Jug'},\n",
       " {'objectID': 463209, 'title': 'Salver'},\n",
       " {'objectID': 463210, 'title': 'Cup and Cover'},\n",
       " {'objectID': 463211, 'title': 'Pax'},\n",
       " {'objectID': 463212, 'title': 'Monstrance'},\n",
       " {'objectID': 463213, 'title': 'Coffret'},\n",
       " {'objectID': 463214, 'title': 'Cabinet or Double Hutch'},\n",
       " {'objectID': 463215, 'title': 'Cup and Cover'},\n",
       " {'objectID': 463216, 'title': 'Cup'},\n",
       " {'objectID': 463217, 'title': 'Beaker and Cover'},\n",
       " {'objectID': 463218, 'title': 'Brooch'},\n",
       " {'objectID': 463219, 'title': 'Brooch'},\n",
       " {'objectID': 463220, 'title': 'Cup and Cover'},\n",
       " {'objectID': 463221, 'title': 'Cup or Bratina'},\n",
       " {'objectID': 463222, 'title': 'Cup or Bratina'},\n",
       " {'objectID': 463227, 'title': 'Textile, Brocade'},\n",
       " {'objectID': 463228, 'title': 'Textile with Lions and Peacocks'},\n",
       " {'objectID': 463229, 'title': 'Textile with Lions and Peacocks'},\n",
       " {'objectID': 463230, 'title': 'Textile with Brocade'},\n",
       " {'objectID': 463231, 'title': 'Textile with Brocade'},\n",
       " {'objectID': 463232, 'title': 'Textile with Brocade'},\n",
       " {'objectID': 463233, 'title': 'Textile with Eagle, Rayed Sun, and Flowers'},\n",
       " {'objectID': 463234, 'title': 'Textile'},\n",
       " {'objectID': 463235, 'title': 'Textile with Birds'},\n",
       " {'objectID': 463236, 'title': 'Textile with Birds'},\n",
       " {'objectID': 463238, 'title': 'Textile with Crescents'},\n",
       " {'objectID': 463239, 'title': 'Printed Textile'},\n",
       " {'objectID': 463240, 'title': 'Textile'},\n",
       " {'objectID': 463241, 'title': 'Printed Textile'},\n",
       " {'objectID': 463242, 'title': 'Fragment of Printed Linen'},\n",
       " {'objectID': 463247, 'title': 'Textile with Trellis Pattern'},\n",
       " {'objectID': 463248, 'title': 'Textile withTrellis Pattern'},\n",
       " {'objectID': 463249, 'title': 'Textile with Stars and Swastika'},\n",
       " {'objectID': 463250,\n",
       "  'title': 'Textile with Interlacing Bands forming Swastika Figures'},\n",
       " {'objectID': 463252, 'title': 'Textile with Geometrical Designs'},\n",
       " {'objectID': 463253, 'title': 'Brocade Textile'},\n",
       " {'objectID': 463254, 'title': 'Textile'},\n",
       " {'objectID': 463255, 'title': 'Textile with Flower Motif'},\n",
       " {'objectID': 463256, 'title': 'Textile with Figured Silk Weave'},\n",
       " {'objectID': 463257, 'title': 'Textile with Old Rose in Diaper Pattern'},\n",
       " {'objectID': 463258, 'title': 'Textile'},\n",
       " {'objectID': 463276, 'title': 'Textile Fragment'},\n",
       " {'objectID': 463277, 'title': 'Textile Fragment'},\n",
       " {'objectID': 463278, 'title': 'Textile Fragment'},\n",
       " {'objectID': 463279, 'title': 'Textile Fragment'},\n",
       " {'objectID': 463281, 'title': 'Textile'},\n",
       " {'objectID': 463282, 'title': 'Band'},\n",
       " {'objectID': 463283, 'title': 'Brocade Band'},\n",
       " {'objectID': 463284, 'title': 'Orphrey Band'},\n",
       " {'objectID': 463285, 'title': 'Brocatelle Textile'},\n",
       " {'objectID': 463286, 'title': 'Textile with Silk and Linen Weave'},\n",
       " {'objectID': 463287, 'title': 'Textile Band'},\n",
       " {'objectID': 463288, 'title': 'Brocade Textile'},\n",
       " {'objectID': 463290, 'title': 'Brocade Textile'},\n",
       " {'objectID': 463291, 'title': 'Textile'},\n",
       " {'objectID': 463292, 'title': 'Fragment of Textile Band'},\n",
       " {'objectID': 463293, 'title': 'Band'},\n",
       " {'objectID': 463294, 'title': 'Textile'},\n",
       " {'objectID': 463295, 'title': 'Textile'},\n",
       " {'objectID': 463296, 'title': 'Textile'},\n",
       " {'objectID': 463297, 'title': 'Textile'},\n",
       " {'objectID': 463298,\n",
       "  'title': 'Textile with Architectural Fountain Guarded by Lions'},\n",
       " {'objectID': 463299,\n",
       "  'title': \"Textile with Foliated Ornament and Eagle's Head\"},\n",
       " {'objectID': 463300,\n",
       "  'title': \"Textile with Foliated Ornament and Eagle's Head\"},\n",
       " {'objectID': 463301, 'title': 'Textile with Figures'},\n",
       " {'objectID': 463302, 'title': 'Textile with Figures'},\n",
       " {'objectID': 463303, 'title': 'Textile with Figures'},\n",
       " {'objectID': 463304, 'title': 'Textile with Foliated Design'},\n",
       " {'objectID': 463305, 'title': 'Textile with Eagle Attacking Dog'},\n",
       " {'objectID': 463306,\n",
       "  'title': 'Textile with Confronted Parrots and Conventional Foliage'},\n",
       " {'objectID': 463307, 'title': 'Textile with Flower Motive'},\n",
       " {'objectID': 463308, 'title': 'Textile with Griffin'},\n",
       " {'objectID': 463309, 'title': 'Textile with Lions and Peacocks'},\n",
       " {'objectID': 463310, 'title': 'Textile with Lions, Gazelles and Foliage'},\n",
       " {'objectID': 463311, 'title': 'Textile'},\n",
       " {'objectID': 463312, 'title': 'Textile with Floral Ornaments'},\n",
       " {'objectID': 463313, 'title': 'Textile with Brocade'},\n",
       " {'objectID': 463314, 'title': 'The Visitation'},\n",
       " {'objectID': 463315, 'title': 'Ciborium'},\n",
       " {'objectID': 463316, 'title': 'Key'},\n",
       " {'objectID': 463317, 'title': 'Key'},\n",
       " {'objectID': 463318, 'title': 'Key'},\n",
       " {'objectID': 463319, 'title': 'Key'},\n",
       " {'objectID': 463320, 'title': 'Key'},\n",
       " {'objectID': 463321, 'title': 'Key'},\n",
       " {'objectID': 463322, 'title': 'Key'},\n",
       " {'objectID': 463323, 'title': 'Key'},\n",
       " {'objectID': 463324, 'title': 'Key'},\n",
       " {'objectID': 463325, 'title': 'Key'},\n",
       " {'objectID': 463326, 'title': 'Key'},\n",
       " {'objectID': 463327, 'title': 'Key'},\n",
       " {'objectID': 463328, 'title': 'Key'},\n",
       " {'objectID': 463329, 'title': 'Key'},\n",
       " {'objectID': 463330, 'title': 'Key'},\n",
       " {'objectID': 463331, 'title': 'Key'},\n",
       " {'objectID': 463332, 'title': 'Key'},\n",
       " {'objectID': 463333, 'title': 'Spiral Key'},\n",
       " {'objectID': 463334, 'title': 'Key'},\n",
       " {'objectID': 463335, 'title': 'Key'},\n",
       " {'objectID': 463336, 'title': 'Key'},\n",
       " {'objectID': 463337, 'title': 'Key'},\n",
       " {'objectID': 463338, 'title': 'Key'},\n",
       " {'objectID': 463339, 'title': 'Key'},\n",
       " {'objectID': 463340, 'title': 'Key'},\n",
       " {'objectID': 463341, 'title': 'Key'},\n",
       " {'objectID': 463342, 'title': 'Key'},\n",
       " {'objectID': 463343, 'title': 'Key'},\n",
       " {'objectID': 463344, 'title': 'Key'},\n",
       " {'objectID': 463345, 'title': 'Key'},\n",
       " {'objectID': 463346, 'title': 'Key'},\n",
       " {'objectID': 463347, 'title': 'Key'},\n",
       " {'objectID': 463348, 'title': 'Key'},\n",
       " {'objectID': 463349, 'title': 'Key'},\n",
       " {'objectID': 463350, 'title': 'Key'},\n",
       " {'objectID': 463351, 'title': 'Key'},\n",
       " {'objectID': 463352, 'title': 'Key'},\n",
       " {'objectID': 463353, 'title': 'Key'},\n",
       " {'objectID': 463354, 'title': 'Key'},\n",
       " {'objectID': 463355, 'title': 'Key'},\n",
       " {'objectID': 463356, 'title': 'Key'},\n",
       " {'objectID': 463357, 'title': 'Key'},\n",
       " {'objectID': 463358, 'title': 'Key'},\n",
       " {'objectID': 463359, 'title': 'Key'},\n",
       " {'objectID': 463360, 'title': 'Key'},\n",
       " {'objectID': 463361, 'title': 'Part of a Padlock'},\n",
       " {'objectID': 463363, 'title': 'Padlock'},\n",
       " {'objectID': 463365, 'title': 'Padlock'},\n",
       " {'objectID': 463367, 'title': 'Lock, Double-Face Mortise'},\n",
       " {'objectID': 463368, 'title': 'Key'},\n",
       " {'objectID': 463369, 'title': 'Key'},\n",
       " {'objectID': 463370, 'title': 'Key'},\n",
       " {'objectID': 463371, 'title': 'Key'},\n",
       " {'objectID': 463372, 'title': 'Key'},\n",
       " {'objectID': 463373, 'title': 'Key'},\n",
       " {'objectID': 463374, 'title': 'Key'},\n",
       " {'objectID': 463375, 'title': 'Key'},\n",
       " {'objectID': 463376, 'title': 'Key'},\n",
       " {'objectID': 463378, 'title': 'Cupboard'},\n",
       " {'objectID': 463382, 'title': 'Cupboard'},\n",
       " {'objectID': 463384, 'title': 'Aquamanile in the Form of a Horse'},\n",
       " {'objectID': 463387, 'title': 'Gold Solidus of Valentinian I (364–75)'},\n",
       " {'objectID': 463388, 'title': 'Solidus'},\n",
       " {'objectID': 463389, 'title': 'Tremissis'},\n",
       " {'objectID': 463390, 'title': 'Solidus of Justinian II (685-95)'},\n",
       " {'objectID': 463392,\n",
       "  'title': 'Clasp with Intaglio Medallion of the Virgin and Child'},\n",
       " {'objectID': 463393, 'title': 'Bead'},\n",
       " {'objectID': 463394, 'title': 'Plaque with Christ in Majesty'},\n",
       " {'objectID': 463395,\n",
       "  'title': 'Fabulous Winged Creature with Human Face, probably from the foot of a candlestick'},\n",
       " {'objectID': 463396, 'title': 'Crucifix'},\n",
       " {'objectID': 463397,\n",
       "  'title': 'Diptych with the Death and Coronation of the Virgin'},\n",
       " {'objectID': 463400, 'title': 'Plaquette'},\n",
       " {'objectID': 463401, 'title': 'Plaquette'},\n",
       " {'objectID': 463404, 'title': 'Bowl'},\n",
       " {'objectID': 463405, 'title': 'Bowl'},\n",
       " {'objectID': 463406, 'title': 'Footed cup with palmettes'},\n",
       " {'objectID': 463409, 'title': 'Two-Handled Bowl with Fish'},\n",
       " {'objectID': 463410, 'title': 'Censer'},\n",
       " {'objectID': 463411, 'title': 'Censer'},\n",
       " {'objectID': 463412, 'title': 'Beaker and Cover'},\n",
       " {'objectID': 463413, 'title': 'Plate'},\n",
       " {'objectID': 463414,\n",
       "  'title': 'Pilaster of Angels Sounding Trumpets from the Parapet of a Pulpit'},\n",
       " {'objectID': 463415,\n",
       "  'title': 'Pilaster of Angels Sounding Trumpets from the Parapet of a Pulpit'},\n",
       " {'objectID': 463419,\n",
       "  'title': 'Aquamanile in the Form of a Crowned Centaur Fighting a Dragon'},\n",
       " {'objectID': 463491, 'title': 'Relief of Saint Thomas under an ogee arch'},\n",
       " {'objectID': 463492,\n",
       "  'title': 'Relief Altarpiece with Saints Peter, Paul, and John the Baptist'},\n",
       " {'objectID': 463493, 'title': 'Diptych Leaf'},\n",
       " {'objectID': 463502, 'title': 'Cup'},\n",
       " {'objectID': 463503, 'title': 'Cup'},\n",
       " {'objectID': 463504, 'title': 'Cup and Cover'},\n",
       " {'objectID': 463506, 'title': 'Miter Band'},\n",
       " {'objectID': 463507, 'title': 'Mazer Bowl and Foot'},\n",
       " {'objectID': 463508, 'title': 'Mazer Bowl'},\n",
       " {'objectID': 463509, 'title': 'Madonna and Child'},\n",
       " {'objectID': 463511, 'title': 'Medal, Louis XII & Anne Of Brittany'},\n",
       " {'objectID': 463512, 'title': 'Saint Mark'},\n",
       " {'objectID': 463513, 'title': 'Steel Knife with Ivory Handle'},\n",
       " {'objectID': 463514,\n",
       "  'title': 'Pendant with the Crucifixion and Attendant Figures'},\n",
       " {'objectID': 463516, 'title': 'Orphreys and Cope Hood'},\n",
       " {'objectID': 463517, 'title': 'Orphreys from a Cope'},\n",
       " {'objectID': 463527, 'title': 'Mould for a Stamp'},\n",
       " {'objectID': 463529, 'title': 'Jug with Eagle'},\n",
       " {'objectID': 463530, 'title': 'Pitcher'},\n",
       " {'objectID': 463531, 'title': 'Pitcher'},\n",
       " {'objectID': 463532, 'title': 'Pitcher'},\n",
       " {'objectID': 463533, 'title': 'Jug with Flattened Spout'},\n",
       " {'objectID': 463536,\n",
       "  'title': 'Ivory Crozier Head with Christ in Majesty and Throne of Wisdom'},\n",
       " {'objectID': 463537, 'title': 'Diptych'},\n",
       " {'objectID': 463538, 'title': 'Door Knocker Plate'},\n",
       " {'objectID': 463542,\n",
       "  'title': 'Manuscript Illumination with the Assumption of the Virgin in an Initial A, from an Antiphonary'},\n",
       " {'objectID': 463543,\n",
       "  'title': 'Manuscript Illumination with All Saints in an Initial V, from an Antiphonary'},\n",
       " {'objectID': 463544,\n",
       "  'title': 'Manuscript Illumination with the Assumption of the Virgin in an Initial G, from a Gradual'},\n",
       " {'objectID': 463545,\n",
       "  'title': 'Manuscript Illumination with the Presentation in the Temple in an Initial S, from a Gradual'},\n",
       " {'objectID': 463546, 'title': 'Pitcher'},\n",
       " {'objectID': 463547,\n",
       "  'title': 'Bowl Base with Christ Giving Martyrs’ Crowns to Saints Peter and Paul'},\n",
       " {'objectID': 463550,\n",
       "  'title': 'Mirror Cover with the Attack on the Castle of Love'},\n",
       " {'objectID': 463553, 'title': 'Plate'},\n",
       " {'objectID': 463554, 'title': 'Jug with Figure in Profile'},\n",
       " {'objectID': 463555, 'title': 'Baptism of Christ'},\n",
       " {'objectID': 463559, 'title': 'Jug'},\n",
       " {'objectID': 463560, 'title': 'Basin'},\n",
       " {'objectID': 463561, 'title': 'Box'},\n",
       " {'objectID': 463564, 'title': 'Panel'},\n",
       " {'objectID': 463565, 'title': 'Heraldic Shield'},\n",
       " {'objectID': 463570, 'title': 'Adoration of the Magi'},\n",
       " {'objectID': 463571, 'title': 'Ewer'},\n",
       " {'objectID': 463572, 'title': 'Textile with Brocade'},\n",
       " {'objectID': 463573,\n",
       "  'title': 'Textile Fragment with brocade with Bird, Dragon, and Palmette Motifs'},\n",
       " {'objectID': 463576, 'title': 'Saint John the Evangelist'},\n",
       " {'objectID': 463577, 'title': 'Mourning Virgin'},\n",
       " {'objectID': 463579, 'title': 'Saint John'},\n",
       " {'objectID': 463580, 'title': 'Composite Window of English Stained Glass'},\n",
       " {'objectID': 463582,\n",
       "  'title': 'Stained Glass Panel with Saint Roch, the van Merle Family Arms and a Donor'},\n",
       " {'objectID': 463585, 'title': 'Shrine, Saint Manchan'},\n",
       " {'objectID': 463586, 'title': 'Brooch'},\n",
       " {'objectID': 463587, 'title': 'Book or Shrine, Cumdach of the Stowe Missal'},\n",
       " {'objectID': 463588, 'title': 'Bell of Clogher'},\n",
       " {'objectID': 463591, 'title': 'Chalice'},\n",
       " {'objectID': 463592, 'title': 'Dunvegan Cup'},\n",
       " {'objectID': 463593, 'title': 'Situla'},\n",
       " {'objectID': 463594, 'title': 'Processional Cross'},\n",
       " {'objectID': 463595, 'title': 'Footed Cup with Falconer'},\n",
       " {'objectID': 463596, 'title': 'Bowl'},\n",
       " {'objectID': 463597, 'title': 'Bowl'},\n",
       " {'objectID': 463598, 'title': 'Bowl'},\n",
       " {'objectID': 463599, 'title': 'Textile with Brocade'},\n",
       " {'objectID': 463600, 'title': 'Textile with Brocade'},\n",
       " {'objectID': 463602,\n",
       "  'title': 'Manuscript Illumination with Scenes of Easter in an Initial A, from an Antiphonary'},\n",
       " {'objectID': 463603,\n",
       "  'title': 'Manuscript Illumination with the Virgin and Child in an Initial S, from an Antiphonary'},\n",
       " {'objectID': 463604,\n",
       "  'title': 'Manuscript Illumination with David in Prayer in an Initial M, from a Psalter'},\n",
       " {'objectID': 463605,\n",
       "  'title': 'Manuscript Illumination with Singing Monks in an Initial D, from a Psalter'},\n",
       " {'objectID': 463607,\n",
       "  'title': 'Plaque with the Head of Saint John the Baptist on a Charger'},\n",
       " {'objectID': 463610, 'title': 'Orphrey'},\n",
       " {'objectID': 32830,\n",
       "  'title': 'Initial P with the Martyrdom of Saint Peter Martyr'},\n",
       " {'objectID': 32831,\n",
       "  'title': 'Initial S with Saint Peter Liberated from Prison'},\n",
       " {'objectID': 32832, 'title': 'Initial A with the Battle of the Maccabees'},\n",
       " {'objectID': 32833,\n",
       "  'title': 'Manuscript Leaf Showing an Illuminated Initial A and The Resurrection'},\n",
       " {'objectID': 32834,\n",
       "  'title': 'Manuscript Cutting from the Grande Chroniques de France'},\n",
       " {'objectID': 32835,\n",
       "  'title': 'Manuscript Cutting Showing a Scene from Hebrew Scripture, Perhaps the Life of King David (?)'},\n",
       " {'objectID': 32836, 'title': 'David and Goliath'},\n",
       " {'objectID': 32837,\n",
       "  'title': 'Manuscript Leaf from a Book of Hours Showing an Illuminated Initial D and Christ Bearing the Cross'},\n",
       " {'objectID': 32838,\n",
       "  'title': 'Manuscript Leaf Cutting showing an Illuminated Initial R with St. Protasius and St. Gervasius'},\n",
       " {'objectID': 32839,\n",
       "  'title': 'Manuscript Leaf Cutting from a Choir Book with an Illuminated Initial B and the Archangel Michael'},\n",
       " {'objectID': 32840,\n",
       "  'title': 'Manuscript Leaf Cutting Probably from a Missal with an Illuminated Initial S and King David Receiving the Holy Bread from Ahimelech the Priest.'},\n",
       " {'objectID': 32947,\n",
       "  'title': 'Manuscript Leaf Showing an Illuminated Initial R with The Resurrection'},\n",
       " {'objectID': 463706, 'title': 'Enthroned Virgin and Child'},\n",
       " {'objectID': 463707, 'title': 'Pharmacy Jar'},\n",
       " {'objectID': 463708,\n",
       "  'title': 'Pharmacy Jar with the Arms of the Hospital of Santa Maria della Scala'},\n",
       " {'objectID': 463709, 'title': 'Jug'},\n",
       " {'objectID': 463710, 'title': 'Jug'},\n",
       " {'objectID': 463711, 'title': 'Dish'},\n",
       " {'objectID': 463712, 'title': 'Fragment of a Glass Bowl'},\n",
       " {'objectID': 463713, 'title': 'Bowl Base with Miracle Scenes'},\n",
       " {'objectID': 463714,\n",
       "  'title': 'Bowl Base with Saints Peter and Paul Flanking a Column with the Christogram of Christ'},\n",
       " {'objectID': 463715, 'title': 'Fragment'},\n",
       " {'objectID': 463716, 'title': 'Pietà with Donors'},\n",
       " {'objectID': 463717, 'title': 'Entombment of Christ'},\n",
       " {'objectID': 463718, 'title': 'Wooden Frame from an Entombment Group'},\n",
       " {'objectID': 463720, 'title': 'Cupboard'},\n",
       " {'objectID': 463721, 'title': 'Double Column'},\n",
       " {'objectID': 463727, 'title': 'The Annunciation'},\n",
       " {'objectID': 463728, 'title': 'Chest'},\n",
       " {'objectID': 463732, 'title': 'Double Column'},\n",
       " {'objectID': 463741, 'title': 'St. Margaret'},\n",
       " {'objectID': 463742, 'title': 'Saint Anne with the Virgin and Child'},\n",
       " {'objectID': 463744, 'title': 'Frieze'},\n",
       " {'objectID': 463746, 'title': 'Choir Stall'},\n",
       " {'objectID': 463747, 'title': 'Choir Stalls'},\n",
       " {'objectID': 463749, 'title': 'Capital'},\n",
       " {'objectID': 463750, 'title': 'Capital'},\n",
       " {'objectID': 463751, 'title': 'Saint James the Lesser'},\n",
       " {'objectID': 463752, 'title': 'Apostle'},\n",
       " {'objectID': 463753, 'title': 'St. Michael'},\n",
       " {'objectID': 463755, 'title': 'Nativity'},\n",
       " {'objectID': 463756, 'title': 'Ecclesiastical Figure'},\n",
       " {'objectID': 463757, 'title': 'Choir Stall'},\n",
       " {'objectID': 463758, 'title': 'Saint Mary Magdalene'},\n",
       " {'objectID': 463759, 'title': 'Virgin and Child'},\n",
       " {'objectID': 463760, 'title': 'Crown'},\n",
       " {'objectID': 463762, 'title': 'Virgin and Child'},\n",
       " {'objectID': 463765, 'title': 'Virgin and Child'},\n",
       " {'objectID': 463768, 'title': 'Six Apostles from Retable'},\n",
       " {'objectID': 463770, 'title': 'Virgin and Child'},\n",
       " {'objectID': 463771, 'title': 'Saint Mary Magdalene'},\n",
       " {'objectID': 463772, 'title': 'Virgin and Child'},\n",
       " {'objectID': 463773, 'title': 'Mourner'},\n",
       " {'objectID': 463776, 'title': 'Architectural Fragment'},\n",
       " {'objectID': 463777, 'title': 'Architectural Fragment'},\n",
       " {'objectID': 463778, 'title': 'Crucifix'},\n",
       " {'objectID': 463784, 'title': 'Screen'},\n",
       " {'objectID': 463785, 'title': 'Enthroned Virgin and Child'},\n",
       " {'objectID': 463786, 'title': 'Mourning Virgin from a Crucifixion Group'},\n",
       " {'objectID': 463787, 'title': 'Saint George Slaying the Dragon'},\n",
       " {'objectID': 463788, 'title': 'Saint Roch'},\n",
       " {'objectID': 463789, 'title': 'Monastic Saint'},\n",
       " {'objectID': 463791, 'title': 'St. Peter'},\n",
       " {'objectID': 463792, 'title': 'St. Paul'},\n",
       " {'objectID': 463793, 'title': 'Standing Saint or Apostle'},\n",
       " {'objectID': 463794,\n",
       "  'title': 'Saint Nicholas with the Three Boys in the Pickling Tub'},\n",
       " {'objectID': 463795, 'title': 'Virgin and Child in Majesty'},\n",
       " {'objectID': 463796, 'title': 'Angel with handkerchief of Saint Veronica'},\n",
       " {'objectID': 463797, 'title': 'Angel with Emblem of The Passion'},\n",
       " {'objectID': 463798, 'title': 'Saint Bridget of Sweden'},\n",
       " {'objectID': 463800, 'title': 'Mater Dolorosa'},\n",
       " {'objectID': 463802, 'title': 'Chest'},\n",
       " {'objectID': 463805, 'title': 'St. John'},\n",
       " {'objectID': 463807, 'title': 'Trumpeter'},\n",
       " {'objectID': 463810,\n",
       "  'title': 'The Virgin and Child, Saint Anne, and Saint Emerentia'},\n",
       " {'objectID': 463813, 'title': 'Death of the Virgin'},\n",
       " {'objectID': 463816,\n",
       "  'title': 'Meeting of Saints Joachim and Anne at the Golden Gate'},\n",
       " {'objectID': 463817, 'title': 'Apostles in Prayer'},\n",
       " {'objectID': 463818,\n",
       "  'title': 'Virgin, Saint John, and Three Holy Women from a Crucifixion'},\n",
       " {'objectID': 463819, 'title': 'Descent from the Cross'},\n",
       " {'objectID': 463820, 'title': 'Descent from the Cross'},\n",
       " {'objectID': 463821, 'title': 'Christ among the Doctors'},\n",
       " {'objectID': 463822, 'title': 'Three Soldiers'},\n",
       " {'objectID': 463824, 'title': 'The Entombment of Christ'},\n",
       " {'objectID': 463825, 'title': 'The Entombment'},\n",
       " {'objectID': 463826, 'title': 'Saint Anne with the Virgin and Child'},\n",
       " {'objectID': 463827, 'title': 'Virgin of the Annunciation'},\n",
       " {'objectID': 463828,\n",
       "  'title': 'St. Augustine (or St. Ambrose) and St. Jerome'},\n",
       " {'objectID': 463829, 'title': 'The Savior'},\n",
       " {'objectID': 463830, 'title': 'Saint Peter'},\n",
       " {'objectID': 463831, 'title': 'Saint Paul'},\n",
       " {'objectID': 463832, 'title': 'St. James the Great'},\n",
       " {'objectID': 463833, 'title': 'Triple Choir Stall with Canopy'},\n",
       " {'objectID': 463834, 'title': 'Saint John, Apostle and Evangelist'},\n",
       " {'objectID': 463835, 'title': 'Saint Thomas'},\n",
       " {'objectID': 463836, 'title': 'St. James the Less'},\n",
       " {'objectID': 463837, 'title': 'Saint Phillip'},\n",
       " {'objectID': 463838, 'title': 'Saint Simon'},\n",
       " {'objectID': 463839, 'title': 'Saint Matthias (?)'},\n",
       " {'objectID': 463840, 'title': 'Saint Matthew (?)'},\n",
       " {'objectID': 463841, 'title': 'Saint Andrew (?)'},\n",
       " {'objectID': 463844, 'title': 'Armoire'},\n",
       " {'objectID': 463855,\n",
       "  'title': 'The Crown of Thorns with the Lamentation or Pietà'},\n",
       " {'objectID': 463862,\n",
       "  'title': 'Judas Entering the Garden of Gethsemane to Betray Christ'},\n",
       " {'objectID': 463865, 'title': 'Entombment'},\n",
       " {'objectID': 463867, 'title': 'Virgin Supported by Saint John'},\n",
       " {'objectID': 463868, 'title': 'Virgin Fainting at the Cross'},\n",
       " {'objectID': 463869, 'title': 'Pietà'},\n",
       " {'objectID': 463870, 'title': 'Corbel with Angels'},\n",
       " {'objectID': 463871, 'title': 'Corbel with Angels'},\n",
       " {'objectID': 463872, 'title': 'Saint Anne with Virgin and Child'},\n",
       " {'objectID': 463880, 'title': 'Sainted Abbot'},\n",
       " {'objectID': 463884, 'title': 'Two Women'},\n",
       " {'objectID': 463885,\n",
       "  'title': 'Funerary Relief from the Tomb of Milon de Donzy (d. 1337-38), dean of the Cathedral of Nevers'},\n",
       " {'objectID': 463889, 'title': 'Christ Crowned with Thorns'},\n",
       " {'objectID': 463893, 'title': 'The Kiss of Judas'},\n",
       " {'objectID': 463895, 'title': 'Saint John the Baptist'},\n",
       " {'objectID': 463897, 'title': 'Choir Stall Fragment'},\n",
       " {'objectID': 463898, 'title': 'Choir Stall Fragment (?)'},\n",
       " {'objectID': 463900, 'title': 'Virgin and Child'},\n",
       " {'objectID': 463903, 'title': 'Virgin and Child'},\n",
       " {'objectID': 463905, 'title': 'Bellows with Relief'},\n",
       " {'objectID': 463906, 'title': 'Bellows with Relief'},\n",
       " {'objectID': 463907, 'title': 'Orphrey, Cross'},\n",
       " {'objectID': 463908, 'title': 'Education of the Virgin'},\n",
       " {'objectID': 463910, 'title': 'Chasuble with Pomegranate Design'},\n",
       " {'objectID': 463915, 'title': 'Double Column'},\n",
       " {'objectID': 463916, 'title': 'Canopied Seat'},\n",
       " {'objectID': 463917, 'title': 'Double Column'},\n",
       " {'objectID': 463918, 'title': 'Weathercock and Stand'},\n",
       " {'objectID': 463920, 'title': 'Vestibule and Wainscoting'},\n",
       " {'objectID': 463924, 'title': 'Scenes from the Life of Christ'},\n",
       " {'objectID': 463927, 'title': 'Mantleshelf'},\n",
       " {'objectID': 463928, 'title': 'Double Column'},\n",
       " {'objectID': 463931, 'title': 'Panel'},\n",
       " {'objectID': 463936, 'title': 'Double Column'},\n",
       " {'objectID': 463942, 'title': 'Double Column'},\n",
       " {'objectID': 463949, 'title': 'Double Column'},\n",
       " {'objectID': 463957, 'title': 'Tiles with a Lion on a Shield'},\n",
       " {'objectID': 463959, 'title': 'Crucifixion'},\n",
       " {'objectID': 463961, 'title': 'Virgin and Child'},\n",
       " {'objectID': 463965, 'title': 'Glass Panel of Saint Nicholas'},\n",
       " {'objectID': 463966, 'title': 'Glass Panel of Saint Nicholas'},\n",
       " {'objectID': 463968, 'title': 'Hexagonal Jug'},\n",
       " {'objectID': 463969, 'title': 'Virgin and Child'},\n",
       " {'objectID': 463970, 'title': 'Saint James the Greater'},\n",
       " {'objectID': 463972, 'title': 'Saint John on Patmos'},\n",
       " {'objectID': 463973, 'title': 'Relief of the Betrayal and Arrest of Jesus'},\n",
       " {'objectID': 463974,\n",
       "  'title': 'Glass Panel with Profanation of Jerusalem and the Sacred Rites of The Temple'},\n",
       " {'objectID': 463975, 'title': 'Textile with Brocade'},\n",
       " {'objectID': 463976, 'title': 'Textile with Brocade'},\n",
       " {'objectID': 463977, 'title': 'Brocade Textile'},\n",
       " {'objectID': 463978, 'title': 'Damask'},\n",
       " {'objectID': 463980, 'title': 'The Fall and Redemption of Man'},\n",
       " {'objectID': 463982, 'title': 'Panel with Christ and Mary Magdalene'},\n",
       " {'objectID': 463983, 'title': 'Dagger (?) Hilt'},\n",
       " {'objectID': 463984, 'title': 'Icon with the Virgin and Child'},\n",
       " {'objectID': 463987, 'title': 'Medallion with Double Portrait'},\n",
       " {'objectID': 463988, 'title': 'Medallion with Family Portrait'},\n",
       " {'objectID': 463989, 'title': 'Gold Glass Medallion with a Mother and Child'},\n",
       " {'objectID': 463990, 'title': 'Frame, Medallion'},\n",
       " {'objectID': 464004, 'title': 'Saint James the Great'},\n",
       " {'objectID': 464005, 'title': 'Virgin and Child'},\n",
       " {'objectID': 464006, 'title': 'Virgin and Child'},\n",
       " {'objectID': 464007, 'title': 'Incense Boat'},\n",
       " {'objectID': 464010,\n",
       "  'title': 'Disk from a Panagiarion with the Virgin and Child'},\n",
       " {'objectID': 464011, 'title': 'Icon with Three Church Fathers'},\n",
       " {'objectID': 464012, 'title': 'Panel with a Standing Figure of Christ'},\n",
       " {'objectID': 464013, 'title': 'Icon with the Koimesis'},\n",
       " {'objectID': 464014, 'title': 'Icon with the Deesis'},\n",
       " {'objectID': 464015,\n",
       "  'title': 'Panel with Byzantine Ivory Carving of the Crucifixion'},\n",
       " {'objectID': 464016,\n",
       "  'title': 'Panel from an Ivory Casket with Scenes of the Story of Joshua'},\n",
       " {'objectID': 464017, 'title': 'Casket Plaque'},\n",
       " {'objectID': 464018, 'title': 'Plaque with Scenes from the Story of Joshua'},\n",
       " {'objectID': 464019,\n",
       "  'title': 'Panel from an Ivory Casket with the Story of Adam and Eve'},\n",
       " {'objectID': 464020,\n",
       "  'title': 'Panels from an Ivory Casket with the Story of Adam and Eve'},\n",
       " {'objectID': 464021,\n",
       "  'title': 'Panel from an Ivory Casket with the Killing of the King of Hazor (Joshua 11)'},\n",
       " {'objectID': 464022, 'title': 'Plaque with the Crucifixion'},\n",
       " {'objectID': 464023, 'title': 'Processional Cross'},\n",
       " {'objectID': 464024,\n",
       "  'title': 'Game Piece with Samson Slaying the Philistines with the Jawbone of an Ass'},\n",
       " {'objectID': 464025, 'title': 'Panel with Scene from the Life of a Saint'},\n",
       " {'objectID': 464026,\n",
       "  'title': 'Seal Matrix with Abbot William of Gross St. Martin and Saint Martin'},\n",
       " {'objectID': 464028, 'title': 'Gold Earring with Pearls and Sapphires'},\n",
       " {'objectID': 464029, 'title': 'Gold Earring with Pearls and Sapphires'},\n",
       " {'objectID': 464030, 'title': 'Girdle with Coins and Medallions'},\n",
       " {'objectID': 464031, 'title': 'Bracelet with Grapevine Pattern'},\n",
       " {'objectID': 464032, 'title': 'Bracelet with Grapevine Pattern'},\n",
       " {'objectID': 464033, 'title': 'Gold Necklace with Cross'},\n",
       " {'objectID': 464034, 'title': 'Gold Necklace with Ornaments'},\n",
       " {'objectID': 464036,\n",
       "  'title': 'Gold Necklace with Pearls and Stones of Emerald Plasma'},\n",
       " {'objectID': 464037, 'title': 'Bracelet'},\n",
       " {'objectID': 464038, 'title': 'Bracelet'},\n",
       " {'objectID': 464039, 'title': 'Plaque with God Creating the Animals'},\n",
       " {'objectID': 464044, 'title': 'Elements from a Necklace'},\n",
       " {'objectID': 464046, 'title': 'Box with Courting Couples'},\n",
       " {'objectID': 464047,\n",
       "  'title': 'Crozier Head with Crucifixion, Virgin and Child, and Saint Denis'},\n",
       " {'objectID': 464048, 'title': 'Plaque with the Crucifixion'},\n",
       " {'objectID': 464049, 'title': 'Gold Necklace with Amphora (Vase) Pendant'},\n",
       " {'objectID': 464050, 'title': 'Gold Strip'},\n",
       " {'objectID': 464051, 'title': 'Gold Strip'},\n",
       " {'objectID': 464052, 'title': 'Gold Strip'},\n",
       " {'objectID': 464054, 'title': 'Standing Virgin and Child'},\n",
       " {'objectID': 464055, 'title': 'Necklace with Pendant Cross'},\n",
       " {'objectID': 464056, 'title': 'Bracelet'},\n",
       " {'objectID': 464057,\n",
       "  'title': 'Gold Necklace with Amethysts, Glass, and Gold Beads'},\n",
       " {'objectID': 464059, 'title': 'Gold Signet Ring with Virgin and Child'},\n",
       " {'objectID': 464061, 'title': 'Gold Necklace with Pendants'},\n",
       " {'objectID': 464062, 'title': 'Bracelet'},\n",
       " {'objectID': 464063, 'title': 'Bracelet'},\n",
       " {'objectID': 464064, 'title': 'Gold Necklace with Pendant Cross'},\n",
       " {'objectID': 464065, 'title': 'Virgin and Child'},\n",
       " {'objectID': 464066,\n",
       "  'title': 'Gold Necklace with Gold Cross, Two Amethysts, and an Emerald Plasma'},\n",
       " {'objectID': 464067, 'title': 'Bracelet'},\n",
       " {'objectID': 464068, 'title': 'Gold Buckle'},\n",
       " {'objectID': 464069,\n",
       "  'title': 'Gold Necklace with Amethysts, Glass Beads, and a Pearl'},\n",
       " {'objectID': 464070, 'title': 'Pectoral with Coins and Pseudo-Medallion'},\n",
       " {'objectID': 464071, 'title': 'Earring (one of a pair)'},\n",
       " {'objectID': 464072, 'title': 'Earring (one of a pair)'},\n",
       " {'objectID': 464073, 'title': 'Necklace with Pendant Crosses'},\n",
       " {'objectID': 464074, 'title': 'Bracelet (one of a pair)'},\n",
       " {'objectID': 464075, 'title': 'Bracelet (one of a pair)'},\n",
       " {'objectID': 464076,\n",
       "  'title': 'Diptych with Annunciation, Visitation, Nativity, Crucifixion, and Coronation of the Virgin'},\n",
       " {'objectID': 464077, 'title': 'Jeweled Bracelet (one of pair)'},\n",
       " {'objectID': 464078, 'title': 'Jeweled Bracelet (one of pair)'},\n",
       " {'objectID': 464080, 'title': 'Gold Belt End'},\n",
       " {'objectID': 464081, 'title': 'Gold Strap End (Unfinished)'},\n",
       " {'objectID': 464082, 'title': 'Gold Strap End (Unfinished)'},\n",
       " {'objectID': 464083, 'title': 'Gold Belt Mount (Miscast and Unfinished)'},\n",
       " {'objectID': 464084, 'title': 'Gold Strap End (Unfinished)'},\n",
       " {'objectID': 464085, 'title': 'Gold Buckle'},\n",
       " {'objectID': 464086, 'title': 'Gold Belt-Hole Guard'},\n",
       " {'objectID': 464087,\n",
       "  'title': 'Circular Box (Pyxis) with Scenes from the Infancy of Jesus'},\n",
       " {'objectID': 464088, 'title': 'Fragment of a Gold Ingot'},\n",
       " {'objectID': 464089, 'title': 'Gold Belt Mount with Loop'},\n",
       " {'objectID': 464090, 'title': 'Gold Belt Mount with Loop'},\n",
       " {'objectID': 464091, 'title': 'Gold Slide for a Belt or Strap'},\n",
       " {'objectID': 464092, 'title': 'Gold Belt Mount with Loop'},\n",
       " {'objectID': 464093, 'title': 'Gold Belt Mount (Unfinished)'},\n",
       " {'objectID': 464094, 'title': 'Gold Openwork Belt Mount'},\n",
       " {'objectID': 464095, 'title': 'Gold Strap End (Unfinished)'},\n",
       " {'objectID': 464096, 'title': 'Gold Belt Hole Guard'},\n",
       " {'objectID': 464097, 'title': 'Gold Belt Mount with Loop'},\n",
       " {'objectID': 464098, 'title': 'Virgin and Child'},\n",
       " {'objectID': 464099, 'title': 'Gold Belt Mount with Loop'},\n",
       " {'objectID': 464100,\n",
       "  'title': 'Fragment of a Gold Attachment Plate for a Buckle'},\n",
       " {'objectID': 464101, 'title': 'Gold Strap End (Unfinished)'},\n",
       " {'objectID': 464102, 'title': 'Gold Belt Mount with Loop'},\n",
       " {'objectID': 464103, 'title': 'Gold Belt Mount with Rivet'},\n",
       " {'objectID': 464105, 'title': 'Gold Belt Mount with Rivets'},\n",
       " {'objectID': 464106, 'title': 'Gold Belt Mount (Miscast and Unfinished)'},\n",
       " {'objectID': 464107, 'title': 'Gold Slide for a Belt'},\n",
       " {'objectID': 464108, 'title': 'Gold Belt-Hole Guard'},\n",
       " {'objectID': 464109, 'title': 'Gold Strap End (Unfinished)'},\n",
       " {'objectID': 464110, 'title': 'Virgin and Child'},\n",
       " {'objectID': 464111, 'title': 'Gold Strap End (Unfinished)'},\n",
       " {'objectID': 464112, 'title': 'Gold Belt Mount (Miscast and Unfinished)'},\n",
       " {'objectID': 464113, 'title': 'Ewer of Zenobius'},\n",
       " {'objectID': 464114, 'title': 'Silver Drinking Bowl with Handle'},\n",
       " {'objectID': 464115, 'title': 'Silver Bucket'},\n",
       " {'objectID': 464116, 'title': 'Gold Drinking Bowl with Handle'},\n",
       " {'objectID': 464117, 'title': 'Gold Drinking Bowl with Handle'},\n",
       " {'objectID': 464118, 'title': 'Crozier Head with Double Enthroned Christ'},\n",
       " {'objectID': 464119,\n",
       "  'title': 'Goblet with Personifications of Cyprus, Rome, Constantinople, and Alexandria'},\n",
       " {'objectID': 464120, 'title': 'Goblet and Cover (?)'},\n",
       " {'objectID': 464121, 'title': 'Goblet'},\n",
       " {'objectID': 464122, 'title': 'Chalice Cover'},\n",
       " {'objectID': 464123, 'title': 'Chain'},\n",
       " {'objectID': 464124, 'title': 'Crucifixion Triptych'},\n",
       " {'objectID': 464125, 'title': 'Box with Romance Scenes'},\n",
       " {'objectID': 464126,\n",
       "  'title': 'Panel from a Box with Scenes from Romance Literature'},\n",
       " {'objectID': 464127,\n",
       "  'title': 'Reliquary Bust of Saint Catherine of Alexandria'},\n",
       " {'objectID': 464128, 'title': 'Reliquary Bust of Saint Barbara'},\n",
       " {'objectID': 464129, 'title': 'Saint Catherine'},\n",
       " {'objectID': 464130, 'title': 'Folding Shrine with the Virgin and Child'},\n",
       " {'objectID': 464131, 'title': 'Virgin and Child'},\n",
       " {'objectID': 464132, 'title': 'Right Leaf of a Diptych'},\n",
       " {'objectID': 464133,\n",
       "  'title': 'Box with Scenes from the Romance, “The Chatelaine de Vergy”'},\n",
       " {'objectID': 464134, 'title': 'Virgin'},\n",
       " {'objectID': 464135,\n",
       "  'title': 'Diptych Leaf with the Resurrection and the Coronation of the Virgin'},\n",
       " {'objectID': 464136,\n",
       "  'title': 'Box with scenes from the Romance, \"The Chatelaine of Vergy\"'},\n",
       " {'objectID': 464137, 'title': 'Virgin and Child'},\n",
       " {'objectID': 464139, 'title': 'Virgin and Child with Cradle'},\n",
       " {'objectID': 464140,\n",
       "  'title': 'Pricket Candlestick with Birds, Vines, and Leaves'},\n",
       " {'objectID': 464141,\n",
       "  'title': 'Pricket Candlestick with Birds, Vines, and Leaves'},\n",
       " {'objectID': 464142, 'title': 'Shrine of the Virgin'},\n",
       " {'objectID': 464143, 'title': 'Crucifixion flanked by Saints'},\n",
       " {'objectID': 464147, 'title': 'Virgin and Child'},\n",
       " {'objectID': 464148, 'title': 'Virgin and Child'},\n",
       " {'objectID': 464149,\n",
       "  'title': 'Leaf from a Diptych with the Crucifixion and Annunciation'},\n",
       " {'objectID': 464150, 'title': 'Virgin Supported by Two Holy Women'},\n",
       " {'objectID': 464151, 'title': 'Panel from the Lid of a Box'},\n",
       " {'objectID': 464153, 'title': 'Apostle Holding a Book'},\n",
       " {'objectID': 464154, 'title': 'Central Portion of a Tabernacle'},\n",
       " {'objectID': 464155,\n",
       "  'title': 'Diptych with the Glorification of the Virgin and the Crucifixion'},\n",
       " {'objectID': 464156, 'title': 'Plaque with the Descent from the Cross'},\n",
       " {'objectID': 464157,\n",
       "  'title': 'Diptych with the Entry into Jerusalem, Crucifixion, Entombment, and Resurrection'},\n",
       " {'objectID': 464158, 'title': 'Folding Shrine with the Virgin and Child'},\n",
       " {'objectID': 464159, 'title': 'Virgin and Child'},\n",
       " {'objectID': 464160, 'title': 'Virgin and Child with an Apple and a Rose'},\n",
       " {'objectID': 464161,\n",
       "  'title': \"Folding Devotional Shrine with Scenes from Christ's Passion\"},\n",
       " {'objectID': 464162,\n",
       "  'title': 'One of a Pair of Crescent-Shaped Earrings with Rosettes'},\n",
       " {'objectID': 464163,\n",
       "  'title': 'One of a Pair of Crescent-Shaped Earrings with Rosettes'},\n",
       " {'objectID': 464164, 'title': 'Bracelet with Bust of Roma'},\n",
       " {'objectID': 464165, 'title': 'Gold and Niello Bracelet'},\n",
       " {'objectID': 464167, 'title': 'Relief from a Crucifixion Group'},\n",
       " {'objectID': 464168, 'title': 'Virgin and Child'},\n",
       " {'objectID': 464169, 'title': 'Diptych with Scenes from the Passion'},\n",
       " {'objectID': 464170, 'title': 'Crucified Christ'},\n",
       " {'objectID': 464171, 'title': 'Diptych with the Annunciation'},\n",
       " {'objectID': 464172, 'title': 'Case for Enamel Diptych'},\n",
       " {'objectID': 464173, 'title': 'Medallion from pendant'},\n",
       " {'objectID': 464174, 'title': 'Virgin and Child'},\n",
       " {'objectID': 464175, 'title': 'Reliquary'},\n",
       " {'objectID': 464176, 'title': 'Reliquary'},\n",
       " {'objectID': 464177, 'title': 'Reliquary'},\n",
       " {'objectID': 464178, 'title': 'Reliquary'},\n",
       " {'objectID': 464179, 'title': 'Triptych with the Coronation of the Virgin'},\n",
       " {'objectID': 464180, 'title': 'Reliquary'},\n",
       " {'objectID': 464182, 'title': 'Reliquary'},\n",
       " {'objectID': 464183, 'title': 'Panel from the tomb of Don Garcia Osorio'},\n",
       " {'objectID': 464184, 'title': 'Panel from the Tomb of Don Garcia Osorio'},\n",
       " {'objectID': 464185, 'title': 'Head of Christ'},\n",
       " {'objectID': 464186, 'title': 'Panel from the Tomb of Don Garcia Osorio'},\n",
       " {'objectID': 464187, 'title': 'Panel from the Tomb of Don Garcia Osorio'},\n",
       " {'objectID': 464188, 'title': 'Panel from the Tomb of Don Garcia Osorio'},\n",
       " {'objectID': 464189, 'title': 'Panel from the Tomb of Don Garcia Osorio'},\n",
       " {'objectID': 464190, 'title': 'Baptismal Font'},\n",
       " {'objectID': 464192, 'title': 'Seated Virgin & Child'},\n",
       " {'objectID': 464194, 'title': 'Plaque from a Reliquary Shrine'},\n",
       " {'objectID': 464195, 'title': 'Plaque from a Reliquary Shrine'},\n",
       " {'objectID': 464196, 'title': 'Plaque from a Reliquary Shrine'},\n",
       " {'objectID': 464197, 'title': 'Plaque from a Reliquary Shrine'},\n",
       " {'objectID': 464198, 'title': 'Diptych'},\n",
       " {'objectID': 464199, 'title': 'Plaque from a Reliquary Shrine'},\n",
       " {'objectID': 464200, 'title': 'Plaque from a Reliquary Shrine'},\n",
       " {'objectID': 464201, 'title': 'Plaque from a Reliquary Shrine'},\n",
       " {'objectID': 464202, 'title': 'Plaque from a Reliquary Shrine'},\n",
       " {'objectID': 464203,\n",
       "  'title': 'Medallion with a Queen Holding a Scepter and Falcon'},\n",
       " {'objectID': 464204,\n",
       "  'title': 'Medallion with Youth Playing Pipe for Dancing Woman with Castanets'},\n",
       " {'objectID': 464205,\n",
       "  'title': 'Medallion with man and woman holding standard'},\n",
       " {'objectID': 464206,\n",
       "  'title': 'Medallion with Two Young Warriors with Falchions and Bucklers'},\n",
       " {'objectID': 464207,\n",
       "  'title': 'Medallion with Two Warriors, One Bearded, with Swords and Bucklers'},\n",
       " {'objectID': 464208, 'title': 'Medallion with Man Fighting Basilisk'},\n",
       " {'objectID': 464210, 'title': 'Medallion with Archer Shooting Bird'},\n",
       " {'objectID': 464211, 'title': 'Medallion with Youth on Galloping Horse'},\n",
       " {'objectID': 464212, 'title': 'Medallion with Varlet with Horn and Hound'},\n",
       " {'objectID': 464213,\n",
       "  'title': 'Medallion with Youth Leading Long-necked Animal'},\n",
       " {'objectID': 464214,\n",
       "  'title': 'Medallion with Hunting Dog Attacking Boar Crossing Water'},\n",
       " {'objectID': 464215, 'title': 'Medallion with Hound Attacking Stag'},\n",
       " {'objectID': 464219, 'title': 'Comb'},\n",
       " {'objectID': 464220,\n",
       "  'title': 'Pectoral with Christ and the Lamb of God and the Symbols of the Four Evangelists'},\n",
       " {'objectID': 464221, 'title': 'Oliphant'},\n",
       " {'objectID': 464223, 'title': 'Figure of Samuel'},\n",
       " {'objectID': 464224, 'title': 'Reliquary Crucifix'},\n",
       " {'objectID': 464225, 'title': 'Christ Enthroned'},\n",
       " {'objectID': 464226, 'title': 'Crozier Head with Lamb of God'},\n",
       " {'objectID': 464227, 'title': 'Crozier Head with Double Volute'},\n",
       " {'objectID': 464228, 'title': 'The Trinity'},\n",
       " {'objectID': 464230, 'title': 'Fragment with Knight on Horseback'},\n",
       " {'objectID': 464231, 'title': 'Bishop Chess Piece'},\n",
       " {'objectID': 464232,\n",
       "  'title': 'Tower Reliquary with Eight Apostles and the Symbols of the Four Evangelists'},\n",
       " {'objectID': 464233, 'title': 'Knight Chess Piece'},\n",
       " {'objectID': 464234, 'title': 'Head of a Crozier'},\n",
       " {'objectID': 464235, 'title': 'Mortar'},\n",
       " {'objectID': 464236, 'title': 'Casket with Erotes and Animals'},\n",
       " {'objectID': 464237,\n",
       "  'title': 'Casket with Warriors and Mythological Figures'},\n",
       " {'objectID': 464238,\n",
       "  'title': 'Reliquary Casket with the Deesis, Archangels, and the Twelve Apostles'},\n",
       " {'objectID': 464239, 'title': 'Casket with Warriors and Dancers'},\n",
       " {'objectID': 464240, 'title': 'Container with Figures under an Arcade'},\n",
       " {'objectID': 464243, 'title': 'Fragments of a Crucifixion'},\n",
       " {'objectID': 464244, 'title': 'Fragment of a Comb'},\n",
       " {'objectID': 464245, 'title': 'Comb'},\n",
       " {'objectID': 464246, 'title': 'Mirror Case'},\n",
       " {'objectID': 464247, 'title': 'Mirror Case'},\n",
       " {'objectID': 464248, 'title': 'Ivory Mirror Case with a Falconing Party'},\n",
       " {'objectID': 464249,\n",
       "  'title': 'Panel from a Box with Scene of Jousting Knights'},\n",
       " {'objectID': 464251,\n",
       "  'title': 'Diptych with Scenes from the Lives of Jesus and Mary'},\n",
       " {'objectID': 464252,\n",
       "  'title': 'Panel from a Box with Scenes from Romance Literature'},\n",
       " {'objectID': 464253, 'title': 'Folding Shrine with Virgin and Child'},\n",
       " {'objectID': 464254,\n",
       "  'title': 'Roundel with the Virgin Mary, Saint John, and Angels'},\n",
       " {'objectID': 464255, 'title': 'Diptych with Scenes from the Life of Christ'},\n",
       " {'objectID': 464256, 'title': 'Top Panel of a Box'},\n",
       " {'objectID': 464257, 'title': 'Mirror Case with amorous scenes'},\n",
       " {'objectID': 464258, 'title': 'Plaque with a Pair of Lovers'},\n",
       " {'objectID': 464259, 'title': 'Plaque with a Pair of Lovers'},\n",
       " {'objectID': 464260, 'title': 'Plaque with a Pair of Lovers'},\n",
       " {'objectID': 464261, 'title': 'Comb'},\n",
       " {'objectID': 464262, 'title': 'Triptych with Virgin and Child and Saints'},\n",
       " {'objectID': 464263, 'title': 'Plaque with the Crucifixion'},\n",
       " {'objectID': 464264, 'title': 'Leaf from a Diptych'},\n",
       " {'objectID': 464265,\n",
       "  'title': 'Leaf from a Diptych with the life of the Virgin'},\n",
       " {'objectID': 464266, 'title': 'Left Wing of a Diptych'},\n",
       " {'objectID': 464267, 'title': 'Panel from a  Diptych'},\n",
       " {'objectID': 464268, 'title': 'Diptych with the Passion of Jesus'},\n",
       " {'objectID': 464269, 'title': 'Plaque with the Crucifixion'},\n",
       " {'objectID': 464270, 'title': 'Panel with Scenes featuring Unknown Saints'},\n",
       " {'objectID': 464271, 'title': 'Diptych with Scenes from the Life of Christ'},\n",
       " {'objectID': 464272, 'title': 'Diptych with Scenes from the Passion'},\n",
       " {'objectID': 464273,\n",
       "  'title': 'Diptych with the Adoration of the Magi and the Vera Icon (True Image)'},\n",
       " {'objectID': 464274, 'title': 'Central Leaf of a Diptych'},\n",
       " {'objectID': 464275,\n",
       "  'title': 'Central Portion from a Triptych with the Crucifixion and Virgin and Child'},\n",
       " {'objectID': 464276,\n",
       "  'title': 'Leaf from a Diptych with the Coronation, Annunciation, and Visitation'},\n",
       " {'objectID': 464277,\n",
       "  'title': 'Crozier Head with the Crucifixion and the Virgin and Child'},\n",
       " {'objectID': 464278, 'title': 'Triptych'},\n",
       " {'objectID': 464279, 'title': 'Leaf from an Ivory Diptych'},\n",
       " {'objectID': 464280, 'title': 'Plaque with the Crucifixion'},\n",
       " {'objectID': 464281, 'title': 'Panel with the Adoration of the Magi'},\n",
       " {'objectID': 464282,\n",
       "  'title': 'Leaf from a Diptych with the Adoration of the Magi'},\n",
       " {'objectID': 464283,\n",
       "  'title': 'Diptych with Virgin and Child and Crucifixion'},\n",
       " {'objectID': 464286,\n",
       "  'title': 'Diptych with the Adoration of the Magi and the Crucifixion'},\n",
       " {'objectID': 464287,\n",
       "  'title': 'Diptych with the Coronation of the Virgin and the Crucifixion'},\n",
       " {'objectID': 464288,\n",
       "  'title': 'Diptych with Scenes from the Passion of Jesus'},\n",
       " {'objectID': 464289, 'title': 'Folding Shrine with Virgin and Child'},\n",
       " {'objectID': 464290, 'title': 'Painted Diptych'},\n",
       " {'objectID': 464291,\n",
       "  'title': 'Leaf from a Diptych with Scenes from the Life of Christ'},\n",
       " {'objectID': 464292,\n",
       "  'title': 'Diptych with the Glorification of the Virgin and the Crucifixion'},\n",
       " {'objectID': 464293,\n",
       "  'title': 'Diptych with the Glorification of the Virgin and Crucifixion'},\n",
       " {'objectID': 464294, 'title': 'Virgin and Child'},\n",
       " {'objectID': 464295, 'title': 'Enthroned Virgin and Child'},\n",
       " {'objectID': 464296, 'title': 'Mary Magdalene'},\n",
       " {'objectID': 464297, 'title': 'Virgin of the Annunciation'},\n",
       " {'objectID': 464298,\n",
       "  'title': 'Rosary Bead with the Crucifixion and Resurrection'},\n",
       " {'objectID': 464299,\n",
       "  'title': \"Rosary Terminal Bead with Lovers and Death's Head\"},\n",
       " {'objectID': 464300, 'title': 'Rosary'},\n",
       " {'objectID': 464302,\n",
       "  'title': 'Pomander Bead from a Rosary or Devotional Pendant'},\n",
       " {'objectID': 464305, 'title': 'Chasse'},\n",
       " {'objectID': 464306, 'title': 'Panel with an Ivory Crucifixion Scene'},\n",
       " {'objectID': 464309, 'title': 'Processional Cross'},\n",
       " {'objectID': 464312, 'title': 'Chasse'},\n",
       " {'objectID': 464315, 'title': 'Crucifix'},\n",
       " {'objectID': 464316, 'title': 'Two Fragments of Hands'},\n",
       " {'objectID': 464317,\n",
       "  'title': 'Circular Box (Pyxis) with the Miracle of Christ’s Multiplication of the Loaves'},\n",
       " {'objectID': 464319,\n",
       "  'title': 'Base of an Altar Cross with the Four Evangelists and Their Symbols'},\n",
       " {'objectID': 464320, 'title': 'Crucified Christ'},\n",
       " {'objectID': 464321, 'title': 'Cross'},\n",
       " {'objectID': 464322, 'title': 'Chasse'},\n",
       " {'objectID': 464323, 'title': 'Knife'},\n",
       " {'objectID': 464324, 'title': 'Eucharistic Dove'},\n",
       " {'objectID': 464325, 'title': 'Candlestick'},\n",
       " {'objectID': 464327, 'title': 'Spherical knop'},\n",
       " {'objectID': 464328, 'title': 'Virgin and Child'},\n",
       " {'objectID': 464330,\n",
       "  'title': 'Book Cover Plaque with Christ in Majesty and the Symbols of the Four Evangelists'},\n",
       " {'objectID': 464331, 'title': 'Crown, Part'},\n",
       " {'objectID': 464332, 'title': 'Reliquary Arm of St. Valentine'},\n",
       " {'objectID': 464333, 'title': 'Reliquary Bust of Saint Yrieix'},\n",
       " {'objectID': 464334, 'title': 'Arm Reliquary'},\n",
       " {'objectID': 464335, 'title': 'Jesus and the Samaritan Woman at the Well'},\n",
       " {'objectID': 464336, 'title': 'Shrine'},\n",
       " {'objectID': 464337, 'title': 'Virgin and Child'},\n",
       " {'objectID': 464338, 'title': 'Censer'},\n",
       " {'objectID': 464339,\n",
       "  'title': 'Evangelist Saint Mark writing the Gospel with his symbol, the Lion, holding a scroll'},\n",
       " {'objectID': 464340, 'title': 'Censer'},\n",
       " {'objectID': 464341, 'title': 'Reliquary Statuette of Saint Christopher'},\n",
       " {'objectID': 464342, 'title': 'Lock'},\n",
       " {'objectID': 464343, 'title': 'Covered Cup'},\n",
       " {'objectID': 464344, 'title': 'Covered Cup'},\n",
       " {'objectID': 464345, 'title': 'Chalice'},\n",
       " {'objectID': 464346, 'title': 'Paten'},\n",
       " {'objectID': 464347, 'title': 'Standing Virgin and Child'},\n",
       " {'objectID': 464348, 'title': 'Chalice'},\n",
       " {'objectID': 464349,\n",
       "  'title': 'Triptych with the Way to Calvary, the Crucifixion, and the Disrobing of Jesus'},\n",
       " {'objectID': 464350, 'title': 'Plaque with the Crucifixion'},\n",
       " {'objectID': 464351, 'title': 'Reliquary Cross'},\n",
       " {'objectID': 464352, 'title': 'Chalice'},\n",
       " {'objectID': 464353, 'title': 'Ciborium'},\n",
       " {'objectID': 464354, 'title': 'Purse Frame'},\n",
       " {'objectID': 464355, 'title': 'Man'},\n",
       " {'objectID': 464356, 'title': 'Worshippers'},\n",
       " {'objectID': 464357, 'title': 'The Three Magi (?)'},\n",
       " {'objectID': 464358, 'title': 'Musical Angel'},\n",
       " {'objectID': 464359, 'title': 'Hunting Horn'},\n",
       " {'objectID': 464360,\n",
       "  'title': 'Plaque with Agnus Dei on a Cross between Emblems of the Four Evangelists'},\n",
       " {'objectID': 464362, 'title': 'The Three Maries'},\n",
       " {'objectID': 464364, 'title': 'Saint Anna and Saint Joachim'},\n",
       " {'objectID': 464365, 'title': 'St. George and the Dragon'},\n",
       " {'objectID': 464366, 'title': 'Mourner'},\n",
       " {'objectID': 464367,\n",
       "  'title': 'King, from a group of Donor Figures including a King, Queen, and Prince'},\n",
       " {'objectID': 464368,\n",
       "  'title': 'Queen, from a group of Donor Figures including a King, Queen, and Prince'},\n",
       " {'objectID': 464369, 'title': 'Mourner'},\n",
       " {'objectID': 464370, 'title': 'Plaque with Enthroned Virgin and Child'},\n",
       " {'objectID': 464371, 'title': 'Angel of the Annunciation'},\n",
       " {'objectID': 464372, 'title': 'Monk'},\n",
       " {'objectID': 464373,\n",
       "  'title': 'Prince, from a group of Donor Figures including a King, Queen, and Prince'},\n",
       " {'objectID': 464374, 'title': 'Chest with Coats of Arms'},\n",
       " {'objectID': 464375, 'title': 'Plate with David Slaying a Lion'},\n",
       " {'objectID': 464376, 'title': \"Plate with David's Confrontation with Eliab\"},\n",
       " {'objectID': 464377, 'title': 'Plate with the Battle of David and Goliath'},\n",
       " {'objectID': 464378, 'title': 'Plate with the Presentation of David to Saul'},\n",
       " {'objectID': 464379, 'title': 'Plate with David Anointed by Samuel'},\n",
       " {'objectID': 464380, 'title': 'Plate with the Arming of David'},\n",
       " {'objectID': 464381, 'title': 'Panel with Crucifixion'},\n",
       " {'objectID': 464383,\n",
       "  'title': 'Casket or Portable Altar with the Crucifixion, Standing Saints, and Christ in Majesty with Symbols of the Evangelists'},\n",
       " {'objectID': 464386, 'title': 'Chasse'},\n",
       " {'objectID': 464389, 'title': 'Vessel Cover'},\n",
       " {'objectID': 464390, 'title': 'Crucified Christ'},\n",
       " {'objectID': 464392, 'title': 'Central Plaque of a Cross'},\n",
       " {'objectID': 464393, 'title': 'Cross Terminal'},\n",
       " {'objectID': 464917, 'title': 'Hairpin'},\n",
       " {'objectID': 464918, 'title': 'Hairpin'},\n",
       " {'objectID': 464919, 'title': 'L-Shaped Key'},\n",
       " {'objectID': 464920, 'title': 'Equal-Arm Brooch'},\n",
       " {'objectID': 464921, 'title': 'Disk Brooch'},\n",
       " {'objectID': 464922, 'title': 'Rectangular Plaque'},\n",
       " {'objectID': 464923, 'title': 'Disk Brooch'},\n",
       " {'objectID': 464924, 'title': \"Druggist's Scales\"},\n",
       " {'objectID': 464925, 'title': 'Belt Buckle'},\n",
       " {'objectID': 464926, 'title': 'Belt Tongue and Oval Loop from a Buckle'},\n",
       " {'objectID': 464927, 'title': 'Belt Tongue and Oval Loop from a Buckle'},\n",
       " {'objectID': 464928, 'title': 'Belt Buckle with a Griffin'},\n",
       " {'objectID': 464929, 'title': 'Rectangular Plaque'},\n",
       " {'objectID': 464930, 'title': 'Ferret'},\n",
       " {'objectID': 464932, 'title': 'Disk Brooch'},\n",
       " {'objectID': 464933, 'title': 'Ferret'},\n",
       " {'objectID': 464934, 'title': 'Flat Ornament'},\n",
       " {'objectID': 464935, 'title': 'Flat Ornament'},\n",
       " {'objectID': 464936, 'title': 'Flat Ornament'},\n",
       " {'objectID': 464937, 'title': 'Flat Ornament'},\n",
       " {'objectID': 464939, 'title': 'Equal-Arm Brooch'},\n",
       " {'objectID': 464940,\n",
       "  'title': 'Belt Tongue and Rectangular Loop from a Buckle'},\n",
       " {'objectID': 464941, 'title': 'Four-Spoked Votive Wheel'},\n",
       " {'objectID': 464942, 'title': 'Flat Brooch'},\n",
       " {'objectID': 464943, 'title': 'Disk Brooch'},\n",
       " {'objectID': 464944, 'title': 'Back of Disk Brooch'},\n",
       " {'objectID': 464945, 'title': 'Horse Trapping'},\n",
       " {'objectID': 464946, 'title': 'Torc'},\n",
       " {'objectID': 464947, 'title': 'Bracelet with Spiral Designs'},\n",
       " {'objectID': 464948, 'title': 'Torc'},\n",
       " {'objectID': 464950, 'title': 'Bracelet'},\n",
       " {'objectID': 464951, 'title': 'Torc'},\n",
       " {'objectID': 464952, 'title': 'Bracelet'},\n",
       " {'objectID': 464953, 'title': 'Central Mount of Purse'},\n",
       " {'objectID': 464954, 'title': 'Openwork Rosette Brooch'},\n",
       " {'objectID': 464955, 'title': 'Bracelet'},\n",
       " {'objectID': 464956, 'title': 'Openwork Belt Fitting'},\n",
       " {'objectID': 464957, 'title': 'Horse Trapping'},\n",
       " {'objectID': 464958, 'title': 'Bracelet'},\n",
       " {'objectID': 464959, 'title': 'Openwork Belt Fitting'},\n",
       " {'objectID': 464960, 'title': 'Bracelet'},\n",
       " {'objectID': 464961, 'title': 'Sword Chain'},\n",
       " {'objectID': 464962, 'title': 'Flat Rectangular Plaque'},\n",
       " {'objectID': 464963, 'title': 'Double-Sided Comb'},\n",
       " {'objectID': 464964, 'title': 'Openwork Plaque'},\n",
       " {'objectID': 464965, 'title': 'Umbo'},\n",
       " ...]"
      ]
     },
     "execution_count": 20,
     "metadata": {},
     "output_type": "execute_result"
    }
   ],
   "source": [
    "processed_metadata"
   ]
  },
  {
   "cell_type": "code",
   "execution_count": 21,
   "metadata": {},
   "outputs": [
    {
     "name": "stdout",
     "output_type": "stream",
     "text": [
      "\n",
      "Final embeddings shape: (4389, 2048)\n"
     ]
    }
   ],
   "source": [
    "embeddings_array = np.stack(embeddings)\n",
    "print(f\"\\nFinal embeddings shape: {embeddings_array.shape}\")"
   ]
  },
  {
   "cell_type": "code",
   "execution_count": 22,
   "metadata": {},
   "outputs": [
    {
     "name": "stdout",
     "output_type": "stream",
     "text": [
      "\n",
      "Reducing dimensions with t-SNE...\n"
     ]
    }
   ],
   "source": [
    "print(\"\\nReducing dimensions with t-SNE...\")\n",
    "tsne = TSNE(n_components=2, random_state=42)\n",
    "reduced_embeddings = tsne.fit_transform(embeddings_array)"
   ]
  },
  {
   "cell_type": "code",
   "execution_count": 24,
   "metadata": {},
   "outputs": [],
   "source": [
    "viz_df = pd.DataFrame({\n",
    "    'x': reduced_embeddings[:, 0],\n",
    "    'y': reduced_embeddings[:, 1],\n",
    "    'title': [m['title'] for m in processed_metadata],\n",
    "    'objectID': [m['objectID'] for m in processed_metadata]\n",
    "})\n",
    "\n",
    "# save the reduced embeddings to a CSV file\n",
    "viz_df.to_csv('reduced_embeddings.csv', index=False)"
   ]
  },
  {
   "cell_type": "code",
   "execution_count": 10,
   "metadata": {},
   "outputs": [],
   "source": [
    "viz_df = pd.read_csv('reduced_embeddings.csv')\n",
    "\n",
    "fig = px.scatter(\n",
    "    viz_df,\n",
    "    x='x',\n",
    "    y='y',\n",
    "    hover_data=['title', 'objectID'],\n",
    "    title='Artwork Embeddings Visualization'\n",
    ")"
   ]
  },
  {
   "cell_type": "code",
   "execution_count": 27,
   "metadata": {},
   "outputs": [],
   "source": [
    "np.save('embeddings.npy', embeddings_array)\n",
    "viz_df.to_csv('processed_metadata.csv', index=False)\n",
    "fig.write_html('artwork_embeddings.html')"
   ]
  },
  {
   "cell_type": "code",
   "execution_count": 11,
   "metadata": {},
   "outputs": [
    {
     "data": {
      "application/vnd.plotly.v1+json": {
       "config": {
        "plotlyServerURL": "https://plot.ly"
       },
       "data": [
        {
         "customdata": [
          [
           "Orphrey",
           157612
          ],
          [
           "Solidus",
           462739
          ],
          [
           "Gold Solidus of Theodosius II (408–50)",
           462740
          ],
          [
           "Solidus",
           462741
          ],
          [
           "Solidus of Heraclius and Heraclius Constantine",
           462742
          ],
          [
           "Solidus of Heraclius, Heraclius Constantine, and Heraclonas",
           462743
          ],
          [
           "Panel with John the Baptist and other saints",
           462744
          ],
          [
           "Solidus",
           462765
          ],
          [
           "Solidus",
           462766
          ],
          [
           "Solidus",
           462767
          ],
          [
           "Gold Solidus of Constans II (641–68)",
           462768
          ],
          [
           "Solidus",
           462769
          ],
          [
           "Gold Tremissis of Emperor Justinian I",
           462770
          ],
          [
           "Olearium",
           462771
          ],
          [
           "Chest Front",
           462773
          ],
          [
           "Pietà (Lamentation)",
           462776
          ],
          [
           "Chest Front",
           462778
          ],
          [
           "Chest Front",
           462780
          ],
          [
           "Cassone",
           462786
          ],
          [
           "Chest Front",
           462787
          ],
          [
           "Boss or Volute",
           462789
          ],
          [
           "Altar Frontal Textile",
           462800
          ],
          [
           "Ascoli Cope",
           462871
          ],
          [
           "Panel with Coat of Arms",
           462872
          ],
          [
           "Panel with Coat of Arms",
           462873
          ],
          [
           "Beaker with Cobalt Trailing",
           462874
          ],
          [
           "Beaker",
           462875
          ],
          [
           "Beaker",
           462876
          ],
          [
           "Beaker",
           462877
          ],
          [
           "Cabinet",
           462880
          ],
          [
           "Nativity",
           462886
          ],
          [
           "Female Saint",
           462887
          ],
          [
           "Descent from the Cross",
           462888
          ],
          [
           "Key or Key Handle",
           462890
          ],
          [
           "Key Handle",
           462891
          ],
          [
           "Key",
           462892
          ],
          [
           "Key Handle",
           462893
          ],
          [
           "Key Handle",
           462894
          ],
          [
           "Key Handle",
           462895
          ],
          [
           "Key Handle",
           462896
          ],
          [
           "Key Handle",
           462897
          ],
          [
           "Key Handle",
           462898
          ],
          [
           "Key Handle",
           462899
          ],
          [
           "Key Handle",
           462900
          ],
          [
           "Key Handle",
           462901
          ],
          [
           "Key-Handle",
           462902
          ],
          [
           "Key Handle",
           462903
          ],
          [
           "Key Handle",
           462904
          ],
          [
           "Key Handle",
           462905
          ],
          [
           "Key Handle",
           462906
          ],
          [
           "Key Handle in the Form of a Horse’s Head",
           462907
          ],
          [
           "Key Handle or Knife Handle",
           462908
          ],
          [
           "Key Handle",
           462909
          ],
          [
           "Key Handle",
           462910
          ],
          [
           "Key Handle",
           462911
          ],
          [
           "Key Handle",
           462912
          ],
          [
           "Key-Handle",
           462913
          ],
          [
           "Key Handle",
           462914
          ],
          [
           "Key Handle",
           462915
          ],
          [
           "Key Handle",
           462916
          ],
          [
           "Key Handle",
           462917
          ],
          [
           "Key Handle",
           462918
          ],
          [
           "Key Handle",
           462919
          ],
          [
           "Key Handle",
           462920
          ],
          [
           "Key Handle or Knife Handle",
           462921
          ],
          [
           "Top of Key Handle",
           462922
          ],
          [
           "Fragment of Key Handle",
           462923
          ],
          [
           "Key Handle",
           462924
          ],
          [
           "Top of Key Handle",
           462925
          ],
          [
           "Key Handle",
           462926
          ],
          [
           "Key Handle",
           462927
          ],
          [
           "Key Handle",
           462928
          ],
          [
           "Key Handle",
           462929
          ],
          [
           "Key Handle",
           462930
          ],
          [
           "Key Handle",
           462931
          ],
          [
           "Key Handle",
           462932
          ],
          [
           "Key Handle",
           462933
          ],
          [
           "Key Handle",
           462934
          ],
          [
           "Key Handle",
           462935
          ],
          [
           "Key Handle",
           462936
          ],
          [
           "Key Handle",
           462937
          ],
          [
           "Key Handle",
           462938
          ],
          [
           "Key Latch",
           462939
          ],
          [
           "Key",
           462940
          ],
          [
           "Key Latch",
           462941
          ],
          [
           "Key",
           462942
          ],
          [
           "Key",
           462943
          ],
          [
           "Key",
           462944
          ],
          [
           "Key",
           462945
          ],
          [
           "Key Handle",
           462946
          ],
          [
           "Key",
           462947
          ],
          [
           "Key",
           462948
          ],
          [
           "Key",
           462949
          ],
          [
           "Key",
           462950
          ],
          [
           "Key",
           462951
          ],
          [
           "Key Latch",
           462952
          ],
          [
           "Key with Bow",
           462953
          ],
          [
           "Key",
           462954
          ],
          [
           "Key",
           462955
          ],
          [
           "Key",
           462956
          ],
          [
           "Key Handle",
           462957
          ],
          [
           "Key",
           462958
          ],
          [
           "Key Handle",
           462959
          ],
          [
           "Key Handle",
           462960
          ],
          [
           "Key Handle or Knife Handle",
           462961
          ],
          [
           "Key",
           462962
          ],
          [
           "Key",
           462963
          ],
          [
           "Key",
           462964
          ],
          [
           "Key",
           462965
          ],
          [
           "Key",
           462966
          ],
          [
           "Key",
           462967
          ],
          [
           "Key Handle",
           462968
          ],
          [
           "Key",
           462971
          ],
          [
           "Key",
           462972
          ],
          [
           "Key",
           462973
          ],
          [
           "Chain Fragment with Suspensory Bar",
           462974
          ],
          [
           "Key",
           462975
          ],
          [
           "Key",
           462976
          ],
          [
           "Key",
           462977
          ],
          [
           "Key",
           462978
          ],
          [
           "Key Handle",
           462979
          ],
          [
           "Key",
           462980
          ],
          [
           "Key",
           462981
          ],
          [
           "Key",
           462982
          ],
          [
           "Key",
           462983
          ],
          [
           "Key",
           462984
          ],
          [
           "Key",
           462985
          ],
          [
           "Key",
           462986
          ],
          [
           "Key Latch",
           462987
          ],
          [
           "Key",
           462988
          ],
          [
           "Key",
           462989
          ],
          [
           "The Entombment",
           462990
          ],
          [
           "The Ascension",
           462991
          ],
          [
           "The Crucifixion",
           462992
          ],
          [
           "Crucifix",
           462997
          ],
          [
           "Textile with Animals and Birds",
           462998
          ],
          [
           "High-Backed Chair",
           462999
          ],
          [
           "Coffer",
           463000
          ],
          [
           "Saint Catherine of Alexandria",
           463001
          ],
          [
           "Pyx",
           463002
          ],
          [
           "Chest",
           463014
          ],
          [
           "Candlestick",
           463021
          ],
          [
           "Brocade Textile",
           463022
          ],
          [
           "Brocade Textile",
           463023
          ],
          [
           "Brocade Textile",
           463024
          ],
          [
           "Pilaster",
           463026
          ],
          [
           "Pilaster",
           463027
          ],
          [
           "Pilaster",
           463028
          ],
          [
           "Pilaster",
           463029
          ],
          [
           "Pilaster",
           463030
          ],
          [
           "Pilaster",
           463031
          ],
          [
           "The Entombment of Christ with the Virgin Mary, Saint John, Nicodemus, and Joseph of Arimathea",
           463032
          ],
          [
           "Credence",
           463033
          ],
          [
           "Top of a Fire Screen",
           463035
          ],
          [
           "Scenes from the Story of the Seven Sacraments, Matrimony and Extreme Unction",
           463036
          ],
          [
           "Scenes from the Story of the Seven Sacraments, God the Father Uniting Adam and Eve, and David Being Annoited King at Hebron",
           463037
          ],
          [
           "Seven Scenes from the Story of the Seven Sacraments, Namaan Being Cleansed in the Jordan",
           463038
          ],
          [
           "Seven Scenes from the Story of the Seven Sacraments, Jacob Blessing Ephraim and Manasseh",
           463039
          ],
          [
           "Seven Scenes from the Story of the Seven Sacraments, Baptism",
           463040
          ],
          [
           "Figured Silk Weave Textile",
           463041
          ],
          [
           "Bell of Saint Patrick",
           463044
          ],
          [
           "Ardagh Brooch",
           463045
          ],
          [
           "Cross of Cong",
           463048
          ],
          [
           "The Ardagh Chalice",
           463050
          ],
          [
           "Dish",
           463052
          ],
          [
           "Chalice and Paten",
           463080
          ],
          [
           "Paten",
           463081
          ],
          [
           "Chalice",
           463082
          ],
          [
           "Crozier Head",
           463083
          ],
          [
           "Crozier Head",
           463084
          ],
          [
           "Pharmacy Jar",
           463085
          ],
          [
           "Pharmacy Jar",
           463086
          ],
          [
           "Virgin, Saint Anne & Saint Joachim",
           463087
          ],
          [
           "Escutcheon",
           463091
          ],
          [
           "Escutcheon",
           463092
          ],
          [
           "Cistern or Fountain",
           463093
          ],
          [
           "Book Cover",
           463094
          ],
          [
           "Book Cover",
           463095
          ],
          [
           "Column Statue of Saint Hilary of Galeata",
           463096
          ],
          [
           "Panel",
           463107
          ],
          [
           "Panels",
           463108
          ],
          [
           "Pilgrim's Badge",
           463115
          ],
          [
           "Pilgrim's Badge",
           463116
          ],
          [
           "Pilgrim's Badge",
           463117
          ],
          [
           "Pilgrim's Badge",
           463118
          ],
          [
           "Dalriada Brooch",
           463125
          ],
          [
           "Celtic Brooch",
           463127
          ],
          [
           "Lismore Crozier",
           463132
          ],
          [
           "Lough Erne Shrine",
           463140
          ],
          [
           "Lough Erne Shrine",
           463141
          ],
          [
           "\"Book of Dimma\" Shrine",
           463142
          ],
          [
           "Brooch from Kilmainham",
           463150
          ],
          [
           "Crescent or Gorget",
           463151
          ],
          [
           "Cross of Clogher",
           463156
          ],
          [
           "Crozier of Dysert O'Dea",
           463157
          ],
          [
           "Crozier of Saint Mura, of Fahan, County Donegal",
           463158
          ],
          [
           "Shrine of The Gospels of Saint Molaise",
           463159
          ],
          [
           "Shrine of Saint Patrick's Gospels",
           463160
          ],
          [
           "Shrine of Saint Patrick's Hand",
           463162
          ],
          [
           "Shrine of Saint Lachtin's Arm",
           463164
          ],
          [
           "Shrine of O'Donnell, Cathach or Battler",
           463165
          ],
          [
           "Crozier of Crmac McCarthy",
           463166
          ],
          [
           "Saint Barbara",
           463177
          ],
          [
           "Andiron",
           463178
          ],
          [
           "Wall Bracket",
           463179
          ],
          [
           "Altar Shrine with Four Saints",
           463180
          ],
          [
           "Wall Tile",
           463184
          ],
          [
           "Wall Tile",
           463185
          ],
          [
           "Panel",
           463186
          ],
          [
           "Courtiers in a Rose Garden: Two Ladies and Two Gentlemen",
           463187
          ],
          [
           "Courtiers in a Rose Garden: A Lady and Two Gentlemen",
           463188
          ],
          [
           "Courtiers in a Rose Garden: Four Gentlemen and Four Ladies",
           463189
          ],
          [
           "Mourning Virgin",
           463190
          ],
          [
           "Decorative Roundel",
           463193
          ],
          [
           "Decorative Roundel",
           463194
          ],
          [
           "Decorative Roundel",
           463195
          ],
          [
           "Censer",
           463197
          ],
          [
           "Censer",
           463198
          ],
          [
           "Censer with Animal and Scroll Motifs",
           463199
          ],
          [
           "Censer with Pierced Geometric Motifs",
           463200
          ],
          [
           "Fragment of an Animal Relief",
           463202
          ],
          [
           "Decorative Roundel",
           463203
          ],
          [
           "Arch",
           463204
          ],
          [
           "Pilasters",
           463205
          ],
          [
           "Episodes in the Story of the Vengeance of Our Lord",
           463207
          ],
          [
           "Jug",
           463208
          ],
          [
           "Salver",
           463209
          ],
          [
           "Cup and Cover",
           463210
          ],
          [
           "Pax",
           463211
          ],
          [
           "Monstrance",
           463212
          ],
          [
           "Coffret",
           463213
          ],
          [
           "Cabinet or Double Hutch",
           463214
          ],
          [
           "Cup and Cover",
           463215
          ],
          [
           "Cup",
           463216
          ],
          [
           "Beaker and Cover",
           463217
          ],
          [
           "Brooch",
           463218
          ],
          [
           "Brooch",
           463219
          ],
          [
           "Cup and Cover",
           463220
          ],
          [
           "Cup or Bratina",
           463221
          ],
          [
           "Cup or Bratina",
           463222
          ],
          [
           "Textile, Brocade",
           463227
          ],
          [
           "Textile with Lions and Peacocks",
           463228
          ],
          [
           "Textile with Lions and Peacocks",
           463229
          ],
          [
           "Textile with Brocade",
           463230
          ],
          [
           "Textile with Brocade",
           463231
          ],
          [
           "Textile with Brocade",
           463232
          ],
          [
           "Textile with Eagle, Rayed Sun, and Flowers",
           463233
          ],
          [
           "Textile",
           463234
          ],
          [
           "Textile with Birds",
           463235
          ],
          [
           "Textile with Birds",
           463236
          ],
          [
           "Textile with Crescents",
           463238
          ],
          [
           "Printed Textile",
           463239
          ],
          [
           "Textile",
           463240
          ],
          [
           "Printed Textile",
           463241
          ],
          [
           "Fragment of Printed Linen",
           463242
          ],
          [
           "Textile with Trellis Pattern",
           463247
          ],
          [
           "Textile withTrellis Pattern",
           463248
          ],
          [
           "Textile with Stars and Swastika",
           463249
          ],
          [
           "Textile with Interlacing Bands forming Swastika Figures",
           463250
          ],
          [
           "Textile with Geometrical Designs",
           463252
          ],
          [
           "Brocade Textile",
           463253
          ],
          [
           "Textile",
           463254
          ],
          [
           "Textile with Flower Motif",
           463255
          ],
          [
           "Textile with Figured Silk Weave",
           463256
          ],
          [
           "Textile with Old Rose in Diaper Pattern",
           463257
          ],
          [
           "Textile",
           463258
          ],
          [
           "Textile Fragment",
           463276
          ],
          [
           "Textile Fragment",
           463277
          ],
          [
           "Textile Fragment",
           463278
          ],
          [
           "Textile Fragment",
           463279
          ],
          [
           "Textile",
           463281
          ],
          [
           "Band",
           463282
          ],
          [
           "Brocade Band",
           463283
          ],
          [
           "Orphrey Band",
           463284
          ],
          [
           "Brocatelle Textile",
           463285
          ],
          [
           "Textile with Silk and Linen Weave",
           463286
          ],
          [
           "Textile Band",
           463287
          ],
          [
           "Brocade Textile",
           463288
          ],
          [
           "Brocade Textile",
           463290
          ],
          [
           "Textile",
           463291
          ],
          [
           "Fragment of Textile Band",
           463292
          ],
          [
           "Band",
           463293
          ],
          [
           "Textile",
           463294
          ],
          [
           "Textile",
           463295
          ],
          [
           "Textile",
           463296
          ],
          [
           "Textile",
           463297
          ],
          [
           "Textile with Architectural Fountain Guarded by Lions",
           463298
          ],
          [
           "Textile with Foliated Ornament and Eagle's Head",
           463299
          ],
          [
           "Textile with Foliated Ornament and Eagle's Head",
           463300
          ],
          [
           "Textile with Figures",
           463301
          ],
          [
           "Textile with Figures",
           463302
          ],
          [
           "Textile with Figures",
           463303
          ],
          [
           "Textile with Foliated Design",
           463304
          ],
          [
           "Textile with Eagle Attacking Dog",
           463305
          ],
          [
           "Textile with Confronted Parrots and Conventional Foliage",
           463306
          ],
          [
           "Textile with Flower Motive",
           463307
          ],
          [
           "Textile with Griffin",
           463308
          ],
          [
           "Textile with Lions and Peacocks",
           463309
          ],
          [
           "Textile with Lions, Gazelles and Foliage",
           463310
          ],
          [
           "Textile",
           463311
          ],
          [
           "Textile with Floral Ornaments",
           463312
          ],
          [
           "Textile with Brocade",
           463313
          ],
          [
           "The Visitation",
           463314
          ],
          [
           "Ciborium",
           463315
          ],
          [
           "Key",
           463316
          ],
          [
           "Key",
           463317
          ],
          [
           "Key",
           463318
          ],
          [
           "Key",
           463319
          ],
          [
           "Key",
           463320
          ],
          [
           "Key",
           463321
          ],
          [
           "Key",
           463322
          ],
          [
           "Key",
           463323
          ],
          [
           "Key",
           463324
          ],
          [
           "Key",
           463325
          ],
          [
           "Key",
           463326
          ],
          [
           "Key",
           463327
          ],
          [
           "Key",
           463328
          ],
          [
           "Key",
           463329
          ],
          [
           "Key",
           463330
          ],
          [
           "Key",
           463331
          ],
          [
           "Key",
           463332
          ],
          [
           "Spiral Key",
           463333
          ],
          [
           "Key",
           463334
          ],
          [
           "Key",
           463335
          ],
          [
           "Key",
           463336
          ],
          [
           "Key",
           463337
          ],
          [
           "Key",
           463338
          ],
          [
           "Key",
           463339
          ],
          [
           "Key",
           463340
          ],
          [
           "Key",
           463341
          ],
          [
           "Key",
           463342
          ],
          [
           "Key",
           463343
          ],
          [
           "Key",
           463344
          ],
          [
           "Key",
           463345
          ],
          [
           "Key",
           463346
          ],
          [
           "Key",
           463347
          ],
          [
           "Key",
           463348
          ],
          [
           "Key",
           463349
          ],
          [
           "Key",
           463350
          ],
          [
           "Key",
           463351
          ],
          [
           "Key",
           463352
          ],
          [
           "Key",
           463353
          ],
          [
           "Key",
           463354
          ],
          [
           "Key",
           463355
          ],
          [
           "Key",
           463356
          ],
          [
           "Key",
           463357
          ],
          [
           "Key",
           463358
          ],
          [
           "Key",
           463359
          ],
          [
           "Key",
           463360
          ],
          [
           "Part of a Padlock",
           463361
          ],
          [
           "Padlock",
           463363
          ],
          [
           "Padlock",
           463365
          ],
          [
           "Lock, Double-Face Mortise",
           463367
          ],
          [
           "Key",
           463368
          ],
          [
           "Key",
           463369
          ],
          [
           "Key",
           463370
          ],
          [
           "Key",
           463371
          ],
          [
           "Key",
           463372
          ],
          [
           "Key",
           463373
          ],
          [
           "Key",
           463374
          ],
          [
           "Key",
           463375
          ],
          [
           "Key",
           463376
          ],
          [
           "Cupboard",
           463378
          ],
          [
           "Cupboard",
           463382
          ],
          [
           "Aquamanile in the Form of a Horse",
           463384
          ],
          [
           "Gold Solidus of Valentinian I (364–75)",
           463387
          ],
          [
           "Solidus",
           463388
          ],
          [
           "Tremissis",
           463389
          ],
          [
           "Solidus of Justinian II (685-95)",
           463390
          ],
          [
           "Clasp with Intaglio Medallion of the Virgin and Child",
           463392
          ],
          [
           "Bead",
           463393
          ],
          [
           "Plaque with Christ in Majesty",
           463394
          ],
          [
           "Fabulous Winged Creature with Human Face, probably from the foot of a candlestick",
           463395
          ],
          [
           "Crucifix",
           463396
          ],
          [
           "Diptych with the Death and Coronation of the Virgin",
           463397
          ],
          [
           "Plaquette",
           463400
          ],
          [
           "Plaquette",
           463401
          ],
          [
           "Bowl",
           463404
          ],
          [
           "Bowl",
           463405
          ],
          [
           "Footed cup with palmettes",
           463406
          ],
          [
           "Two-Handled Bowl with Fish",
           463409
          ],
          [
           "Censer",
           463410
          ],
          [
           "Censer",
           463411
          ],
          [
           "Beaker and Cover",
           463412
          ],
          [
           "Plate",
           463413
          ],
          [
           "Pilaster of Angels Sounding Trumpets from the Parapet of a Pulpit",
           463414
          ],
          [
           "Pilaster of Angels Sounding Trumpets from the Parapet of a Pulpit",
           463415
          ],
          [
           "Aquamanile in the Form of a Crowned Centaur Fighting a Dragon",
           463419
          ],
          [
           "Relief of Saint Thomas under an ogee arch",
           463491
          ],
          [
           "Relief Altarpiece with Saints Peter, Paul, and John the Baptist",
           463492
          ],
          [
           "Diptych Leaf",
           463493
          ],
          [
           "Cup",
           463502
          ],
          [
           "Cup",
           463503
          ],
          [
           "Cup and Cover",
           463504
          ],
          [
           "Miter Band",
           463506
          ],
          [
           "Mazer Bowl and Foot",
           463507
          ],
          [
           "Mazer Bowl",
           463508
          ],
          [
           "Madonna and Child",
           463509
          ],
          [
           "Medal, Louis XII & Anne Of Brittany",
           463511
          ],
          [
           "Saint Mark",
           463512
          ],
          [
           "Steel Knife with Ivory Handle",
           463513
          ],
          [
           "Pendant with the Crucifixion and Attendant Figures",
           463514
          ],
          [
           "Orphreys and Cope Hood",
           463516
          ],
          [
           "Orphreys from a Cope",
           463517
          ],
          [
           "Mould for a Stamp",
           463527
          ],
          [
           "Jug with Eagle",
           463529
          ],
          [
           "Pitcher",
           463530
          ],
          [
           "Pitcher",
           463531
          ],
          [
           "Pitcher",
           463532
          ],
          [
           "Jug with Flattened Spout",
           463533
          ],
          [
           "Ivory Crozier Head with Christ in Majesty and Throne of Wisdom",
           463536
          ],
          [
           "Diptych",
           463537
          ],
          [
           "Door Knocker Plate",
           463538
          ],
          [
           "Manuscript Illumination with the Assumption of the Virgin in an Initial A, from an Antiphonary",
           463542
          ],
          [
           "Manuscript Illumination with All Saints in an Initial V, from an Antiphonary",
           463543
          ],
          [
           "Manuscript Illumination with the Assumption of the Virgin in an Initial G, from a Gradual",
           463544
          ],
          [
           "Manuscript Illumination with the Presentation in the Temple in an Initial S, from a Gradual",
           463545
          ],
          [
           "Pitcher",
           463546
          ],
          [
           "Bowl Base with Christ Giving Martyrs’ Crowns to Saints Peter and Paul",
           463547
          ],
          [
           "Mirror Cover with the Attack on the Castle of Love",
           463550
          ],
          [
           "Plate",
           463553
          ],
          [
           "Jug with Figure in Profile",
           463554
          ],
          [
           "Baptism of Christ",
           463555
          ],
          [
           "Jug",
           463559
          ],
          [
           "Basin",
           463560
          ],
          [
           "Box",
           463561
          ],
          [
           "Panel",
           463564
          ],
          [
           "Heraldic Shield",
           463565
          ],
          [
           "Adoration of the Magi",
           463570
          ],
          [
           "Ewer",
           463571
          ],
          [
           "Textile with Brocade",
           463572
          ],
          [
           "Textile Fragment with brocade with Bird, Dragon, and Palmette Motifs",
           463573
          ],
          [
           "Saint John the Evangelist",
           463576
          ],
          [
           "Mourning Virgin",
           463577
          ],
          [
           "Saint John",
           463579
          ],
          [
           "Composite Window of English Stained Glass",
           463580
          ],
          [
           "Stained Glass Panel with Saint Roch, the van Merle Family Arms and a Donor",
           463582
          ],
          [
           "Shrine, Saint Manchan",
           463585
          ],
          [
           "Brooch",
           463586
          ],
          [
           "Book or Shrine, Cumdach of the Stowe Missal",
           463587
          ],
          [
           "Bell of Clogher",
           463588
          ],
          [
           "Chalice",
           463591
          ],
          [
           "Dunvegan Cup",
           463592
          ],
          [
           "Situla",
           463593
          ],
          [
           "Processional Cross",
           463594
          ],
          [
           "Footed Cup with Falconer",
           463595
          ],
          [
           "Bowl",
           463596
          ],
          [
           "Bowl",
           463597
          ],
          [
           "Bowl",
           463598
          ],
          [
           "Textile with Brocade",
           463599
          ],
          [
           "Textile with Brocade",
           463600
          ],
          [
           "Manuscript Illumination with Scenes of Easter in an Initial A, from an Antiphonary",
           463602
          ],
          [
           "Manuscript Illumination with the Virgin and Child in an Initial S, from an Antiphonary",
           463603
          ],
          [
           "Manuscript Illumination with David in Prayer in an Initial M, from a Psalter",
           463604
          ],
          [
           "Manuscript Illumination with Singing Monks in an Initial D, from a Psalter",
           463605
          ],
          [
           "Plaque with the Head of Saint John the Baptist on a Charger",
           463607
          ],
          [
           "Orphrey",
           463610
          ],
          [
           "Initial P with the Martyrdom of Saint Peter Martyr",
           32830
          ],
          [
           "Initial S with Saint Peter Liberated from Prison",
           32831
          ],
          [
           "Initial A with the Battle of the Maccabees",
           32832
          ],
          [
           "Manuscript Leaf Showing an Illuminated Initial A and The Resurrection",
           32833
          ],
          [
           "Manuscript Cutting from the Grande Chroniques de France",
           32834
          ],
          [
           "Manuscript Cutting Showing a Scene from Hebrew Scripture, Perhaps the Life of King David (?)",
           32835
          ],
          [
           "David and Goliath",
           32836
          ],
          [
           "Manuscript Leaf from a Book of Hours Showing an Illuminated Initial D and Christ Bearing the Cross",
           32837
          ],
          [
           "Manuscript Leaf Cutting showing an Illuminated Initial R with St. Protasius and St. Gervasius",
           32838
          ],
          [
           "Manuscript Leaf Cutting from a Choir Book with an Illuminated Initial B and the Archangel Michael",
           32839
          ],
          [
           "Manuscript Leaf Cutting Probably from a Missal with an Illuminated Initial S and King David Receiving the Holy Bread from Ahimelech the Priest.",
           32840
          ],
          [
           "Manuscript Leaf Showing an Illuminated Initial R with The Resurrection",
           32947
          ],
          [
           "Enthroned Virgin and Child",
           463706
          ],
          [
           "Pharmacy Jar",
           463707
          ],
          [
           "Pharmacy Jar with the Arms of the Hospital of Santa Maria della Scala",
           463708
          ],
          [
           "Jug",
           463709
          ],
          [
           "Jug",
           463710
          ],
          [
           "Dish",
           463711
          ],
          [
           "Fragment of a Glass Bowl",
           463712
          ],
          [
           "Bowl Base with Miracle Scenes",
           463713
          ],
          [
           "Bowl Base with Saints Peter and Paul Flanking a Column with the Christogram of Christ",
           463714
          ],
          [
           "Fragment",
           463715
          ],
          [
           "Pietà with Donors",
           463716
          ],
          [
           "Entombment of Christ",
           463717
          ],
          [
           "Wooden Frame from an Entombment Group",
           463718
          ],
          [
           "Cupboard",
           463720
          ],
          [
           "Double Column",
           463721
          ],
          [
           "The Annunciation",
           463727
          ],
          [
           "Chest",
           463728
          ],
          [
           "Double Column",
           463732
          ],
          [
           "St. Margaret",
           463741
          ],
          [
           "Saint Anne with the Virgin and Child",
           463742
          ],
          [
           "Frieze",
           463744
          ],
          [
           "Choir Stall",
           463746
          ],
          [
           "Choir Stalls",
           463747
          ],
          [
           "Capital",
           463749
          ],
          [
           "Capital",
           463750
          ],
          [
           "Saint James the Lesser",
           463751
          ],
          [
           "Apostle",
           463752
          ],
          [
           "St. Michael",
           463753
          ],
          [
           "Nativity",
           463755
          ],
          [
           "Ecclesiastical Figure",
           463756
          ],
          [
           "Choir Stall",
           463757
          ],
          [
           "Saint Mary Magdalene",
           463758
          ],
          [
           "Virgin and Child",
           463759
          ],
          [
           "Crown",
           463760
          ],
          [
           "Virgin and Child",
           463762
          ],
          [
           "Virgin and Child",
           463765
          ],
          [
           "Six Apostles from Retable",
           463768
          ],
          [
           "Virgin and Child",
           463770
          ],
          [
           "Saint Mary Magdalene",
           463771
          ],
          [
           "Virgin and Child",
           463772
          ],
          [
           "Mourner",
           463773
          ],
          [
           "Architectural Fragment",
           463776
          ],
          [
           "Architectural Fragment",
           463777
          ],
          [
           "Crucifix",
           463778
          ],
          [
           "Screen",
           463784
          ],
          [
           "Enthroned Virgin and Child",
           463785
          ],
          [
           "Mourning Virgin from a Crucifixion Group",
           463786
          ],
          [
           "Saint George Slaying the Dragon",
           463787
          ],
          [
           "Saint Roch",
           463788
          ],
          [
           "Monastic Saint",
           463789
          ],
          [
           "St. Peter",
           463791
          ],
          [
           "St. Paul",
           463792
          ],
          [
           "Standing Saint or Apostle",
           463793
          ],
          [
           "Saint Nicholas with the Three Boys in the Pickling Tub",
           463794
          ],
          [
           "Virgin and Child in Majesty",
           463795
          ],
          [
           "Angel with handkerchief of Saint Veronica",
           463796
          ],
          [
           "Angel with Emblem of The Passion",
           463797
          ],
          [
           "Saint Bridget of Sweden",
           463798
          ],
          [
           "Mater Dolorosa",
           463800
          ],
          [
           "Chest",
           463802
          ],
          [
           "St. John",
           463805
          ],
          [
           "Trumpeter",
           463807
          ],
          [
           "The Virgin and Child, Saint Anne, and Saint Emerentia",
           463810
          ],
          [
           "Death of the Virgin",
           463813
          ],
          [
           "Meeting of Saints Joachim and Anne at the Golden Gate",
           463816
          ],
          [
           "Apostles in Prayer",
           463817
          ],
          [
           "Virgin, Saint John, and Three Holy Women from a Crucifixion",
           463818
          ],
          [
           "Descent from the Cross",
           463819
          ],
          [
           "Descent from the Cross",
           463820
          ],
          [
           "Christ among the Doctors",
           463821
          ],
          [
           "Three Soldiers",
           463822
          ],
          [
           "The Entombment of Christ",
           463824
          ],
          [
           "The Entombment",
           463825
          ],
          [
           "Saint Anne with the Virgin and Child",
           463826
          ],
          [
           "Virgin of the Annunciation",
           463827
          ],
          [
           "St. Augustine (or St. Ambrose) and St. Jerome",
           463828
          ],
          [
           "The Savior",
           463829
          ],
          [
           "Saint Peter",
           463830
          ],
          [
           "Saint Paul",
           463831
          ],
          [
           "St. James the Great",
           463832
          ],
          [
           "Triple Choir Stall with Canopy",
           463833
          ],
          [
           "Saint John, Apostle and Evangelist",
           463834
          ],
          [
           "Saint Thomas",
           463835
          ],
          [
           "St. James the Less",
           463836
          ],
          [
           "Saint Phillip",
           463837
          ],
          [
           "Saint Simon",
           463838
          ],
          [
           "Saint Matthias (?)",
           463839
          ],
          [
           "Saint Matthew (?)",
           463840
          ],
          [
           "Saint Andrew (?)",
           463841
          ],
          [
           "Armoire",
           463844
          ],
          [
           "The Crown of Thorns with the Lamentation or Pietà",
           463855
          ],
          [
           "Judas Entering the Garden of Gethsemane to Betray Christ",
           463862
          ],
          [
           "Entombment",
           463865
          ],
          [
           "Virgin Supported by Saint John",
           463867
          ],
          [
           "Virgin Fainting at the Cross",
           463868
          ],
          [
           "Pietà",
           463869
          ],
          [
           "Corbel with Angels",
           463870
          ],
          [
           "Corbel with Angels",
           463871
          ],
          [
           "Saint Anne with Virgin and Child",
           463872
          ],
          [
           "Sainted Abbot",
           463880
          ],
          [
           "Two Women",
           463884
          ],
          [
           "Funerary Relief from the Tomb of Milon de Donzy (d. 1337-38), dean of the Cathedral of Nevers",
           463885
          ],
          [
           "Christ Crowned with Thorns",
           463889
          ],
          [
           "The Kiss of Judas",
           463893
          ],
          [
           "Saint John the Baptist",
           463895
          ],
          [
           "Choir Stall Fragment",
           463897
          ],
          [
           "Choir Stall Fragment (?)",
           463898
          ],
          [
           "Virgin and Child",
           463900
          ],
          [
           "Virgin and Child",
           463903
          ],
          [
           "Bellows with Relief",
           463905
          ],
          [
           "Bellows with Relief",
           463906
          ],
          [
           "Orphrey, Cross",
           463907
          ],
          [
           "Education of the Virgin",
           463908
          ],
          [
           "Chasuble with Pomegranate Design",
           463910
          ],
          [
           "Double Column",
           463915
          ],
          [
           "Canopied Seat",
           463916
          ],
          [
           "Double Column",
           463917
          ],
          [
           "Weathercock and Stand",
           463918
          ],
          [
           "Vestibule and Wainscoting",
           463920
          ],
          [
           "Scenes from the Life of Christ",
           463924
          ],
          [
           "Mantleshelf",
           463927
          ],
          [
           "Double Column",
           463928
          ],
          [
           "Panel",
           463931
          ],
          [
           "Double Column",
           463936
          ],
          [
           "Double Column",
           463942
          ],
          [
           "Double Column",
           463949
          ],
          [
           "Tiles with a Lion on a Shield",
           463957
          ],
          [
           "Crucifixion",
           463959
          ],
          [
           "Virgin and Child",
           463961
          ],
          [
           "Glass Panel of Saint Nicholas",
           463965
          ],
          [
           "Glass Panel of Saint Nicholas",
           463966
          ],
          [
           "Hexagonal Jug",
           463968
          ],
          [
           "Virgin and Child",
           463969
          ],
          [
           "Saint James the Greater",
           463970
          ],
          [
           "Saint John on Patmos",
           463972
          ],
          [
           "Relief of the Betrayal and Arrest of Jesus",
           463973
          ],
          [
           "Glass Panel with Profanation of Jerusalem and the Sacred Rites of The Temple",
           463974
          ],
          [
           "Textile with Brocade",
           463975
          ],
          [
           "Textile with Brocade",
           463976
          ],
          [
           "Brocade Textile",
           463977
          ],
          [
           "Damask",
           463978
          ],
          [
           "The Fall and Redemption of Man",
           463980
          ],
          [
           "Panel with Christ and Mary Magdalene",
           463982
          ],
          [
           "Dagger (?) Hilt",
           463983
          ],
          [
           "Icon with the Virgin and Child",
           463984
          ],
          [
           "Medallion with Double Portrait",
           463987
          ],
          [
           "Medallion with Family Portrait",
           463988
          ],
          [
           "Gold Glass Medallion with a Mother and Child",
           463989
          ],
          [
           "Frame, Medallion",
           463990
          ],
          [
           "Saint James the Great",
           464004
          ],
          [
           "Virgin and Child",
           464005
          ],
          [
           "Virgin and Child",
           464006
          ],
          [
           "Incense Boat",
           464007
          ],
          [
           "Disk from a Panagiarion with the Virgin and Child",
           464010
          ],
          [
           "Icon with Three Church Fathers",
           464011
          ],
          [
           "Panel with a Standing Figure of Christ",
           464012
          ],
          [
           "Icon with the Koimesis",
           464013
          ],
          [
           "Icon with the Deesis",
           464014
          ],
          [
           "Panel with Byzantine Ivory Carving of the Crucifixion",
           464015
          ],
          [
           "Panel from an Ivory Casket with Scenes of the Story of Joshua",
           464016
          ],
          [
           "Casket Plaque",
           464017
          ],
          [
           "Plaque with Scenes from the Story of Joshua",
           464018
          ],
          [
           "Panel from an Ivory Casket with the Story of Adam and Eve",
           464019
          ],
          [
           "Panels from an Ivory Casket with the Story of Adam and Eve",
           464020
          ],
          [
           "Panel from an Ivory Casket with the Killing of the King of Hazor (Joshua 11)",
           464021
          ],
          [
           "Plaque with the Crucifixion",
           464022
          ],
          [
           "Processional Cross",
           464023
          ],
          [
           "Game Piece with Samson Slaying the Philistines with the Jawbone of an Ass",
           464024
          ],
          [
           "Panel with Scene from the Life of a Saint",
           464025
          ],
          [
           "Seal Matrix with Abbot William of Gross St. Martin and Saint Martin",
           464026
          ],
          [
           "Gold Earring with Pearls and Sapphires",
           464028
          ],
          [
           "Gold Earring with Pearls and Sapphires",
           464029
          ],
          [
           "Girdle with Coins and Medallions",
           464030
          ],
          [
           "Bracelet with Grapevine Pattern",
           464031
          ],
          [
           "Bracelet with Grapevine Pattern",
           464032
          ],
          [
           "Gold Necklace with Cross",
           464033
          ],
          [
           "Gold Necklace with Ornaments",
           464034
          ],
          [
           "Gold Necklace with Pearls and Stones of Emerald Plasma",
           464036
          ],
          [
           "Bracelet",
           464037
          ],
          [
           "Bracelet",
           464038
          ],
          [
           "Plaque with God Creating the Animals",
           464039
          ],
          [
           "Elements from a Necklace",
           464044
          ],
          [
           "Box with Courting Couples",
           464046
          ],
          [
           "Crozier Head with Crucifixion, Virgin and Child, and Saint Denis",
           464047
          ],
          [
           "Plaque with the Crucifixion",
           464048
          ],
          [
           "Gold Necklace with Amphora (Vase) Pendant",
           464049
          ],
          [
           "Gold Strip",
           464050
          ],
          [
           "Gold Strip",
           464051
          ],
          [
           "Gold Strip",
           464052
          ],
          [
           "Standing Virgin and Child",
           464054
          ],
          [
           "Necklace with Pendant Cross",
           464055
          ],
          [
           "Bracelet",
           464056
          ],
          [
           "Gold Necklace with Amethysts, Glass, and Gold Beads",
           464057
          ],
          [
           "Gold Signet Ring with Virgin and Child",
           464059
          ],
          [
           "Gold Necklace with Pendants",
           464061
          ],
          [
           "Bracelet",
           464062
          ],
          [
           "Bracelet",
           464063
          ],
          [
           "Gold Necklace with Pendant Cross",
           464064
          ],
          [
           "Virgin and Child",
           464065
          ],
          [
           "Gold Necklace with Gold Cross, Two Amethysts, and an Emerald Plasma",
           464066
          ],
          [
           "Bracelet",
           464067
          ],
          [
           "Gold Buckle",
           464068
          ],
          [
           "Gold Necklace with Amethysts, Glass Beads, and a Pearl",
           464069
          ],
          [
           "Pectoral with Coins and Pseudo-Medallion",
           464070
          ],
          [
           "Earring (one of a pair)",
           464071
          ],
          [
           "Earring (one of a pair)",
           464072
          ],
          [
           "Necklace with Pendant Crosses",
           464073
          ],
          [
           "Bracelet (one of a pair)",
           464074
          ],
          [
           "Bracelet (one of a pair)",
           464075
          ],
          [
           "Diptych with Annunciation, Visitation, Nativity, Crucifixion, and Coronation of the Virgin",
           464076
          ],
          [
           "Jeweled Bracelet (one of pair)",
           464077
          ],
          [
           "Jeweled Bracelet (one of pair)",
           464078
          ],
          [
           "Gold Belt End",
           464080
          ],
          [
           "Gold Strap End (Unfinished)",
           464081
          ],
          [
           "Gold Strap End (Unfinished)",
           464082
          ],
          [
           "Gold Belt Mount (Miscast and Unfinished)",
           464083
          ],
          [
           "Gold Strap End (Unfinished)",
           464084
          ],
          [
           "Gold Buckle",
           464085
          ],
          [
           "Gold Belt-Hole Guard",
           464086
          ],
          [
           "Circular Box (Pyxis) with Scenes from the Infancy of Jesus",
           464087
          ],
          [
           "Fragment of a Gold Ingot",
           464088
          ],
          [
           "Gold Belt Mount with Loop",
           464089
          ],
          [
           "Gold Belt Mount with Loop",
           464090
          ],
          [
           "Gold Slide for a Belt or Strap",
           464091
          ],
          [
           "Gold Belt Mount with Loop",
           464092
          ],
          [
           "Gold Belt Mount (Unfinished)",
           464093
          ],
          [
           "Gold Openwork Belt Mount",
           464094
          ],
          [
           "Gold Strap End (Unfinished)",
           464095
          ],
          [
           "Gold Belt Hole Guard",
           464096
          ],
          [
           "Gold Belt Mount with Loop",
           464097
          ],
          [
           "Virgin and Child",
           464098
          ],
          [
           "Gold Belt Mount with Loop",
           464099
          ],
          [
           "Fragment of a Gold Attachment Plate for a Buckle",
           464100
          ],
          [
           "Gold Strap End (Unfinished)",
           464101
          ],
          [
           "Gold Belt Mount with Loop",
           464102
          ],
          [
           "Gold Belt Mount with Rivet",
           464103
          ],
          [
           "Gold Belt Mount with Rivets",
           464105
          ],
          [
           "Gold Belt Mount (Miscast and Unfinished)",
           464106
          ],
          [
           "Gold Slide for a Belt",
           464107
          ],
          [
           "Gold Belt-Hole Guard",
           464108
          ],
          [
           "Gold Strap End (Unfinished)",
           464109
          ],
          [
           "Virgin and Child",
           464110
          ],
          [
           "Gold Strap End (Unfinished)",
           464111
          ],
          [
           "Gold Belt Mount (Miscast and Unfinished)",
           464112
          ],
          [
           "Ewer of Zenobius",
           464113
          ],
          [
           "Silver Drinking Bowl with Handle",
           464114
          ],
          [
           "Silver Bucket",
           464115
          ],
          [
           "Gold Drinking Bowl with Handle",
           464116
          ],
          [
           "Gold Drinking Bowl with Handle",
           464117
          ],
          [
           "Crozier Head with Double Enthroned Christ",
           464118
          ],
          [
           "Goblet with Personifications of Cyprus, Rome, Constantinople, and Alexandria",
           464119
          ],
          [
           "Goblet and Cover (?)",
           464120
          ],
          [
           "Goblet",
           464121
          ],
          [
           "Chalice Cover",
           464122
          ],
          [
           "Chain",
           464123
          ],
          [
           "Crucifixion Triptych",
           464124
          ],
          [
           "Box with Romance Scenes",
           464125
          ],
          [
           "Panel from a Box with Scenes from Romance Literature",
           464126
          ],
          [
           "Reliquary Bust of Saint Catherine of Alexandria",
           464127
          ],
          [
           "Reliquary Bust of Saint Barbara",
           464128
          ],
          [
           "Saint Catherine",
           464129
          ],
          [
           "Folding Shrine with the Virgin and Child",
           464130
          ],
          [
           "Virgin and Child",
           464131
          ],
          [
           "Right Leaf of a Diptych",
           464132
          ],
          [
           "Box with Scenes from the Romance, “The Chatelaine de Vergy”",
           464133
          ],
          [
           "Virgin",
           464134
          ],
          [
           "Diptych Leaf with the Resurrection and the Coronation of the Virgin",
           464135
          ],
          [
           "Box with scenes from the Romance, \"The Chatelaine of Vergy\"",
           464136
          ],
          [
           "Virgin and Child",
           464137
          ],
          [
           "Virgin and Child with Cradle",
           464139
          ],
          [
           "Pricket Candlestick with Birds, Vines, and Leaves",
           464140
          ],
          [
           "Pricket Candlestick with Birds, Vines, and Leaves",
           464141
          ],
          [
           "Shrine of the Virgin",
           464142
          ],
          [
           "Crucifixion flanked by Saints",
           464143
          ],
          [
           "Virgin and Child",
           464147
          ],
          [
           "Virgin and Child",
           464148
          ],
          [
           "Leaf from a Diptych with the Crucifixion and Annunciation",
           464149
          ],
          [
           "Virgin Supported by Two Holy Women",
           464150
          ],
          [
           "Panel from the Lid of a Box",
           464151
          ],
          [
           "Apostle Holding a Book",
           464153
          ],
          [
           "Central Portion of a Tabernacle",
           464154
          ],
          [
           "Diptych with the Glorification of the Virgin and the Crucifixion",
           464155
          ],
          [
           "Plaque with the Descent from the Cross",
           464156
          ],
          [
           "Diptych with the Entry into Jerusalem, Crucifixion, Entombment, and Resurrection",
           464157
          ],
          [
           "Folding Shrine with the Virgin and Child",
           464158
          ],
          [
           "Virgin and Child",
           464159
          ],
          [
           "Virgin and Child with an Apple and a Rose",
           464160
          ],
          [
           "Folding Devotional Shrine with Scenes from Christ's Passion",
           464161
          ],
          [
           "One of a Pair of Crescent-Shaped Earrings with Rosettes",
           464162
          ],
          [
           "One of a Pair of Crescent-Shaped Earrings with Rosettes",
           464163
          ],
          [
           "Bracelet with Bust of Roma",
           464164
          ],
          [
           "Gold and Niello Bracelet",
           464165
          ],
          [
           "Relief from a Crucifixion Group",
           464167
          ],
          [
           "Virgin and Child",
           464168
          ],
          [
           "Diptych with Scenes from the Passion",
           464169
          ],
          [
           "Crucified Christ",
           464170
          ],
          [
           "Diptych with the Annunciation",
           464171
          ],
          [
           "Case for Enamel Diptych",
           464172
          ],
          [
           "Medallion from pendant",
           464173
          ],
          [
           "Virgin and Child",
           464174
          ],
          [
           "Reliquary",
           464175
          ],
          [
           "Reliquary",
           464176
          ],
          [
           "Reliquary",
           464177
          ],
          [
           "Reliquary",
           464178
          ],
          [
           "Triptych with the Coronation of the Virgin",
           464179
          ],
          [
           "Reliquary",
           464180
          ],
          [
           "Reliquary",
           464182
          ],
          [
           "Panel from the tomb of Don Garcia Osorio",
           464183
          ],
          [
           "Panel from the Tomb of Don Garcia Osorio",
           464184
          ],
          [
           "Head of Christ",
           464185
          ],
          [
           "Panel from the Tomb of Don Garcia Osorio",
           464186
          ],
          [
           "Panel from the Tomb of Don Garcia Osorio",
           464187
          ],
          [
           "Panel from the Tomb of Don Garcia Osorio",
           464188
          ],
          [
           "Panel from the Tomb of Don Garcia Osorio",
           464189
          ],
          [
           "Baptismal Font",
           464190
          ],
          [
           "Seated Virgin & Child",
           464192
          ],
          [
           "Plaque from a Reliquary Shrine",
           464194
          ],
          [
           "Plaque from a Reliquary Shrine",
           464195
          ],
          [
           "Plaque from a Reliquary Shrine",
           464196
          ],
          [
           "Plaque from a Reliquary Shrine",
           464197
          ],
          [
           "Diptych",
           464198
          ],
          [
           "Plaque from a Reliquary Shrine",
           464199
          ],
          [
           "Plaque from a Reliquary Shrine",
           464200
          ],
          [
           "Plaque from a Reliquary Shrine",
           464201
          ],
          [
           "Plaque from a Reliquary Shrine",
           464202
          ],
          [
           "Medallion with a Queen Holding a Scepter and Falcon",
           464203
          ],
          [
           "Medallion with Youth Playing Pipe for Dancing Woman with Castanets",
           464204
          ],
          [
           "Medallion with man and woman holding standard",
           464205
          ],
          [
           "Medallion with Two Young Warriors with Falchions and Bucklers",
           464206
          ],
          [
           "Medallion with Two Warriors, One Bearded, with Swords and Bucklers",
           464207
          ],
          [
           "Medallion with Man Fighting Basilisk",
           464208
          ],
          [
           "Medallion with Archer Shooting Bird",
           464210
          ],
          [
           "Medallion with Youth on Galloping Horse",
           464211
          ],
          [
           "Medallion with Varlet with Horn and Hound",
           464212
          ],
          [
           "Medallion with Youth Leading Long-necked Animal",
           464213
          ],
          [
           "Medallion with Hunting Dog Attacking Boar Crossing Water",
           464214
          ],
          [
           "Medallion with Hound Attacking Stag",
           464215
          ],
          [
           "Comb",
           464219
          ],
          [
           "Pectoral with Christ and the Lamb of God and the Symbols of the Four Evangelists",
           464220
          ],
          [
           "Oliphant",
           464221
          ],
          [
           "Figure of Samuel",
           464223
          ],
          [
           "Reliquary Crucifix",
           464224
          ],
          [
           "Christ Enthroned",
           464225
          ],
          [
           "Crozier Head with Lamb of God",
           464226
          ],
          [
           "Crozier Head with Double Volute",
           464227
          ],
          [
           "The Trinity",
           464228
          ],
          [
           "Fragment with Knight on Horseback",
           464230
          ],
          [
           "Bishop Chess Piece",
           464231
          ],
          [
           "Tower Reliquary with Eight Apostles and the Symbols of the Four Evangelists",
           464232
          ],
          [
           "Knight Chess Piece",
           464233
          ],
          [
           "Head of a Crozier",
           464234
          ],
          [
           "Mortar",
           464235
          ],
          [
           "Casket with Erotes and Animals",
           464236
          ],
          [
           "Casket with Warriors and Mythological Figures",
           464237
          ],
          [
           "Reliquary Casket with the Deesis, Archangels, and the Twelve Apostles",
           464238
          ],
          [
           "Casket with Warriors and Dancers",
           464239
          ],
          [
           "Container with Figures under an Arcade",
           464240
          ],
          [
           "Fragments of a Crucifixion",
           464243
          ],
          [
           "Fragment of a Comb",
           464244
          ],
          [
           "Comb",
           464245
          ],
          [
           "Mirror Case",
           464246
          ],
          [
           "Mirror Case",
           464247
          ],
          [
           "Ivory Mirror Case with a Falconing Party",
           464248
          ],
          [
           "Panel from a Box with Scene of Jousting Knights",
           464249
          ],
          [
           "Diptych with Scenes from the Lives of Jesus and Mary",
           464251
          ],
          [
           "Panel from a Box with Scenes from Romance Literature",
           464252
          ],
          [
           "Folding Shrine with Virgin and Child",
           464253
          ],
          [
           "Roundel with the Virgin Mary, Saint John, and Angels",
           464254
          ],
          [
           "Diptych with Scenes from the Life of Christ",
           464255
          ],
          [
           "Top Panel of a Box",
           464256
          ],
          [
           "Mirror Case with amorous scenes",
           464257
          ],
          [
           "Plaque with a Pair of Lovers",
           464258
          ],
          [
           "Plaque with a Pair of Lovers",
           464259
          ],
          [
           "Plaque with a Pair of Lovers",
           464260
          ],
          [
           "Comb",
           464261
          ],
          [
           "Triptych with Virgin and Child and Saints",
           464262
          ],
          [
           "Plaque with the Crucifixion",
           464263
          ],
          [
           "Leaf from a Diptych",
           464264
          ],
          [
           "Leaf from a Diptych with the life of the Virgin",
           464265
          ],
          [
           "Left Wing of a Diptych",
           464266
          ],
          [
           "Panel from a  Diptych",
           464267
          ],
          [
           "Diptych with the Passion of Jesus",
           464268
          ],
          [
           "Plaque with the Crucifixion",
           464269
          ],
          [
           "Panel with Scenes featuring Unknown Saints",
           464270
          ],
          [
           "Diptych with Scenes from the Life of Christ",
           464271
          ],
          [
           "Diptych with Scenes from the Passion",
           464272
          ],
          [
           "Diptych with the Adoration of the Magi and the Vera Icon (True Image)",
           464273
          ],
          [
           "Central Leaf of a Diptych",
           464274
          ],
          [
           "Central Portion from a Triptych with the Crucifixion and Virgin and Child",
           464275
          ],
          [
           "Leaf from a Diptych with the Coronation, Annunciation, and Visitation",
           464276
          ],
          [
           "Crozier Head with the Crucifixion and the Virgin and Child",
           464277
          ],
          [
           "Triptych",
           464278
          ],
          [
           "Leaf from an Ivory Diptych",
           464279
          ],
          [
           "Plaque with the Crucifixion",
           464280
          ],
          [
           "Panel with the Adoration of the Magi",
           464281
          ],
          [
           "Leaf from a Diptych with the Adoration of the Magi",
           464282
          ],
          [
           "Diptych with Virgin and Child and Crucifixion",
           464283
          ],
          [
           "Diptych with the Adoration of the Magi and the Crucifixion",
           464286
          ],
          [
           "Diptych with the Coronation of the Virgin and the Crucifixion",
           464287
          ],
          [
           "Diptych with Scenes from the Passion of Jesus",
           464288
          ],
          [
           "Folding Shrine with Virgin and Child",
           464289
          ],
          [
           "Painted Diptych",
           464290
          ],
          [
           "Leaf from a Diptych with Scenes from the Life of Christ",
           464291
          ],
          [
           "Diptych with the Glorification of the Virgin and the Crucifixion",
           464292
          ],
          [
           "Diptych with the Glorification of the Virgin and Crucifixion",
           464293
          ],
          [
           "Virgin and Child",
           464294
          ],
          [
           "Enthroned Virgin and Child",
           464295
          ],
          [
           "Mary Magdalene",
           464296
          ],
          [
           "Virgin of the Annunciation",
           464297
          ],
          [
           "Rosary Bead with the Crucifixion and Resurrection",
           464298
          ],
          [
           "Rosary Terminal Bead with Lovers and Death's Head",
           464299
          ],
          [
           "Rosary",
           464300
          ],
          [
           "Pomander Bead from a Rosary or Devotional Pendant",
           464302
          ],
          [
           "Chasse",
           464305
          ],
          [
           "Panel with an Ivory Crucifixion Scene",
           464306
          ],
          [
           "Processional Cross",
           464309
          ],
          [
           "Chasse",
           464312
          ],
          [
           "Crucifix",
           464315
          ],
          [
           "Two Fragments of Hands",
           464316
          ],
          [
           "Circular Box (Pyxis) with the Miracle of Christ’s Multiplication of the Loaves",
           464317
          ],
          [
           "Base of an Altar Cross with the Four Evangelists and Their Symbols",
           464319
          ],
          [
           "Crucified Christ",
           464320
          ],
          [
           "Cross",
           464321
          ],
          [
           "Chasse",
           464322
          ],
          [
           "Knife",
           464323
          ],
          [
           "Eucharistic Dove",
           464324
          ],
          [
           "Candlestick",
           464325
          ],
          [
           "Spherical knop",
           464327
          ],
          [
           "Virgin and Child",
           464328
          ],
          [
           "Book Cover Plaque with Christ in Majesty and the Symbols of the Four Evangelists",
           464330
          ],
          [
           "Crown, Part",
           464331
          ],
          [
           "Reliquary Arm of St. Valentine",
           464332
          ],
          [
           "Reliquary Bust of Saint Yrieix",
           464333
          ],
          [
           "Arm Reliquary",
           464334
          ],
          [
           "Jesus and the Samaritan Woman at the Well",
           464335
          ],
          [
           "Shrine",
           464336
          ],
          [
           "Virgin and Child",
           464337
          ],
          [
           "Censer",
           464338
          ],
          [
           "Evangelist Saint Mark writing the Gospel with his symbol, the Lion, holding a scroll",
           464339
          ],
          [
           "Censer",
           464340
          ],
          [
           "Reliquary Statuette of Saint Christopher",
           464341
          ],
          [
           "Lock",
           464342
          ],
          [
           "Covered Cup",
           464343
          ],
          [
           "Covered Cup",
           464344
          ],
          [
           "Chalice",
           464345
          ],
          [
           "Paten",
           464346
          ],
          [
           "Standing Virgin and Child",
           464347
          ],
          [
           "Chalice",
           464348
          ],
          [
           "Triptych with the Way to Calvary, the Crucifixion, and the Disrobing of Jesus",
           464349
          ],
          [
           "Plaque with the Crucifixion",
           464350
          ],
          [
           "Reliquary Cross",
           464351
          ],
          [
           "Chalice",
           464352
          ],
          [
           "Ciborium",
           464353
          ],
          [
           "Purse Frame",
           464354
          ],
          [
           "Man",
           464355
          ],
          [
           "Worshippers",
           464356
          ],
          [
           "The Three Magi (?)",
           464357
          ],
          [
           "Musical Angel",
           464358
          ],
          [
           "Hunting Horn",
           464359
          ],
          [
           "Plaque with Agnus Dei on a Cross between Emblems of the Four Evangelists",
           464360
          ],
          [
           "The Three Maries",
           464362
          ],
          [
           "Saint Anna and Saint Joachim",
           464364
          ],
          [
           "St. George and the Dragon",
           464365
          ],
          [
           "Mourner",
           464366
          ],
          [
           "King, from a group of Donor Figures including a King, Queen, and Prince",
           464367
          ],
          [
           "Queen, from a group of Donor Figures including a King, Queen, and Prince",
           464368
          ],
          [
           "Mourner",
           464369
          ],
          [
           "Plaque with Enthroned Virgin and Child",
           464370
          ],
          [
           "Angel of the Annunciation",
           464371
          ],
          [
           "Monk",
           464372
          ],
          [
           "Prince, from a group of Donor Figures including a King, Queen, and Prince",
           464373
          ],
          [
           "Chest with Coats of Arms",
           464374
          ],
          [
           "Plate with David Slaying a Lion",
           464375
          ],
          [
           "Plate with David's Confrontation with Eliab",
           464376
          ],
          [
           "Plate with the Battle of David and Goliath",
           464377
          ],
          [
           "Plate with the Presentation of David to Saul",
           464378
          ],
          [
           "Plate with David Anointed by Samuel",
           464379
          ],
          [
           "Plate with the Arming of David",
           464380
          ],
          [
           "Panel with Crucifixion",
           464381
          ],
          [
           "Casket or Portable Altar with the Crucifixion, Standing Saints, and Christ in Majesty with Symbols of the Evangelists",
           464383
          ],
          [
           "Chasse",
           464386
          ],
          [
           "Vessel Cover",
           464389
          ],
          [
           "Crucified Christ",
           464390
          ],
          [
           "Central Plaque of a Cross",
           464392
          ],
          [
           "Cross Terminal",
           464393
          ],
          [
           "Hairpin",
           464917
          ],
          [
           "Hairpin",
           464918
          ],
          [
           "L-Shaped Key",
           464919
          ],
          [
           "Equal-Arm Brooch",
           464920
          ],
          [
           "Disk Brooch",
           464921
          ],
          [
           "Rectangular Plaque",
           464922
          ],
          [
           "Disk Brooch",
           464923
          ],
          [
           "Druggist's Scales",
           464924
          ],
          [
           "Belt Buckle",
           464925
          ],
          [
           "Belt Tongue and Oval Loop from a Buckle",
           464926
          ],
          [
           "Belt Tongue and Oval Loop from a Buckle",
           464927
          ],
          [
           "Belt Buckle with a Griffin",
           464928
          ],
          [
           "Rectangular Plaque",
           464929
          ],
          [
           "Ferret",
           464930
          ],
          [
           "Disk Brooch",
           464932
          ],
          [
           "Ferret",
           464933
          ],
          [
           "Flat Ornament",
           464934
          ],
          [
           "Flat Ornament",
           464935
          ],
          [
           "Flat Ornament",
           464936
          ],
          [
           "Flat Ornament",
           464937
          ],
          [
           "Equal-Arm Brooch",
           464939
          ],
          [
           "Belt Tongue and Rectangular Loop from a Buckle",
           464940
          ],
          [
           "Four-Spoked Votive Wheel",
           464941
          ],
          [
           "Flat Brooch",
           464942
          ],
          [
           "Disk Brooch",
           464943
          ],
          [
           "Back of Disk Brooch",
           464944
          ],
          [
           "Horse Trapping",
           464945
          ],
          [
           "Torc",
           464946
          ],
          [
           "Bracelet with Spiral Designs",
           464947
          ],
          [
           "Torc",
           464948
          ],
          [
           "Bracelet",
           464950
          ],
          [
           "Torc",
           464951
          ],
          [
           "Bracelet",
           464952
          ],
          [
           "Central Mount of Purse",
           464953
          ],
          [
           "Openwork Rosette Brooch",
           464954
          ],
          [
           "Bracelet",
           464955
          ],
          [
           "Openwork Belt Fitting",
           464956
          ],
          [
           "Horse Trapping",
           464957
          ],
          [
           "Bracelet",
           464958
          ],
          [
           "Openwork Belt Fitting",
           464959
          ],
          [
           "Bracelet",
           464960
          ],
          [
           "Sword Chain",
           464961
          ],
          [
           "Flat Rectangular Plaque",
           464962
          ],
          [
           "Double-Sided Comb",
           464963
          ],
          [
           "Openwork Plaque",
           464964
          ],
          [
           "Umbo",
           464965
          ],
          [
           "Coin of the Suessiones",
           464966
          ],
          [
           "Coin of The Senones",
           464969
          ],
          [
           "Flat Circular Button",
           464970
          ],
          [
           "Purse Mount in the Form of a Cross",
           464971
          ],
          [
           "Purse Mount in the Form of a Cross",
           464972
          ],
          [
           "Bead",
           464973
          ],
          [
           "Flat Circular Button",
           464974
          ],
          [
           "Square Plaque",
           464975
          ],
          [
           "Disk Brooch",
           464976
          ],
          [
           "Ferret",
           464977
          ],
          [
           "Square Plaque",
           464978
          ],
          [
           "Ferret",
           464979
          ],
          [
           "Flat Circular Openwork Ornament from a Belt",
           464980
          ],
          [
           "Openwork Plaque",
           464981
          ],
          [
           "Finger Ring",
           464982
          ],
          [
           "Plain Disk",
           464984
          ],
          [
           "Ferret",
           464985
          ],
          [
           "Rectangular Plaque",
           464986
          ],
          [
           "Disk Brooch",
           464987
          ],
          [
           "Disk Brooch",
           464989
          ],
          [
           "Bow-Shaped Brooch",
           464990
          ],
          [
           "Bow Brooch",
           464991
          ],
          [
           "Finger Ring",
           464992
          ],
          [
           "Pin",
           464995
          ],
          [
           "Top of a Signet Ring",
           464996
          ],
          [
           "Hairpin",
           464997
          ],
          [
           "Disk Brooch",
           464998
          ],
          [
           "Finger Ring",
           464999
          ],
          [
           "Equal-Arm Brooch",
           465000
          ],
          [
           "Equal-Arm Brooch",
           465001
          ],
          [
           "Equal-Arm Brooch",
           465002
          ],
          [
           "Bow Brooch",
           465003
          ],
          [
           "Finger Ring",
           465004
          ],
          [
           "Disk Brooch",
           465005
          ],
          [
           "Finger Ring",
           465006
          ],
          [
           "Equal-Arm Brooch",
           465007
          ],
          [
           "Equal-Arm Brooch",
           465008
          ],
          [
           "Earring",
           465009
          ],
          [
           "Pendant",
           465010
          ],
          [
           "Rosette Brooch",
           465011
          ],
          [
           "Brooch",
           465012
          ],
          [
           "Head of Sword or Dagger",
           465013
          ],
          [
           "Arrowhead",
           465014
          ],
          [
           "Arrowhead",
           465015
          ],
          [
           "Arrowhead",
           465016
          ],
          [
           "Arrowhead",
           465017
          ],
          [
           "Belt Buckle",
           465018
          ],
          [
           "Plate of a Belt Buckle",
           465019
          ],
          [
           "Backplate of a Belt Buckle",
           465020
          ],
          [
           "Belt Plate",
           465022
          ],
          [
           "Backplate of a Belt Buckle",
           465023
          ],
          [
           "Plate and Loop of a Belt Buckle",
           465024
          ],
          [
           "Belt Buckle Loop",
           465025
          ],
          [
           "Buckle Tongue",
           465026
          ],
          [
           "Belt Plate",
           465027
          ],
          [
           "Loop and Plate of a Belt Buckle",
           465028
          ],
          [
           "Belt Buckle",
           465029
          ],
          [
           "Belt Plate",
           465030
          ],
          [
           "Belt Buckle",
           465031
          ],
          [
           "Disk Brooch",
           465033
          ],
          [
           "Backplate of a Belt Buckle",
           465034
          ],
          [
           "Back Plate from a Belt Buckle",
           465035
          ],
          [
           "Belt Buckle",
           465036
          ],
          [
           "Counter Plate of a Belt Buckle",
           465038
          ],
          [
           "Belt Buckle",
           465039
          ],
          [
           "Belt Buckle",
           465040
          ],
          [
           "Belt Plate",
           465041
          ],
          [
           "Belt Buckle Plate",
           465042
          ],
          [
           "Belt Plate",
           465043
          ],
          [
           "Disk Brooch",
           465044
          ],
          [
           "Belt Buckle and Plate",
           465045
          ],
          [
           "Counter Plate of a Belt Buckle",
           465046
          ],
          [
           "Belt Buckle",
           465047
          ],
          [
           "Belt Buckle",
           465048
          ],
          [
           "Belt Plate",
           465049
          ],
          [
           "Belt Buckle",
           465050
          ],
          [
           "Belt Buckle",
           465051
          ],
          [
           "Buckle Plate",
           465052
          ],
          [
           "Buckle Loop and Tongue",
           465053
          ],
          [
           "Counter Plate of a Belt Buckle",
           465055
          ],
          [
           "Disk Brooch",
           465056
          ],
          [
           "Belt Plate",
           465057
          ],
          [
           "Belt Plate",
           465058
          ],
          [
           "Belt Buckle",
           465059
          ],
          [
           "Belt Buckle",
           465060
          ],
          [
           "Belt Plate Back",
           465061
          ],
          [
           "Belt Plate",
           465062
          ],
          [
           "Belt Buckle",
           465063
          ],
          [
           "Belt Buckle",
           465064
          ],
          [
           "Belt Plate",
           465065
          ],
          [
           "Counter Plate of a Belt Buckle",
           465066
          ],
          [
           "Disk Brooch",
           465067
          ],
          [
           "Bell Beaker",
           465068
          ],
          [
           "Glass Beaker with White Trails",
           465069
          ],
          [
           "Footed Bowl",
           465071
          ],
          [
           "Footed Glass Beaker",
           465072
          ],
          [
           "Bell Beaker",
           465073
          ],
          [
           "Glass Bell Beaker with White Trails",
           465074
          ],
          [
           "Bell Beaker",
           465075
          ],
          [
           "Globular Jar",
           465076
          ],
          [
           "Bowl",
           465077
          ],
          [
           "Disk Brooch",
           465078
          ],
          [
           "Glass Palm Cup with Relief Inscription",
           465079
          ],
          [
           "Globular Beaker",
           465080
          ],
          [
           "Disk brooch",
           465083
          ],
          [
           "Disk Brooch",
           465084
          ],
          [
           "Box seal",
           465085
          ],
          [
           "One of a Pair of Gold Earrings",
           465086
          ],
          [
           "Belt Buckle",
           465087
          ],
          [
           "Bird-Shaped Brooch",
           465088
          ],
          [
           "Miniature Square-Headed Brooch",
           465089
          ],
          [
           "Miniature Square-Headed Brooch",
           465090
          ],
          [
           "Miniature Square-Headed Brooch",
           465091
          ],
          [
           "Miniature Square-Headed Brooch",
           465092
          ],
          [
           "Miniature Square-Headed Brooch",
           465093
          ],
          [
           "Square-Headed Brooch",
           465094
          ],
          [
           "Square-Headed Brooch",
           465095
          ],
          [
           "Miniature Square-Headed Brooch",
           465096
          ],
          [
           "One of a Pair of Gold Earrings",
           465097
          ],
          [
           "Hairpin Point",
           465098
          ],
          [
           "Hairpin Point",
           465099
          ],
          [
           "Hairpin Part",
           465100
          ],
          [
           "Hairpin Part",
           465101
          ],
          [
           "Upper Portion of Hairpin",
           465102
          ],
          [
           "Hairpin",
           465103
          ],
          [
           "Hairpin with Terminal Knob",
           465104
          ],
          [
           "Hairpin",
           465105
          ],
          [
           "Hairpin",
           465106
          ],
          [
           "Hairpin",
           465107
          ],
          [
           "Earring",
           465108
          ],
          [
           "Hairpin",
           465109
          ],
          [
           "Toilet Implement in the Shape of a Pin",
           465110
          ],
          [
           "Hairpin",
           465111
          ],
          [
           "Hairpin",
           465112
          ],
          [
           "Hairpin",
           465113
          ],
          [
           "Hairpin",
           465114
          ],
          [
           "Hairpin",
           465115
          ],
          [
           "Part of Hairpin",
           465116
          ],
          [
           "Short Pin",
           465117
          ],
          [
           "Hairpin Part",
           465118
          ],
          [
           "Brooch",
           465119
          ],
          [
           "Pin Part",
           465120
          ],
          [
           "Pin Part",
           465121
          ],
          [
           "Upper Portion of Hairpin",
           465122
          ],
          [
           "Bird-Shaped Brooch",
           465123
          ],
          [
           "Bird-Shaped Brooch",
           465124
          ],
          [
           "Bird-Shaped Brooch",
           465125
          ],
          [
           "Bird-Shaped Brooch",
           465126
          ],
          [
           "Belt Mount",
           465127
          ],
          [
           "Openwork Rosette Brooch",
           465128
          ],
          [
           "Belt Mount",
           465129
          ],
          [
           "Pendant",
           465130
          ],
          [
           "S-Shaped Brooch",
           465131
          ],
          [
           "Harness Ornament",
           465132
          ],
          [
           "Earring",
           465133
          ],
          [
           "Earring",
           465134
          ],
          [
           "Earring",
           465135
          ],
          [
           "Earring",
           465136
          ],
          [
           "One of a Pair of Gold Cloisonné Earrings",
           465137
          ],
          [
           "One of a Pair of Gold Cloisonné Earring",
           465138
          ],
          [
           "Hairpin Knob",
           465139
          ],
          [
           "Hairpin Knob",
           465140
          ],
          [
           "Earring",
           465141
          ],
          [
           "Hairpin",
           465142
          ],
          [
           "Hairpin",
           465143
          ],
          [
           "Mount from a Knife Handle",
           465144
          ],
          [
           "Electrum Signet Ring with Monogram",
           465145
          ],
          [
           "Finger Ring",
           465146
          ],
          [
           "Finger Ring",
           465147
          ],
          [
           "Finger Ring",
           465148
          ],
          [
           "Finger Ring",
           465149
          ],
          [
           "Finger Ring",
           465151
          ],
          [
           "S-Shaped Brooch",
           465152
          ],
          [
           "Flat Circular Ornament",
           465153
          ],
          [
           "Earring Fragment",
           465154
          ],
          [
           "Earring",
           465155
          ],
          [
           "Earring",
           465156
          ],
          [
           "Earring",
           465157
          ],
          [
           "Earring",
           465158
          ],
          [
           "Fragment of Necklace",
           465160
          ],
          [
           "Earring",
           465161
          ],
          [
           "Earring",
           465162
          ],
          [
           "Earring",
           465163
          ],
          [
           "Openwork Brooch",
           465164
          ],
          [
           "Earring",
           465165
          ],
          [
           "Earring",
           465166
          ],
          [
           "Earring",
           465167
          ],
          [
           "Earring",
           465168
          ],
          [
           "Earring",
           465169
          ],
          [
           "Earring",
           465170
          ],
          [
           "Earring",
           465171
          ],
          [
           "Earring",
           465172
          ],
          [
           "Earring",
           465173
          ],
          [
           "Earring",
           465174
          ],
          [
           "Equal-Arm Brooch with Cross Decoration",
           465175
          ],
          [
           "Earring",
           465176
          ],
          [
           "Earring",
           465177
          ],
          [
           "Earring",
           465178
          ],
          [
           "Earring",
           465179
          ],
          [
           "Earring",
           465180
          ],
          [
           "Earring",
           465181
          ],
          [
           "Earring",
           465182
          ],
          [
           "Earring",
           465183
          ],
          [
           "Earring",
           465184
          ],
          [
           "Earring",
           465185
          ],
          [
           "Equal-Arm Brooch",
           465186
          ],
          [
           "Equal-Arm Brooch with Cross Decoration",
           465191
          ],
          [
           "Bow Brooch",
           465193
          ],
          [
           "Disk Brooch",
           465194
          ],
          [
           "Square-Headed Bow Brooch",
           465195
          ],
          [
           "Square-Headed Bow Brooch",
           465196
          ],
          [
           "V-Shaped Brooch",
           465197
          ],
          [
           "Bow Brooch",
           465198
          ],
          [
           "Mount for Spear Shaft",
           465201
          ],
          [
           "Mount for Spear-Shaft",
           465202
          ],
          [
           "Mount for Spear Shaft",
           465203
          ],
          [
           "Belt Buckle",
           465204
          ],
          [
           "Animal-Shaped Brooch",
           465205
          ],
          [
           "Brooch in the Form of a Dog Attacking a Boar",
           465206
          ],
          [
           "Bow Brooch",
           465207
          ],
          [
           "Bow Brooch",
           465209
          ],
          [
           "Bow Brooch",
           465210
          ],
          [
           "Square-Headed Bow Brooch",
           465211
          ],
          [
           "Square-Headed Bow Brooch",
           465212
          ],
          [
           "Openwork Plaque",
           465213
          ],
          [
           "Openwork Belt Fitting",
           465214
          ],
          [
           "Openwork Belt Fitting",
           465215
          ],
          [
           "Openwork Belt Fitting",
           465216
          ],
          [
           "Openwork Belt Fitting",
           465217
          ],
          [
           "Openwork Belt Fitting",
           465218
          ],
          [
           "Oblong Openwork Plaque",
           465221
          ],
          [
           "Openwork Belt Fitting",
           465222
          ],
          [
           "Openwork Belt Fitting",
           465223
          ],
          [
           "Openwork Belt Fitting",
           465224
          ],
          [
           "Openwork Belt Fitting",
           465225
          ],
          [
           "Belt Buckle Attachment Plate",
           465226
          ],
          [
           "Pendant",
           465227
          ],
          [
           "Jewel",
           465228
          ],
          [
           "Disk Brooch",
           465230
          ],
          [
           "Disk Brooch",
           465231
          ],
          [
           "Disk Brooch",
           465232
          ],
          [
           "Whorl-Shaped Brooch",
           465233
          ],
          [
           "Bow Brooch",
           465234
          ],
          [
           "Bird-Shaped Brooch",
           465235
          ],
          [
           "Bird-Shaped Brooch",
           465236
          ],
          [
           "Bird-Shaped Brooch",
           465237
          ],
          [
           "Bird-Shaped Brooch",
           465238
          ],
          [
           "Bird-Shaped Brooch",
           465239
          ],
          [
           "Bird-Shaped Brooch",
           465240
          ],
          [
           "Disk Brooch",
           465241
          ],
          [
           "Bird-Shaped Brooch",
           465242
          ],
          [
           "Bird-Shaped Brooch",
           465243
          ],
          [
           "Bird-Shaped Brooch",
           465244
          ],
          [
           "Bird-Shaped Brooch",
           465245
          ],
          [
           "S-Shaped Brooch",
           465246
          ],
          [
           "Horse-Shaped  Brooch",
           465248
          ],
          [
           "Horse-Shaped Brooch",
           465249
          ],
          [
           "Shield Mount in the Shape of Bird",
           465250
          ],
          [
           "Shield Mount in the Shape of Bird",
           465251
          ],
          [
           "Disk Brooch",
           465252
          ],
          [
           "Rectangular Mount",
           465253
          ],
          [
           "Whorl-Shaped Brooch",
           465254
          ],
          [
           "Finger Ring",
           465255
          ],
          [
           "Finger Ring",
           465256
          ],
          [
           "Finger Ring",
           465257
          ],
          [
           "Finger Ring with Oval Bezel",
           465258
          ],
          [
           "Finger Ring",
           465260
          ],
          [
           "Finger Ring",
           465262
          ],
          [
           "S-Shaped Brooch",
           465263
          ],
          [
           "Finger Ring",
           465266
          ],
          [
           "Finger Ring",
           465268
          ],
          [
           "Finger Ring",
           465269
          ],
          [
           "Bracteate",
           465275
          ],
          [
           "Finger Ring",
           465276
          ],
          [
           "Finger Ring",
           465278
          ],
          [
           "Finger Ring",
           465279
          ],
          [
           "Finger Ring",
           465280
          ],
          [
           "Finger Ring",
           465281
          ],
          [
           "Finger Ring",
           465282
          ],
          [
           "Finger Ring",
           465283
          ],
          [
           "Finger Ring",
           465284
          ],
          [
           "Finger Ring",
           465285
          ],
          [
           "Bracteate",
           465286
          ],
          [
           "Finger Ring",
           465288
          ],
          [
           "Finger Ring",
           465292
          ],
          [
           "Finger Ring",
           465293
          ],
          [
           "Finger Ring",
           465294
          ],
          [
           "Finger Ring",
           465295
          ],
          [
           "Finger Ring with a Cross",
           465296
          ],
          [
           "Gold Disk Brooch",
           465297
          ],
          [
           "Finger Ring",
           465298
          ],
          [
           "Finger Ring",
           465299
          ],
          [
           "Belt Buckle",
           465300
          ],
          [
           "Belt Buckle",
           465301
          ],
          [
           "Belt Buckle",
           465302
          ],
          [
           "Belt Buckle",
           465303
          ],
          [
           "Belt Buckle",
           465304
          ],
          [
           "Hairpin",
           465305
          ],
          [
           "Hairpin",
           465306
          ],
          [
           "Hairpin",
           465307
          ],
          [
           "Disk Brooch",
           465308
          ],
          [
           "Hairpin",
           465309
          ],
          [
           "Hairpin",
           465310
          ],
          [
           "Hairpin",
           465311
          ],
          [
           "Pin",
           465312
          ],
          [
           "Pin",
           465313
          ],
          [
           "Pin",
           465314
          ],
          [
           "Hairpin with Decorated Gold Bead Finial",
           465315
          ],
          [
           "Hairpin",
           465316
          ],
          [
           "Hairpin",
           465317
          ],
          [
           "Hairpin",
           465318
          ],
          [
           "Hairpin",
           465320
          ],
          [
           "Brooch",
           465321
          ],
          [
           "Stylus or Hairpin",
           465322
          ],
          [
           "Knife with a Hand Holding an Orb",
           465323
          ],
          [
           "Spoon with a Panther",
           465324
          ],
          [
           "Spoon",
           465325
          ],
          [
           "Bracelet",
           465326
          ],
          [
           "Bracelet",
           465327
          ],
          [
           "Bracelet",
           465328
          ],
          [
           "Bracelet",
           465329
          ],
          [
           "Disk Brooch",
           465330
          ],
          [
           "Bracelet",
           465331
          ],
          [
           "Disk Brooch",
           465332
          ],
          [
           "Disk Brooch",
           465333
          ],
          [
           "Quatrefoil Brooch",
           465334
          ],
          [
           "S-Shaped Brooch",
           465335
          ],
          [
           "Disk Brooch",
           465336
          ],
          [
           "Disk Brooch",
           465337
          ],
          [
           "Disk Brooch",
           465338
          ],
          [
           "Disk Brooch",
           465339
          ],
          [
           "Rosette Brooch",
           465340
          ],
          [
           "Rosette Brooch",
           465341
          ],
          [
           "Openwork Brooch",
           465342
          ],
          [
           "Openwork Brooch",
           465343
          ],
          [
           "Whorl-Shaped Brooch",
           465344
          ],
          [
           "S-Shaped Brooch",
           465345
          ],
          [
           "S-Shaped Brooch",
           465346
          ],
          [
           "Disk Brooch",
           465347
          ],
          [
           "Disk Brooch",
           465348
          ],
          [
           "Purse Clasp",
           465349
          ],
          [
           "Fermoir",
           465350
          ],
          [
           "Dagger",
           465353
          ],
          [
           "S-Shaped Brooch",
           465354
          ],
          [
           "Dagger",
           465356
          ],
          [
           "Belt Buckle Plate",
           465357
          ],
          [
           "V-Shaped Buckle",
           465358
          ],
          [
           "Disk Brooch",
           465359
          ],
          [
           "Disk Brooch",
           465360
          ],
          [
           "Disk Brooch",
           465361
          ],
          [
           "Disk Brooch",
           465362
          ],
          [
           "Buckle",
           465365
          ],
          [
           "Buckle",
           465366
          ],
          [
           "Buckle",
           465367
          ],
          [
           "Flat Rectangular Buckle",
           465368
          ],
          [
           "Disk Brooch",
           465370
          ],
          [
           "Disk Brooch",
           465371
          ],
          [
           "Disk Brooch",
           465372
          ],
          [
           "Disk Brooch",
           465373
          ],
          [
           "Bracteate",
           465374
          ],
          [
           "Buckle",
           465376
          ],
          [
           "Bracteate",
           465379
          ],
          [
           "Disk Brooch",
           465381
          ],
          [
           "Disk Brooch",
           465382
          ],
          [
           "Disk Brooch",
           465383
          ],
          [
           "Disk Brooch",
           465384
          ],
          [
           "Rosette Brooch",
           465385
          ],
          [
           "Disk Brooch",
           465386
          ],
          [
           "Disk Brooch",
           465387
          ],
          [
           "Disk Brooch",
           465388
          ],
          [
           "Bracteate with Human Head",
           465389
          ],
          [
           "Gold Disk Brooch",
           465391
          ],
          [
           "Earring",
           465392
          ],
          [
           "Disk Brooch",
           465393
          ],
          [
           "Earring",
           465394
          ],
          [
           "Earring",
           465395
          ],
          [
           "Disk Brooch",
           465396
          ],
          [
           "Earring",
           465397
          ],
          [
           "Earring",
           465398
          ],
          [
           "Earring",
           465399
          ],
          [
           "Gold \"Basket\" Earring",
           465401
          ],
          [
           "Hairpin",
           465404
          ],
          [
           "Cross",
           465405
          ],
          [
           "Counter plate of a Belt Buckle",
           465406
          ],
          [
           "Beaded Necklace",
           465407
          ],
          [
           "Ferret",
           465409
          ],
          [
           "Ferret",
           465410
          ],
          [
           "Earring",
           465411
          ],
          [
           "Earring",
           465412
          ],
          [
           "Disk Brooch",
           465413
          ],
          [
           "Finger Ring",
           465414
          ],
          [
           "Finger Ring",
           465415
          ],
          [
           "Cherry Stone from a Tomb",
           465416
          ],
          [
           "Plain Ring",
           465417
          ],
          [
           "Belt Plates",
           465418
          ],
          [
           "Beads from a Necklace",
           465419
          ],
          [
           "Shell",
           465421
          ],
          [
           "One Edged Comb",
           465422
          ],
          [
           "Hairpin",
           465423
          ],
          [
           "Earring",
           465424
          ],
          [
           "Disk Brooch",
           465425
          ],
          [
           "Bezel Ring",
           465426
          ],
          [
           "Cherry Stone from a Tomb",
           465427
          ],
          [
           "Beaded Necklace",
           465428
          ],
          [
           "Comb",
           465430
          ],
          [
           "Hairpin",
           465431
          ],
          [
           "Earring",
           465432
          ],
          [
           "Earring",
           465433
          ],
          [
           "Disk Brooch",
           465434
          ],
          [
           "Gold Pendants and Beads from a Necklace",
           465435
          ],
          [
           "Belt Buckle",
           465436
          ],
          [
           "Armlet",
           465437
          ],
          [
           "Belt Fitting",
           465438
          ],
          [
           "Belt Fitting",
           465439
          ],
          [
           "Belt Fitting",
           465440
          ],
          [
           "Belt Fitting",
           465441
          ],
          [
           "Beaded Necklace",
           465442
          ],
          [
           "Bead",
           465443
          ],
          [
           "Ferret",
           465444
          ],
          [
           "Buckle",
           465445
          ],
          [
           "Ferret",
           465446
          ],
          [
           "Buckle",
           465447
          ],
          [
           "Plain Ring",
           465448
          ],
          [
           "Tweezers",
           465449
          ],
          [
           "Signet Ring",
           465450
          ],
          [
           "Fermoir",
           465452
          ],
          [
           "Scraper",
           465453
          ],
          [
           "Gold Solidus of Constantine II",
           462704
          ],
          [
           "Solidus",
           462705
          ],
          [
           "Solidus",
           462706
          ],
          [
           "Gold Solidus of Julian (361–63)",
           462707
          ],
          [
           "Solidus",
           462708
          ],
          [
           "Gold Solidus of Valentinian I (364–75)",
           462709
          ],
          [
           "Gold Solidus of Valens (364–78)",
           462710
          ],
          [
           "Solidus",
           462711
          ],
          [
           "Solidus",
           462712
          ],
          [
           "Solidus",
           462713
          ],
          [
           "Candelabra",
           462731
          ],
          [
           "Candelabra",
           462732
          ],
          [
           "Pendant Jewel with Alfred the Great",
           462736
          ],
          [
           "Shallow Dish fragment",
           462737
          ],
          [
           "Rose Noble of Edward IV (1461-1483)",
           462738
          ],
          [
           "Rectangular Plaque",
           465554
          ],
          [
           "Buckle",
           465555
          ],
          [
           "Equal-Arm Brooch",
           465558
          ],
          [
           "Ferret",
           465559
          ],
          [
           "Ferret",
           465560
          ],
          [
           "Double-Sided Comb",
           465561
          ],
          [
           "Bracteate",
           465562
          ],
          [
           "Belt Plate",
           465564
          ],
          [
           "Earring",
           465565
          ],
          [
           "Disk Brooch",
           465566
          ],
          [
           "Rectangular Plaque",
           465568
          ],
          [
           "Rectangular Plaque",
           465569
          ],
          [
           "Rectangular Plaque",
           465570
          ],
          [
           "Ferret",
           465571
          ],
          [
           "Ferret",
           465572
          ],
          [
           "Earring",
           465573
          ],
          [
           "Earring",
           465575
          ],
          [
           "Plain Ring",
           465576
          ],
          [
           "Plain Ring",
           465577
          ],
          [
           "Backplate of a Belt Buckle",
           465579
          ],
          [
           "Double-Sided Comb",
           465580
          ],
          [
           "Backplate of a Belt Buckle",
           465581
          ],
          [
           "Earring",
           465582
          ],
          [
           "Earring",
           465583
          ],
          [
           "Disk Brooch",
           465584
          ],
          [
           "Tweezers",
           465586
          ],
          [
           "Finger Ring",
           465587
          ],
          [
           "Counter Plate of a Belt Buckle",
           465588
          ],
          [
           "Belt Buckle",
           465589
          ],
          [
           "Beaded Necklace",
           465590
          ],
          [
           "Key",
           465591
          ],
          [
           "Bead",
           465592
          ],
          [
           "Double-Sided Comb",
           465593
          ],
          [
           "Shell",
           465594
          ],
          [
           "Earring",
           465597
          ],
          [
           "Earring",
           465598
          ],
          [
           "Belt Ornament",
           465599
          ],
          [
           "Belt Ornament",
           465600
          ],
          [
           "Disk Brooch",
           465601
          ],
          [
           "Double-Sided Comb",
           465602
          ],
          [
           "Equal-Arm Brooch",
           465603
          ],
          [
           "Equal-Arm Brooch",
           465604
          ],
          [
           "Square Pyramidal Bell",
           465605
          ],
          [
           "Belt Ornament (?)",
           465608
          ],
          [
           "Belt Ornament (?)",
           465609
          ],
          [
           "Square Plaque",
           465610
          ],
          [
           "Ferret",
           465611
          ],
          [
           "Disk Brooch",
           465613
          ],
          [
           "Belt Buckle",
           465614
          ],
          [
           "Scissors",
           465615
          ],
          [
           "Double-Sided Comb",
           465616
          ],
          [
           "Beaded Necklace",
           465617
          ],
          [
           "Hairpin",
           465619
          ],
          [
           "Hairpin",
           465620
          ],
          [
           "Equal-Arm Brooch",
           465621
          ],
          [
           "Counter Plate of a Belt Buckle",
           465622
          ],
          [
           "Belt Buckle",
           465623
          ],
          [
           "Equal-Arm Brooch",
           465624
          ],
          [
           "Buckle, Loop and Tongue",
           465626
          ],
          [
           "Buckle",
           465627
          ],
          [
           "Double-Sided Comb",
           465628
          ],
          [
           "Beaded Necklace",
           465629
          ],
          [
           "Earring",
           465630
          ],
          [
           "Buckle",
           465631
          ],
          [
           "Small Circular Stud",
           465632
          ],
          [
           "Ferret",
           465633
          ],
          [
           "Belt Buckle",
           465634
          ],
          [
           "Counter Plate Fragment of a Belt Buckle",
           465635
          ],
          [
           "Ferret",
           465636
          ],
          [
           "Small Circular Stud",
           465637
          ],
          [
           "Equal-Arm Brooch",
           465638
          ],
          [
           "Double-Sided Comb",
           465639
          ],
          [
           "Equal-Arm Brooch",
           465640
          ],
          [
           "Belt Buckle",
           465641
          ],
          [
           "Counter Plate of a Belt Buckle",
           465642
          ],
          [
           "Triangular Plaque",
           465643
          ],
          [
           "Cylindrical Pendant",
           465644
          ],
          [
           "Plaque",
           465645
          ],
          [
           "Fermoir",
           465646
          ],
          [
           "Rectangular Plaque",
           465647
          ],
          [
           "Ferret",
           465648
          ],
          [
           "Ferret",
           465649
          ],
          [
           "Belt Plate",
           465650
          ],
          [
           "Belt Plate",
           465651
          ],
          [
           "Bracteate",
           465652
          ],
          [
           "Earring",
           465653
          ],
          [
           "Ferret",
           465654
          ],
          [
           "Cylindrical Pendant",
           465655
          ],
          [
           "Earring",
           465656
          ],
          [
           "Belt Fitting",
           465657
          ],
          [
           "Double-Sided Comb",
           465658
          ],
          [
           "Beaded Necklace",
           465659
          ],
          [
           "Equal-Arm Brooch",
           465660
          ],
          [
           "Stud",
           465661
          ],
          [
           "Stud",
           465662
          ],
          [
           "Rectangular Plaque",
           465663
          ],
          [
           "Rectangular Plaque",
           465664
          ],
          [
           "Ferret",
           465666
          ],
          [
           "Footed Beaker",
           465667
          ],
          [
           "Conical Glass Beaker",
           465668
          ],
          [
           "Bottle",
           465669
          ],
          [
           "Globular Beaker with Trails",
           465670
          ],
          [
           "Glass Palm Cup",
           465671
          ],
          [
           "Globular Glass Beaker",
           465672
          ],
          [
           "Palm Cup",
           465673
          ],
          [
           "Palm Cup",
           465674
          ],
          [
           "Palm Cup",
           465675
          ],
          [
           "Palm Cup",
           465676
          ],
          [
           "Buckle",
           465677
          ],
          [
           "Bell Beaker",
           465678
          ],
          [
           "Bell Beaker",
           465679
          ],
          [
           "Bell Beaker",
           465680
          ],
          [
           "Beaker, Bell",
           465681
          ],
          [
           "Bell Beaker",
           465682
          ],
          [
           "Bell Beaker",
           465683
          ],
          [
           "Beaker, Bell",
           465684
          ],
          [
           "Bell Beaker",
           465685
          ],
          [
           "Sword",
           465691
          ],
          [
           "Scramasax (Short Broad Sword)",
           465692
          ],
          [
           "Double-Sided Comb",
           465708
          ],
          [
           "Shell with wire ring",
           465719
          ],
          [
           "Chain",
           465720
          ],
          [
           "Ferret",
           465731
          ],
          [
           "Earring",
           465742
          ],
          [
           "Small Buckle",
           465743
          ],
          [
           "Palm Cup",
           465745
          ],
          [
           "Bowl",
           465746
          ],
          [
           "Palm Cup",
           465747
          ],
          [
           "Bowl",
           465748
          ],
          [
           "Palm Cup",
           465749
          ],
          [
           "Palm Cup",
           465750
          ],
          [
           "Glass Palm Cup",
           465751
          ],
          [
           "Palm Cup",
           465752
          ],
          [
           "Palm Cup",
           465753
          ],
          [
           "Glass Beaker",
           465755
          ],
          [
           "Beaded Necklace",
           465756
          ],
          [
           "Belt Plate",
           465757
          ],
          [
           "Coin",
           465758
          ],
          [
           "Coin",
           465759
          ],
          [
           "Hairpin",
           465760
          ],
          [
           "Earring",
           465761
          ],
          [
           "Earring",
           465762
          ],
          [
           "Beads from a Necklace",
           465763
          ],
          [
           "Gold Disk Brooch",
           465764
          ],
          [
           "Bead",
           465765
          ],
          [
           "Disk Brooch",
           465766
          ],
          [
           "Flat Needle",
           465768
          ],
          [
           "Armlet",
           465769
          ],
          [
           "Finger Ring",
           465770
          ],
          [
           "Pendant",
           465771
          ],
          [
           "Double-Sided Comb",
           465772
          ],
          [
           "Key",
           465773
          ],
          [
           "Dagger Blade",
           465774
          ],
          [
           "Hairpin",
           465775
          ],
          [
           "Earring",
           465776
          ],
          [
           "Earring",
           465777
          ],
          [
           "Disk Brooch",
           465778
          ],
          [
           "Beads from a Necklace",
           465779
          ],
          [
           "Pendant",
           465780
          ],
          [
           "Armlet",
           465781
          ],
          [
           "Openwork  Belt Fitting with Serpent Design",
           465782
          ],
          [
           "Finger Ring",
           465783
          ],
          [
           "Square-Headed Bow Brooch",
           465785
          ],
          [
           "Square-Headed Bow Brooch",
           465786
          ],
          [
           "Flat Needle",
           465787
          ],
          [
           "Bead",
           465788
          ],
          [
           "Beads from Necklaces",
           465789
          ],
          [
           "Buckle",
           465790
          ],
          [
           "Strap End",
           465791
          ],
          [
           "Buckle",
           465792
          ],
          [
           "Disk Brooch",
           465793
          ],
          [
           "Disk Brooch",
           465794
          ],
          [
           "Finger Ring",
           465795
          ],
          [
           "Square-Headed Bow Brooch",
           465797
          ],
          [
           "Square-Headed Bow Brooch",
           465798
          ],
          [
           "Small Buckle",
           465800
          ],
          [
           "Ferret",
           465801
          ],
          [
           "Plain Ring",
           465802
          ],
          [
           "Plain Ring",
           465803
          ],
          [
           "Plain Ring",
           465804
          ],
          [
           "Flattened Wire",
           465806
          ],
          [
           "Openwork Belt Mount",
           465807
          ],
          [
           "Earring",
           465809
          ],
          [
           "Disk Brooch",
           465810
          ],
          [
           "Armlet",
           465811
          ],
          [
           "Beaded Necklace",
           465812
          ],
          [
           "Double-Sided Comb",
           465813
          ],
          [
           "Hairpin",
           465814
          ],
          [
           "Earring Fragment",
           465815
          ],
          [
           "Earring Fragment",
           465816
          ],
          [
           "Cylindrical Box with Chain",
           465817
          ],
          [
           "Disk Brooch",
           465818
          ],
          [
           "Finger Ring",
           465819
          ],
          [
           "Square-Headed Bow Brooch",
           465820
          ],
          [
           "Square-Headed Bow Brooch",
           465821
          ],
          [
           "Necklace",
           465822
          ],
          [
           "Double-Sided Comb",
           465823
          ],
          [
           "Earring",
           465824
          ],
          [
           "Disk Brooch",
           465825
          ],
          [
           "Belt Buckle",
           465826
          ],
          [
           "Back Plate of a Belt Buckle",
           465827
          ],
          [
           "Glass Beaker",
           465828
          ],
          [
           "Bottle Fragment, Pilgrim",
           465829
          ],
          [
           "Pilgrim Bottle Fragment",
           465830
          ],
          [
           "Jar",
           465831
          ],
          [
           "Lamp, Oil",
           465832
          ],
          [
           "Pin",
           465836
          ],
          [
           "Brooch",
           465837
          ],
          [
           "Brooch",
           465838
          ],
          [
           "Buckle or Stud",
           465839
          ],
          [
           "Pendant",
           465840
          ],
          [
           "Hexagonal Pin",
           465841
          ],
          [
           "Seal Box",
           465842
          ],
          [
           "Seal Box",
           465843
          ],
          [
           "Brooch",
           465844
          ],
          [
           "Neck Ring",
           465845
          ],
          [
           "Jar",
           465870
          ],
          [
           "Jar",
           465871
          ],
          [
           "Jar",
           465872
          ],
          [
           "Jar",
           465873
          ],
          [
           "Jar",
           465874
          ],
          [
           "Jar",
           465875
          ],
          [
           "Jar",
           465876
          ],
          [
           "Bottle, Pilgrim",
           465877
          ],
          [
           "Jug",
           465878
          ],
          [
           "Jug",
           465879
          ],
          [
           "Jug",
           465880
          ],
          [
           "Jug",
           465881
          ],
          [
           "Jug",
           465882
          ],
          [
           "Jug",
           465883
          ],
          [
           "Jug",
           465884
          ],
          [
           "Jug",
           465885
          ],
          [
           "Jar",
           465886
          ],
          [
           "Pot",
           465887
          ],
          [
           "Pharmacy Jar",
           465888
          ],
          [
           "Pharmacy Jar",
           465889
          ],
          [
           "Cup",
           465890
          ],
          [
           "Cup",
           465891
          ],
          [
           "Cup",
           465892
          ],
          [
           "Cup",
           465893
          ],
          [
           "Ornament",
           465894
          ],
          [
           "Bottle",
           465895
          ],
          [
           "Dish, Deep",
           465896
          ],
          [
           "Dish, Deep",
           465897
          ],
          [
           "Dish",
           465898
          ],
          [
           "Dish, Deep",
           465899
          ],
          [
           "Brooch in the Form of a Dog",
           465900
          ],
          [
           "Bowl Bottom with the Busts of Two Saints (Peter and Paul?)",
           465901
          ],
          [
           "Textile with Foliated Scroll and Pomegranate Motives",
           465903
          ],
          [
           "Textile with Pomegranate Motif",
           465907
          ],
          [
           "Textile with Pomegranate Motif",
           465908
          ],
          [
           "Coin of Basil I",
           465911
          ],
          [
           "Coin of Justin II",
           465912
          ],
          [
           "Fragment of an Orphrey",
           465913
          ],
          [
           "Fragment of a Sarcophagus with a Seated Figure",
           465919
          ],
          [
           "Sarcophagus with Virgin and Child and the Arms of the Sanguinacci Family",
           465920
          ],
          [
           "Bowl Fragments with Menorah, Shofar, and Torah Ark",
           465921
          ],
          [
           "Plate Base with Peregrina between Saints Peter and Paul",
           465922
          ],
          [
           "Fragmentary Bowl Base with Saint Lawrence",
           465923
          ],
          [
           "Fragment of a Bowl",
           465924
          ],
          [
           "Gold Signet Ring of Michael Zorianos",
           465925
          ],
          [
           "Bowl Base with the Portrait of a Young Man",
           465926
          ],
          [
           "Bowl Base",
           465927
          ],
          [
           "Fragmentary Bowl Base with the Portrait of a Woman",
           465928
          ],
          [
           "Gold Glass Medallion with Christ as a Miracle Worker",
           465929
          ],
          [
           "Cameo with Saint Nicholas",
           465930
          ],
          [
           "Velvet",
           465931
          ],
          [
           "Dalmatic",
           465932
          ],
          [
           "Seal Matrix, St.Francis Receiving the Stigmata",
           465933
          ],
          [
           "Reliquary",
           465934
          ],
          [
           "Pillar with Capital",
           465935
          ],
          [
           "Lectern for the Reading of the Gospels with the Eagle of Saint John the Evangelist",
           465937
          ],
          [
           "Cassone with Fleur-de-Lis Pattern",
           465939
          ],
          [
           "Hair Parter",
           465940
          ],
          [
           "Devotional Icon",
           465941
          ],
          [
           "Base of an Altar Cross with Reading Angels Sitting on Dragons and Standing Church Fathers",
           465942
          ],
          [
           "Textile with Brocade",
           465943
          ],
          [
           "Fragment of Ribbon",
           465944
          ],
          [
           "Signet Ring",
           465945
          ],
          [
           "Virgin and Child",
           465947
          ],
          [
           "Basket Earring",
           465948
          ],
          [
           "Basket Earring",
           465949
          ],
          [
           "Bowl with Cheetah",
           465951
          ],
          [
           "Bowl with Three Animals",
           465952
          ],
          [
           "Bowl with Lioness",
           465953
          ],
          [
           "Hexagonal Pilgrim's Jar with Jewish Symbol",
           465957
          ],
          [
           "Necklace",
           465959
          ],
          [
           "Necklace",
           465960
          ],
          [
           "Reliquary Finial",
           465962
          ],
          [
           "Textile",
           465963
          ],
          [
           "Praetexta of an Antependium",
           465964
          ],
          [
           "Crib of the Infant Jesus",
           465966
          ],
          [
           "Cupboard",
           465967
          ],
          [
           "Corbel",
           465968
          ],
          [
           "Relief with Enthroned Virgin and Child surrounded by Angels",
           465972
          ],
          [
           "Flying Angel",
           465973
          ],
          [
           "Bishop's Chair",
           465974
          ],
          [
           "Finger Ring",
           465975
          ],
          [
           "Pendant with St. George and The Dragon",
           465976
          ],
          [
           "Chasse with the Life of Christ",
           465977
          ],
          [
           "Falconer with Two Ladies, a Page, and a Foot Soldier",
           465978
          ],
          [
           "Plate, Woman Holding Bird and Inscription",
           465979
          ],
          [
           "Bowl, Fluted",
           465980
          ],
          [
           "Ring with Enamel Bezel",
           465982
          ],
          [
           "Head of a Youth",
           465983
          ],
          [
           "Virgin and Child",
           465984
          ],
          [
           "Pendant",
           465985
          ],
          [
           "Painted Box for Game Pieces",
           465986
          ],
          [
           "Plaque",
           465988
          ],
          [
           "Crucified Christ",
           465989
          ],
          [
           "Plaque, Christ and Disciples at Gethsemane",
           465990
          ],
          [
           "Angels Swinging Censers",
           465991
          ],
          [
           "Glass Fragment",
           465992
          ],
          [
           "Glass Fragment",
           465993
          ],
          [
           "Glass Fragment",
           465994
          ],
          [
           "Glass Fragment",
           465995
          ],
          [
           "Glass Fragment",
           465996
          ],
          [
           "Glass Fragment",
           465997
          ],
          [
           "Glass Fragment",
           465998
          ],
          [
           "Fragment",
           465999
          ],
          [
           "Glass Fragment",
           466000
          ],
          [
           "Fragment",
           466001
          ],
          [
           "Fragment",
           466002
          ],
          [
           "Fragment",
           466003
          ],
          [
           "Glass Fragment",
           466004
          ],
          [
           "Glass Fragment",
           466005
          ],
          [
           "Glass Fragment",
           466006
          ],
          [
           "Glass Fragment",
           466007
          ],
          [
           "Glass Fragment",
           466008
          ],
          [
           "Glass Fragment",
           466009
          ],
          [
           "Glass Fragment",
           466010
          ],
          [
           "Glass Fragment",
           466011
          ],
          [
           "Glass Fragment",
           466012
          ],
          [
           "Fragment",
           466013
          ],
          [
           "Glass Fragment",
           466014
          ],
          [
           "Glass Fragment",
           466015
          ],
          [
           "Glass Fragment",
           466016
          ],
          [
           "Glass Fragment",
           466017
          ],
          [
           "Fragment",
           466018
          ],
          [
           "Fragment",
           466019
          ],
          [
           "Glass Fragment",
           466020
          ],
          [
           "Glass Fragment",
           466021
          ],
          [
           "Fragment",
           466022
          ],
          [
           "Glass Fragment",
           466023
          ],
          [
           "Glass Fragment",
           466024
          ],
          [
           "Glass Fragment",
           466025
          ],
          [
           "Glass Fragment",
           466026
          ],
          [
           "Glass Fragment",
           466027
          ],
          [
           "Glass Fragment",
           466028
          ],
          [
           "Glass Fragment",
           466029
          ],
          [
           "Glass Fragment",
           466030
          ],
          [
           "Glass Fragment",
           466031
          ],
          [
           "Glass Fragment",
           466032
          ],
          [
           "Glass Fragment",
           466033
          ],
          [
           "Glass Fragment",
           466034
          ],
          [
           "Glass Fragment",
           466035
          ],
          [
           "Glass Fragment",
           466036
          ],
          [
           "Glass Fragment",
           466037
          ],
          [
           "Glass Fragment",
           466038
          ],
          [
           "Reliquary Casket",
           466039
          ],
          [
           "Plaque with an Eros",
           466040
          ],
          [
           "Plaque from a Casket with a Dancing Woman",
           466041
          ],
          [
           "Plaque from a Casket with a bird",
           466042
          ],
          [
           "Game Piece in the Form of an Enthroned King",
           466043
          ],
          [
           "Virgin and Child",
           466044
          ],
          [
           "Crucified Christ",
           466045
          ],
          [
           "Icon with Christ Pantokrator",
           466046
          ],
          [
           "Solidus of Constantius II (Sole Emperor, 353–361)",
           466047
          ],
          [
           "Solidus of Phocas ( r. 602–10)",
           466048
          ],
          [
           "Wall Bracket for a Lamp",
           466049
          ],
          [
           "Saint George and the Dragon",
           466050
          ],
          [
           "Agraffe",
           466051
          ],
          [
           "Medallion with the Bust of an Apostle",
           466052
          ],
          [
           "Morse with Saint Francis of Assisi Receiving the Stigmata",
           466053
          ],
          [
           "Mirror Case with Lovers",
           466054
          ],
          [
           "Writing Tablet with Crucifixion and the Adoration of the Magi",
           466055
          ],
          [
           "Plaque with the Trinity and the Dormition of the Virgin",
           466056
          ],
          [
           "Wing of an Ivory Triptych with Scenes from the Life of Christ",
           466058
          ],
          [
           "Fragment of a Plaque with a Standing Woman",
           466059
          ],
          [
           "Steelyard Weight with a Bust of a Byzantine Empress and a Hook",
           466060
          ],
          [
           "Dragon-Shaped Brooch",
           466061
          ],
          [
           "Corbel with Crouching Male Figure",
           466062
          ],
          [
           "The Betrayal of Christ",
           466063
          ],
          [
           "Church Bell",
           466064
          ],
          [
           "Head of a Woman",
           466065
          ],
          [
           "Armlet",
           466066
          ],
          [
           "Pennanular or Omega Brooch",
           466067
          ],
          [
           "Head of Christ, from an Icon of the Crucifixion",
           466068
          ],
          [
           "Seal Matrix",
           466069
          ],
          [
           "Manuscript Leaf with the Crucifixion, from a Missal",
           466070
          ],
          [
           "Open-Ring Brooch",
           466071
          ],
          [
           "Two-Sided Pendant with the Virgin and Christ Child and John the Forerunner",
           466072
          ],
          [
           "Right Wing of a Diptych with Crucifixion",
           466073
          ],
          [
           "Seal Impression, City Gates",
           466074
          ],
          [
           "Seal Impression, Saint Peter",
           466075
          ],
          [
           "Seal Impression, Municipal Seal of Middelburg",
           466076
          ],
          [
           "Seal Impression of Louis, Marquis of Salcuces (1433-1504)",
           466077
          ],
          [
           "Seal Impression, Saint Margaret",
           466078
          ],
          [
           "Episcopal seal of Gui d'Avesnes, Bishop of Utrecht",
           466079
          ],
          [
           "Seal Impression, Saint Giles",
           466080
          ],
          [
           "Seal Impression, Coat of Arms",
           466081
          ],
          [
           "Seal Impression, Bishop",
           466082
          ],
          [
           "Seal Impression, Bishop",
           466083
          ],
          [
           "Saint Stephen",
           466084
          ],
          [
           "Capital with Angels Holding the Veil of Saint Veronica, with a Column",
           466085
          ],
          [
           "Manuscript Illumination with the Annunciation in an Initial R, from a Gradual",
           466086
          ],
          [
           "Ring of Leontios",
           466087
          ],
          [
           "Oval Brooch",
           466089
          ],
          [
           "Round Box Brooch",
           466090
          ],
          [
           "Animal-Head Brooch",
           466091
          ],
          [
           "Processional Cross",
           466094
          ],
          [
           "Pax",
           466095
          ],
          [
           "The Adoration of the Magi",
           466097
          ],
          [
           "John the Evangelist",
           466098
          ],
          [
           "Saint Catherine",
           466099
          ],
          [
           "The Man of Sorrows",
           466100
          ],
          [
           "Crucified Christ",
           466101
          ],
          [
           "Monk-Scribe Astride a Wyvern",
           466102
          ],
          [
           "Crucified Christ",
           466103
          ],
          [
           "The Entombment of Christ",
           466104
          ],
          [
           "Booklet with Scenes of the Passion",
           466105
          ],
          [
           "Virgin and Child",
           466106
          ],
          [
           "Capital with Bust of the Archangel Michael",
           466108
          ],
          [
           "Elder of the Apocalypse",
           466109
          ],
          [
           "Head of Christ",
           466110
          ],
          [
           "Ciborium",
           466111
          ],
          [
           "Fragment of a Bowl with a Horse and Rider",
           466112
          ],
          [
           "Flask with the Adoration of the Magi",
           466113
          ],
          [
           "Chess Piece in the Form of a Knight",
           466114
          ],
          [
           "Bracteate Pendant",
           466116
          ],
          [
           "Bowl with Bird of Prey",
           466117
          ],
          [
           "Pendant Plaque",
           466118
          ],
          [
           "Appliqué from a Vestment",
           466120
          ],
          [
           "Censer with Six Holy Figures",
           466121
          ],
          [
           "Terracotta Tomb Plaque",
           466122
          ],
          [
           "Folding Comb",
           466123
          ],
          [
           "Square-Headed Bow Brooch",
           466124
          ],
          [
           "Olearium",
           466125
          ],
          [
           "Tabernacle with Crucifixion Scene",
           466126
          ],
          [
           "Medallion with Saint George Slaying The Dragon",
           466128
          ],
          [
           "The Attarouthi Treasure - Chalice",
           466129
          ],
          [
           "The Attarouthi Treasure - Chalice",
           466130
          ],
          [
           "The Attarouthi Treasure - Censer",
           466131
          ],
          [
           "The Attarouthi Treasure - Censer",
           466132
          ],
          [
           "The Attarouthi Treasure - Censer",
           466133
          ],
          [
           "The Attarouthi Treasure - Wine Strainer",
           466134
          ],
          [
           "The Attarouthi Treasure  - Silver Dove",
           466135
          ],
          [
           "The Attarouthi Treasure - Chalice",
           466136
          ],
          [
           "The Attarouthi Treasure - Chalice",
           466137
          ],
          [
           "The Attarouthi Treasure - Chalice",
           466138
          ],
          [
           "The Attarouthi Treasure - Chalice",
           466139
          ],
          [
           "The Attarouthi Treasure - Chalice",
           466140
          ],
          [
           "The Attarouthi Treasure - Chalice",
           466141
          ],
          [
           "The Attarouthi Treasure - Chalice",
           466142
          ],
          [
           "The Attarouthi Treasure - Chalice",
           466143
          ],
          [
           "Virgin and Child",
           466144
          ],
          [
           "Gold Buckle with Garnets",
           466145
          ],
          [
           "Armorial Roundel",
           466146
          ],
          [
           "Armorial Roundel",
           466147
          ],
          [
           "Cameo with Christ Emmanuel",
           466148
          ],
          [
           "Upper Leaf of Sundial",
           466149
          ],
          [
           "Neck Ring (Torque)",
           466150
          ],
          [
           "Lamp Handle with a Griffin’s Head",
           466151
          ],
          [
           "Paten",
           466152
          ],
          [
           "Head of a Woman",
           466154
          ],
          [
           "Two-Sided Pendant with the Archangel Michael and Daniel in the Lion’s Den",
           466155
          ],
          [
           "Roundel with Amazons and a Cross",
           466156
          ],
          [
           "Disk Brooch",
           466157
          ],
          [
           "Pendant",
           466158
          ],
          [
           "Pendant",
           466159
          ],
          [
           "Double-Sided Ivory Liturgical Comb with Scenes of Henry II and Thomas Becket",
           466161
          ],
          [
           "Belt Buckle",
           466162
          ],
          [
           "Icon Pendant with the Archangel Michael",
           466163
          ],
          [
           "Seal Box",
           466164
          ],
          [
           "Terret (Rein Guide)",
           466165
          ],
          [
           "Ribbed Plate",
           466166
          ],
          [
           "Tinned-Copper Plaque with a Personification",
           466167
          ],
          [
           "Tinned-Copper Plaque with a Personification",
           466168
          ],
          [
           "Tinned-Copper Plaque with a Personification",
           466169
          ],
          [
           "Tinned-Copper Plaque with a Personification",
           466170
          ],
          [
           "Tinned-Copper Plaque with a Personification",
           466171
          ],
          [
           "Tinned-Copper Plaque with a Personification",
           466172
          ],
          [
           "Belt Buckle With Trapezoidal Plate",
           466174
          ],
          [
           "Bow Brooch",
           466175
          ],
          [
           "Bow Brooch",
           466176
          ],
          [
           "Lyre-Shaped Belt Buckle",
           466177
          ],
          [
           "Bifolium with the Decretals of Gratian",
           466179
          ],
          [
           "Temple Pendant and Stick",
           466180
          ],
          [
           "Coffer",
           466181
          ],
          [
           "Harness Pendant with Confronted Beasts",
           466183
          ],
          [
           "Belt Clasp",
           466184
          ],
          [
           "Harness Pendant, with Mounted Horseman",
           466185
          ],
          [
           "Buckle",
           466188
          ],
          [
           "Panel of Venus, “Pudica Type”",
           329841
          ],
          [
           "Panel with Warrior Resting",
           329842
          ],
          [
           "Fragment of a Woman",
           329977
          ],
          [
           "Four standing figures in an arcade",
           329978
          ],
          [
           "Fragment with Two figures",
           329979
          ],
          [
           "Portrait of a Lady",
           329980
          ],
          [
           "Band with two horsemen",
           329981
          ],
          [
           "Painting of Holy Men",
           329982
          ],
          [
           "Decorated Jar Fragment",
           329983
          ],
          [
           "Pyx Fragments with the Multiplication of the Loaves and Fishes",
           330095
          ],
          [
           "Head of a Bearded King",
           330096
          ],
          [
           "Head of a Bishop with Crozier",
           330097
          ],
          [
           "Half of a Pendant Reliquary Cross",
           330098
          ],
          [
           "Diptych with Scenes from the Passion",
           330099
          ],
          [
           "Plaque with Saints Peter and Paul",
           330100
          ],
          [
           "Statuette of the Virgin and Child",
           330103
          ],
          [
           "Pharmacy Jar",
           330104
          ],
          [
           "Panel with Lovers",
           331924
          ],
          [
           "Capital from a Reliquary Shrine",
           464401
          ],
          [
           "Pair of Colonnettes from a Reliquary Shrine",
           464403
          ],
          [
           "Plaque with the Annunciation to the Shepherds",
           464404
          ],
          [
           "Plaque with the Nativity",
           464405
          ],
          [
           "Plaque with the Holy Women at the Sepulchre",
           464406
          ],
          [
           "Portable Altar and Two Side Panels",
           464407
          ],
          [
           "Roundel with the Virgin",
           464408
          ],
          [
           "Plaque",
           464409
          ],
          [
           "Plaque",
           464410
          ],
          [
           "Plaque",
           464411
          ],
          [
           "Plaque from a Book Cover or Portable Altar with Saint Thomas and the Lion of Saint Mark",
           464412
          ],
          [
           "Plaque with Christ in Majesty",
           464413
          ],
          [
           "Plaque with the Symbol of the Evangelist Mark",
           464414
          ],
          [
           "Plaque with the Symbol of the Evangelist Matthew",
           464415
          ],
          [
           "Plaque with the Symbol of the Evangelist Luke",
           464416
          ],
          [
           "Plaque with the Symbol of the Evangelist John",
           464417
          ],
          [
           "Center Panel of a Triptych with the Crucifixion and the Entombment",
           464418
          ],
          [
           "Plaque with the Baptism of Jesus",
           464419
          ],
          [
           "Plaque with the Crucifixion",
           464420
          ],
          [
           "Plaque with Saint John the Evangelist",
           464421
          ],
          [
           "Plaque",
           464422
          ],
          [
           "Plaque from a Reliquary Shrine",
           464424
          ],
          [
           "Plaque from a Reliquary Shrine",
           464425
          ],
          [
           "Plaque with Marking of the Door with the Letter Tau",
           464426
          ],
          [
           "Plaque with Moses, Aaron, and the Brazen Serpent",
           464427
          ],
          [
           "Icon with the Crucifixion",
           464428
          ],
          [
           "Capital from a Reliquary Shrine",
           464429
          ],
          [
           "Capital from a Reliquary Shrine",
           464430
          ],
          [
           "Plaque of St. Bartholomew",
           464431
          ],
          [
           "Plaque of St. Thomas",
           464432
          ],
          [
           "Plaque with the Massacre of the Innocents",
           464433
          ],
          [
           "Plaque with Saint Paul and His Disciples",
           464434
          ],
          [
           "Plaque with Christ as Mediator",
           464435
          ],
          [
           "Plaque with the Crucifixion between Longinus and Stephaton and Personifications of the Sun and Moon",
           464437
          ],
          [
           "Situla (Bucket for Holy Water)",
           464438
          ],
          [
           "Miniature Altarpiece with the Crucifixion",
           464439
          ],
          [
           "Half of a Prayer Bead with the Prayer of the Rosary",
           464440
          ],
          [
           "Half of a Prayer Bead with the Lamentation",
           464441
          ],
          [
           "Plaque with the Journey to Emmaus and Noli Me Tangere",
           464443
          ],
          [
           "Saint Mary Magdalene",
           464444
          ],
          [
           "Medallion with the Feast of Ahasuerus",
           464445
          ],
          [
           "Half of a Prayer Bead with Jesus Carrying the Cross",
           464446
          ],
          [
           "Prayer Bead with the Crucifixion and Jesus before Pilate",
           464447
          ],
          [
           "Medallion with the Betrayal of Jesus",
           464448
          ],
          [
           "Prayer Bead with the Adoration of the Magi and the Crucifixion",
           464449
          ],
          [
           "Diptych with the Nativity and the Mass of Saint Gregory",
           464450
          ],
          [
           "Plaque with the Adoration of Trinity",
           464452
          ],
          [
           "Altarpiece with the Lives of Jesus, Saint John the Baptist, and Saint John the Evangelist",
           464453
          ],
          [
           "Plaque with the Virgin Mary as a Personification of the Church",
           464454
          ],
          [
           "Cabinet frontal with panels from two Embriachi caskets",
           464455
          ],
          [
           "Amulet Carved in Intaglio (Incised)",
           464456
          ],
          [
           "Glass Dish with an Engraving of the Raising of Lazarus",
           464457
          ],
          [
           "Vessel, Bottom",
           464458
          ],
          [
           "Processional Cross",
           464459
          ],
          [
           "Ivory Plaque with the Crucifixion",
           464460
          ],
          [
           "Beaker",
           464461
          ],
          [
           "Reliquary Cross",
           464462
          ],
          [
           "Reliquary Cross",
           464463
          ],
          [
           "Plaque with Jesus’ Entry into Jerusalem",
           464464
          ],
          [
           "Casket",
           464465
          ],
          [
           "Pyx",
           464466
          ],
          [
           "Polyptych",
           464467
          ],
          [
           "Processional Cross",
           464468
          ],
          [
           "Reliquary of Mary Magdalene",
           464469
          ],
          [
           "Cross",
           464470
          ],
          [
           "Reliquary, Monstrance",
           464473
          ],
          [
           "Medallion with Saint Peter",
           464474
          ],
          [
           "Situla (Bucket for Holy Water) with Saint Peter and Other Saints, Probably Apostles",
           464475
          ],
          [
           "Plaque with Christ and the Symbols of the Four Evangelists",
           464476
          ],
          [
           "Triptych",
           464477
          ],
          [
           "Coffret",
           464480
          ],
          [
           "Mortar",
           464481
          ],
          [
           "Chasse with Christ in Majesty and Apostles",
           464482
          ],
          [
           "Chasse with the Crucifixion and Christ in Majesty",
           464483
          ],
          [
           "Chasse",
           464484
          ],
          [
           "Bead, Hexagonal",
           464485
          ],
          [
           "Chasse",
           464487
          ],
          [
           "Panel of a Diptych Announcing the Consulship of Justinian",
           464489
          ],
          [
           "Reliquary Casket with Scenes from the Martyrdom of Saint Thomas Becket",
           464490
          ],
          [
           "Chasse",
           464491
          ],
          [
           "Chasse with Christ in Majesty and the Lamb of God",
           464494
          ],
          [
           "Panel of a Diptych Announcing the Consulship of Justinian",
           464495
          ],
          [
           "Ivory Plaque with Saint Paul (?)",
           464496
          ],
          [
           "Ivory Panel with Saint Peter",
           464497
          ],
          [
           "Ivory Pyx with the Triumph of Dionysos in India",
           464498
          ],
          [
           "Circular Box (Pyxis) with the Women at Jesus' Tomb",
           464499
          ],
          [
           "Crozier Head",
           464501
          ],
          [
           "Four Enamel Plaques",
           464502
          ],
          [
           "Double Cup",
           464503
          ],
          [
           "Double Cup",
           464504
          ],
          [
           "Ewer",
           464506
          ],
          [
           "Cup with Gilded-Silver Mounts",
           464507
          ],
          [
           "Cup Cover",
           464508
          ],
          [
           "Covered Beaker",
           464509
          ],
          [
           "Beaker",
           464510
          ],
          [
           "Stirrup",
           464512
          ],
          [
           "Stirrup",
           464513
          ],
          [
           "Panel from a Cover for an Icon of the Virgin",
           464514
          ],
          [
           "Panel from a Cover for an Icon of the Virgin",
           464515
          ],
          [
           "Panel from a Cover for an Icon of the Virgin",
           464516
          ],
          [
           "Panel from a Cover for an Icon of the Virgin",
           464517
          ],
          [
           "Element of an Icon Frame",
           464519
          ],
          [
           "Icon of the Lamentation",
           464520
          ],
          [
           "Element of an Icon Frame",
           464521
          ],
          [
           "Element of an Icon Frame",
           464522
          ],
          [
           "Fragment with a Leaf Motif",
           464523
          ],
          [
           "Element of a Border for an Icon Frame",
           464524
          ],
          [
           "Element of a Border for an Icon Frame",
           464525
          ],
          [
           "Element of a Border for an Icon Frame",
           464526
          ],
          [
           "Element of a Border for an Icon Frame",
           464527
          ],
          [
           "Element of a Border for an Icon Frame",
           464528
          ],
          [
           "Border Fragment",
           464529
          ],
          [
           "Element of a Border for an Icon Frame",
           464530
          ],
          [
           "Icon with Christ Pantokrator",
           464531
          ],
          [
           "Element of a Border for an Icon Frame",
           464532
          ],
          [
           "Medallion of St. John Chrysostom",
           464533
          ],
          [
           "Plaque with Saint Peter",
           464534
          ],
          [
           "Medallion of St. Nicholas",
           464535
          ],
          [
           "Medallion with an Archangel",
           464536
          ],
          [
           "Medallion with Christ",
           464537
          ],
          [
           "Fragment of a Flower",
           464538
          ],
          [
           "Fragment of a Flower",
           464539
          ],
          [
           "Fragment of a Flower",
           464540
          ],
          [
           "Plaque, Fragment",
           464541
          ],
          [
           "Medallion with Saint Peter from an Icon Frame",
           464543
          ],
          [
           "Medallion with Saint Luke from an Icon Frame",
           464544
          ],
          [
           "Medallion with Saint Matthew from an Icon Frame",
           464545
          ],
          [
           "Medallion with Saint Paul from an Icon Frame",
           464546
          ],
          [
           "Medallion with Saint George from an Icon Frame",
           464547
          ],
          [
           "Medallion with the Virgin from an Icon Frame",
           464548
          ],
          [
           "Medallion with Saint John the Evangelist from an Icon Frame",
           464549
          ],
          [
           "Medallion with Saint John the Baptist from an Icon Frame",
           464550
          ],
          [
           "Medallion with Christ from an Icon Frame",
           464551
          ],
          [
           "Temple Pendant with Two Birds Flanking a Tree of Life (front) and Geometric Lead Motifs (back)",
           464552
          ],
          [
           "Temple Pendant with Two Sirens Flanking a Tree of Life (front) and Confronted Birds (back)",
           464554
          ],
          [
           "Chain with Birds and Geometric Motifs",
           464555
          ],
          [
           "Chain with Birds and Geometric Motifs",
           464556
          ],
          [
           "Halo from an Icon Cover",
           464557
          ],
          [
           "Temple Pendant with Two Birds Flanking a Tree of Life (front) and Geometric and Vegetal Motifs (back)",
           464558
          ],
          [
           "Chasse of Champagnat",
           464559
          ],
          [
           "Roundel with a Personification of the Moon",
           464560
          ],
          [
           "Eagle Attacking a Fish (one of five medallions from a coffret)",
           464561
          ],
          [
           "Quadruped (one of five medallions from a coffret)",
           464563
          ],
          [
           "Combat Between Dragon and Dog (one of five medallions from a coffret)",
           464564
          ],
          [
           "Winged Dragon (one of five medallions from a coffret)",
           464565
          ],
          [
           "Combat Between Dragon and Dog (one of five medallions from a coffret)",
           464566
          ],
          [
           "Plaque with Saint William of Bourges",
           464567
          ],
          [
           "Plaque with Christ in Majesty",
           464568
          ],
          [
           "Shoe Buckle",
           464569
          ],
          [
           "Collar Pendant",
           464570
          ],
          [
           "One of a Pair of Temple Pendants, with Busts of Male Saints Holding Martyr's Cross (front) and Leaf and Rosette Motifs (back)",
           464571
          ],
          [
           "One of a Pair of Temple Pendants, with Two Birds Flanking a Tree of Life (front) and Leaf and Rosette Motifs (back)",
           464573
          ],
          [
           "Finger Ring",
           464574
          ],
          [
           "One of a Pair of Temple Pendants, with Confronted Birds (front) and Human Heads (back)",
           464575
          ],
          [
           "One of a Pair of Temple Pendants, with Two Birds Flanking a Tree of Life (front) and Leaf and Rosette Motifs (back)",
           464576
          ],
          [
           "One of a Pair of Temple Pendants, with Confronted Birds (front) and Human Heads (back)",
           464577
          ],
          [
           "Chain with Birds and Trees of Life",
           464578
          ],
          [
           "Chain with Birds and Trees of Life",
           464579
          ],
          [
           "One of a Pair of Temple Pendants, with Busts of Male Saints Holding Martyr's Cross (front) and Leaf and Rosette Motifs (back)",
           464580
          ],
          [
           "Temple Pendant with Filigree Border",
           464581
          ],
          [
           "Temple Pendant with Filigree Border",
           464582
          ],
          [
           "Plaque of St. John",
           464585
          ],
          [
           "Plaque of The Virgin",
           464586
          ],
          [
           "Enthroned Virgin",
           464587
          ],
          [
           "Virgin and Child",
           464588
          ],
          [
           "Bishop",
           464590
          ],
          [
           "Saint Gregory as Pope",
           464592
          ],
          [
           "Virgin and Child",
           464593
          ],
          [
           "The Visitation",
           464596
          ],
          [
           "Devotional Statuette of the Virgin and Child",
           464597
          ],
          [
           "Female Saint with a Book",
           464598
          ],
          [
           "Saint Barbara",
           464599
          ],
          [
           "Death of the Virgin",
           464602
          ],
          [
           "The Deposition",
           464603
          ],
          [
           "Tabernacle of Cherves",
           464604
          ],
          [
           "Scenes from the Life of Christ",
           464605
          ],
          [
           "Virgin of the Annunciation",
           464607
          ],
          [
           "Bone Carving, Possibly of a Dionysiac Revel",
           464608
          ],
          [
           "Saint Jerome at His Study",
           464609
          ],
          [
           "Saint Ambrose in His Study",
           464610
          ],
          [
           "Saint Savina of Troyes or Saint Syra",
           464612
          ],
          [
           "Saint Michael",
           464613
          ],
          [
           "Adoring Angel",
           464614
          ],
          [
           "Plaque of Blessing Saint",
           464615
          ],
          [
           "Book Cover Plaque with Christ in Majesty",
           464616
          ],
          [
           "Crucifix",
           464617
          ],
          [
           "Plaque with Christ Blessing",
           464618
          ],
          [
           "Crucified Christ",
           464620
          ],
          [
           "Plaque from a Cross with a Saint or Angel Holding the Host",
           464621
          ],
          [
           "Plaque of Christ in Majesty",
           464622
          ],
          [
           "Crucified Christ",
           464623
          ],
          [
           "Cross",
           464625
          ],
          [
           "Morse with Saint Francis Receiving the Stigmata",
           464627
          ],
          [
           "Joseph of Arimathea from a Deposition Group",
           464628
          ],
          [
           "Figure of Christ from a Deposition Group",
           464629
          ],
          [
           "Fragment",
           464630
          ],
          [
           "Plaque with Saint John the Evangelist",
           464631
          ],
          [
           "Plaque from a Cross with the Eagle of Saint John",
           464632
          ],
          [
           "Plaque from a Cross with the Winged Man of Saint Matthew",
           464633
          ],
          [
           "Cross",
           464634
          ],
          [
           "Plaque with Christ in Majesty",
           464635
          ],
          [
           "Plaque with the Crucifixion",
           464636
          ],
          [
           "Plaque with Christ in Majesty",
           464638
          ],
          [
           "Plaque with Saint Peter in Glory",
           464640
          ],
          [
           "Relief Fragment with Floral Design",
           464641
          ],
          [
           "Plaque with the Crucifixion",
           464643
          ],
          [
           "Book-Cover Plaque with Christ in Majesty",
           464645
          ],
          [
           "Book Cover Plaque with the Crucifixion",
           464647
          ],
          [
           "Crucifix",
           464648
          ],
          [
           "Pendant Medallion",
           464649
          ],
          [
           "Appliqué Figure",
           464650
          ],
          [
           "Appliqué Figure",
           464651
          ],
          [
           "Relief Fragment with Floral Design",
           464652
          ],
          [
           "Three Figures",
           464653
          ],
          [
           "Bust of an Apostle",
           464655
          ],
          [
           "Morse",
           464656
          ],
          [
           "Medallion from a Coffret",
           464657
          ],
          [
           "Medallion",
           464658
          ],
          [
           "Medallion",
           464659
          ],
          [
           "Seal",
           464660
          ],
          [
           "Book-Cover Plaque with Christ in Majesty",
           464661
          ],
          [
           "Morse",
           464662
          ],
          [
           "Relief Fragment with Rosette and Lotus Design",
           464663
          ],
          [
           "Pendant",
           464665
          ],
          [
           "Crucifix",
           464666
          ],
          [
           "Appliqué",
           464667
          ],
          [
           "Plaque from a Chasse",
           464671
          ],
          [
           "Plaque from a Chasse",
           464672
          ],
          [
           "Relief Fragment with Floral Design",
           464674
          ],
          [
           "Plaque",
           464675
          ],
          [
           "Plaque",
           464676
          ],
          [
           "Plaque with Saint Peter",
           464677
          ],
          [
           "Reliquary",
           464678
          ],
          [
           "Relief Fragment with Acanthas Leaf Design",
           464679
          ],
          [
           "Pharmacy Jar",
           464680
          ],
          [
           "Lamp or Censer",
           464681
          ],
          [
           "Relief Fragment with Floral Design",
           464682
          ],
          [
           "Head of a Crozier with a Serpent Devouring a Flower",
           464683
          ],
          [
           "Head of a Crozier with Saint Michael Slaying the Dragon",
           464684
          ],
          [
           "Head of a Crozier with the Annunciation",
           464685
          ],
          [
           "Crozier Head",
           464686
          ],
          [
           "Dish",
           464687
          ],
          [
           "Fragment of Molding",
           464689
          ],
          [
           "Christ as the Man of Sorrows",
           464690
          ],
          [
           "Fragment of Molding",
           464691
          ],
          [
           "Ornament",
           464692
          ],
          [
           "Chrismatory",
           464695
          ],
          [
           "Equestrian Plaque",
           464696
          ],
          [
           "Processional Cross",
           464697
          ],
          [
           "Tripod",
           464698
          ],
          [
           "Book Cover with Crucifixion Panel",
           464699
          ],
          [
           "Relief Fragment",
           464700
          ],
          [
           "Relief Fragment with Part of a Rosette",
           464701
          ],
          [
           "Two Medallions",
           464702
          ],
          [
           "Relief Fragment",
           464703
          ],
          [
           "Pendant Medallion with the Last Judgment",
           464704
          ],
          [
           "Relief Fragment",
           464705
          ],
          [
           "Saint Catherine of Alexandria",
           464707
          ],
          [
           "Relief Fragment with Lotus Design",
           464708
          ],
          [
           "The Dead Christ with the Virgin, Saint John, and Angels",
           464709
          ],
          [
           "Pendant with the Crucifixion",
           464711
          ],
          [
           "Plaque with a Sainted Bishop",
           464713
          ],
          [
           "Cup Rim",
           464714
          ],
          [
           "Quatrefoil Plaque",
           464715
          ],
          [
           "Reliquary Diptych",
           464716
          ],
          [
           "Plaque with God The Father",
           464718
          ],
          [
           "Cup Rim",
           464723
          ],
          [
           "Horse Bridle or Belt Ornaments",
           464759
          ],
          [
           "Belt with Profiles of Half-Length Figures",
           464760
          ],
          [
           "Locket",
           464761
          ],
          [
           "Plaque with the flagellation",
           464766
          ],
          [
           "Plaque with Agnus Dei",
           464768
          ],
          [
           "Plaque with the Lion of Saint Mark",
           464769
          ],
          [
           "Plaque with Christ with Adam and Eve in Limbo",
           464770
          ],
          [
           "Plaque with the Ox of Saint Luke",
           464771
          ],
          [
           "Plaque with the Eagle of Saint John",
           464772
          ],
          [
           "Plaque with Christ In Majesty",
           464773
          ],
          [
           "Plaque with St. John in Mourning",
           464774
          ],
          [
           "Plaque with the Virgin in Mourning",
           464775
          ],
          [
           "Plaque",
           464776
          ],
          [
           "Plaque with the Heavenly Coronation of the Virgin",
           464777
          ],
          [
           "Reliquary Diptych",
           464781
          ],
          [
           "Reliquary Pendant",
           464782
          ],
          [
           "Plaque with Christ in Majesty",
           464783
          ],
          [
           "One of a Pair of Gold Earrings with Garnets",
           464786
          ],
          [
           "Earring",
           464787
          ],
          [
           "Finger Ring",
           464788
          ],
          [
           "Finger Ring",
           464789
          ],
          [
           "Finger Ring",
           464790
          ],
          [
           "Finger Ring",
           464791
          ],
          [
           "Gold Finger Ring with Inscription",
           464792
          ],
          [
           "Bracelet",
           464793
          ],
          [
           "Circular Bead",
           464794
          ],
          [
           "Circular Bead",
           464795
          ],
          [
           "Conical Flattened Bead",
           464796
          ],
          [
           "Flattened Hemispherical Bead",
           464797
          ],
          [
           "Disk Brooch",
           464798
          ],
          [
           "Neolithic Amulet",
           464799
          ],
          [
           "Knife Part",
           464800
          ],
          [
           "Bow-Shaped Brooch",
           464801
          ],
          [
           "Implement",
           464802
          ],
          [
           "Belt Fitting",
           464803
          ],
          [
           "Hoop-Shaped Brooch",
           464804
          ],
          [
           "Disk Brooch",
           464805
          ],
          [
           "Belt Plate Fragment",
           464806
          ],
          [
           "Cross",
           464807
          ],
          [
           "Flat Brooch",
           464808
          ],
          [
           "Disk Brooch",
           464809
          ],
          [
           "Gold Coin of the Veneti or Namneti",
           464810
          ],
          [
           "Gold Coin of the Parisii",
           464811
          ],
          [
           "Gold Tremissis of Theophilos",
           464812
          ],
          [
           "Cloth",
           464813
          ],
          [
           "Disk Brooch",
           464814
          ],
          [
           "Disk Brooch",
           464815
          ],
          [
           "Bird-Shaped Brooch",
           464817
          ],
          [
           "Bead",
           464818
          ],
          [
           "Ferrets",
           464819
          ],
          [
           "Disk Brooch",
           464820
          ],
          [
           "Disk Brooch",
           464821
          ],
          [
           "Disk Brooch",
           464822
          ],
          [
           "Disk Brooch",
           464824
          ],
          [
           "Disk Brooch",
           464825
          ],
          [
           "Disk Brooch",
           464826
          ],
          [
           "Disk Brooch",
           464827
          ],
          [
           "Disk Brooch",
           464828
          ],
          [
           "Disk Brooch",
           464829
          ],
          [
           "Disk Brooch",
           464830
          ],
          [
           "Disk Brooch",
           464831
          ],
          [
           "Disk Brooch",
           464832
          ],
          [
           "Disk Brooch",
           464833
          ],
          [
           "Rosette Brooch",
           464834
          ],
          [
           "Disk Brooch",
           464835
          ],
          [
           "Disk Brooch",
           464836
          ],
          [
           "Rosette Brooch",
           464837
          ],
          [
           "Disk Brooch",
           464838
          ],
          [
           "Disk Brooch",
           464839
          ],
          [
           "Disk Brooch",
           464840
          ],
          [
           "Rosette Brooch",
           464841
          ],
          [
           "Disk Brooch",
           464842
          ],
          [
           "Disk Brooch",
           464843
          ],
          [
           "Disk Brooch",
           464844
          ],
          [
           "Disk Brooch",
           464845
          ],
          [
           "Disk Brooch",
           464846
          ],
          [
           "Rosette Brooch",
           464847
          ],
          [
           "Disk Brooch",
           464848
          ],
          [
           "Disk Brooch",
           464849
          ],
          [
           "Disk Brooch",
           464850
          ],
          [
           "Rosette Brooch",
           464851
          ],
          [
           "Disk Brooch",
           464852
          ],
          [
           "Disk Brooch",
           464853
          ],
          [
           "Disk Brooch",
           464854
          ],
          [
           "Disk Brooch",
           464855
          ],
          [
           "Purse Mount",
           464856
          ],
          [
           "Purse Mount",
           464857
          ],
          [
           "Bird-Shaped Brooch",
           464858
          ],
          [
           "Bird-Shaped Brooch",
           464859
          ],
          [
           "Bird-Shaped Brooch",
           464860
          ],
          [
           "Bird-Shaped Brooch",
           464861
          ],
          [
           "Bird-Shaped Brooch",
           464862
          ],
          [
           "Bird-Shaped Brooch",
           464863
          ],
          [
           "Disk Brooch",
           464864
          ],
          [
           "Shoe Buckle",
           464865
          ],
          [
           "Bow Brooch",
           464867
          ],
          [
           "Bow Brooch",
           464868
          ],
          [
           "Bow Brooch",
           464869
          ],
          [
           "Bow Brooch",
           464870
          ],
          [
           "Ferret",
           464871
          ],
          [
           "Shoe Buckle",
           464872
          ],
          [
           "Belt Ornament",
           464874
          ],
          [
           "Disk Brooch",
           464875
          ],
          [
           "Backplate of a Belt Buckle",
           464876
          ],
          [
           "Silver Shoe Buckle",
           464877
          ],
          [
           "Ferret",
           464878
          ],
          [
           "Ferret",
           464879
          ],
          [
           "Shoe Buckle",
           464880
          ],
          [
           "Shoe Buckle",
           464881
          ],
          [
           "Bow Brooch",
           464882
          ],
          [
           "Bow Brooch",
           464883
          ],
          [
           "Buckle",
           464884
          ],
          [
           "Crossbow Brooch",
           464885
          ],
          [
           "Bird-Shaped Brooch",
           464886
          ],
          [
           "Crossbow Brooch",
           464887
          ],
          [
           "Belt Buckle Loop",
           464888
          ],
          [
           "Belt Buckle Tongue",
           464889
          ],
          [
           "Disk Brooch",
           464890
          ],
          [
           "Buckle Tongue",
           464891
          ],
          [
           "Buckle Loop and Tongue",
           464893
          ],
          [
           "Whorl-Shaped Brooch",
           464895
          ],
          [
           "Whorl-Shaped Brooch",
           464896
          ],
          [
           "S-Shaped Brooch",
           464897
          ],
          [
           "One of a Pair of Gold Earrings with Garnets",
           464898
          ],
          [
           "Disk Brooch",
           464899
          ],
          [
           "Shell Cross",
           464900
          ],
          [
           "Rosette Brooch",
           464901
          ],
          [
           "Purse Mount in the Form of a Bird",
           464902
          ],
          [
           "Purse Mount in the Form of a Bird",
           464903
          ],
          [
           "Torc",
           464904
          ],
          [
           "Knob of Hairpin",
           464905
          ],
          [
           "Drachm of Alexander the Great",
           464907
          ],
          [
           "Flat Button",
           464908
          ],
          [
           "Disk Brooch",
           464910
          ],
          [
           "Coin of the Senones",
           464911
          ],
          [
           "Silver Spoon",
           464912
          ],
          [
           "Tweezers",
           464913
          ],
          [
           "Hairpin",
           464914
          ],
          [
           "Hairpin",
           464915
          ],
          [
           "Plain Needle",
           464916
          ],
          [
           "Standing Lamp with a Cross on a Pricket Stand",
           468573
          ],
          [
           "Standing Lamp with a Cross on a Pricket Stand",
           468574
          ],
          [
           "Yellow-Green Hexagonal Glass Bottle with a Stylite Saint",
           468577
          ],
          [
           "Diptych with Death and Coronation of the Virgin",
           468580
          ],
          [
           "Hanging Lamp in the Form of a Sandaled Right Foot",
           468581
          ],
          [
           "Hanging Lamp in the Form of a Sandaled Right Foot",
           468582
          ],
          [
           "Vessel in the Shape of a Fish",
           468584
          ],
          [
           "Cross Fragment with Saint John the Theologian",
           468585
          ],
          [
           "Steelyard Weight with the Bust of a Woman",
           468586
          ],
          [
           "Patera",
           468587
          ],
          [
           "Base for a Cross",
           468588
          ],
          [
           "Base for a Cross",
           468589
          ],
          [
           "Manuscript Illumination with the Holy Women at the Tomb in an Initial A, from an Antiphonary",
           468590
          ],
          [
           "Manuscript Leaf with the Crucifixion, from a Book of Hours",
           468591
          ],
          [
           "Standing Lamp with Running Dogs",
           468593
          ],
          [
           "Hanging Lamp with a Griffin’s Head",
           468594
          ],
          [
           "Warrior",
           468595
          ],
          [
           "Censer Frame with Inhabited Vine Scroll",
           468598
          ],
          [
           "Reliquary Pendant with Queen Margaret of Sicily Blessed by Bishop Reginald of Bath",
           468600
          ],
          [
           "Flask",
           468602
          ],
          [
           "Lamp Handle with Dolphins",
           468604
          ],
          [
           "Eagle-Headed Hilt",
           468605
          ],
          [
           "Bollard with a Fisherman",
           468606
          ],
          [
           "Icon with Christ Pantepotes and the Chorus of Saints",
           468607
          ],
          [
           "Casket",
           468620
          ],
          [
           "Stole with Figures of Kings and Bishops",
           468621
          ],
          [
           "Purse",
           468622
          ],
          [
           "Stole with the Martyrdom of St. Catherine",
           468624
          ],
          [
           "Three Panels",
           468625
          ],
          [
           "Textile with Saint Francis Receiving the Stigmata",
           468626
          ],
          [
           "Pitcher",
           468627
          ],
          [
           "Head of Staff",
           468629
          ],
          [
           "Aquamanile in the Form of a Lion",
           468631
          ],
          [
           "Aquamanile in the Form of a Lion",
           468632
          ],
          [
           "Aquamanile in the Form of a Mounted Knight",
           468633
          ],
          [
           "Aquamanile in the Form of a Unicorn",
           468634
          ],
          [
           "Appliqué Figure of the Apostle James",
           468635
          ],
          [
           "Appliqué Figure of the Apostle Philip",
           468636
          ],
          [
           "Mourner",
           468637
          ],
          [
           "Saint Mammes",
           468638
          ],
          [
           "Plate with Pelican in her Piety",
           468639
          ],
          [
           "Plate with Wife Beating Husband",
           468640
          ],
          [
           "Plate with Seated Woman",
           468641
          ],
          [
           "Plate",
           468642
          ],
          [
           "Plate with Five Angels",
           468645
          ],
          [
           "Dish",
           468646
          ],
          [
           "Plate",
           468647
          ],
          [
           "Plate",
           468648
          ],
          [
           "Plate",
           468649
          ],
          [
           "Plate",
           468650
          ],
          [
           "Plate",
           468651
          ],
          [
           "Plate",
           468652
          ],
          [
           "Plate",
           468653
          ],
          [
           "Plate",
           468654
          ],
          [
           "Plate, The Annunciation",
           468656
          ],
          [
           "Charger",
           468657
          ],
          [
           "Charger",
           468658
          ],
          [
           "Plate",
           468659
          ],
          [
           "Mystic Chase of the Unicorn",
           468660
          ],
          [
           "Cross Terminal",
           464394
          ],
          [
           "Plaque with Christ enthroned with two Apostles",
           464395
          ],
          [
           "Plaque from a Portable Altar with Scenes from the Life of Jesus",
           464396
          ],
          [
           "Plaque from a Portable Altar with Scenes from the Life of Jesus",
           464397
          ],
          [
           "Plaque from a Portable Altar with Scenes from the Life of Jesus",
           464398
          ],
          [
           "Plaque from a Portable Altar with Scenes from the Life of Jesus",
           464399
          ],
          [
           "Colonnette from a Reliquary Shrine",
           464400
          ],
          [
           "Glass Fragment",
           467120
          ],
          [
           "Glass Fragment",
           467121
          ],
          [
           "Fragment",
           467122
          ],
          [
           "Glass Fragment",
           467123
          ],
          [
           "Glass Fragment",
           467124
          ],
          [
           "Glass Fragment",
           467125
          ],
          [
           "Glass Fragment",
           467126
          ],
          [
           "Glass Fragment",
           467127
          ],
          [
           "Glass Fragment",
           467128
          ],
          [
           "Glass Fragment",
           467129
          ],
          [
           "Glass Fragment",
           467130
          ],
          [
           "Glass Fragment",
           467131
          ],
          [
           "Glass Fragment",
           467132
          ],
          [
           "Glass Fragment",
           467133
          ],
          [
           "Glass Fragment",
           467134
          ],
          [
           "Glass Fragment",
           467135
          ],
          [
           "Glass Fragment",
           467136
          ],
          [
           "Glass Fragment",
           467137
          ],
          [
           "Glass Fragment",
           467138
          ],
          [
           "Glass Fragment",
           467139
          ],
          [
           "Glass Fragment",
           467140
          ],
          [
           "Glass Fragment",
           467141
          ],
          [
           "Glass Fragment",
           467142
          ],
          [
           "Glass Fragment",
           467143
          ],
          [
           "Glass Fragment",
           467144
          ],
          [
           "Glass Fragment",
           467145
          ],
          [
           "Glass Fragment",
           467146
          ],
          [
           "Glass Fragment",
           467147
          ],
          [
           "Glass Fragment",
           467148
          ],
          [
           "Glass Fragment",
           467149
          ],
          [
           "Glass Fragment",
           467150
          ],
          [
           "Glass Fragment",
           467151
          ],
          [
           "Glass Fragment",
           467152
          ],
          [
           "Glass Fragment",
           467153
          ],
          [
           "Glass Fragment",
           467154
          ],
          [
           "Glass Fragment",
           467155
          ],
          [
           "Glass Fragment",
           467156
          ],
          [
           "Glass Fragment",
           467157
          ],
          [
           "Glass Fragment",
           467158
          ],
          [
           "Glass Fragment",
           467159
          ],
          [
           "Glass Fragment",
           467160
          ],
          [
           "Glass Fragment",
           467161
          ],
          [
           "Fragment",
           467162
          ],
          [
           "Glass Fragment",
           467163
          ],
          [
           "Glass Fragment",
           467164
          ],
          [
           "Glass Fragment",
           467165
          ],
          [
           "Glass Fragment",
           467168
          ],
          [
           "Glass  Fragment",
           467169
          ],
          [
           "Glass Fragment",
           467170
          ],
          [
           "Glass Fragment",
           467171
          ],
          [
           "Glass Fragment",
           467172
          ],
          [
           "Glass Fragment",
           467173
          ],
          [
           "Glass Fragment",
           467174
          ],
          [
           "Glass Fragment",
           467175
          ],
          [
           "Glass Fragment",
           467176
          ],
          [
           "Glass Fragment",
           467177
          ],
          [
           "Glass Fragment",
           467178
          ],
          [
           "Glass Fragment",
           467179
          ],
          [
           "Glass Fragment",
           467180
          ],
          [
           "Glass Fragment",
           467181
          ],
          [
           "Glass Fragments",
           467182
          ],
          [
           "Glass Fragment",
           467183
          ],
          [
           "Glass Fragment",
           467184
          ],
          [
           "Glass Fragment",
           467185
          ],
          [
           "Glass Fragment",
           467186
          ],
          [
           "Glass Fragment",
           467187
          ],
          [
           "Glass Fragment",
           467188
          ],
          [
           "Glass Fragment",
           467189
          ],
          [
           "Glass Fragment",
           467190
          ],
          [
           "Glass Fragment",
           467191
          ],
          [
           "Glass Fragment",
           467192
          ],
          [
           "Glass Fragment",
           467193
          ],
          [
           "Glass Fragment",
           467195
          ],
          [
           "Glass Fragment",
           467196
          ],
          [
           "Glass Fragment",
           467197
          ],
          [
           "Glass Fragment",
           467198
          ],
          [
           "Glass Fragment",
           467199
          ],
          [
           "Glass Fragment",
           467200
          ],
          [
           "Glass Fragment",
           467201
          ],
          [
           "Glass Fragment",
           467202
          ],
          [
           "Glass Fragment",
           467203
          ],
          [
           "Glass Fragment",
           467204
          ],
          [
           "Glass Fragment",
           467205
          ],
          [
           "Glass Fragment",
           467206
          ],
          [
           "Glass Fragment",
           467207
          ],
          [
           "Glass Fragment",
           467208
          ],
          [
           "Glass Fragment",
           467209
          ],
          [
           "Glass Fragment",
           467210
          ],
          [
           "Glass Fragment",
           467211
          ],
          [
           "Glass Fragment",
           467212
          ],
          [
           "Glass Fragment",
           467213
          ],
          [
           "Glass Fragment",
           467214
          ],
          [
           "Glass Fragment",
           467215
          ],
          [
           "Glass Fragment",
           467216
          ],
          [
           "Glass Fragment",
           467217
          ],
          [
           "Panel",
           467222
          ],
          [
           "Glass Fragment",
           467223
          ],
          [
           "Glass Fragment",
           467224
          ],
          [
           "Glass Fragment",
           467225
          ],
          [
           "Glass Fragment",
           467226
          ],
          [
           "Glass Fragment",
           467227
          ],
          [
           "Glass Fragment",
           467228
          ],
          [
           "Glass Fragment",
           467229
          ],
          [
           "Glass Fragment",
           467230
          ],
          [
           "Glass Fragment",
           467231
          ],
          [
           "Glass Fragment",
           467232
          ],
          [
           "Glass Fragment",
           467233
          ],
          [
           "Glass Fragment",
           467234
          ],
          [
           "Glass Fragment",
           467235
          ],
          [
           "Glass Fragment",
           467236
          ],
          [
           "Glass Fragment",
           467237
          ],
          [
           "Glass Fragment",
           467238
          ],
          [
           "Glass Fragment",
           467239
          ],
          [
           "Glass Fragment",
           467240
          ],
          [
           "Glass Fragment",
           467241
          ],
          [
           "Glass Fragment",
           467242
          ],
          [
           "Glass Fragment",
           467243
          ],
          [
           "Glass Fragment",
           467244
          ],
          [
           "Glass Fragment",
           467245
          ],
          [
           "Glass Fragment",
           467246
          ],
          [
           "Glass Fragment",
           467247
          ],
          [
           "Glass Fragment",
           467248
          ],
          [
           "Glass Fragment",
           467249
          ],
          [
           "Glass Fragment",
           467250
          ],
          [
           "Glass Fragment",
           467251
          ],
          [
           "Glass Fragment",
           467252
          ],
          [
           "Glass Fragment",
           467253
          ],
          [
           "Glass Fragment",
           467254
          ],
          [
           "Glass Fragment",
           467255
          ],
          [
           "Glass Fragments",
           467256
          ],
          [
           "Glass Fragment",
           467257
          ],
          [
           "Glass Fragment",
           467258
          ],
          [
           "Stained Glass Fragment",
           467259
          ],
          [
           "Glass Fragment",
           467260
          ],
          [
           "Glass Fragment",
           467261
          ],
          [
           "Fragment",
           467262
          ],
          [
           "Glass Fragment of a Devil",
           467263
          ],
          [
           "Glass Fragment",
           467264
          ],
          [
           "Glass Fragment",
           467265
          ],
          [
           "Glass Fragment",
           467266
          ],
          [
           "Glass Fragment",
           467267
          ],
          [
           "Glass Fragment",
           467268
          ],
          [
           "Stained Glass Fragment",
           467269
          ],
          [
           "Stained Glass Fragment",
           467270
          ],
          [
           "Fragment",
           467272
          ],
          [
           "Glass Fragment",
           467280
          ],
          [
           "Glass Fragment",
           467281
          ],
          [
           "Glass Fragment",
           467283
          ],
          [
           "Glass Fragment",
           467284
          ],
          [
           "Glass Fragment",
           467285
          ],
          [
           "Glass Fragment",
           467286
          ],
          [
           "Glass Fragment",
           467287
          ],
          [
           "Glass Fragment",
           467288
          ],
          [
           "Glass Fragment",
           467289
          ],
          [
           "Glass Fragment",
           467290
          ],
          [
           "Glass Fragment",
           467291
          ],
          [
           "Glass Fragment",
           467292
          ],
          [
           "Glass Fragment",
           467294
          ],
          [
           "Glass Fragment",
           467295
          ],
          [
           "Glass Fragment",
           467298
          ],
          [
           "Glass Fragment",
           467299
          ],
          [
           "Glass Fragment",
           467300
          ],
          [
           "Glass Fragment",
           467301
          ],
          [
           "Glass Fragment",
           467302
          ],
          [
           "Glass Fragment",
           467303
          ],
          [
           "Glass Fragment",
           467304
          ],
          [
           "Glass Fragment",
           467306
          ],
          [
           "Glass Fragment",
           467307
          ],
          [
           "Glass Fragment",
           467308
          ],
          [
           "Glass Fragment",
           467309
          ],
          [
           "Glass Fragment",
           467310
          ],
          [
           "Glass Fragment",
           467311
          ],
          [
           "Glass Fragment",
           467312
          ],
          [
           "Glass Fragment",
           467313
          ],
          [
           "Glass Fragment",
           467314
          ],
          [
           "Glass Fragment",
           467315
          ],
          [
           "Glass Fragment",
           467317
          ],
          [
           "Glass Fragment",
           467318
          ],
          [
           "Glass Fragment",
           467319
          ],
          [
           "Glass Fragment",
           467322
          ],
          [
           "Glass Fragment",
           467323
          ],
          [
           "Glass Fragment",
           467324
          ],
          [
           "Glass Fragment",
           467325
          ],
          [
           "Glass Fragment",
           467326
          ],
          [
           "Glass Fragment",
           467328
          ],
          [
           "Glass Fragment",
           467329
          ],
          [
           "Glass Fragment",
           467330
          ],
          [
           "Glass Fragment",
           467331
          ],
          [
           "Glass Fragment",
           467332
          ],
          [
           "Fragment",
           467333
          ],
          [
           "Fragment",
           467334
          ],
          [
           "Fragment",
           467335
          ],
          [
           "Fragment",
           467337
          ],
          [
           "Fragment",
           467339
          ],
          [
           "Fragment",
           467340
          ],
          [
           "Fragment",
           467341
          ],
          [
           "Fragment",
           467342
          ],
          [
           "Fragment",
           467343
          ],
          [
           "Fragment",
           467344
          ],
          [
           "Fragment",
           467345
          ],
          [
           "Fragment",
           467346
          ],
          [
           "Fragment",
           467347
          ],
          [
           "Fragment",
           467348
          ],
          [
           "Glass Fragment",
           467349
          ],
          [
           "Glass Fragment",
           467350
          ],
          [
           "Glass Fragment",
           467351
          ],
          [
           "Glass Fragment",
           467352
          ],
          [
           "Glass Fragment",
           467353
          ],
          [
           "Glass Fragment",
           467354
          ],
          [
           "Glass Fragment",
           467355
          ],
          [
           "Glass Fragment",
           467356
          ],
          [
           "Glass Fragment",
           467357
          ],
          [
           "Glass Fragment",
           467358
          ],
          [
           "Glass Fragment",
           467359
          ],
          [
           "Tiles",
           467361
          ],
          [
           "Chair",
           467362
          ],
          [
           "Pendant with St. Christopher Carrying the Christ Child",
           467365
          ],
          [
           "Virgin and Child",
           467367
          ],
          [
           "Folding Shrine with Virgin and Child",
           467369
          ],
          [
           "Box with Scenes from the Infancy of Christ",
           467370
          ],
          [
           "Devotional Plaque",
           467371
          ],
          [
           "Panel with Virgin and Child",
           467372
          ],
          [
           "Diptych with Scenes from the Life of Christ",
           467377
          ],
          [
           "Diptych with Dormition and Coronation of the Virgin",
           467378
          ],
          [
           "Badge with the Virgin and Child",
           467379
          ],
          [
           "Standing Virgin and Child",
           467383
          ],
          [
           "Virgin and Child",
           467384
          ],
          [
           "Comb with Scenes from the Life of Christ and the Virgin",
           467386
          ],
          [
           "Panel with Bearded Man",
           467387
          ],
          [
           "Panel with Armored Soldier",
           467388
          ],
          [
           "Shell Fragment",
           467389
          ],
          [
           "Shell Fragment",
           467390
          ],
          [
           "Medallion, St. George Slaying The Dragon",
           467391
          ],
          [
           "Medallion",
           467392
          ],
          [
           "Virgin and Child",
           467393
          ],
          [
           "Virgin and Child",
           467394
          ],
          [
           "Seated Virgin and Child",
           467395
          ],
          [
           "Fragment of a Glass Dish",
           467396
          ],
          [
           "Textile with Pomegranate Design",
           467405
          ],
          [
           "Bowl",
           467406
          ],
          [
           "Corbel",
           467409
          ],
          [
           "Intaglio",
           467410
          ],
          [
           "Manuscript Illumination with Saint Stephen in an Initial S, from an Antiphonary",
           467412
          ],
          [
           "Manuscript Illumination with Saint Trudo (Trond) in an Initial O, from a Choir Book",
           467416
          ],
          [
           "Manuscript Illumination with Saint Dominic Saving the Church of Saint John Lateran in an Initial A, from a Gradual",
           467417
          ],
          [
           "Manuscript Illumination with Tobit, Tobias, and the Archangel Raphael in an Initial O, from an Antiphonary",
           467418
          ],
          [
           "Manuscript Leaf with a female saint (possibly Dorothy) in an Initial G, from a Gradual",
           467419
          ],
          [
           "Manuscript Leaf, from a Gradual",
           467420
          ],
          [
           "Leaf from a Manuscript of Valerius Maximus",
           467421
          ],
          [
           "Bible",
           467422
          ],
          [
           "Fragment",
           467423
          ],
          [
           "Medal of Maximillian I as Archduke Of Austria and Maria of Burgundy, 1479 (?)",
           467428
          ],
          [
           "Histamenon of Constantine IX Monomachos (1042-55)",
           467431
          ],
          [
           "Angel",
           467434
          ],
          [
           "Folding Shrine",
           467437
          ],
          [
           "Head of a Saint",
           467438
          ],
          [
           "Fragment of Border",
           467439
          ],
          [
           "Saint John The Evangelist",
           467446
          ],
          [
           "The Flight Into Egypt",
           467447
          ],
          [
           "Saint Clare",
           467448
          ],
          [
           "Textile with Animals",
           467452
          ],
          [
           "Book-Cover",
           467458
          ],
          [
           "The Last Supper",
           467461
          ],
          [
           "Adoration of the Magi",
           467462
          ],
          [
           "Altarpiece with Scenes of the Infancy of Christ",
           467463
          ],
          [
           "Saint Michael Slaying the Demon",
           467464
          ],
          [
           "Education of the Virgin by Saint Anne",
           467465
          ],
          [
           "Saint Margaret of Antioch",
           467466
          ],
          [
           "Aquamanile in the Form of a Lion",
           467467
          ],
          [
           "Aquamanile in the Form of a Lion",
           467468
          ],
          [
           "Diptych",
           467469
          ],
          [
           "Diptych with Adoration of the Magi and Crucifixion",
           467470
          ],
          [
           "Diptych with Presentation of Christ in the Temple and Crucifixion",
           467471
          ],
          [
           "Right Wing of a Diptych with Coronation of the Virgin and Adoration of the Magi",
           467472
          ],
          [
           "Leaf from a Diptych with the Crucifixion and Nativity",
           467473
          ],
          [
           "Right Wing of a Diptych",
           467474
          ],
          [
           "Leaf from a Diptych with the Adoration of the Magi",
           467475
          ],
          [
           "Panel with Virgin and Child and Saints",
           467476
          ],
          [
           "Plaque with the Last Supper",
           467477
          ],
          [
           "Plaque with the Virgin and Child",
           467478
          ],
          [
           "Plaque with Saint Catherine of Alexandria",
           467479
          ],
          [
           "Plaque with Saint John the Baptist",
           467480
          ],
          [
           "Virgin and Child",
           467481
          ],
          [
           "Saint John The Evangelist",
           467482
          ],
          [
           "Cruet",
           467483
          ],
          [
           "Cruet",
           467484
          ],
          [
           "Monstrance",
           467485
          ],
          [
           "Plaque with the Last Judgement",
           467486
          ],
          [
           "Pyx",
           467487
          ],
          [
           "Pyx",
           467488
          ],
          [
           "Pyx",
           467489
          ],
          [
           "Pyx",
           467490
          ],
          [
           "Pyx",
           467491
          ],
          [
           "Pyx",
           467492
          ],
          [
           "One of a Pair of Traveling Candlesticks",
           467493
          ],
          [
           "One of a Pair of Traveling Candlesticks",
           467494
          ],
          [
           "Chasse",
           467495
          ],
          [
           "Chasse",
           467496
          ],
          [
           "Crozier Head with Saint Michael Slaying the Dragon",
           467497
          ],
          [
           "The Ox of Saint Luke (one of two appliqués from a book cover)",
           467498
          ],
          [
           "The Lion of Saint Mark (one of two appliqués from a book cover)",
           467499
          ],
          [
           "Ciborium",
           467500
          ],
          [
           "Reliquary",
           467501
          ],
          [
           "Annunciation of the Death of of the Virgin",
           467502
          ],
          [
           "Dish",
           467503
          ],
          [
           "Arcades with Riders in Fantastic Thickets",
           467506
          ],
          [
           "Arcades with Riders in Fantastic Thickets",
           467507
          ],
          [
           "Virgin and Child",
           467508
          ],
          [
           "Virgin and Child",
           467509
          ],
          [
           "Reliquary",
           467511
          ],
          [
           "Orphreys, Two",
           467512
          ],
          [
           "Manuscript Leaf with the Crucifixion, from a Book of Hours",
           467513
          ],
          [
           "Manuscript Leaf with the Pièta, from a Book of Hours",
           467514
          ],
          [
           "Manuscript Leaf with Coat of Arms, from a Book of Hours",
           467515
          ],
          [
           "Manuscript Leaf with the Betrayal, from a Book of Hours",
           467516
          ],
          [
           "Manuscript Leaf wtih Saint Dorothy, from a Book of Hours",
           467517
          ],
          [
           "Manuscript Leaf with Saint James the Greater, from a Book of Hours",
           467518
          ],
          [
           "Manuscript Leaf with Saint Thomas, from a Book of Hours",
           467519
          ],
          [
           "Manuscript Leaf from a Book of Hours",
           467520
          ],
          [
           "Manuscript Leaf with the Holy Communion, from a Book of Hours",
           467521
          ],
          [
           "Manuscript Leaf with the Resurrection, from a Book of Hours",
           467522
          ],
          [
           "Manuscript Illumination with the Descent from the Cross, from a Book of Hours",
           467523
          ],
          [
           "Manuscript Illumination with the Trinity, from a Book of Hours",
           467524
          ],
          [
           "Manuscript Illumination with Initial Q, from a Choir Book",
           467525
          ],
          [
           "Manuscript Illumination with Joachim and Anna in an Initial G with Joachim and Anna, from a Missal",
           467526
          ],
          [
           "Manuscript Illumination with Initial S, from a Choir Book",
           467527
          ],
          [
           "Dish",
           467529
          ],
          [
           "Dish",
           467530
          ],
          [
           "Dish",
           467531
          ],
          [
           "Dish",
           467532
          ],
          [
           "Dish",
           467533
          ],
          [
           "Dish",
           467534
          ],
          [
           "Dish",
           467535
          ],
          [
           "Dish",
           467536
          ],
          [
           "Dish",
           467537
          ],
          [
           "Dish",
           467538
          ],
          [
           "Dish",
           467539
          ],
          [
           "Dish",
           467540
          ],
          [
           "Dish",
           467541
          ],
          [
           "Dish",
           467542
          ],
          [
           "Dish",
           467543
          ],
          [
           "Dish",
           467544
          ],
          [
           "Dish",
           467545
          ],
          [
           "Dish",
           467546
          ],
          [
           "Dish",
           467547
          ],
          [
           "Dish",
           467549
          ],
          [
           "Dish",
           467551
          ],
          [
           "Dish",
           467553
          ],
          [
           "Dish",
           467554
          ],
          [
           "Dish",
           467555
          ],
          [
           "Dish",
           467556
          ],
          [
           "Dish",
           467557
          ],
          [
           "Dish",
           467558
          ],
          [
           "Dish",
           467559
          ],
          [
           "Dish",
           467560
          ],
          [
           "Dish",
           467561
          ],
          [
           "Dish",
           467562
          ],
          [
           "Dish",
           467563
          ],
          [
           "Candlestick",
           467564
          ],
          [
           "Hanging Laver",
           467568
          ],
          [
           "Dish",
           467569
          ],
          [
           "Frieze Fragment",
           467570
          ],
          [
           "Tiles with Checkered Pattern",
           467572
          ],
          [
           "Tile",
           467573
          ],
          [
           "Tile with Geometric Design",
           467574
          ],
          [
           "Tile",
           467575
          ],
          [
           "Tile, Geometric Design",
           467576
          ],
          [
           "Tile",
           467577
          ],
          [
           "Tile",
           467578
          ],
          [
           "Tile",
           467579
          ],
          [
           "Tile",
           467580
          ],
          [
           "Tile",
           467581
          ],
          [
           "Dish",
           467582
          ],
          [
           "Dish",
           467583
          ],
          [
           "Dish",
           467584
          ],
          [
           "Dish",
           467585
          ],
          [
           "Dish",
           467586
          ],
          [
           "Lock",
           467588
          ],
          [
           "Key",
           467589
          ],
          [
           "Key",
           467590
          ],
          [
           "Key",
           467591
          ],
          [
           "Tricolor Bowl",
           467592
          ],
          [
           "Cistern",
           467593
          ],
          [
           "Virgin and Child",
           467594
          ],
          [
           "Fragment of a Polycandelon",
           467598
          ],
          [
           "Bell, Church",
           467600
          ],
          [
           "Door Knocker",
           467601
          ],
          [
           "St. Francis of Assisi",
           467605
          ],
          [
           "Engaged Clustered Captial",
           467606
          ],
          [
           "St. Catherine of Alexandria",
           467607
          ],
          [
           "Panagiarion with the Virgin and Child and the Three Angels at Mamre (interior) and the Crucifixion and Three Church Fathers (exterior)",
           467608
          ],
          [
           "Flask with Handles",
           467609
          ],
          [
           "Saint John the Baptist",
           467610
          ],
          [
           "Medal Louis XII, King of France (r. 1498–15155), and Anne of Brittany (1476–1514)",
           467614
          ],
          [
           "Four Episodes in the Story of Hercules",
           467615
          ],
          [
           "Four Episodes in the Story of Hercules",
           467616
          ],
          [
           "Four Episodes in the Story of Hercules",
           467617
          ],
          [
           "Four Episodes in the Story of Hercules",
           467618
          ],
          [
           "Virgin and Child",
           467620
          ],
          [
           "Processional Cross",
           467621
          ],
          [
           "Mourners and Soldiers from a Crucifixion",
           467622
          ],
          [
           "Boy Mourner resting on Helmet and Shield",
           467623
          ],
          [
           "Roundel",
           467624
          ],
          [
           "Roundel",
           467625
          ],
          [
           "Embroidered Medallion",
           467628
          ],
          [
           "Embroidered Medallion",
           467629
          ],
          [
           "Saint Firmin Holding His Head",
           467630
          ],
          [
           "The Annunciation",
           467632
          ],
          [
           "The Nativity",
           467633
          ],
          [
           "Two-Handled Jar with Lions' Heads",
           467634
          ],
          [
           "Plaque",
           467635
          ],
          [
           "Leaf of a Writing Tablet",
           467643
          ],
          [
           "Cameo with Hercules and the Nemean Lion within a Garland",
           467644
          ],
          [
           "Gold Half Moon-Shaped Earring with Peacocks",
           467645
          ],
          [
           "Head of King David",
           467647
          ],
          [
           "The Miracle of the Palm Tree on the Flight to Egypt",
           467648
          ],
          [
           "Textile",
           467649
          ],
          [
           "Peace and Mercy Win the Promise of Redemption for Man (Episode from The Story of the Redemption of Man)",
           467651
          ],
          [
           "Virgin",
           467675
          ],
          [
           "Textile with Plants and Animals",
           467676
          ],
          [
           "Textile with Figures and Animals in Architectural Setting",
           467677
          ],
          [
           "Altar Frontal with Deesis",
           467678
          ],
          [
           "Virgin and Child",
           467679
          ],
          [
           "Andromache and Priam Urging Hector Not to Go to War (from Scenes from the Story of the Trojan War)",
           467680
          ],
          [
           "Manuscript Leaf with the Crucifixion in an Initial D, from a Book of Hours",
           467681
          ],
          [
           "Plate",
           467682
          ],
          [
           "Dish",
           467683
          ],
          [
           "Cameo with Saint George",
           467684
          ],
          [
           "Cameo with the Archangel Michael",
           467685
          ],
          [
           "Christ Crucified between the Virgin and Saint John",
           467686
          ],
          [
           "Cameo with Saint John The Baptist",
           467687
          ],
          [
           "Relief of the Holy Family",
           467690
          ],
          [
           "Saddle",
           467691
          ],
          [
           "Flask",
           467692
          ],
          [
           "Folding Shrine with Virgin and Child",
           467694
          ],
          [
           "Table, Polygonal",
           467695
          ],
          [
           "Chair",
           467696
          ],
          [
           "Chair",
           467697
          ],
          [
           "Virgin and Child",
           467698
          ],
          [
           "Plaque with Six Inset Panels",
           467699
          ],
          [
           "Mourning Woman",
           467700
          ],
          [
           "Holy Woman",
           467701
          ],
          [
           "Pricket Candlestick",
           467703
          ],
          [
           "Pricket Candlestick with a Naked Youth Fighting a Dragon",
           467704
          ],
          [
           "Tomb Effigy Bust of Marie de France (1327-41), daughter of Charles IV of France and Jeanne d'Evreux",
           467705
          ],
          [
           "Candlestick",
           467706
          ],
          [
           "Folding Table",
           467708
          ],
          [
           "Lectern, Folding",
           467709
          ],
          [
           "Plaque of St. Jude",
           467714
          ],
          [
           "Plaque of St. Simon",
           467715
          ],
          [
           "Colonnette from a Reliquary Shrine",
           467716
          ],
          [
           "Colonnette from a Reliquary Shrine",
           467717
          ],
          [
           "Colonnette from a Reliquary Shrine",
           467718
          ],
          [
           "Colonnette from a Reliquary Shrine",
           467719
          ],
          [
           "Tri-Lobed Arch from a Reliquary Shrine",
           467720
          ],
          [
           "Tri-Lobed Arch from a Reliquary Shrine",
           467721
          ],
          [
           "Saint Ursula of Cologne and Four Virgin Martyrs",
           467722
          ],
          [
           "Coronation of the Virgin",
           467723
          ],
          [
           "Saint Anne Holding the Virgin and Child",
           467724
          ],
          [
           "Standing Virgin and Child",
           467725
          ],
          [
           "Crucifix",
           467727
          ],
          [
           "Chasse with The Crucifixion and Christ in Majesty",
           467728
          ],
          [
           "Panel with St. Peter or St. Paul (?)",
           467729
          ],
          [
           "Plaque with Christ Receiving Magdeburg Cathedral from Emperor Otto I",
           467730
          ],
          [
           "Box with Standing Saints",
           467731
          ],
          [
           "Box with the Parable Prodigal Son and Scenes of Lovers",
           467732
          ],
          [
           "Mirror Case",
           467733
          ],
          [
           "Chasse",
           467734
          ],
          [
           "Plaque with Saints James, Matthew, and Thomas",
           467735
          ],
          [
           "Icon with Virgin and the Christ Child",
           467736
          ],
          [
           "Angel",
           467737
          ],
          [
           "Chest with Relief Figures of Saints Sebastian and Blaise",
           467738
          ],
          [
           "One of a Pair of Candelabra",
           467739
          ],
          [
           "One of a Pair of Candelabra",
           467740
          ],
          [
           "Plaque with Christ in Majesty and the Four Evangelists",
           467741
          ],
          [
           "Plaque with Christ in Majesty and the Four Evangelists",
           467742
          ],
          [
           "Virgin and Child",
           467743
          ],
          [
           "Virgin and Child",
           467744
          ],
          [
           "Virgin of the Annunciation",
           467745
          ],
          [
           "Bowl with a Horseman Spearing a Serpent",
           467746
          ],
          [
           "Chest",
           467748
          ],
          [
           "Book-Cover",
           467749
          ],
          [
           "Box",
           467750
          ],
          [
           "Candlestick",
           467751
          ],
          [
           "Plaque with the Annunciation",
           467752
          ],
          [
           "Tabernacle",
           467756
          ],
          [
           "Pricket Candlestick",
           467758
          ],
          [
           "Hexagonal Casket",
           463612
          ],
          [
           "Impost Block with Acanthus Decoration",
           463613
          ],
          [
           "Head of a Grotesque",
           463614
          ],
          [
           "Corbel",
           463615
          ],
          [
           "Bowl",
           463616
          ],
          [
           "Solidus",
           463627
          ],
          [
           "Chest with Iron Banding",
           463632
          ],
          [
           "Relief Panel",
           463633
          ],
          [
           "Chalice",
           463634
          ],
          [
           "Chalice",
           463636
          ],
          [
           "Spoon",
           463637
          ],
          [
           "Spoon",
           463638
          ],
          [
           "Spoon",
           463639
          ],
          [
           "Spoon with Palm Fronds",
           463640
          ],
          [
           "Knob from a Crozier with the Entry into Jerusalem",
           463641
          ],
          [
           "Box",
           463642
          ],
          [
           "Panel with Coronation of the Virgin",
           463643
          ],
          [
           "Panel with Presentation in the Temple",
           463644
          ],
          [
           "Stained Glass Panel with the Deposition",
           463645
          ],
          [
           "Ornamental Roundel",
           463646
          ],
          [
           "Stained Glass Panel with the Entombment",
           463647
          ],
          [
           "Stained Glass Panel with the Visitation",
           463648
          ],
          [
           "Stained Glass Panel with the Nativity",
           463649
          ],
          [
           "Cope",
           463656
          ],
          [
           "Orphrey",
           463657
          ],
          [
           "Orphrey",
           463658
          ],
          [
           "Orphrey",
           463659
          ],
          [
           "Orphrey",
           463660
          ],
          [
           "Orphrey",
           463661
          ],
          [
           "Chasuble with The Crucifixion, Holy Women and Saints",
           463662
          ],
          [
           "Orphrey",
           463663
          ],
          [
           "Chasuble with Virgin and Child, Apostles and Prophets",
           463669
          ],
          [
           "Orphrey",
           463671
          ],
          [
           "Orphrey",
           463672
          ],
          [
           "Orphrey",
           463673
          ],
          [
           "Rosary Terminal Bead with the Virgin and Child, Saint Barbara, and Saint Catherine",
           463674
          ],
          [
           "Covered Cup",
           463677
          ],
          [
           "Portrait Bust of a Young Man",
           463678
          ],
          [
           "Three plaques from a triptych with the Adoration of the Shepherds, Flanked by the Angel Gabriel and the Virgin Annunciate",
           463679
          ],
          [
           "Reliquary",
           463680
          ],
          [
           "Plaque with The Betrayal of Christ",
           463681
          ],
          [
           "Scenes from the Life of the Virgin",
           463683
          ],
          [
           "The Christ Child Pressing the Wine of the Eucharist",
           463684
          ],
          [
           "Dish with Heraldic Shield",
           463686
          ],
          [
           "Plate",
           463687
          ],
          [
           "Abiud",
           463689
          ],
          [
           "Panel with the Virgin and Gabriel Annunciate",
           463691
          ],
          [
           "Panel of Velvet",
           463692
          ],
          [
           "The Way to Calvary, with Saint Veronica Receiving the Veil Imprinted with the Face of Christ",
           463693
          ],
          [
           "Adoration of the Magi",
           463694
          ],
          [
           "Sculpture of God The Father from Frame",
           463695
          ],
          [
           "Panels",
           463696
          ],
          [
           "Two Episodes from the Parable of the Prodigal Son: The Prodigal Offering Jewels to Luxuria",
           463697
          ],
          [
           "Two Episodes from the Parable of the Prodigal Son: The Prodigal among the Harlots",
           463698
          ],
          [
           "Textile with Brocade",
           463699
          ],
          [
           "Textile with Brocade",
           463700
          ],
          [
           "Bowl Base with a Marriage Scene",
           463702
          ],
          [
           "Game Piece with Hercules Throwing Diomedes to His Man-Eating Horses",
           463705
          ],
          [
           "Badge of the Fiennes Family",
           467841
          ],
          [
           "Roundel with Intruments of the Passion",
           467843
          ],
          [
           "Female Saint",
           467904
          ],
          [
           "Saint Ursula",
           467909
          ],
          [
           "Roundel with the Arms of Coucy",
           467914
          ],
          [
           "Roundel with the Arms of Coucy",
           467915
          ],
          [
           "Stained Glass Panel",
           467916
          ],
          [
           "Panel Heraldic Shield of Johnson",
           467919
          ],
          [
           "Panel with Heraldic Shield of Johnson",
           467920
          ],
          [
           "Panel with Heraldic Shield of Johnson",
           467921
          ],
          [
           "Panel with Heraldic Shield of Johnson",
           467922
          ],
          [
           "Figure of an Angel within a Composite Panel",
           467923
          ],
          [
           "Panel with St. Anthony Abbot",
           467927
          ],
          [
           "Angel",
           467930
          ],
          [
           "Angel",
           467931
          ],
          [
           "Stained Glass Panel with the Virgin and Child",
           467933
          ],
          [
           "The Prophet Ezechiel, from a Tree of Jesse Window",
           467934
          ],
          [
           "Prophet holding a Banderole, from a Tree of Jesse Window",
           467935
          ],
          [
           "An Unidentified Prophet, from a Tree of Jesse Window",
           467936
          ],
          [
           "An Unidentified Prophet, from a Tree of Jesse Window",
           467937
          ],
          [
           "Stained Glass Panel with a Holy Man and Two Suppliants",
           467938
          ],
          [
           "Stained Glass Panel with a Holy Man and Six Suppliants",
           467939
          ],
          [
           "Enthroned Virgin with Nursing Child",
           467941
          ],
          [
           "Hunting for Wild Boar (from the Hunting Parks Tapestries)",
           467943
          ],
          [
           "Hunting with a Hawk (from the Hunting Parks Tapestries)",
           467944
          ],
          [
           "Pharmacy Jar",
           467946
          ],
          [
           "Candlestick, Pricket",
           467947
          ],
          [
           "Candlestick, Pricket",
           467948
          ],
          [
           "Candlestick, Pricket",
           467949
          ],
          [
           "Candlestick, Pricket",
           467950
          ],
          [
           "Candlestick, Pricket",
           467951
          ],
          [
           "Candlestick, Pricket",
           467952
          ],
          [
           "Candlestick, Pricket",
           467953
          ],
          [
           "Candlestick, Pricket",
           467954
          ],
          [
           "Carpet with Coat of Arms",
           467956
          ],
          [
           "Pharmacy Jar",
           467958
          ],
          [
           "Pharmacy Jar",
           467959
          ],
          [
           "Woodcutters Working at a Deer Park (from the Hunting Parks Tapestries)",
           467960
          ],
          [
           "Hunting of Birds with a Hawk and a Bow (from the Hunting Parks Tapestries)",
           467961
          ],
          [
           "Six Courtiers",
           467962
          ],
          [
           "Plaque, Anne of Brittany",
           467963
          ],
          [
           "Plaque, Louis XII",
           467964
          ],
          [
           "Miniature Relief of Hebrew Prophet Daniel (?) with Scroll",
           467967
          ],
          [
           "Miniature Relief of Hebrew Prophet Isaiah with Scroll",
           467968
          ],
          [
           "Miniature Relief of Saint John the Evangelist at His Writing Table",
           467969
          ],
          [
           "Miniature Relief of a Saint Luke at His Writing Table",
           467970
          ],
          [
           "Miniature Relief of Saint Mark at His Writing Table",
           467971
          ],
          [
           "Coffret",
           467985
          ],
          [
           "Circular Box with a Hunting Scene",
           467986
          ],
          [
           "Carpet with Coat of Arms",
           467987
          ],
          [
           "Bench or Chest",
           467989
          ],
          [
           "Capital",
           467990
          ],
          [
           "Virgin and Child",
           467992
          ],
          [
           "Virgin and Child",
           467996
          ],
          [
           "Enthroned Virgin and Child",
           467997
          ],
          [
           "Chest",
           467998
          ],
          [
           "Candelabra",
           468001
          ],
          [
           "Candelabra",
           468004
          ],
          [
           "Candelabra",
           468012
          ],
          [
           "Candelabra",
           468013
          ],
          [
           "Candelabra",
           468014
          ],
          [
           "Candelabra",
           468015
          ],
          [
           "Candelabra",
           468016
          ],
          [
           "Saint Catherine of Alexandria",
           468034
          ],
          [
           "Pulpit",
           468035
          ],
          [
           "Saint Catherine of Alexandria",
           468036
          ],
          [
           "Saint John The Evangelist",
           468037
          ],
          [
           "Cope",
           468039
          ],
          [
           "Cope",
           468040
          ],
          [
           "Saint George and the Dragon",
           468041
          ],
          [
           "Lectern, Double",
           468042
          ],
          [
           "Saint Catherine",
           468044
          ],
          [
           "Saint Barbara",
           468045
          ],
          [
           "Virgin and Child",
           468046
          ],
          [
           "Courtly Scenes",
           468049
          ],
          [
           "Saint John the Evangelist",
           468050
          ],
          [
           "Saint John the Baptist",
           468051
          ],
          [
           "Courtly Scenes",
           468052
          ],
          [
           "Lady and Gentleman in front of Two Curtains",
           468054
          ],
          [
           "Saint Barbara",
           468055
          ],
          [
           "Candlestick Held by Two Angels",
           468058
          ],
          [
           "Right Wing of a Triptych with Saints Nicholas and Theodore",
           468059
          ],
          [
           "Tile",
           468060
          ],
          [
           "Textile Fragment with Double-Headed Eagles",
           468062
          ],
          [
           "Wreath on a Ground of Flowers, Birds, and Rabbits",
           468063
          ],
          [
           "The Garden of Love",
           468064
          ],
          [
           "Table",
           468069
          ],
          [
           "Virgin and Child",
           468070
          ],
          [
           "Plaque with the Virgin and Child",
           468071
          ],
          [
           "Chasuble",
           468072
          ],
          [
           "Virgin and Child",
           468073
          ],
          [
           "Table",
           468074
          ],
          [
           "Mother of God and Child",
           468075
          ],
          [
           "Archangel Gabriel",
           468076
          ],
          [
           "Letters from an Inscription",
           468077
          ],
          [
           "Chasuble",
           468078
          ],
          [
           "Lady Holding a Falcon",
           468079
          ],
          [
           "The Falcon's Bath",
           468080
          ],
          [
           "Textile",
           468081
          ],
          [
           "Textile",
           468082
          ],
          [
           "Candelabra",
           468084
          ],
          [
           "Censer with a Lioness Hunting a Boar",
           468085
          ],
          [
           "Earring",
           468086
          ],
          [
           "Earring",
           468087
          ],
          [
           "Earring",
           468088
          ],
          [
           "Earring",
           468089
          ],
          [
           "Head of a King",
           468090
          ],
          [
           "Enthroned Virgin and Child",
           468092
          ],
          [
           "Relief of Pope",
           468093
          ],
          [
           "Male Relief Figure",
           468094
          ],
          [
           "A Hunting Party Leaving a Castle (From Incidents in a Stag Hunt)",
           468095
          ],
          [
           "Following the Stag's Trail (From Incidents in a Stag Hunt)",
           468096
          ],
          [
           "The Stag at Bay (From Incidents in a Stag Hunt)",
           468097
          ],
          [
           "Preparing to Undo the Stag in the Field (From Incidents in a Stag Hunt)",
           468098
          ],
          [
           "Rewarding the Hounds (From Incidents in a Stag Hunt)",
           468099
          ],
          [
           "A Hunter Returning to a Castle (From Incidents in a Stag Hunt)",
           468100
          ],
          [
           "Triptych Panel with the Flagellation of Christ",
           468101
          ],
          [
           "Triptych Panel with the Crucifixion",
           468102
          ],
          [
           "Triptych Panel with the Lamentation",
           468103
          ],
          [
           "Plaque with Adoration of the Shephards",
           468104
          ],
          [
           "Plaque with God The Father Blessing The Virgin",
           468105
          ],
          [
           "Tapestry with the Annunciation",
           468106
          ],
          [
           "Cope",
           468108
          ],
          [
           "Textile, Brocade",
           468110
          ],
          [
           "Textile with Brocade",
           468119
          ],
          [
           "Textile, Birds, Dragon, and Palmette Motives",
           468120
          ],
          [
           "Textile with Griffin and Fawn Design",
           468121
          ],
          [
           "Textile",
           468122
          ],
          [
           "Woven Silk with Paired Parrots in Roundels",
           468123
          ],
          [
           "Mitre",
           468124
          ],
          [
           "Textile",
           468125
          ],
          [
           "Textile with Lions' Heads, Foliate Ornament, and pseudo-Arabic inscription",
           468126
          ],
          [
           "Pouch (Forel)",
           468127
          ],
          [
           "Textile",
           468128
          ],
          [
           "Textile Fragment with Recumbent Harts, Eagles, Clouds, and Sunrays",
           468129
          ],
          [
           "Textile",
           468130
          ],
          [
           "Textile",
           468131
          ],
          [
           "Textile with Falcons",
           468132
          ],
          [
           "Band",
           468133
          ],
          [
           "Textile with Brocade",
           468134
          ],
          [
           "Textile with Brocade",
           468135
          ],
          [
           "Textile with Birds, Leaves and Arabesques",
           468136
          ],
          [
           "Textile",
           468137
          ],
          [
           "Textile",
           468138
          ],
          [
           "Orphrey",
           468139
          ],
          [
           "Textile",
           468140
          ],
          [
           "Textile",
           468141
          ],
          [
           "Textile",
           468142
          ],
          [
           "Textile",
           468143
          ],
          [
           "Textile",
           468144
          ],
          [
           "Textile with The Annunciation",
           468145
          ],
          [
           "Textile",
           468146
          ],
          [
           "Textile with Fleur-De-Lis Motif",
           468147
          ],
          [
           "Textile",
           468148
          ],
          [
           "Liturgical Towel",
           468151
          ],
          [
           "Tile",
           468152
          ],
          [
           "Heraldic Composition",
           468153
          ],
          [
           "The Falcon's Bath",
           468155
          ],
          [
           "Judith Taking Holofernes' Head",
           468156
          ],
          [
           "Large Dish",
           468157
          ],
          [
           "Pharmacy Jar",
           468158
          ],
          [
           "Pharmacy Jar",
           468159
          ],
          [
           "Dish with Lion",
           468162
          ],
          [
           "Dish",
           468163
          ],
          [
           "Dish with Rampant Lions",
           468164
          ],
          [
           "Two-Handled Jar with Stag",
           468165
          ],
          [
           "Two-Handled Jar",
           468166
          ],
          [
           "Two-Handled Jar with Birds and a Coat of Arms",
           468167
          ],
          [
           "Pharmacy Jar",
           468168
          ],
          [
           "Pharmacy Jar",
           468169
          ],
          [
           "Tremissis of Mauricius Tiberius",
           468170
          ],
          [
           "Tremissis of Mauricius Tiberius",
           468171
          ],
          [
           "Ornament",
           468172
          ],
          [
           "Disk from a Reel",
           468176
          ],
          [
           "Silver Neck Ring",
           468178
          ],
          [
           "Brooch in the Form of a Panther",
           468180
          ],
          [
           "Bow Brooch",
           468181
          ],
          [
           "Bow Brooch",
           468182
          ],
          [
           "Bow Brooch",
           468183
          ],
          [
           "Buckle",
           468184
          ],
          [
           "Stirrup",
           468185
          ],
          [
           "Horse Bit",
           468186
          ],
          [
           "Bow Brooch with Disk",
           468187
          ],
          [
           "Censer Top",
           468188
          ],
          [
           "Silver Dish",
           468190
          ],
          [
           "Silver Patera (Saucepan-Shaped Vessel)",
           468191
          ],
          [
           "Platter with a Fish",
           468192
          ],
          [
           "Dish",
           468193
          ],
          [
           "Dish",
           468194
          ],
          [
           "Box with Sleeping Eros",
           468195
          ],
          [
           "Chalice",
           468196
          ],
          [
           "Mirror with Handle",
           468197
          ],
          [
           "Plaque with Two Saints",
           468198
          ],
          [
           "Bowl with Beaded Rim",
           468199
          ],
          [
           "Ewer",
           468200
          ],
          [
           "Spoon with Christian Inscription",
           468201
          ],
          [
           "Statuette of the Personification of a City",
           468202
          ],
          [
           "Copper-Alloy Faucet and Conduit",
           468203
          ],
          [
           "Chariot Mount with Three Figures",
           468204
          ],
          [
           "Lamp",
           468205
          ],
          [
           "Lamp stand",
           468206
          ],
          [
           "Doorway from the Church of San Nicolò, San Gemini",
           468207
          ],
          [
           "Marble Decorative Panels",
           468208
          ],
          [
           "Marble Decorative Panels",
           468209
          ],
          [
           "Relief Panel with Lion Family",
           468210
          ],
          [
           "Abacus",
           468211
          ],
          [
           "Vase",
           468212
          ],
          [
           "Tabletop",
           468213
          ],
          [
           "Head, Possibly of Empress Flaccilla",
           468214
          ],
          [
           "Head of a Woman",
           468215
          ],
          [
           "Crowned Head of a Woman",
           468216
          ],
          [
           "Shoulders from Portrait Bust",
           468217
          ],
          [
           "Crucifix",
           468218
          ],
          [
           "Head of a King",
           468219
          ],
          [
           "Funnel-Shaped Mount",
           468220
          ],
          [
           "Candelabra",
           468221
          ],
          [
           "Candlestick",
           468222
          ],
          [
           "Six-Sided Box",
           468223
          ],
          [
           "Appliqué",
           468224
          ],
          [
           "Appliqué",
           468225
          ],
          [
           "Cup or Bowl",
           468226
          ],
          [
           "Ornament",
           468227
          ],
          [
           "Plaque, Openwork",
           468228
          ],
          [
           "Plaque, Openwork",
           468229
          ],
          [
           "Fork",
           468243
          ],
          [
           "Spoon",
           468244
          ],
          [
           "Box",
           468246
          ],
          [
           "Tremissis of Justin Il",
           468247
          ],
          [
           "Tremissis of Emperor Maurice Tiberius (r. 582–602)",
           468248
          ],
          [
           "Head of a Cleric from a Tomb Effigy",
           468252
          ],
          [
           "Manuscript Illumination with Adoration of the Magi",
           468254
          ],
          [
           "Manuscript Illumination with Scenes from the Life of Saint John the Baptist",
           468255
          ],
          [
           "Spoon",
           468256
          ],
          [
           "Holy Family",
           468257
          ],
          [
           "Saint Giles with Wounded Doe",
           468258
          ],
          [
           "Bow Brooch",
           468259
          ],
          [
           "Bow Brooch",
           468260
          ],
          [
           "Harness Decoration",
           468261
          ],
          [
           "Three Scenes from the Life of the Virgin",
           468262
          ],
          [
           "The Betrayal of Christ",
           468263
          ],
          [
           "Taking of Christ",
           468264
          ],
          [
           "Relief with Half Figure of an Angel",
           468265
          ],
          [
           "Manuscript Illumination with Four Saints in an Initial O, from a Choir Book",
           468266
          ],
          [
           "Sarcophagus with a Greek Physician",
           468268
          ],
          [
           "Fragment of a Marble Tomb Relief with Christ Giving the Law",
           468269
          ],
          [
           "Vessel",
           468270
          ],
          [
           "Vessel",
           468271
          ],
          [
           "Vessel",
           468272
          ],
          [
           "Leading for Stained Glass window with Flagellation (?) Scene",
           468273
          ],
          [
           "Disk",
           468280
          ],
          [
           "Pin",
           468281
          ],
          [
           "Pin",
           468282
          ],
          [
           "Pin",
           468283
          ],
          [
           "Pin",
           468284
          ],
          [
           "Pin",
           468285
          ],
          [
           "Pin",
           468286
          ],
          [
           "Torc",
           468287
          ],
          [
           "Necklace",
           468288
          ],
          [
           "Pin",
           468289
          ],
          [
           "Penannular Brooch",
           468292
          ],
          [
           "Penannular Brooch",
           468293
          ],
          [
           "Annular Brooch",
           468294
          ],
          [
           "Corbel",
           468299
          ],
          [
           "Bow Brooch",
           468301
          ],
          [
           "Bow Brooch",
           468302
          ],
          [
           "Pendant",
           468303
          ],
          [
           "Gemellion (Hand Basin) with the Arms of the Latin Kingdom of Jerusalem",
           468304
          ],
          [
           "Double Capital with Birds",
           468305
          ],
          [
           "Armorial Border",
           468307
          ],
          [
           "Bracelet",
           468308
          ],
          [
           "Statuette of a Woman",
           468309
          ],
          [
           "Box",
           468310
          ],
          [
           "Reliquary in the Shape of a Sarcophagus",
           468311
          ],
          [
           "Font",
           468312
          ],
          [
           "Column from a Choir Screen",
           468313
          ],
          [
           "Triptych with the Entombment",
           468315
          ],
          [
           "Plaque with the Virgin and Child",
           468316
          ],
          [
           "Triptych with The Way to Calvary, Crucifixion, and Descent from the Cross",
           468317
          ],
          [
           "Triptych Panel with Pietá",
           468318
          ],
          [
           "Triptych Panel with Saint Catherine",
           468319
          ],
          [
           "Triptych Panel with Saint Sebastian",
           468320
          ],
          [
           "Plaque with the Death of the Virgin",
           468321
          ],
          [
           "The Resurrection",
           468322
          ],
          [
           "Vanity Sounds the Horn and Ignorance Unleashes the Hounds Overconfidence, Rashness, and Desire (from The Hunt of the Frail Stag)",
           468327
          ],
          [
           "Old Age Drives the Stag out of a Lake and the Hounds Heat, Grief, Cold, Anxiety, Age, and Heaviness Pursue Him: (from The Hunt of the Frail Stag)",
           468328
          ],
          [
           "Lock",
           468333
          ],
          [
           "Lock",
           468334
          ],
          [
           "Key",
           468335
          ],
          [
           "Chalice",
           468336
          ],
          [
           "Coin",
           468337
          ],
          [
           "Coin",
           468338
          ],
          [
           "Diptych with Scenes from the Passion of Jesus",
           468339
          ],
          [
           "Diadem",
           468340
          ],
          [
           "Virgin and Child",
           468341
          ],
          [
           "Pricket Candlestick with Fantastic Creatures",
           468342
          ],
          [
           "Pricket Candlestick with Fantastic Creatures",
           468343
          ],
          [
           "Bishop with a Book",
           468344
          ],
          [
           "Saint Martin of Tours",
           468345
          ],
          [
           "Plaque with Saint Paul",
           468347
          ],
          [
           "Plaque with Saint Peter",
           468348
          ],
          [
           "Processional Cross",
           468349
          ],
          [
           "Case (étui) with an amorous inscription",
           468350
          ],
          [
           "Box",
           468351
          ],
          [
           "Round Box",
           468352
          ],
          [
           "Saint Catherine of Alexandria",
           468353
          ],
          [
           "Octagonal Box",
           468354
          ],
          [
           "Brooch",
           468355
          ],
          [
           "Book Case",
           468356
          ],
          [
           "Case for a Book",
           468357
          ],
          [
           "Knife Case",
           468358
          ],
          [
           "Serving Knife",
           468359
          ],
          [
           "Serving Knife",
           468360
          ],
          [
           "Double Capital with Vine Tendrils",
           468361
          ],
          [
           "Brooch in the Form of a Peacock",
           468362
          ],
          [
           "Earring",
           468363
          ],
          [
           "Earring",
           468364
          ],
          [
           "Animal-Shaped Brooch",
           468365
          ],
          [
           "Cloisonné Strap Mount",
           468366
          ],
          [
           "Pendant Jewel",
           468367
          ],
          [
           "Harness Mount",
           468370
          ],
          [
           "Roundel of Saint Panteleimon",
           468371
          ],
          [
           "The Three Magi, from an Adoration Group",
           468372
          ],
          [
           "Ceiling Tile with Fish",
           468373
          ],
          [
           "Orphrey",
           468374
          ],
          [
           "Book Box",
           468379
          ],
          [
           "Jug",
           468381
          ],
          [
           "Jug",
           468382
          ],
          [
           "Bracelet",
           468383
          ],
          [
           "Aquamanile in the Form of a Lion",
           468384
          ],
          [
           "Aquamanile in the Form of a Horse",
           468385
          ],
          [
           "Bowl with Saints Peter and Paul",
           468386
          ],
          [
           "Plate with Monogram",
           468387
          ],
          [
           "Disk Brooch",
           468388
          ],
          [
           "Pot, Watering",
           468390
          ],
          [
           "Jug",
           468391
          ],
          [
           "Vessel",
           468392
          ],
          [
           "Jug",
           468393
          ],
          [
           "Jug",
           468394
          ],
          [
           "Jug",
           468395
          ],
          [
           "Flask",
           468396
          ],
          [
           "Jug",
           468397
          ],
          [
           "Jug",
           468398
          ],
          [
           "Jug",
           468399
          ],
          [
           "Jug",
           468400
          ],
          [
           "Belt Fitting",
           468402
          ],
          [
           "Belt Mount",
           468403
          ],
          [
           "Chest",
           468404
          ],
          [
           "The Battle with the Sagittary and the Conference at Achilles' Tent (from Scenes from the Story of the Trojan War)",
           468417
          ],
          [
           "Finger Ring",
           468418
          ],
          [
           "Gold Bracelet",
           468419
          ],
          [
           "Nimbus",
           468420
          ],
          [
           "Plaque from a Reliquary Shrine",
           468421
          ],
          [
           "Marble Urn",
           468422
          ],
          [
           "The Temple in Jerusalem, from the \"Postilla Litteralis (Literal Commentary)\" of Nicholas of Lyra",
           468423
          ],
          [
           "Bracelet",
           468434
          ],
          [
           "Bracelet",
           468435
          ],
          [
           "Grotesque",
           468436
          ],
          [
           "Open-Ring Brooch",
           468438
          ],
          [
           "Disk Brooch",
           468439
          ],
          [
           "Dish",
           468440
          ],
          [
           "Standing Virgin and Child",
           468441
          ],
          [
           "Episode in the life of Joshua-Rahab",
           468443
          ],
          [
           "Penannular Brooch",
           468449
          ],
          [
           "Penannular Brooch",
           468450
          ],
          [
           "Penannular Brooch",
           468451
          ],
          [
           "Penannular Brooch",
           468452
          ],
          [
           "Penannular Brooch",
           468453
          ],
          [
           "Game Box",
           468458
          ],
          [
           "Stove Tile with Saint John the Evangelist and Samson",
           468463
          ],
          [
           "Spoon",
           468467
          ],
          [
           "Rock Crystal Dish in the Form of a Temple",
           468468
          ],
          [
           "Rock crystal Statuette of a Lion",
           468469
          ],
          [
           "Fragment of a Rock Crystal Bowl",
           468470
          ],
          [
           "Rock Crystal Bowl",
           468471
          ],
          [
           "Rock Crystal Statuette of a Dolphin",
           468472
          ],
          [
           "Bow Brooch",
           468473
          ],
          [
           "Manuscript Leaf with Marriage Scene, from Decretals of Gregory IX",
           468476
          ],
          [
           "Initial D with King David, from a Cistercian Gradual",
           468477
          ],
          [
           "Manuscript Leaf with the Holy Trinity in an Initial T, from a Missal",
           468478
          ],
          [
           "Manuscript Illumination with the Figure of a Saint in an Initial O",
           468479
          ],
          [
           "Head of Christ or Zeus",
           468482
          ],
          [
           "Mount, St. Christopher and Christ Child",
           468486
          ],
          [
           "Bow Brooch",
           468487
          ],
          [
           "Bow Brooch",
           468504
          ],
          [
           "Liturgical Knife",
           468505
          ],
          [
           "Liturgical Spoon",
           468506
          ],
          [
           "Silver Cross",
           468507
          ],
          [
           "Lampstand",
           468511
          ],
          [
           "Box",
           468512
          ],
          [
           "Relief Frieze",
           468528
          ],
          [
           "Relief Frieze",
           468529
          ],
          [
           "Relief Frieze",
           468530
          ],
          [
           "Relief Frieze",
           468531
          ],
          [
           "Belt Mount",
           468535
          ],
          [
           "Belt Mount",
           468536
          ],
          [
           "Belt Plate of Buckle",
           468537
          ],
          [
           "Leaf from a Gospel Book with Four Standing Evangelists",
           468539
          ],
          [
           "Fragment of an Icon with the Crucifixion",
           468541
          ],
          [
           "Angel Carrying a Crown",
           468544
          ],
          [
           "Necklace with Gold Marriage Medallion and Hematite Amulet",
           468545
          ],
          [
           "Fragment of an Icon with Scenes from the Life of Christ",
           468547
          ],
          [
           "Chasuble",
           468548
          ],
          [
           "Necklace",
           468551
          ],
          [
           "Steelyard Weight with the Bust of Athena",
           468554
          ],
          [
           "Jug",
           468555
          ],
          [
           "Jug",
           468556
          ],
          [
           "Bottle",
           468557
          ],
          [
           "Column",
           468559
          ],
          [
           "Column",
           468560
          ],
          [
           "The Apostles Creed",
           468567
          ],
          [
           "Medal of Duke Philibert II of Savoy (1480–1504) and Margaret of Austria (1480–1530)",
           468568
          ],
          [
           "Seal Matrix and Impression",
           468569
          ],
          [
           "Manuscript Illumination with Salvator Mundi in an Initial P, from a Choir Book",
           468570
          ],
          [
           "Fragment",
           26491
          ],
          [
           "Lamp Fragment",
           26492
          ],
          [
           "Neck of Flask",
           26493
          ],
          [
           "Fragment of a Bowl",
           26494
          ],
          [
           "Foot of a Vessel",
           26495
          ],
          [
           "Glass Fragment",
           26496
          ],
          [
           "Fragment of a bottle",
           26497
          ],
          [
           "Ornament",
           26498
          ],
          [
           "Ornament",
           26499
          ],
          [
           "Fragment of a Glass Bottle",
           26500
          ],
          [
           "Bottom of Flask",
           26501
          ],
          [
           "Brooch",
           466215
          ],
          [
           "Disk Brooch",
           466216
          ],
          [
           "Cross",
           466217
          ],
          [
           "S-Shaped Brooch",
           466218
          ],
          [
           "Brooch in Form of a Bird of Prey",
           466219
          ],
          [
           "Sarcophagus with Scenes from the Lives of Saint Peter and Christ",
           466220
          ],
          [
           "Pendant in the form of a Latin Cross",
           466222
          ],
          [
           "Saint Peter",
           466223
          ],
          [
           "Saint Andrew",
           466224
          ],
          [
           "Saint James the Greater",
           466225
          ],
          [
           "Capital with Adoration of the Magi",
           466226
          ],
          [
           "Capital with Christ Giving the Keys to Saint Peter",
           466227
          ],
          [
           "Holy Water Basin",
           466233
          ],
          [
           "Laver",
           466234
          ],
          [
           "Holy Woman",
           466235
          ],
          [
           "Horse-Shaped Brooch",
           466236
          ],
          [
           "Brooch",
           466237
          ],
          [
           "Bow Brooch",
           466238
          ],
          [
           "Bow Brooch",
           466239
          ],
          [
           "Manuscript Leaf with Initial M, from a Missal",
           466241
          ],
          [
           "Signet Ring of John, Imperial Spatharios",
           466242
          ],
          [
           "Handle of Ewer",
           466243
          ],
          [
           "Bow of a Brooch",
           466244
          ],
          [
           "S-Shaped Brooch",
           466245
          ],
          [
           "Round Box Brooch",
           466247
          ],
          [
           "Brooch with Boar’s-Head",
           466248
          ],
          [
           "Brooch with Boar’s-Head",
           466249
          ],
          [
           "Strap End",
           466250
          ],
          [
           "Processional Cross",
           466251
          ],
          [
           "Base for a Cross",
           466252
          ],
          [
           "Belt Ornament",
           466253
          ],
          [
           "Brooch in the Form of a Cicada",
           466255
          ],
          [
           "Votive Figure",
           466258
          ],
          [
           "Bracelet",
           466259
          ],
          [
           "Ring from a Pennanular Brooch",
           466260
          ],
          [
           "\"Strongly Profiled\" Brooch",
           466261
          ],
          [
           "Pin with the Head and Torso of a Figure",
           466262
          ],
          [
           "Crossbow Fibula",
           466263
          ],
          [
           "Knee Brooch",
           466264
          ],
          [
           "Leaf from a Diptych with the Virgin and Child and Angels",
           466265
          ],
          [
           "Dionysos",
           466266
          ],
          [
           "Fragments of a Box representing the Quest for the Golden Fleece",
           466267
          ],
          [
           "Saint James the Less",
           466270
          ],
          [
           "Bowl with Geometric Rosette",
           466271
          ],
          [
           "Double-Sided Pendant Icon with the Virgin and Christ Pantokrator",
           466272
          ],
          [
           "Nine Tiles",
           466273
          ],
          [
           "Vessel Lid",
           466274
          ],
          [
           "Disk Brooch",
           466275
          ],
          [
           "Christ of the Mystic Wine Press",
           466276
          ],
          [
           "Manuscript Leaf with Scenes from the Life of Saint Francis of Assisi",
           466277
          ],
          [
           "Bowl with Ornamented Rosette",
           466278
          ],
          [
           "Head of a Young Woman",
           466279
          ],
          [
           "Head of a Male Peasant",
           466280
          ],
          [
           "Manuscript Leaf from a Bible",
           466281
          ],
          [
           "Rock Crystal Belt Buckle",
           466285
          ],
          [
           "Crossbow Brooch",
           466286
          ],
          [
           "Brooch in the form of a Stag",
           466288
          ],
          [
           "Game Piece with a Scene from the Life of Apollonius of Tyre",
           466289
          ],
          [
           "Virgin and Child with Bird",
           466294
          ],
          [
           "Head of a Youth",
           466295
          ],
          [
           "Tip of a Pointer",
           466296
          ],
          [
           "Bible",
           466297
          ],
          [
           "Buckle",
           466298
          ],
          [
           "Buckle",
           466299
          ],
          [
           "Grill",
           466300
          ],
          [
           "Band",
           466301
          ],
          [
           "Tabernacle Door",
           466302
          ],
          [
           "Ring, Post",
           466303
          ],
          [
           "Door Knocker",
           466304
          ],
          [
           "Nail, Head",
           466305
          ],
          [
           "Nail, Head",
           466306
          ],
          [
           "Nail, Head",
           466307
          ],
          [
           "Band",
           466308
          ],
          [
           "Column Statue of a King",
           466311
          ],
          [
           "Chasuble Back",
           466312
          ],
          [
           "Lectern for Reading Scripture",
           466313
          ],
          [
           "Corpus from a Crucifixion Group",
           466314
          ],
          [
           "Architectural Fragment from a Retable, Tabernacle, or Tomb",
           466315
          ],
          [
           "Architectural Fragment from a Retable, Tabernacle, or Tomb",
           466316
          ],
          [
           "Architectural Fragment from a Retable, Tabernacle, or Tomb",
           466317
          ],
          [
           "Chasuble with Orphreys in Panels with Saints under Gold Canopies",
           466325
          ],
          [
           "Pilaster (Tetramorph) from the Parapet of a Pulpit with Symbol of the Evangelists",
           466326
          ],
          [
           "Soldiers and Onlookers from a Crucifixion Group",
           466327
          ],
          [
           "Column and Capital",
           466328
          ],
          [
           "Column and Capital with Dog Mask",
           466329
          ],
          [
           "Manuscript Illumination with the Birth of the Virgin in an Initial G, from a Gradual",
           466330
          ],
          [
           "Saint Mary Magdalen",
           466331
          ],
          [
           "Column",
           466332
          ],
          [
           "Column",
           466333
          ],
          [
           "Capital with the Temptation of Jesus",
           466334
          ],
          [
           "Capital with Samson and an Attendant Fighting a Lion",
           466335
          ],
          [
           "Capital with a Centaur Battling a Man with Bow and Arrow",
           466336
          ],
          [
           "Dish",
           466337
          ],
          [
           "Paten",
           466342
          ],
          [
           "Ciborium",
           466345
          ],
          [
           "Dish",
           466346
          ],
          [
           "Dish",
           466347
          ],
          [
           "Dish",
           466349
          ],
          [
           "Fragments of a Frieze",
           466350
          ],
          [
           "Frieze Fragment",
           466351
          ],
          [
           "Glass Panel of Elijah and the Widow's Son",
           466352
          ],
          [
           "Glass Panel with Death Bed Scene",
           466353
          ],
          [
           "Roundel with an Eagle and Inscription",
           466354
          ],
          [
           "Foliate Medallion",
           466355
          ],
          [
           "Chest",
           466356
          ],
          [
           "Chasuble",
           466357
          ],
          [
           "Carpet",
           466358
          ],
          [
           "Torc",
           466359
          ],
          [
           "Rock Crystal Amuletic Sphere Pendant",
           466360
          ],
          [
           "Gem",
           466361
          ],
          [
           "Virgin and Child",
           466364
          ],
          [
           "Capital with Lions Mounted by Nude Riders",
           466365
          ],
          [
           "Psalter",
           466366
          ],
          [
           "Manuscript Leaf from a Royal Psalter",
           466367
          ],
          [
           "Manuscript Leaf from a Royal Psalter",
           466368
          ],
          [
           "Manuscript Leaf with the Mocking and Flagellation of Christ, from a Royal Psalter",
           466369
          ],
          [
           "Manuscript Leaf with the Last Supper and the Washing of the Apostles’ Feet Leaf, from a Royal Psalter",
           466370
          ],
          [
           "Manuscript Leaf with the Agony in the Garden and Betrayal of Christ, from a Royal Psalter",
           466371
          ],
          [
           "Manuscript Leaf with June Calendar, from a Royal Psalter",
           466372
          ],
          [
           "Manuscript Leaf from a Royal Psalter",
           466373
          ],
          [
           "Manuscript Leaf from a Royal Psalter",
           466374
          ],
          [
           "Manuscript Leaf from a Royal Psalter",
           466375
          ],
          [
           "Manuscript Leaf from a Royal Psalter",
           466376
          ],
          [
           "Tree of Jesse Window: The Reclining Jesse, King David, and Scenes from the Life of Jesus",
           466377
          ],
          [
           "Saint Paul",
           466378
          ],
          [
           "Sculpture of an Enthroned King",
           466379
          ],
          [
           "Capital with Saint George and the Dragon",
           466380
          ],
          [
           "Gold Earring with Garnets",
           466381
          ],
          [
           "Disk Brooch",
           466382
          ],
          [
           "Brooch",
           466383
          ],
          [
           "Brooch",
           466384
          ],
          [
           "Gold Earring with Garnets",
           466389
          ],
          [
           "Double Capital",
           466390
          ],
          [
           "Engaged Column Shaft",
           466392
          ],
          [
           "Engaged Column Base",
           466394
          ],
          [
           "Crucifix",
           466395
          ],
          [
           "The Angel Gabriel from an Annunciation Group",
           466396
          ],
          [
           "Virgin and Child",
           466397
          ],
          [
           "Column Statue of an Apostle",
           466398
          ],
          [
           "An Apostle (?)",
           466399
          ],
          [
           "Virgin and Child",
           466403
          ],
          [
           "The Priest Aaron",
           466404
          ],
          [
           "The Virgin from an Annunciation",
           466407
          ],
          [
           "Virgin and Child",
           466409
          ],
          [
           "Scenes from the Passion of Christ",
           466417
          ],
          [
           "Saint Bavo",
           466418
          ],
          [
           "Capital with Angel Holding a Shield",
           466420
          ],
          [
           "Capital",
           466425
          ],
          [
           "Coffret",
           466442
          ],
          [
           "Fragment from a Panel",
           466443
          ],
          [
           "Glass Fragment",
           466444
          ],
          [
           "Glass Fragment",
           466445
          ],
          [
           "Glass Fragment",
           466446
          ],
          [
           "Glass Fragment",
           466447
          ],
          [
           "Glass Fragment",
           466448
          ],
          [
           "Glass Fragment",
           466449
          ],
          [
           "Glass Fragment",
           466450
          ],
          [
           "Glass Fragment",
           466451
          ],
          [
           "Glass Fragment",
           466452
          ],
          [
           "Glass Fragment",
           466453
          ],
          [
           "Glass Fragment",
           466454
          ],
          [
           "Glass Fragment",
           466455
          ],
          [
           "Glass Fragment",
           466456
          ],
          [
           "Glass Fragment",
           466457
          ],
          [
           "Glass Fragment",
           466458
          ],
          [
           "Glass Fragment",
           466459
          ],
          [
           "Glass Fragment",
           466460
          ],
          [
           "Glass Fragment",
           466461
          ],
          [
           "Glass Fragment",
           466462
          ],
          [
           "Glass Fragment",
           466463
          ],
          [
           "Glass Fragment",
           466464
          ],
          [
           "Glass Fragment",
           466465
          ],
          [
           "Glass Fragment",
           466466
          ],
          [
           "Glass Fragment",
           466467
          ],
          [
           "Glass Fragment",
           466468
          ],
          [
           "Glass Fragment",
           466469
          ],
          [
           "Glass Fragment",
           466470
          ],
          [
           "Glass Fragment",
           466473
          ],
          [
           "Glass Fragment",
           466474
          ],
          [
           "Glass Fragment",
           466475
          ],
          [
           "Glass Fragment",
           466476
          ],
          [
           "Glass Fragment",
           466477
          ],
          [
           "Glass Fragment",
           466478
          ],
          [
           "Glass Fragment",
           466479
          ],
          [
           "Fragment",
           466480
          ],
          [
           "Glass Fragment",
           466481
          ],
          [
           "Glass Fragment",
           466482
          ],
          [
           "Glass Fragment",
           466483
          ],
          [
           "Glass Fragment",
           466484
          ],
          [
           "Glass Fragment",
           466485
          ],
          [
           "Glass Fragment",
           466486
          ],
          [
           "Glass Fragment",
           466487
          ],
          [
           "Glass Fragment",
           466488
          ],
          [
           "Glass Fragment",
           466489
          ],
          [
           "Glass Fragment",
           466490
          ],
          [
           "Glass Fragment",
           466491
          ],
          [
           "Glass Fragment",
           466492
          ],
          [
           "Glass Fragment",
           466493
          ],
          [
           "Glass Fragment",
           466494
          ],
          [
           "Glass Fragment",
           466495
          ],
          [
           "Glass Fragment",
           466496
          ],
          [
           "Glass Fragment",
           466497
          ],
          [
           "Glass Fragment",
           466498
          ],
          [
           "Glass Fragment",
           466499
          ],
          [
           "Glass Fragment",
           466500
          ],
          [
           "Glass Fragment",
           466501
          ],
          [
           "Glass Fragment",
           466502
          ],
          [
           "Glass Fragment",
           466503
          ],
          [
           "Glass Fragment",
           466504
          ],
          [
           "Glass Fragment",
           466505
          ],
          [
           "Glass Fragment",
           466506
          ],
          [
           "Glass Fragment",
           466507
          ],
          [
           "Glass Fragment",
           466508
          ],
          [
           "Glass Fragment",
           466509
          ],
          [
           "Glass Fragment",
           466510
          ],
          [
           "Glass Fragment",
           466511
          ],
          [
           "Glass Fragment",
           466512
          ],
          [
           "Glass Fragment",
           466513
          ],
          [
           "Glass Fragment",
           466514
          ],
          [
           "Glass Fragment",
           466515
          ],
          [
           "Glass Fragment",
           466516
          ],
          [
           "Glass Fragment",
           466517
          ],
          [
           "Glass Fragment",
           466518
          ],
          [
           "Glass Fragment",
           466519
          ],
          [
           "Glass Fragment",
           466520
          ],
          [
           "Glass Fragment",
           466521
          ],
          [
           "Glass Fragment",
           466522
          ],
          [
           "Glass Fragment",
           466523
          ],
          [
           "Glass Fragment",
           466524
          ],
          [
           "Glass Fragment",
           466525
          ],
          [
           "Glass Fragment",
           466526
          ],
          [
           "Glass Fragment",
           466527
          ],
          [
           "Glass Fragment",
           466528
          ],
          [
           "Glass Fragment",
           466529
          ],
          [
           "Glass Fragment",
           466530
          ],
          [
           "Glass Fragment",
           466531
          ],
          [
           "Glass Fragment",
           466532
          ],
          [
           "Glass Fragment",
           466533
          ],
          [
           "Glass Fragment",
           466534
          ],
          [
           "Glass Fragment",
           466535
          ],
          [
           "Fragment",
           466536
          ],
          [
           "Glass Fragment",
           466537
          ],
          [
           "Fragment",
           466538
          ],
          [
           "Glass Fragment",
           466539
          ],
          [
           "Glass Fragment",
           466540
          ],
          [
           "Glass Fragment",
           466541
          ],
          [
           "Glass Fragment with Soldiers in Armor",
           466542
          ],
          [
           "Glass Fragment",
           466543
          ],
          [
           "Glass Fragment",
           466544
          ],
          [
           "Glass Fragment",
           466545
          ],
          [
           "Glass Fragment",
           466546
          ],
          [
           "Glass Fragment",
           466547
          ],
          [
           "Fragment",
           466548
          ],
          [
           "Glass Fragment",
           466549
          ],
          [
           "Fragment",
           466550
          ],
          [
           "Capital",
           466554
          ],
          [
           "Column Base",
           466555
          ],
          [
           "Column Base",
           466556
          ],
          [
           "Christ",
           466559
          ],
          [
           "Relief with Scene from the Legend of the True Cross",
           466561
          ],
          [
           "Relief with Scene from the Legend of the True Cross",
           466562
          ],
          [
           "Lectern",
           466563
          ],
          [
           "Relief of Virgin and Child",
           466564
          ],
          [
           "Missal Case",
           466565
          ],
          [
           "Case",
           466566
          ],
          [
           "Case, Cup",
           466567
          ],
          [
           "Printed Book with Silva Nuptialis Bonis Referta Non Modicis",
           466568
          ],
          [
           "Bible",
           466569
          ],
          [
           "Stoning of Moses, Joshua and Caleb",
           466570
          ],
          [
           "Passage of the Red Sea",
           466571
          ],
          [
           "Agnus Dei",
           466572
          ],
          [
           "Separation of Sheep and Goats",
           466573
          ],
          [
           "Saint Agnes",
           466574
          ],
          [
           "Portrait of Christ",
           466575
          ],
          [
           "Miraculous Draught of Fishes",
           466576
          ],
          [
           "Salome",
           466577
          ],
          [
           "Bowl",
           466578
          ],
          [
           "Vase",
           466579
          ],
          [
           "Scenes from the Legend of Saint Vincent of Saragossa and the History of His Relics",
           466580
          ],
          [
           "Coffer",
           466581
          ],
          [
           "Virgin and Child",
           466582
          ],
          [
           "Sarcophagus Lid with Last Judgement",
           466583
          ],
          [
           "Chasse",
           466584
          ],
          [
           "Fragment of a Sarcophagus with Putti in a Grapevine",
           466585
          ],
          [
           "Emperor Justinian and Members of His Court",
           466586
          ],
          [
           "Empress Theodora and Members of Her Court",
           466587
          ],
          [
           "Money-Changer's Table",
           466614
          ],
          [
           "Medal Louis XII, King of France (r. 1498–15155), and Anne of Brittany (1476–1514)",
           466615
          ],
          [
           "Mourner",
           466616
          ],
          [
           "Jug",
           466618
          ],
          [
           "Moses and Aaron Before Pharaoh",
           466619
          ],
          [
           "Coronation of the Virgin and related subjects",
           466621
          ],
          [
           "Manuscript Leaf with the Annunciation, from a Psalter",
           466622
          ],
          [
           "Manuscript Leaf with the Deposition, from a Psalter",
           466623
          ],
          [
           "Manuscript Leaf with the Resurrection, from a Psalter",
           466624
          ],
          [
           "Coffret",
           466625
          ],
          [
           "The Virgin Supported by Saint John, from a Crucifixion Group",
           466626
          ],
          [
           "The Centurion and Two Soldiers, from a Crucifixion Group",
           466627
          ],
          [
           "Reliquary Cross with Christ Crucified and the Virgin and Child",
           466630
          ],
          [
           "Manuscript Illumination with the Presentation of Christ in the Temple in an Initial S, from a Gradual",
           466631
          ],
          [
           "Manuscript Illumination with the Beheading of Saint Paul in an Initial S, from a Gradual",
           466632
          ],
          [
           "Prophet from a Jesse Tree",
           466634
          ],
          [
           "Prophet from a Jesse Tree",
           466635
          ],
          [
           "Border with Arching Leaf Fronds",
           466636
          ],
          [
           "Foliate Border Section",
           466637
          ],
          [
           "Foliate Border Section",
           466638
          ],
          [
           "Medallion with a Portrait of Gennadios",
           466645
          ],
          [
           "Coffret",
           466647
          ],
          [
           "Mosaic with a Peacock and Flowers",
           466653
          ],
          [
           "Pilgrim's Plaque",
           466654
          ],
          [
           "Balance Weight with Christ Blessing Two Eparchs or Emperors",
           466655
          ],
          [
           "Gold Neck Ring",
           466656
          ],
          [
           "Reliquary, Hand from",
           466659
          ],
          [
           "Chasuble (Opus Anglicanum)",
           466660
          ],
          [
           "Stole with Various Saints",
           466661
          ],
          [
           "Maniple",
           466662
          ],
          [
           "Griffin and Other Monster",
           466663
          ],
          [
           "Saint Peter as the First Pope",
           466664
          ],
          [
           "Mortar",
           466665
          ],
          [
           "Beaker",
           466666
          ],
          [
           "Beaker",
           466667
          ],
          [
           "Beaker",
           466668
          ],
          [
           "Beaker",
           466669
          ],
          [
           "Beaker",
           466670
          ],
          [
           "Beaker (Krautstrunk)",
           466671
          ],
          [
           "Drinking Bowl",
           466672
          ],
          [
           "Bottle",
           466673
          ],
          [
           "Bottle",
           466674
          ],
          [
           "Manuscript Leaf with Adoration of the Holy Name, from a Book of Hours",
           466677
          ],
          [
           "Manuscript Leaf with the Annunciation, from a Book of Hours",
           466685
          ],
          [
           "Purse with scenes from the story of Patient Griselda",
           466693
          ],
          [
           "Purse with Two Figures under a Tree",
           466694
          ],
          [
           "Cassone Front",
           466696
          ],
          [
           "Saint Elzéar",
           466697
          ],
          [
           "Balance Weight with a Cross and an Architectural Setting",
           466698
          ],
          [
           "Two-Handled Jar with Stag",
           466701
          ],
          [
           "Standing Lamp with a Cross on a Pricket Stand",
           466702
          ],
          [
           "Manuscript Illumination with Crucifixion in an Initial T, from a Missal",
           466703
          ],
          [
           "Panel with Christ Teaching",
           466705
          ],
          [
           "Brocade Textile",
           466706
          ],
          [
           "Triptych with Christ, Virgin, St. John The Baptist",
           466711
          ],
          [
           "Manuscript Leaf with the Initial V, from an Antiphonary",
           466712
          ],
          [
           "Manuscript Leaf with Initial O, from an Antiphonary",
           466713
          ],
          [
           "Manuscript Leaf with Initial A, from an Antiphonary",
           466714
          ],
          [
           "Manuscript Leaf with Initial F, from an Antiphonary",
           466715
          ],
          [
           "Manuscript Leaf, from an Antiphonary",
           466716
          ],
          [
           "Manuscript Leaf with Initial F, from an Antiphonary",
           466717
          ],
          [
           "Manuscript Leaf with Initial O, from an Antiphonary",
           466718
          ],
          [
           "Manuscript Leaf with Initial H, from an Antiphonary",
           466719
          ],
          [
           "Manuscript Leaf with Initial O, from an Antiphonary",
           466720
          ],
          [
           "Manuscript Leaf with Initial E, from an Antiphonary",
           466721
          ],
          [
           "Manuscript Leaf with Initial A, from an Antiphonary",
           466722
          ],
          [
           "Manuscript Leaf with the Initial M, from an Antiphonary",
           466723
          ],
          [
           "Manuscript Leaf with Initial M, from an Antiphonary",
           466724
          ],
          [
           "Manuscript Leaf with Initial A, from an Antiphonary",
           466725
          ],
          [
           "Manuscript Leaf with Initial A, from a Gradual",
           466726
          ],
          [
           "Manuscript Leaf with Initial R, from a Gradual",
           466727
          ],
          [
           "Manuscript Leaf with Initial V, from a Gradual",
           466728
          ],
          [
           "Manuscript Leaf with Initial V, from a Gradual",
           466729
          ],
          [
           "Manuscript Leaf with Initial S, from a Gradual",
           466730
          ],
          [
           "Manuscript Leaf with Initial C, from a Gradual",
           466731
          ],
          [
           "Manuscript Leaf with Initial T, from a Gradual",
           466732
          ],
          [
           "Manuscript Leaf with Initial V, from an Antiphonary",
           466733
          ],
          [
           "Manuscript Leaf with Initial H, from an Antiphonary",
           466734
          ],
          [
           "Manuscript Leaf with Initial P, from an Antiphonary",
           466735
          ],
          [
           "Manuscript Leaf with Initial D, from an Antiphonary",
           466736
          ],
          [
           "Manuscript Leaf with Initial O, from an Antiphonary",
           466737
          ],
          [
           "Manuscript Leaf with Initial B, from an Antiphonary",
           466738
          ],
          [
           "Manuscript Leaf with Initial S, from an Antiphonary",
           466739
          ],
          [
           "Manuscript Leaf with Initial H, from an Antiphonary",
           466740
          ],
          [
           "Manuscript Leaf with Initial S, from an Antiphonary",
           466741
          ],
          [
           "Manuscript Leaf with Initial F, from an Antiphonary",
           466742
          ],
          [
           "Manuscript Leaf with Initial C, from an Antiphonary",
           466743
          ],
          [
           "Manuscript Leaf with Initial O, from an Antiphonary",
           466744
          ],
          [
           "Manuscript Leaf with Initial H, from an Antiphonary",
           466745
          ],
          [
           "Manuscript Leaf with Initial C, from an Antiphonary",
           466746
          ],
          [
           "Manuscript Leaf with Initial A, from an Antiphonary",
           466747
          ],
          [
           "Manuscript Leaf with Initial S, from an Antiphonary",
           466748
          ],
          [
           "Manuscript Leaf with Initial C, from an Antiphonary",
           466749
          ],
          [
           "Manuscript Leaf with Initial R, from an Antiphonary",
           466750
          ],
          [
           "Manuscript Leaf with Initial G, from an Antiphonary",
           466751
          ],
          [
           "Manuscript Leaf with Initial L, from an Antiphonary",
           466752
          ],
          [
           "Manuscript Leaf with Initial T, from an Antiphonary",
           466753
          ],
          [
           "Manuscript Leaf with Initial L, from an Antiphonary",
           466754
          ],
          [
           "Manuscript Leaf with Initial A, from an Antiphonary",
           466755
          ],
          [
           "Manuscript Leaf with Initial S, from an Antiphonary",
           466756
          ],
          [
           "Manuscript Leaf with Initial A, from a Gradual",
           466757
          ],
          [
           "Manuscript Leaf with Initial A, from an Antiphonary",
           466758
          ],
          [
           "Manuscript Leaf with Initial R, from an Antiphonary",
           466759
          ],
          [
           "Manuscript Leaf with Initial E, from an Antiphonary",
           466760
          ],
          [
           "Manuscript Leaf with Initial R, from an Antiphonary",
           466761
          ],
          [
           "Manuscript Leaf with Initial H, from an Antiphonary",
           466762
          ],
          [
           "Manuscript Leaf with Initial H, from an Antiphonary",
           466763
          ],
          [
           "Manuscript Leaf with Initial T, from an Antiphonary",
           466764
          ],
          [
           "Manuscript Leaf with Initial V, from an Antiphonary",
           466765
          ],
          [
           "Manuscript Leaf with Initial V, from an Antiphonary",
           466766
          ],
          [
           "Manuscript Leaf with Initial P, from an Antiphonary",
           466767
          ],
          [
           "Manuscript Leaf with Initial A, from an Antiphonary",
           466768
          ],
          [
           "Manuscript Leaf with Initial B, from an Antiphonary",
           466769
          ],
          [
           "Manuscript Leaf with Initial O, from an Antiphonary",
           466770
          ],
          [
           "Manuscript Leaf with Initial S, from a Choir Book",
           466771
          ],
          [
           "Manuscript Leaf with Initial E, from an Antiphonary",
           466772
          ],
          [
           "Manuscript Leaf with King David in an Initial I, from a Psalter",
           466773
          ],
          [
           "Manuscript Leaf with Initial A, from an Antiphonary",
           466774
          ],
          [
           "Manuscript Leaf with Initial S, from an Antiphonary",
           466775
          ],
          [
           "Manuscript Leaf with Initial C, from an Antiphonary",
           466776
          ],
          [
           "Manuscript Leaf with Initial O, from an Antiphonary",
           466777
          ],
          [
           "Manuscript Leaf with Initial L, from an Antiphonary",
           466778
          ],
          [
           "Manuscript Leaf with Initial O, from an Antiphonary",
           466779
          ],
          [
           "Manuscript Leaf with Initial A, from an Antiphonary",
           466780
          ],
          [
           "Manuscript Leaf with Initial T, from an Antiphonary",
           466781
          ],
          [
           "Manuscript Leaf with Initial T, from an Antiphonary",
           466782
          ],
          [
           "Manuscript Leaf with Initial V, from an Antiphonary",
           466783
          ],
          [
           "Manuscript Leaf with Initial D, from an Antiphonary",
           466784
          ],
          [
           "Manuscript Leaf with Initial L, from an Antiphonary",
           466785
          ],
          [
           "Manuscript Leaf with Initial I, from an Antiphonary",
           466786
          ],
          [
           "Manuscript Leaf with Initial C, from an Antiphonary",
           466787
          ],
          [
           "Bifolium from an Antiphonary",
           466788
          ],
          [
           "Manuscript Leaf with Initial S, from an Antiphonary",
           466789
          ],
          [
           "Bifolium with Initial L, from an Antiphonary",
           466790
          ],
          [
           "Bifolium from an Antiphonary",
           466791
          ],
          [
           "Bifolium with Initial C, from an Antiphonary",
           466792
          ],
          [
           "Manuscript Leaf with Initial C, from an Antiphonary",
           466793
          ],
          [
           "Textile with Beast and Geometric Designs",
           466794
          ],
          [
           "Saint James the Lesser",
           466795
          ],
          [
           "Fragment",
           466797
          ],
          [
           "Glass Panel of Head of Angel",
           466798
          ],
          [
           "Virgin and Child",
           466799
          ],
          [
           "Double Capital with Masks and Birds",
           466802
          ],
          [
           "Keystone from a Vaulted Ceiling",
           466803
          ],
          [
           "Matrices",
           466804
          ],
          [
           "Matrices, Cast",
           466805
          ],
          [
           "Limestone Keystone from a Vaulted Ceiling",
           466807
          ],
          [
           "Ring",
           466808
          ],
          [
           "Block",
           466809
          ],
          [
           "Fragment",
           466812
          ],
          [
           "Dish",
           466815
          ],
          [
           "Dish",
           466816
          ],
          [
           "Dish",
           466817
          ],
          [
           "Column",
           466818
          ],
          [
           "Column",
           466819
          ],
          [
           "Column",
           466820
          ],
          [
           "Head of a King",
           466822
          ],
          [
           "Head of a King",
           466823
          ],
          [
           "Octagonal Bottle",
           466826
          ],
          [
           "Dish",
           466827
          ],
          [
           "Tile",
           466829
          ],
          [
           "Tile",
           466830
          ],
          [
           "Tile",
           466831
          ],
          [
           "Tile",
           466832
          ],
          [
           "Tile, Ceiling",
           466840
          ],
          [
           "Christ Presenting the Keys to Saint Peter",
           466841
          ],
          [
           "Christ Presenting the Keys to Saint Peter",
           466842
          ],
          [
           "Altarcloth",
           466843
          ],
          [
           "Jug",
           467077
          ],
          [
           "Beaker",
           467078
          ],
          [
           "Relief Panel with Two Griffins Drinking from a Cup",
           467079
          ],
          [
           "Plate with Water Bird",
           467080
          ],
          [
           "Plate",
           467081
          ],
          [
           "Altar Frontal",
           467082
          ],
          [
           "Fragment",
           467084
          ],
          [
           "Glass Fragment",
           467085
          ],
          [
           "Glass Fragment",
           467086
          ],
          [
           "Glass Fragment",
           467088
          ],
          [
           "Fragment",
           467089
          ],
          [
           "Glass Fragment",
           467090
          ],
          [
           "Glass Fragment",
           467091
          ],
          [
           "Glass Fragment",
           467092
          ],
          [
           "Glass Fragment",
           467093
          ],
          [
           "Glass Fragment",
           467094
          ],
          [
           "Glass Fragment",
           467095
          ],
          [
           "Glass Fragment",
           467096
          ],
          [
           "Glass Fragment",
           467097
          ],
          [
           "Glass Fragment",
           467098
          ],
          [
           "Glass Fragment",
           467099
          ],
          [
           "Glass Fragment",
           467100
          ],
          [
           "Glass Fragment",
           467101
          ],
          [
           "Glass Fragment",
           467102
          ],
          [
           "Glass Fragment",
           467103
          ],
          [
           "Glass Fragment",
           467104
          ],
          [
           "Glass Fragment",
           467105
          ],
          [
           "Glass Fragment",
           467106
          ],
          [
           "Glass Fragment",
           467107
          ],
          [
           "Glass Fragment",
           467108
          ],
          [
           "Glass Fragment",
           467109
          ],
          [
           "Capital with Engaged Impost",
           466189
          ],
          [
           "Brooch",
           466205
          ],
          [
           "Disk Brooch",
           466206
          ],
          [
           "Disk Brooch",
           466207
          ],
          [
           "Disk Brooch",
           466208
          ],
          [
           "Loop and Tongue of a Buckle",
           466209
          ],
          [
           "Brooch",
           466210
          ],
          [
           "Disk Brooch",
           466211
          ],
          [
           "Disk Brooch",
           466212
          ],
          [
           "Brooch",
           466213
          ],
          [
           "Disk Brooch",
           466214
          ],
          [
           "Fragment of a Floor Mosaic with a Personification of Ktisis",
           469960
          ],
          [
           "Wing Brooch",
           469961
          ],
          [
           "Manuscript Leaf with the Last Judgment, from a Book of Hours",
           469963
          ],
          [
           "Five Jewels",
           469984
          ],
          [
           "Manuscript Leaf with Opening of The Book of Nehemias, from a Bible",
           469985
          ],
          [
           "Crozier Head with Saint Michael and Serpent",
           470006
          ],
          [
           "Plaque from a Reliquary Shrine",
           470007
          ],
          [
           "Manuscript Leaf with the Opening of the Epistle of Saint Paul to the Ephesians, from a Bible",
           470122
          ],
          [
           "Jug",
           470127
          ],
          [
           "Crucified Christ",
           470134
          ],
          [
           "Morse Fragment with the Virgin",
           470135
          ],
          [
           "Virgin and Child",
           470146
          ],
          [
           "Bust of an Apostle",
           470147
          ],
          [
           "Casket Fragments",
           470262
          ],
          [
           "Casket Fragments",
           470263
          ],
          [
           "Section of a Marble Mosaic Bathhouse Floor",
           470267
          ],
          [
           "Cameo of the Virgin and Child",
           470268
          ],
          [
           "Pin Fragment",
           470274
          ],
          [
           "Disk terminal",
           470275
          ],
          [
           "Cross",
           470276
          ],
          [
           "Gold Belt Buckle and Strap End",
           470278
          ],
          [
           "Crossbow Brooch",
           470294
          ],
          [
           "Sword and Scabbard",
           470298
          ],
          [
           "Spearhead",
           470329
          ],
          [
           "Chape (Terminal of a Scabbard)",
           470330
          ],
          [
           "Intaglio with Saint Theodore Teron Slaying a Many-Headed Dragon",
           470336
          ],
          [
           "Saint Philip",
           470384
          ],
          [
           "Head of a Bearded Man",
           470392
          ],
          [
           "Histamenon of Constantine IX Monomachos (1042-55)",
           470471
          ],
          [
           "Head of a Man Wearing a Cap or Helmet",
           470557
          ],
          [
           "Ostrakon",
           474437
          ],
          [
           "Ostrakon",
           474438
          ],
          [
           "Ostrakon",
           474439
          ],
          [
           "Papyrus Fragments of the Canon Tables",
           474440
          ],
          [
           "Comb",
           474441
          ],
          [
           "Key on Ring",
           474442
          ],
          [
           "Ostrakon",
           474443
          ],
          [
           "Ostrakon",
           474444
          ],
          [
           "Disk with Fish",
           474445
          ],
          [
           "Grave Monument",
           474446
          ],
          [
           "Grave Monument",
           474447
          ],
          [
           "Ostrakon",
           474448
          ],
          [
           "Ostrakon",
           474449
          ],
          [
           "Ostrakon",
           474450
          ],
          [
           "Ostrakon",
           474451
          ],
          [
           "Ostrakon",
           474452
          ],
          [
           "Ostrakon",
           474453
          ],
          [
           "Ostrakon",
           474461
          ],
          [
           "Ostrakon",
           474462
          ],
          [
           "Ostrakon",
           474463
          ],
          [
           "Ostrakon",
           474464
          ],
          [
           "Ostrakon",
           474465
          ],
          [
           "Ostrakon",
           474466
          ],
          [
           "Ostrakon",
           474467
          ],
          [
           "Ostrakon",
           474468
          ],
          [
           "Ostrakon",
           474469
          ],
          [
           "Ostrakon",
           474470
          ],
          [
           "Artist's Sketch",
           474471
          ],
          [
           "Ostrakon",
           474472
          ],
          [
           "Ostrakon",
           474473
          ],
          [
           "Ostrakon",
           474474
          ],
          [
           "Ostrakon",
           474475
          ],
          [
           "Ostrakon",
           474476
          ],
          [
           "Ostrakon",
           474477
          ],
          [
           "Ostrakon",
           474479
          ],
          [
           "Ostrakon",
           474480
          ],
          [
           "Ostrakon",
           474481
          ],
          [
           "Ostrakon",
           474482
          ],
          [
           "Ostrakon",
           474483
          ],
          [
           "Ostrakon",
           474484
          ],
          [
           "Ostrakon",
           474485
          ],
          [
           "Ostrakon",
           474486
          ],
          [
           "Ostrakon",
           474487
          ],
          [
           "Ostrakon",
           474488
          ],
          [
           "Ostrakon",
           474489
          ],
          [
           "Ostrakon",
           474490
          ],
          [
           "Ostrakon with Medical Recipes",
           474491
          ],
          [
           "Ostrakon",
           474492
          ],
          [
           "Ostrakon",
           474493
          ],
          [
           "Ostrakon",
           474494
          ],
          [
           "Ostrakon",
           474495
          ],
          [
           "Ostrakon",
           474496
          ],
          [
           "Ostrakon",
           474497
          ],
          [
           "Ostrakon",
           474498
          ],
          [
           "Ostrakon",
           474500
          ],
          [
           "Ostrakon",
           474501
          ],
          [
           "Ostrakon",
           474502
          ],
          [
           "Ostrakon",
           474503
          ],
          [
           "Ostrakon",
           474504
          ],
          [
           "Ostrakon",
           474505
          ],
          [
           "Ostrakon",
           474506
          ],
          [
           "Ostrakon",
           474507
          ],
          [
           "Ostrakon",
           474508
          ],
          [
           "Ostrakon",
           474509
          ],
          [
           "Ostrakon",
           474510
          ],
          [
           "Ostrakon",
           474511
          ],
          [
           "Ostrakon",
           474512
          ],
          [
           "Ostrakon",
           474513
          ],
          [
           "Ostrakon",
           474514
          ],
          [
           "Ostrakon",
           474516
          ],
          [
           "Ostrakon",
           474517
          ],
          [
           "Ostrakon",
           474518
          ],
          [
           "Ostrakon",
           474519
          ],
          [
           "Ostrakon",
           474520
          ],
          [
           "Ostrakon",
           474521
          ],
          [
           "Ostrakon",
           474522
          ],
          [
           "Ostrakon",
           474523
          ],
          [
           "Ostrakon",
           474524
          ],
          [
           "Ostrakon",
           474525
          ],
          [
           "Ostrakon",
           474526
          ],
          [
           "Ostrakon",
           474527
          ],
          [
           "Ostrakon",
           474528
          ],
          [
           "Ostrakon",
           474529
          ],
          [
           "Ostrakon",
           474530
          ],
          [
           "Ostrakon",
           474531
          ],
          [
           "Ostrakon",
           474532
          ],
          [
           "Ostrakon",
           474533
          ],
          [
           "Ostrakon",
           474534
          ],
          [
           "Ostrakon",
           474535
          ],
          [
           "Ostrakon",
           474536
          ],
          [
           "Ostrakon",
           474537
          ],
          [
           "Ostrakon",
           474538
          ],
          [
           "Ostrakon",
           474539
          ],
          [
           "Ostrakon",
           474540
          ],
          [
           "Ostrakon",
           474541
          ],
          [
           "Ostrakon",
           474542
          ],
          [
           "Ostrakon",
           474543
          ],
          [
           "Ostrakon",
           474544
          ],
          [
           "Ostrakon",
           474545
          ],
          [
           "Ostrakon",
           474546
          ],
          [
           "Ostrakon",
           474547
          ],
          [
           "Ostrakon",
           474548
          ],
          [
           "Ostrakon",
           474549
          ],
          [
           "Ostrakon",
           474550
          ],
          [
           "Ostrakon",
           474551
          ],
          [
           "Ostrakon",
           474552
          ],
          [
           "Ostrakon",
           474553
          ],
          [
           "Ostrakon",
           474554
          ],
          [
           "Ostrakon",
           474555
          ],
          [
           "Ostrakon",
           474556
          ],
          [
           "Ostrakon",
           474557
          ],
          [
           "Ostrakon",
           474558
          ],
          [
           "Ostrakon",
           474559
          ],
          [
           "Ostrakon",
           474560
          ],
          [
           "Ostrakon",
           474561
          ],
          [
           "Ostrakon",
           474562
          ],
          [
           "Ostrakon",
           474563
          ],
          [
           "Ostrakon",
           474564
          ],
          [
           "Ostrakon",
           474565
          ],
          [
           "Ostrakon",
           474566
          ],
          [
           "Ostrakon",
           474567
          ],
          [
           "Ostrakon",
           474568
          ],
          [
           "Ostrakon",
           474569
          ],
          [
           "Ostrakon",
           474570
          ],
          [
           "Ostrakon",
           474571
          ],
          [
           "Ostrakon",
           474572
          ],
          [
           "Ostrakon",
           474573
          ],
          [
           "Ostrakon",
           474574
          ],
          [
           "Ostrakon",
           474575
          ],
          [
           "Ostrakon",
           474576
          ],
          [
           "Ostrakon",
           474577
          ],
          [
           "Ostrakon",
           474578
          ],
          [
           "Ostrakon",
           474579
          ],
          [
           "Ostrakon",
           474580
          ],
          [
           "Ostrakon",
           474581
          ],
          [
           "Ostrakon",
           474582
          ],
          [
           "Ostrakon",
           474583
          ],
          [
           "Ostrakon",
           474584
          ],
          [
           "Ostrakon",
           474585
          ],
          [
           "Ostrakon",
           474586
          ],
          [
           "Ostrakon",
           474587
          ],
          [
           "Ostrakon",
           474588
          ],
          [
           "Ostrakon",
           474589
          ],
          [
           "Ostrakon",
           474590
          ],
          [
           "Ostrakon",
           474591
          ],
          [
           "Ostrakon",
           474592
          ],
          [
           "Ostrakon",
           474593
          ],
          [
           "Ostrakon",
           474594
          ],
          [
           "Ostrakon",
           474595
          ],
          [
           "Ostrakon",
           474596
          ],
          [
           "Ostrakon",
           474597
          ],
          [
           "Ostrakon",
           474598
          ],
          [
           "Ostrakon",
           474599
          ],
          [
           "Ostrakon",
           474600
          ],
          [
           "Ostrakon",
           474601
          ],
          [
           "Ostrakon",
           474602
          ],
          [
           "Ostrakon",
           474603
          ],
          [
           "Ostrakon",
           474604
          ],
          [
           "Ostrakon",
           474605
          ],
          [
           "Ostrakon",
           474606
          ],
          [
           "Ostrakon",
           474607
          ],
          [
           "Ostrakon",
           474608
          ],
          [
           "Ostrakon",
           474609
          ],
          [
           "Ostrakon",
           474610
          ],
          [
           "Ostrakon",
           474611
          ],
          [
           "Ostrakon",
           474612
          ],
          [
           "Ostrakon",
           474613
          ],
          [
           "Ostrakon",
           474614
          ],
          [
           "Ostrakon",
           474615
          ],
          [
           "Ostrakon",
           474616
          ],
          [
           "Ostrakon",
           474617
          ],
          [
           "Ostrakon",
           474618
          ],
          [
           "Ostrakon",
           474619
          ],
          [
           "Ostrakon",
           474620
          ],
          [
           "Ostrakon",
           474621
          ],
          [
           "Ostrakon",
           474622
          ],
          [
           "Ostrakon",
           474623
          ],
          [
           "Ostrakon",
           474624
          ],
          [
           "Ostrakon",
           474625
          ],
          [
           "Ostrakon",
           474626
          ],
          [
           "Ostrakon",
           474627
          ],
          [
           "Ostrakon",
           474628
          ],
          [
           "Ostrakon",
           474629
          ],
          [
           "Ostrakon",
           474630
          ],
          [
           "Ostrakon",
           474631
          ],
          [
           "Ostrakon",
           474632
          ],
          [
           "Ostrakon",
           474633
          ],
          [
           "Ostrakon",
           474634
          ],
          [
           "Ostrakon",
           474635
          ],
          [
           "Ostrakon",
           474636
          ],
          [
           "Ostrakon",
           474637
          ],
          [
           "Ostrakon",
           474638
          ],
          [
           "Ostrakon",
           474639
          ],
          [
           "Ostrakon",
           474640
          ],
          [
           "Ostrakon",
           474641
          ],
          [
           "Ostrakon",
           474642
          ],
          [
           "Ostrakon",
           474643
          ],
          [
           "Ostrakon",
           474644
          ],
          [
           "Papyrus",
           474645
          ],
          [
           "Papyrus",
           474646
          ],
          [
           "Papyrus",
           474647
          ],
          [
           "Papyrus",
           474648
          ],
          [
           "Ostrakon",
           474649
          ],
          [
           "Papyrus",
           474650
          ],
          [
           "Papyrus",
           474651
          ],
          [
           "Papyrus",
           474653
          ],
          [
           "Papyrus",
           474654
          ],
          [
           "Papyrus",
           474655
          ],
          [
           "Papyrus",
           474656
          ],
          [
           "Papyrus",
           474658
          ],
          [
           "Papyri Fragments",
           474659
          ],
          [
           "Papyrus",
           474660
          ],
          [
           "Papyrus",
           474661
          ],
          [
           "Papyrus",
           474662
          ],
          [
           "Papyri Fragments",
           474663
          ],
          [
           "Papyri Fragments",
           474664
          ],
          [
           "Papyri Fragments",
           474665
          ],
          [
           "Papyrus Fragment of a Letter",
           474666
          ],
          [
           "Papyrus Fragment of a Letter from Joseph to Epiphanius",
           474667
          ],
          [
           "Papyrus Fragment of a Letter from Joinistus to Epiphanius",
           474668
          ],
          [
           "Papyrus Fragment of a Letter from Anastasius to Epiphanius",
           474669
          ],
          [
           "Papyri Fragments of a Letter from Menas to Epiphanius",
           474670
          ],
          [
           "Papyri Fragments of a Letter",
           474671
          ],
          [
           "Papyrus Fragments of Two Letters",
           474672
          ],
          [
           "Papyrus Fragment of a Letter",
           474673
          ],
          [
           "Papyrus Fragment of a Letter",
           474674
          ],
          [
           "Papyrus Fragment",
           474675
          ],
          [
           "Papyrus Fragment of a Letter from Euprasius to Epiphanius",
           474676
          ],
          [
           "Papyrus Fragment",
           474677
          ],
          [
           "Papyrus Fragment of a List of Furniture",
           474678
          ],
          [
           "Papyrus Fragment",
           474679
          ],
          [
           "Papyrus Fragment of a Letter from Moses to Epiphanius",
           474680
          ],
          [
           "Papyri Fragments of a Letter to Epiphanius",
           474682
          ],
          [
           "Papyri Fragments",
           474683
          ],
          [
           "Papyri Fragments of a Letter from Tagape",
           474684
          ],
          [
           "Papyri Fragments",
           474685
          ],
          [
           "Papyri Fragments",
           474686
          ],
          [
           "Papyri Fragments of a Letter to Epiphanius",
           474687
          ],
          [
           "Papyri Fragments of a Letter",
           474688
          ],
          [
           "Papyri Fragments of a Letter to Pesenthius",
           474689
          ],
          [
           "Papyri Fragments of a Letter",
           474690
          ],
          [
           "Papyri Fragments of a Letter",
           474691
          ],
          [
           "Papyri Fragments of a Letter",
           474692
          ],
          [
           "Papyri Fragments of a Letter to Epiphanius",
           474693
          ],
          [
           "Papyri Fragments of a Letter to Epiphanius and Psan",
           474695
          ],
          [
           "Papyrus Fragment of a Letter from Pesenthius to Epiphanius",
           474696
          ],
          [
           "Papyri Fragments of a Letter from Bartholomew to Elisasius",
           474697
          ],
          [
           "Papyri Fragments of a Letter to Pesenthius",
           474698
          ],
          [
           "Papyri Fragments of a Letter to Andreas",
           474700
          ],
          [
           "Papyrus Fragment of a Letter from David",
           474701
          ],
          [
           "Papyri Fragments of a Letter",
           474702
          ],
          [
           "Papyrus Fragment of a Letter from John to Epiphanius",
           474703
          ],
          [
           "Papyrus Fragment of a Letter to Jeremias",
           474704
          ],
          [
           "Ostrakon with a Letter from Strategius to Cyriacus",
           474706
          ],
          [
           "Ostrakon",
           474707
          ],
          [
           "Ostrakon",
           474708
          ],
          [
           "Ostrakon with a Letter Regarding the Will of Apa Victor",
           474709
          ],
          [
           "Ostrakon",
           474710
          ],
          [
           "Ostrakon",
           474711
          ],
          [
           "Ostrakon",
           474712
          ],
          [
           "Ostrakon",
           474713
          ],
          [
           "Ostrakon",
           474714
          ],
          [
           "Ostrakon with a Letter",
           474715
          ],
          [
           "Ostrakon",
           474716
          ],
          [
           "Ostrakon with a Letter to Cyriacus",
           474717
          ],
          [
           "Ostrakon with a List of Coptic Months",
           474718
          ],
          [
           "Ostrakon",
           474719
          ],
          [
           "Ostrakon",
           474720
          ],
          [
           "Ostrakon with a Letter from Papnoute and Epiphanius to Cyriacus",
           474721
          ],
          [
           "Ostrakon with a Letter",
           474722
          ],
          [
           "Ostrakon",
           474723
          ],
          [
           "Ostrakon",
           474724
          ],
          [
           "Ostrakon",
           474725
          ],
          [
           "Ostrakon",
           474726
          ],
          [
           "Ostrakon",
           474727
          ],
          [
           "Ostrakon with a Letter from Pleine to Elias",
           474728
          ],
          [
           "Ostrakon with a Letter from Jonah to Elias",
           474729
          ],
          [
           "Ostrakon",
           474730
          ],
          [
           "Ostrakon",
           474731
          ],
          [
           "Ostrakon with a Letter from Enoch to His Parents",
           474732
          ],
          [
           "Ostrakon",
           474733
          ],
          [
           "Ostrakon with a Letter from Kame to Aaron",
           474734
          ],
          [
           "Ostrakon",
           474735
          ],
          [
           "Ostrakon",
           474736
          ],
          [
           "Ostrakon",
           474737
          ],
          [
           "Ostrakon",
           474738
          ],
          [
           "Ostrakon",
           474739
          ],
          [
           "Ostrakon",
           474740
          ],
          [
           "Ostrakon",
           474741
          ],
          [
           "Ostrakon",
           474742
          ],
          [
           "Ostrakon",
           474743
          ],
          [
           "Ostrakon",
           474744
          ],
          [
           "Ostrakon with a Letter from Moses to Moses",
           474745
          ],
          [
           "Ostrakon with a Letter",
           474746
          ],
          [
           "Ostrakon",
           474747
          ],
          [
           "Ostrakon",
           474748
          ],
          [
           "Ostrakon with a Letter to Epiphanius",
           474749
          ],
          [
           "Ostrakon with a Letter",
           474750
          ],
          [
           "Ostrakon with a Letter",
           474751
          ],
          [
           "Ostrakon with Biblical Text and Liturgical Rubric",
           474752
          ],
          [
           "Ostrakon with a Letter from Jacob to Jacob",
           474753
          ],
          [
           "Ostrakon",
           474754
          ],
          [
           "Ostrakon with a Letter to Bishop Pesenthius",
           474755
          ],
          [
           "Ostrakon",
           474756
          ],
          [
           "Ostrakon with a Letter",
           474757
          ],
          [
           "Ostrakon",
           474758
          ],
          [
           "Ostrakon",
           474759
          ],
          [
           "Ostrakon",
           474760
          ],
          [
           "Ostrakon",
           474761
          ],
          [
           "Ostrakon",
           474762
          ],
          [
           "Ostrakon with a Letter to Pesenthius",
           474763
          ],
          [
           "Ostrakon with a Letter",
           474764
          ],
          [
           "Ostrakon with a Letter",
           474765
          ],
          [
           "Ostrakon with a Homily by Athanasius",
           474766
          ],
          [
           "Ostrakon with a Letter to John and Enoch",
           474767
          ],
          [
           "Ostrakon with a Letter",
           474768
          ],
          [
           "Ostrakon",
           474769
          ],
          [
           "Ostrakon with Fragmentary Prayer",
           474770
          ],
          [
           "Ostrakon Mentioning Cyriacus, Jacob, and Hemai",
           474771
          ],
          [
           "Ostrakon",
           474772
          ],
          [
           "Ostrakon",
           474773
          ],
          [
           "Ostrakon",
           474774
          ],
          [
           "Ostrakon",
           474775
          ],
          [
           "Ostrakon",
           474776
          ],
          [
           "Ostrakon with a Contract by Pses",
           474777
          ],
          [
           "Ostrakon with a Letter from Isaac",
           474778
          ],
          [
           "Ostrakon",
           474779
          ],
          [
           "Ostrakon with the Fragments of Two Letter to Apa Cyriacus",
           474780
          ],
          [
           "Ostrakon",
           474781
          ],
          [
           "Ostrakon with Biblical Text",
           474782
          ],
          [
           "Ostrakon with Text from the Biography of Severus of Antioch",
           474783
          ],
          [
           "Ostrakon with a Letter from Pesenthius to Epiphanius",
           474784
          ],
          [
           "Ostrakon Fragments of a Liturgical Text",
           474785
          ],
          [
           "Ostrakon",
           474786
          ],
          [
           "Ostrakon with Biblical Text",
           474787
          ],
          [
           "Ostrakon with a Letter",
           474788
          ],
          [
           "Ostrakon",
           474789
          ],
          [
           "Ostrakon with a Letter from Koletjew to Epiphanius",
           474790
          ],
          [
           "Ostrakon",
           474791
          ],
          [
           "Ostrakon with Biblical Text",
           474792
          ],
          [
           "Ostrakon with an Account",
           474793
          ],
          [
           "Ostrakon with a Letter from John",
           474794
          ],
          [
           "Ostrakon with a Biblical Text",
           474795
          ],
          [
           "Ostrakon",
           474796
          ],
          [
           "Ostrakon",
           474797
          ],
          [
           "Ostrakon",
           474798
          ],
          [
           "Ostrakon with a Letter from Epiphanius to Andrew",
           474799
          ],
          [
           "Ostrakon",
           474800
          ],
          [
           "Ostrakon with a Letter from John",
           474801
          ],
          [
           "Ostrakon with Biblical Text",
           474802
          ],
          [
           "Ostrakon",
           474803
          ],
          [
           "Ostrakon with a Letter from Epiphanius to Jacob",
           474804
          ],
          [
           "Ostrakon with a Letter to Epiphanius from His Mother",
           474805
          ],
          [
           "Ostrakon with a Letter to Stephen",
           474806
          ],
          [
           "Ostrakon with a Letter",
           474807
          ],
          [
           "Ostrakon with a Letter",
           474808
          ],
          [
           "Ostrakon",
           474809
          ],
          [
           "Ostrakon",
           474810
          ],
          [
           "Ostrakon",
           474811
          ],
          [
           "Ostrakon with a Letter from John to Moses",
           474812
          ],
          [
           "Ostrakon with a Letter",
           474813
          ],
          [
           "Ostrakon with Liturgical Text",
           474814
          ],
          [
           "Ostrakon with a Letter from Isaac and Elias to Lashane of Jeme",
           474815
          ],
          [
           "Ostrakon",
           474816
          ],
          [
           "Ostrakon with a Letter from Paternoute to Epiphanius",
           474817
          ],
          [
           "Ostrakon with Biblical Text",
           474818
          ],
          [
           "Ostrakon",
           474819
          ],
          [
           "Ostrakon with a Letter from Patermoute to Epiphanius",
           474820
          ],
          [
           "Ostrakon",
           474821
          ],
          [
           "Ostrakon with Biblical Text Concordance",
           474822
          ],
          [
           "Ostrakon with a Letter",
           474823
          ],
          [
           "Ostrakon",
           474824
          ],
          [
           "Ostrakon with a Letter",
           474825
          ],
          [
           "Ostrakon",
           474826
          ],
          [
           "Ostrakon",
           474827
          ],
          [
           "Ostrakon with a Letter",
           474828
          ],
          [
           "Ostrakon",
           474829
          ],
          [
           "Ostrakon with a Letter from Kos to Elias",
           474830
          ],
          [
           "Ostrakon",
           474831
          ],
          [
           "Ostrakon with Lines from Homer's Iliad",
           474832
          ],
          [
           "Ostrakon with a Letter from Christodorus (?) to Psan",
           474833
          ],
          [
           "Ostrakon with a Letter to Elias",
           474834
          ],
          [
           "Ostrakon with a Letter",
           474835
          ],
          [
           "Ostrakon",
           474836
          ],
          [
           "Ostrakon",
           474837
          ],
          [
           "Ostrakon with a Letter to Cyriacus",
           474838
          ],
          [
           "Ostrakon with Liturgical Text",
           474839
          ],
          [
           "Ostrakon",
           474840
          ],
          [
           "Ostrakon with a Letter from Pilatus to Peter",
           474842
          ],
          [
           "Ostrakon",
           474843
          ],
          [
           "Ostrakon",
           474844
          ],
          [
           "Ostrakon",
           474845
          ],
          [
           "Ostrakon with a Letter from Frange to Enoch",
           474846
          ],
          [
           "Ostrakon",
           474847
          ],
          [
           "Ostrakon with a Letter from Frange to Enoch",
           474848
          ],
          [
           "Ostrakon",
           474849
          ],
          [
           "Ostrakon with a Letter from Ananias to Priests",
           474850
          ],
          [
           "Ostrakon with a Letter from Isaac to Thello",
           474851
          ],
          [
           "Ostrakon",
           474853
          ],
          [
           "Ostrakon",
           474854
          ],
          [
           "Ostrakon with a Letter from Lazarius to Epiphanius",
           474855
          ],
          [
           "Ostrakon",
           474856
          ],
          [
           "Ostrakon with a Letter from Thello",
           474857
          ],
          [
           "Ostrakon with a Letter from Joseph",
           474858
          ],
          [
           "Ostrakon",
           474859
          ],
          [
           "Ostrakon with a Letter to Epiphanius",
           474860
          ],
          [
           "Ostrakon",
           474861
          ],
          [
           "Ostrakon",
           474862
          ],
          [
           "Ostrakon with an Invocation or Charm",
           474863
          ],
          [
           "Ostrakon with a Letter",
           474864
          ],
          [
           "Ostrakon",
           474865
          ],
          [
           "Ostrakon with a Letter from Sabinus to Paham",
           474866
          ],
          [
           "Ostrakon with a Letter",
           474867
          ],
          [
           "Ostrakon",
           474868
          ],
          [
           "Ostrakon",
           474869
          ],
          [
           "Ostrakon with a Letter",
           474870
          ],
          [
           "Ostrakon",
           474871
          ],
          [
           "Ostrakon with a Legal Letter",
           474872
          ],
          [
           "Ostrakon",
           474873
          ],
          [
           "Ostrakon with a Letter from Hello to Joseph",
           474874
          ],
          [
           "Ostrakon with a Letter",
           474875
          ],
          [
           "Ostrakon with a Letter",
           474876
          ],
          [
           "Ostrakon",
           474877
          ],
          [
           "Ostrakon",
           474878
          ],
          [
           "Ostrakon",
           474879
          ],
          [
           "Ostrakon with a Letter Referring to the Persian Occupation",
           474880
          ],
          [
           "Ostrakon",
           474881
          ],
          [
           "Ostrakon",
           474882
          ],
          [
           "Ostrakon",
           474883
          ],
          [
           "Ostrakon",
           474884
          ],
          [
           "Ostrakon with a List",
           474885
          ],
          [
           "Ostrakon with a Letter",
           474886
          ],
          [
           "Ostrakon",
           474887
          ],
          [
           "Ostrakon",
           474888
          ],
          [
           "Ostrakon with Trisagion and Troparia",
           474889
          ],
          [
           "Ostrakon with Troparion",
           474890
          ],
          [
           "Ostrakon with Acrostic Hymn of the Passion",
           474891
          ],
          [
           "Ostrakon with Biblical Text",
           474892
          ],
          [
           "Ostrakon with Biblical Text",
           474893
          ],
          [
           "Ostrakon with Troparion (?)",
           474894
          ],
          [
           "Ostrakon with Troparion (?)",
           474895
          ],
          [
           "Ostrakon with Trisagion",
           474896
          ],
          [
           "Ostrakon with Biblical Text",
           474897
          ],
          [
           "Ostrakon with Troparion (?)",
           474898
          ],
          [
           "Ostrakon with a Canticle (?)",
           474899
          ],
          [
           "Ostrakon with Menander's \"Sentences\"",
           474900
          ],
          [
           "Ostrakon",
           474901
          ],
          [
           "Ostrakon with a Trisagion",
           474902
          ],
          [
           "Ostrakon with a Homily",
           474903
          ],
          [
           "Ostrakon with Lists of the Days of the Week",
           474904
          ],
          [
           "Ostrakon with Troparion",
           474905
          ],
          [
           "Ostrakon with a Hymn to an Ascete and Martyr",
           474906
          ],
          [
           "Ostrakon with Text from Song of Songs",
           474907
          ],
          [
           "Ostrakon with Text from Song of Songs",
           474908
          ],
          [
           "Ostrakon",
           474909
          ],
          [
           "Ostrakon",
           474910
          ],
          [
           "Whip Handle",
           474911
          ],
          [
           "Lifting Hook",
           474912
          ],
          [
           "Pulley",
           474913
          ],
          [
           "Pulley",
           474914
          ],
          [
           "Bow-Drill Fragments",
           474915
          ],
          [
           "Bow-Drill Fragment",
           474916
          ],
          [
           "Bow-Drill Fragment",
           474917
          ],
          [
           "Lock",
           474918
          ],
          [
           "Key",
           474919
          ],
          [
           "Door Catch",
           474920
          ],
          [
           "Pen",
           474921
          ],
          [
           "Pen",
           474922
          ]
         ],
         "hovertemplate": "x=%{x}<br>y=%{y}<br>title=%{customdata[0]}<br>objectID=%{customdata[1]}<extra></extra>",
         "legendgroup": "",
         "marker": {
          "color": "#636efa",
          "symbol": "circle"
         },
         "mode": "markers",
         "name": "",
         "showlegend": false,
         "type": "scattergl",
         "x": [
          24.035278,
          -0.09197435,
          1.1365145,
          0.17261215,
          2.764957,
          1.7565639,
          -26.40286,
          0.2982432,
          0.9068954,
          2.1228995,
          1.7830893,
          0.57365775,
          -0.06841093,
          -43.056793,
          -6.7787504,
          -34.071587,
          -16.673893,
          -26.273712,
          28.708496,
          -16.59159,
          -33.924397,
          22.47712,
          16.2665,
          -4.251789,
          -3.9592383,
          -50.492943,
          -47.56936,
          -52.11373,
          -49.017944,
          -8.946282,
          -33.71717,
          -49.269947,
          -41.30519,
          -1.8767503,
          6.318244,
          2.362048,
          -8.016133,
          -11.631947,
          1.5869524,
          -6.20024,
          9.318416,
          10.026843,
          12.319217,
          10.155368,
          -0.5407461,
          -2.805204,
          0.9633203,
          26.259903,
          -34.653023,
          10.069891,
          13.788896,
          14.262111,
          13.932566,
          11.540128,
          12.657707,
          11.780675,
          3.13005,
          11.695711,
          10.272271,
          12.219395,
          13.575949,
          8.549154,
          11.488032,
          13.601824,
          13.03858,
          7.2847137,
          16.428703,
          0.80837417,
          13.49295,
          11.326857,
          11.798914,
          12.067779,
          6.899086,
          11.722381,
          8.611665,
          11.749701,
          13.138041,
          11.67077,
          0.6949457,
          11.685819,
          14.257388,
          10.5731325,
          2.9459472,
          -0.9510777,
          2.7114794,
          10.931092,
          -1.6853607,
          -0.56741196,
          -1.5091548,
          -10.04069,
          10.816854,
          -1.9240618,
          -8.081799,
          -10.896187,
          -0.4660678,
          -6.93062,
          -11.180788,
          -7.8405867,
          -10.753581,
          10.640149,
          9.392776,
          -5.54832,
          9.017537,
          -12.191104,
          9.367242,
          -6.024185,
          10.561328,
          -11.914905,
          -9.34731,
          -0.9723248,
          -5.6631055,
          -1.2660105,
          -7.0719223,
          -0.028034275,
          -7.3434463,
          -17.768656,
          -9.206581,
          -6.8642097,
          -10.122706,
          -11.34267,
          -14.396942,
          -6.783203,
          -4.548769,
          -8.754061,
          -15.427806,
          -9.078107,
          -3.7185354,
          -6.817373,
          -5.652042,
          -12.684869,
          -7.8355994,
          -42.33985,
          -39.491108,
          -34.046883,
          -17.45766,
          26.81115,
          -9.052341,
          -13.054308,
          -49.040874,
          -41.49513,
          -11.112772,
          -37.12964,
          27.84374,
          25.856455,
          33.044834,
          -32.92318,
          -32.92318,
          -32.92318,
          -32.92318,
          -32.92318,
          -32.92318,
          -39.41272,
          -9.565429,
          -9.351769,
          11.490993,
          11.4906025,
          13.317392,
          13.31754,
          13.31754,
          28.09943,
          -43.440666,
          -23.101568,
          -28.557802,
          -47.506004,
          -13.639157,
          -45.538258,
          -9.82061,
          -46.499027,
          -28.786652,
          -29.308989,
          -51.426865,
          -51.172424,
          -42.008038,
          -15.601551,
          -15.628551,
          -14.438431,
          -22.95721,
          15.826845,
          -34.228138,
          -24.92201,
          -35.523373,
          -5.2841654,
          -5.1817756,
          -5.2621875,
          2.3342779,
          -22.802757,
          -10.346907,
          -24.210918,
          -7.4929256,
          -3.0664423,
          -12.337058,
          -14.543542,
          4.005754,
          -24.044018,
          -24.231504,
          -24.249361,
          -10.80369,
          -11.679438,
          -47.989033,
          -20.797487,
          -21.365982,
          -29.110834,
          -51.07225,
          -19.586422,
          -7.26249,
          -12.934244,
          15.010733,
          14.034481,
          -7.1650853,
          14.716878,
          14.710911,
          10.382647,
          -44.963524,
          10.1432295,
          -29.465664,
          10.287524,
          -38.524727,
          -39.006393,
          -35.05857,
          -35.600105,
          -29.959236,
          -27.450903,
          -11.141988,
          -28.580502,
          9.588834,
          -53.78621,
          -57.942337,
          -43.342274,
          -12.284191,
          -34.10126,
          -12.771868,
          -10.365674,
          -42.45361,
          -52.16531,
          -39.54547,
          -21.23867,
          -21.192919,
          -41.268005,
          -6.0751777,
          -5.97407,
          34.55983,
          33.13229,
          34.987785,
          33.52404,
          30.00908,
          27.808428,
          33.731453,
          35.276836,
          33.829872,
          33.89088,
          27.135527,
          23.367182,
          23.90729,
          28.522463,
          23.514904,
          33.97089,
          51.153275,
          34.807236,
          35.307476,
          28.566843,
          29.173498,
          33.64181,
          30.965288,
          25.389938,
          35.085117,
          34.732834,
          29.617887,
          38.523136,
          11.775715,
          38.52506,
          27.832827,
          30.818422,
          31.00067,
          20.661903,
          29.94627,
          36.180656,
          28.147757,
          30.780874,
          28.749914,
          28.633554,
          28.795778,
          28.527008,
          30.043768,
          29.984238,
          28.232487,
          32.338093,
          27.10512,
          36.076515,
          35.292152,
          35.759586,
          35.84321,
          35.87919,
          35.743633,
          33.316574,
          35.60474,
          29.394964,
          31.788298,
          32.320786,
          25.852068,
          32.907967,
          32.79545,
          30.122366,
          -33.382294,
          -12.006119,
          -8.262425,
          -13.510419,
          -12.007059,
          -14.87035,
          -8.48736,
          -14.636502,
          -12.25662,
          -15.0420685,
          -16.022366,
          -14.551605,
          -14.489368,
          -19.78131,
          -15.816919,
          -14.500667,
          -14.748022,
          -14.934322,
          -15.240895,
          -11.132277,
          -8.303195,
          -8.651616,
          -11.340114,
          -10.116586,
          -10.81708,
          -11.878451,
          -10.004673,
          -11.856472,
          -9.237976,
          -9.821386,
          -12.02401,
          -7.6356134,
          -20.400526,
          -7.9795685,
          -15.572228,
          -6.9855056,
          -8.952097,
          -8.13291,
          -9.2136755,
          -11.263905,
          -34.618107,
          -7.179413,
          -8.106801,
          2.4072778,
          2.521203,
          0.005954147,
          -3.097952,
          -4.2921824,
          -3.1896508,
          -1.8982137,
          -4.2801037,
          -13.308908,
          -14.715363,
          -15.625054,
          -10.143526,
          -11.874121,
          -10.114046,
          -14.043037,
          -10.419593,
          -12.564557,
          -13.92029,
          -9.977144,
          -34.563602,
          0.7897756,
          -0.29536965,
          2.8317785,
          2.7820075,
          -9.799711,
          -53.482754,
          -7.814227,
          -32.809467,
          -23.346603,
          -31.860928,
          8.214436,
          8.257431,
          -18.731615,
          -18.149506,
          -48.94321,
          1.8388115,
          -12.157724,
          -31.38863,
          -39.31324,
          4.012824,
          -44.201862,
          -44.07944,
          -33.698338,
          -47.923275,
          -20.580538,
          -32.6114,
          -46.08992,
          -45.83491,
          -43.202953,
          -16.401615,
          -46.99618,
          -57.61831,
          -40.80353,
          -1.1920954,
          -43.945866,
          -21.41722,
          -24.129505,
          -19.841204,
          -20.053947,
          -0.9449156,
          -53.060654,
          -53.245556,
          -51.815105,
          -51.977497,
          -52.442158,
          -22.094584,
          -30.958948,
          -9.170321,
          12.997476,
          13.712791,
          13.419089,
          13.627209,
          -52.698803,
          0.48086706,
          -1.941863,
          -4.0611916,
          -52.91672,
          -43.13307,
          -53.56129,
          -10.711208,
          -12.195341,
          5.2140164,
          16.293474,
          -43.02897,
          -44.672413,
          24.359455,
          25.869335,
          -54.0753,
          -54.838615,
          -51.08664,
          -4.0682187,
          2.1263537,
          -14.9053955,
          -14.480472,
          -8.218922,
          -44.23761,
          -44.64092,
          -11.964536,
          -50.76054,
          -32.63276,
          -18.762384,
          -18.19567,
          -18.395948,
          -48.032192,
          26.141712,
          23.924881,
          9.668885,
          7.837187,
          13.086396,
          12.600831,
          -0.8388061,
          32.65641,
          9.924025,
          11.3749275,
          10.918241,
          13.914023,
          47.717342,
          19.20045,
          19.187263,
          13.042273,
          8.931873,
          7.5229363,
          8.6453085,
          11.578384,
          -57.062416,
          -50.442047,
          -51.051373,
          -52.551,
          -51.8792,
          2.9017837,
          52.921803,
          11.861081,
          12.324045,
          61.93365,
          -38.41531,
          -32.980877,
          -33.02508,
          -10.150991,
          -34.058014,
          -21.124739,
          -10.933958,
          -34.339005,
          -48.139526,
          -47.828583,
          -6.1782618,
          -13.7900715,
          -8.706867,
          -34.080692,
          -29.792341,
          -44.4119,
          -55.437443,
          -52.57161,
          -34.312588,
          -57.54003,
          -13.819483,
          -55.03863,
          -55.93773,
          -9.743419,
          -45.498905,
          -45.335674,
          -32.747353,
          -53.543648,
          -35.916733,
          -53.853264,
          -35.98368,
          -31.930374,
          -22.029783,
          -41.250248,
          -9.258141,
          -40.25474,
          -48.0352,
          -51.567905,
          -44.85422,
          -48.924946,
          -52.307556,
          -52.389313,
          -48.085896,
          -43.19253,
          -43.10603,
          -47.996353,
          -48.472477,
          -46.855434,
          -48.748577,
          -11.56972,
          -53.51199,
          -40.985615,
          -40.665375,
          -36.217007,
          -44.28814,
          -42.691456,
          -43.29292,
          -40.395718,
          -43.33135,
          -38.890663,
          -39.983257,
          -36.65757,
          -40.14345,
          -39.11577,
          -47.255108,
          -41.373837,
          -51.952415,
          -49.929432,
          -50.82624,
          -51.17933,
          -9.402706,
          -50.975983,
          -50.458427,
          -50.636536,
          -51.294865,
          -50.80488,
          -50.17737,
          -50.15582,
          -51.82157,
          -9.67351,
          -7.8255243,
          -34.356136,
          -36.803738,
          -46.666546,
          -39.436657,
          -39.519917,
          -27.996552,
          -27.986357,
          -51.98502,
          -48.33651,
          -44.185085,
          -25.675497,
          -39.315937,
          -44.538948,
          -55.934483,
          -22.378193,
          -50.228935,
          -55.409748,
          -44.92317,
          -29.622086,
          -29.624376,
          -19.40719,
          -50.60376,
          22.55151,
          -31.218182,
          -9.372393,
          -33.27894,
          -28.966246,
          -9.307404,
          -27.650604,
          -18.86639,
          -33.48555,
          -8.042412,
          -34.276447,
          -34.825836,
          -34.295353,
          50.682392,
          15.2165985,
          -51.309536,
          1.0417827,
          0.97097915,
          -46.439545,
          -54.925354,
          -39.960747,
          -46.65048,
          -38.368385,
          2.0612004,
          31.70407,
          31.402042,
          33.936108,
          24.542738,
          16.6051,
          -35.323097,
          -44.62367,
          -45.641136,
          6.559217,
          6.6814103,
          8.513572,
          3.4770882,
          -1.6829842,
          -45.831673,
          -42.04917,
          -5.149268,
          -1.5384423,
          -2.386773,
          -24.08624,
          -20.53838,
          -31.042141,
          -18.864574,
          -26.557386,
          -26.584404,
          -26.588501,
          -26.155907,
          -26.203424,
          -25.807241,
          -17.03741,
          -25.209406,
          1.2598099,
          -22.463785,
          -11.184089,
          -17.46997,
          -17.410694,
          -13.900337,
          -15.69862,
          -15.704086,
          6.5704484,
          7.181764,
          9.873963,
          0.354292,
          0.58611894,
          -26.924084,
          -9.434426,
          -14.171803,
          -43.45037,
          13.22748,
          -1.0481209,
          -31.628006,
          -31.534758,
          -31.530708,
          -51.580944,
          6.5775642,
          -4.8951073,
          9.5316515,
          -10.679677,
          4.9254613,
          -5.110961,
          -5.0619946,
          3.891642,
          -47.126488,
          5.494222,
          -4.876206,
          -11.01174,
          9.629938,
          -4.047344,
          -31.521055,
          -31.520945,
          7.0192914,
          -15.623004,
          -15.62781,
          -30.9805,
          -9.101238,
          -9.129394,
          -26.567427,
          40.98486,
          41.385635,
          -1.8091564,
          41.376534,
          -11.382946,
          -4.283825,
          -58.729507,
          9.624621,
          -3.659754,
          -13.334478,
          -3.614559,
          -2.8504078,
          -0.3832194,
          -2.3591747,
          40.81577,
          -4.404992,
          -3.8696663,
          -47.2652,
          -13.302713,
          -2.8492904,
          40.8558,
          -2.8473094,
          -0.481598,
          -0.75786304,
          -2.194999,
          -4.3577843,
          -4.040027,
          40.821964,
          -53.404644,
          41.015053,
          -1.6971494,
          -50.26199,
          -0.6770193,
          -49.4841,
          -57.07963,
          -57.221806,
          -43.45573,
          -47.94365,
          -47.69379,
          -47.724476,
          5.7430964,
          6.6101627,
          -19.539398,
          -13.226112,
          -28.831621,
          -38.7627,
          -38.75412,
          -53.10618,
          -29.743229,
          -46.191452,
          -30.45661,
          -15.862127,
          -50.599506,
          -33.105186,
          -13.69736,
          -50.448177,
          -45.84534,
          -40.33896,
          -40.2948,
          -12.371275,
          28.065638,
          -51.069653,
          -51.34743,
          -31.586796,
          -52.082367,
          -16.531368,
          -51.708607,
          -36.843666,
          -31.139664,
          -33.115997,
          -29.643251,
          -29.499025,
          -50.141987,
          -41.055862,
          -28.30313,
          -12.016823,
          -12.040484,
          -12.062024,
          -15.085466,
          -53.930275,
          -45.46862,
          -32.077557,
          -25.4496,
          5.7582455,
          -9.528686,
          -11.509118,
          -44.514244,
          -42.980183,
          -42.96187,
          -36.71029,
          -37.20738,
          -26.367937,
          -36.60855,
          -42.962708,
          -30.127983,
          -30.331314,
          -46.56466,
          -48.37282,
          -41.153587,
          -41.384285,
          -48.434917,
          -50.743263,
          -46.42207,
          14.100117,
          11.618964,
          19.075436,
          12.261467,
          -29.993916,
          18.31893,
          18.318975,
          11.98733,
          11.981145,
          7.75603,
          7.2843013,
          7.8537107,
          7.7181654,
          7.2267303,
          8.258234,
          7.323694,
          7.493522,
          7.128715,
          7.631594,
          7.078709,
          7.8061233,
          -15.351196,
          -39.58249,
          -20.971483,
          -48.00279,
          -25.659325,
          -47.87089,
          -1.065762,
          2.5814323,
          -44.67162,
          -34.05483,
          -42.68555,
          -17.881044,
          -45.149162,
          -15.972653,
          -58.837574,
          -11.785251,
          -15.256411,
          -14.862864,
          -12.094873,
          -17.431866,
          -37.20546,
          -44.028236,
          -21.715199,
          -28.340305,
          -28.59713,
          -23.648895,
          -29.055063,
          -31.32093,
          -28.817598,
          -29.812765,
          -28.286646,
          -29.882736,
          -26.455458,
          -25.985273,
          -47.05088,
          -45.20211,
          -47.00469,
          -22.472145,
          -20.884981,
          7.27574,
          -29.61054,
          -29.599089,
          -32.957172,
          -28.815004,
          -28.34551,
          -33.812878,
          -33.401073,
          -28.601784,
          -26.132965,
          -30.369778,
          -30.580168,
          -26.526863,
          -31.485653,
          -43.622868,
          -28.132053,
          -33.544018,
          -34.28044,
          -33.197227,
          -32.53781,
          -28.563038,
          -31.855795,
          -31.250832,
          -31.257309,
          -24.390911,
          -37.50432,
          -37.545788,
          -32.885963,
          -32.159523,
          -45.36352,
          -49.550045,
          -53.506557,
          -51.983696,
          -7.4429884,
          -43.101295,
          -10.386388,
          -40.95082,
          -6.919051,
          -18.844772,
          -24.477158,
          -7.2459364,
          -22.423475,
          4.7788324,
          -58.369293,
          6.2524476,
          -26.226183,
          -24.389915,
          -8.082735,
          -21.316956,
          -36.600006,
          -40.48682,
          -40.796898,
          -45.01734,
          -24.832525,
          -17.311096,
          -47.908207,
          -32.99294,
          -25.745394,
          8.549582,
          -11.859026,
          -46.823925,
          -11.831631,
          -29.783789,
          -35.618298,
          -42.00491,
          -12.212772,
          -43.260826,
          -43.914547,
          -44.779125,
          -6.0692444,
          -38.606815,
          -41.38213,
          -14.417819,
          -31.165033,
          -19.331215,
          -43.526463,
          -36.438213,
          -17.422672,
          -42.286163,
          -41.56208,
          -56.974552,
          -46.14,
          -20.69599,
          -28.55466,
          -46.619003,
          -42.43643,
          -37.997463,
          -49.29373,
          -53.872528,
          -44.621735,
          -49.33275,
          -23.000786,
          -47.210148,
          -51.92053,
          -54.10892,
          -10.713293,
          -3.2057538,
          -3.8986504,
          -1.5994043,
          -2.2795699,
          -2.2461543,
          -2.0906076,
          -30.028664,
          -9.474184,
          -11.036368,
          -0.7467429,
          -25.709002,
          -23.109522,
          14.831971,
          -24.228611,
          -24.703903,
          -17.183064,
          -11.93179,
          -2.8371372,
          31.33281,
          -14.474645,
          -23.070871,
          -4.242118,
          -2.0463533,
          -2.766296,
          -5.3389645,
          17.67505,
          29.076366,
          -4.8345027,
          29.485088,
          19.302904,
          19.278606,
          19.343685,
          19.316904,
          -15.145766,
          -1.1243864,
          4.874316,
          4.339715,
          -1.1495394,
          17.431944,
          0.960447,
          2.2847857,
          2.3482072,
          1.8872812,
          2.8383925,
          2.569294,
          0.6234256,
          2.1130207,
          -6.3655643,
          -0.31368566,
          4.3603153,
          -4.4227166,
          2.3266644,
          4.5348496,
          1.7394702,
          1.3440334,
          6.7256856,
          19.165602,
          6.3560543,
          -30.340109,
          2.3990312,
          12.995982,
          4.9444637,
          3.4700177,
          3.4521494,
          5.6591787,
          4.1496267,
          18.90225,
          -7.732426,
          25.550468,
          18.071419,
          25.353886,
          4.883202,
          2.8961906,
          2.1175904,
          10.316263,
          29.215012,
          31.334938,
          -9.723435,
          7.2367473,
          -13.964961,
          -6.645732,
          1.8811796,
          -28.932856,
          -3.9146352,
          -24.942692,
          -8.68574,
          5.2660074,
          -15.0859375,
          -11.669383,
          -11.847048,
          8.920715,
          -23.558311,
          1.0831958,
          -25.269947,
          -15.228131,
          -15.791099,
          -0.547796,
          -3.1981025,
          11.43295,
          -1.5390005,
          -1.1738285,
          42.72994,
          42.716587,
          42.846203,
          42.871746,
          10.984759,
          16.044321,
          15.522252,
          15.831186,
          16.894838,
          12.372818,
          14.845129,
          2.6546316,
          18.350397,
          8.809124,
          12.773314,
          14.902286,
          9.508105,
          -1.1763628,
          17.031498,
          14.510602,
          12.983987,
          10.825969,
          11.414509,
          -4.126193,
          16.568995,
          15.923303,
          17.066776,
          -1.1761734,
          9.892466,
          10.32266,
          9.429902,
          8.487743,
          14.965435,
          14.871453,
          9.765448,
          13.999985,
          6.3168964,
          14.790788,
          -0.19870855,
          13.325225,
          14.786129,
          12.802377,
          11.491976,
          13.9004965,
          13.891401,
          9.131536,
          11.9246855,
          15.398498,
          11.578481,
          0.9185522,
          -53.025627,
          -58.385864,
          -53.48274,
          -60.77923,
          -59.472393,
          -52.437195,
          -60.90527,
          -50.22735,
          -53.945217,
          15.945951,
          -52.170868,
          -54.470676,
          -17.78778,
          -3.1530645,
          -3.4599884,
          -16.537973,
          -17.20851,
          -7.381409,
          -17.036663,
          -16.480247,
          -16.710854,
          -16.626934,
          -17.75222,
          -15.916124,
          -16.272957,
          -16.697145,
          -16.529991,
          -24.081875,
          -22.099033,
          -25.882786,
          -22.10752,
          -25.58349,
          -22.201635,
          -25.185352,
          -22.276693,
          -24.095821,
          -24.3799,
          -16.150429,
          -25.52004,
          -26.173334,
          -24.84687,
          -25.56125,
          -25.850441,
          -22.278051,
          -23.923151,
          -25.92835,
          -25.456722,
          -26.10438,
          -9.732495,
          -22.299227,
          -21.662386,
          -25.036129,
          -6.916386,
          -5.756125,
          -7.457301,
          8.936333,
          -0.5283352,
          -6.400248,
          -11.087011,
          -6.3664227,
          -6.114552,
          5.7302747,
          -3.1361685,
          -3.5937598,
          -2.1768324,
          -3.2829,
          -5.7322645,
          -5.903947,
          -23.73746,
          -23.614786,
          -16.265835,
          -29.332438,
          -32.337757,
          -21.794592,
          -12.483387,
          -1.2673378,
          -10.258508,
          0.8271118,
          -0.740204,
          -4.8556066,
          -6.5851703,
          11.201062,
          -13.85314,
          -1.8485365,
          -1.9773732,
          -3.2226415,
          -3.28859,
          7.9627595,
          -2.4989495,
          -6.405012,
          -6.4675827,
          -8.064466,
          -3.1038811,
          0.013757085,
          -2.2189574,
          -2.135459,
          -2.665973,
          -2.8469894,
          -5.249289,
          -5.2871695,
          -0.9828383,
          -1.0174048,
          -9.659052,
          -0.76787615,
          -0.7720797,
          -2.331143,
          -2.3212714,
          -4.0158668,
          -3.975228,
          -3.4073598,
          -3.4248445,
          -20.31809,
          -20.30532,
          -9.4025755,
          -10.054357,
          3.4481466,
          -0.39758646,
          -19.099667,
          -19.100483,
          5.074674,
          -23.289927,
          -28.434204,
          -26.602497,
          -24.652372,
          -7.412348,
          2.0779214,
          2.1302347,
          -22.23266,
          -22.232246,
          -23.283394,
          -22.442497,
          -22.46089,
          1.9761657,
          2.967916,
          0.832189,
          -0.19578567,
          1.1624115,
          2.9408252,
          2.5483735,
          3.2587137,
          2.0741735,
          2.1819274,
          2.0751202,
          17.288202,
          -17.575495,
          -7.9792953,
          -7.250258,
          2.5465353,
          2.554764,
          -6.822565,
          -21.269194,
          2.6572578,
          -11.618906,
          -11.560957,
          2.6659484,
          -8.367368,
          -8.579175,
          2.208212,
          -7.805929,
          -8.334205,
          -8.343918,
          -12.765257,
          -4.3738236,
          -8.620318,
          -2.203398,
          0.34508127,
          0.32415697,
          4.662296,
          0.5498169,
          5.9747095,
          -6.7913775,
          1.1038132,
          -0.94539946,
          -6.3696585,
          -7.965703,
          -9.18159,
          -5.797971,
          -9.110004,
          -4.848368,
          -4.665102,
          3.7456663,
          -5.1114955,
          -4.967389,
          -7.662847,
          -5.9610844,
          -6.699422,
          -7.933137,
          0.6595603,
          -8.735033,
          -5.813072,
          -3.5894756,
          -3.051147,
          -0.047121234,
          -2.9409337,
          -8.729421,
          1.109777,
          -9.655468,
          3.807751,
          12.827933,
          -1.3536013,
          12.71867,
          12.629474,
          12.851623,
          10.070235,
          -4.8977427,
          -27.55408,
          -28.551374,
          -29.988903,
          6.470994,
          -29.952566,
          -27.436337,
          -31.882444,
          -31.47225,
          -31.486044,
          -31.884619,
          -30.203388,
          -27.555218,
          -29.987972,
          -29.71414,
          -31.861925,
          -0.8978658,
          -26.81516,
          -21.419416,
          -25.348936,
          -28.584837,
          -1.021832,
          -0.21421622,
          -2.2854383,
          -3.8677917,
          -1.5497496,
          0.31354198,
          2.7819343,
          1.4392259,
          -1.2922208,
          -5.801777,
          -1.3816906,
          -1.2537256,
          -1.0531045,
          -0.78135425,
          -3.5023117,
          -4.701197,
          -4.0402193,
          -3.9165778,
          -6.7436743,
          -4.824808,
          -8.50161,
          5.817357,
          1.8828064,
          1.8264562,
          10.73433,
          -10.846484,
          -3.75055,
          -21.938845,
          14.040388,
          -4.7895823,
          -5.2398605,
          -5.147378,
          -8.940103,
          -3.8132603,
          18.353922,
          -2.0300543,
          -1.8253014,
          -1.6851823,
          -5.7031155,
          -0.33573246,
          -9.198201,
          -6.4813275,
          -4.7447643,
          12.817939,
          2.8143399,
          -1.8580446,
          4.236182,
          -0.3688507,
          -1.7582331,
          -3.8949587,
          6.023966,
          -0.5201318,
          -7.4227114,
          2.7406363,
          -0.15300849,
          -3.4264352,
          -3.2587178,
          -3.4165792,
          -3.0018153,
          -8.607693,
          -19.655193,
          -19.641201,
          -32.422592,
          -17.356895,
          -27.577469,
          -10.519786,
          19.331903,
          8.0835705,
          28.099636,
          28.184296,
          2.3977852,
          2.345285,
          -8.203311,
          5.532026,
          12.856345,
          40.532734,
          1.0825644,
          18.01514,
          8.805176,
          6.742269,
          18.87892,
          -26.318218,
          0.00020215879,
          -8.113296,
          -5.4498754,
          40.610332,
          9.209518,
          17.8188,
          -27.48525,
          -1.2972258,
          -1.17463,
          -7.6419225,
          7.8185005,
          -5.3637147,
          0.7818394,
          7.905661,
          7.908091,
          8.600747,
          8.625344,
          8.212994,
          15.667245,
          28.666481,
          4.4386015,
          27.761896,
          4.5555124,
          1.3733901,
          -16.741413,
          8.743731,
          17.910694,
          42.693024,
          1.545736,
          1.1701887,
          1.0725389,
          0.9285819,
          0.12879515,
          0.9290813,
          1.010892,
          0.36592555,
          2.0068965,
          -0.023824241,
          -34.962223,
          -34.994606,
          -12.248857,
          0.19948217,
          3.2788887,
          21.659025,
          5.7093477,
          -16.619194,
          27.914164,
          27.67787,
          17.86003,
          -3.3273945,
          15.912923,
          -1.1340547,
          2.7265,
          7.012687,
          19.181639,
          21.607819,
          28.004507,
          26.87245,
          -1.2264415,
          -1.3032163,
          2.5302453,
          2.1486871,
          15.6143465,
          19.949396,
          15.601455,
          0.8261367,
          0.8126572,
          3.2937064,
          29.250307,
          -2.803952,
          17.057007,
          14.954918,
          7.924274,
          16.495522,
          15.526243,
          19.059116,
          7.723761,
          0.76972044,
          0.828484,
          -10.454624,
          -10.548933,
          11.204647,
          18.966433,
          9.323394,
          5.0250635,
          34.379944,
          -11.006192,
          -11.023339,
          15.444567,
          28.135519,
          0.08551793,
          8.4997635,
          17.140871,
          19.570034,
          8.7595825,
          -23.773006,
          -28.424511,
          12.346875,
          16.707249,
          16.633595,
          5.0641966,
          -2.9150653,
          5.7146544,
          19.810427,
          9.469948,
          -1.3613605,
          5.94095,
          8.547162,
          27.200191,
          16.163347,
          44.83258,
          30.299122,
          8.935472,
          5.0129185,
          18.966284,
          5.166812,
          16.050753,
          16.810331,
          11.935311,
          -55.72103,
          19.251259,
          40.909348,
          19.257843,
          28.994623,
          28.774515,
          16.80892,
          16.442444,
          -0.7395854,
          -1.3901341,
          27.942596,
          -55.728775,
          -0.8995741,
          10.9896965,
          19.682892,
          8.22851,
          5.200302,
          9.32912,
          9.29001,
          18.55064,
          17.986992,
          28.58882,
          -60.682568,
          -53.345318,
          -48.976917,
          -54.49168,
          -53.004612,
          -54.9567,
          -54.826836,
          -54.70269,
          -55.554447,
          -54.30548,
          -3.2462306,
          -60.236782,
          -60.130745,
          -60.117657,
          -60.534252,
          -58.70193,
          -60.255554,
          -59.700085,
          -59.607883,
          -20.529903,
          16.575396,
          -10.248604,
          11.00454,
          -32.1332,
          24.520544,
          -22.968256,
          -2.9166691,
          -54.588955,
          -53.783424,
          -54.965454,
          -53.93126,
          -55.952835,
          -54.807705,
          -54.907646,
          -54.489174,
          -54.55992,
          -52.073772,
          8.373135,
          14.947585,
          -1.0775963,
          6.648798,
          -27.766022,
          -0.12573665,
          -0.20694299,
          8.687108,
          0.8625491,
          -56.434906,
          -4.6973524,
          -22.805256,
          1.5159496,
          -3.984853,
          -6.6980724,
          18.373795,
          6.1945047,
          16.944681,
          -24.199978,
          -2.4936466,
          -2.432451,
          -7.9876,
          7.096144,
          12.188821,
          1.3842669,
          3.2838783,
          10.143388,
          -17.365822,
          -17.329576,
          29.586721,
          12.226602,
          8.151955,
          -2.6422534,
          -18.62294,
          -2.2644935,
          -2.2996926,
          -7.7650814,
          1.0538753,
          -22.131107,
          -22.151342,
          5.940905,
          29.482487,
          2.4209473,
          1.8199835,
          1.7887002,
          -33.727997,
          4.7509437,
          0.9473207,
          -7.618258,
          1.2263049,
          8.799551,
          18.676147,
          -31.76607,
          -5.742139,
          0.6595719,
          13.209337,
          -9.1437235,
          8.87171,
          -21.069723,
          -20.926147,
          8.9079275,
          18.826845,
          -1.1124005,
          -7.2533026,
          -4.139974,
          16.575665,
          -59.54354,
          4.5798206,
          4.8465776,
          -46.64339,
          -56.62596,
          13.266639,
          -9.725618,
          4.1905274,
          6.8508987,
          -4.6062927,
          3.4635048,
          -3.3869073,
          -3.4494042,
          10.983098,
          0.20179276,
          -52.993107,
          -53.151325,
          -53.09693,
          -53.83792,
          -53.605743,
          -53.28388,
          -50.247,
          -54.631817,
          -53.57502,
          -52.722633,
          -49.38056,
          -51.039146,
          -51.575794,
          -53.350376,
          -53.28773,
          -51.63133,
          -54.704224,
          -55.052246,
          -57.971077,
          -57.665203,
          -55.647064,
          -55.93847,
          -56.01298,
          -53.414265,
          -48.069805,
          -48.38254,
          -57.558628,
          -58.661766,
          -57.803616,
          -57.975895,
          -6.774613,
          8.728777,
          25.044033,
          24.04011,
          24.03785,
          8.613184,
          9.1684265,
          9.574546,
          -37.04478,
          -12.7536,
          5.4020596,
          9.757372,
          10.236766,
          -53.334743,
          -21.947865,
          11.5253525,
          11.413147,
          33.152817,
          8.800498,
          -46.375668,
          29.328823,
          26.95694,
          -1.3170441,
          -14.614037,
          -26.453754,
          -35.70892,
          -14.764689,
          -24.71337,
          -20.190805,
          -32.66756,
          31.66936,
          34.397453,
          -4.124924,
          -36.583344,
          -20.225914,
          -20.229584,
          -4.2292333,
          -7.4988084,
          9.227772,
          -48.822178,
          7.3287363,
          7.061252,
          -28.379725,
          32.266815,
          22.003366,
          -6.5567803,
          -9.3723135,
          -34.621384,
          -32.84035,
          -42.658413,
          1.4691577,
          3.7020762,
          -27.522566,
          -8.33069,
          15.475934,
          -16.519867,
          -55.25997,
          -0.69965404,
          -31.932152,
          -30.381504,
          -34.33284,
          -11.207593,
          11.628686,
          -47.269936,
          1.1003394,
          0.55399364,
          40.099003,
          47.538742,
          21.959995,
          27.056095,
          37.055702,
          21.876637,
          24.020544,
          20.488964,
          37.173508,
          41.55293,
          4.778979,
          37.264378,
          33.321896,
          32.759098,
          34.02482,
          36.604557,
          34.29227,
          32.847015,
          36.681023,
          35.00463,
          33.228535,
          -12.384325,
          35.0158,
          35.057625,
          39.594563,
          47.08133,
          37.301987,
          33.877773,
          33.353706,
          33.853363,
          36.37193,
          30.094362,
          0.49673435,
          34.681225,
          27.72822,
          34.190376,
          34.5104,
          36.146107,
          33.58528,
          30.31612,
          39.17897,
          33.073288,
          19.5074,
          21.209505,
          32.68952,
          47.33846,
          43.61047,
          -16.005447,
          -39.820793,
          -24.70927,
          43.730606,
          -52.799366,
          -50.383442,
          -51.822834,
          -24.886942,
          1.6273774,
          1.7403941,
          -17.053455,
          -51.56905,
          -9.876013,
          4.1230946,
          3.129953,
          -25.882393,
          -34.63066,
          4.2586665,
          -33.784573,
          14.829808,
          -42.52071,
          -4.4311996,
          -29.252604,
          -37.165527,
          -44.296238,
          -2.6438863,
          -15.126832,
          -1.0764256,
          -27.206877,
          4.06248,
          5.657232,
          -11.249397,
          -4.7176194,
          -34.5038,
          13.976695,
          13.732933,
          14.495232,
          12.298664,
          14.172839,
          -0.9620246,
          4.27667,
          3.18141,
          14.0392275,
          13.566809,
          -46.45137,
          -40.05866,
          5.7334685,
          -21.792698,
          -2.8042276,
          -29.065237,
          17.655169,
          -33.590572,
          -21.944744,
          0.5582545,
          0.8025113,
          0.6697529,
          6.5052204,
          -26.784035,
          -32.55318,
          -25.169949,
          0.95083445,
          -15.886867,
          -44.348503,
          -30.565174,
          5.758891,
          -32.04495,
          -42.505634,
          34.360992,
          -41.220715,
          -46.843533,
          -5.625168,
          -4.2131505,
          16.73909,
          15.949225,
          -35.44216,
          -23.406887,
          -6.819886,
          -17.408783,
          -11.838704,
          7.0390396,
          -11.34905,
          -45.615963,
          -45.80572,
          -52.361015,
          -52.3333,
          -52.390106,
          -47.919067,
          -35.45757,
          -45.60944,
          -46.427094,
          -47.020763,
          -46.63447,
          -44.65781,
          -46.07197,
          -46.221634,
          -47.409622,
          -46.0045,
          -7.5698214,
          -8.758924,
          -8.77716,
          -30.327694,
          7.1633887,
          3.1776729,
          -10.11746,
          -30.061916,
          -31.761583,
          -25.014732,
          26.909815,
          -4.877529,
          -11.266233,
          -6.55372,
          -22.50789,
          -5.224789,
          -17.761738,
          10.493486,
          -3.2991734,
          1.3620206,
          12.3799,
          16.59566,
          16.593142,
          12.355593,
          16.692629,
          16.71348,
          -11.645926,
          -0.86103165,
          -0.7777705,
          -5.944032,
          46.47428,
          -4.192114,
          -13.376587,
          -14.48742,
          11.630402,
          2.2818496,
          -2.9664812,
          -26.498772,
          -26.445652,
          20.955013,
          21.530338,
          28.463192,
          26.928337,
          20.017525,
          6.818386,
          52.99713,
          -30.103584,
          -31.914062,
          -31.733515,
          7.0893965,
          -32.144646,
          -17.049175,
          -47.880096,
          -52.774124,
          -25.24857,
          -45.861923,
          -53.429188,
          7.5723042,
          7.8153734,
          12.06473,
          -12.967797,
          7.732393,
          18.80048,
          11.784404,
          12.47887,
          -4.3943667,
          7.377121,
          10.819192,
          10.84051,
          10.752669,
          10.820595,
          -31.150114,
          7.9410357,
          8.028581,
          11.304487,
          12.699842,
          19.60059,
          12.8442135,
          11.725683,
          12.367112,
          -27.921122,
          -2.5052776,
          -2.9332066,
          9.824324,
          9.1475525,
          10.759742,
          10.789149,
          8.36393,
          12.055636,
          -40.55982,
          -14.419532,
          -4.834873,
          -4.8354735,
          -22.236046,
          -46.07603,
          -5.1483274,
          -5.846873,
          -6.666938,
          -2.3336732,
          -6.5901246,
          -14.446222,
          -19.07191,
          -12.440015,
          -26.361464,
          -11.627516,
          -16.767723,
          -6.007727,
          8.079603,
          -19.171112,
          -44.347412,
          -40.243607,
          -31.00087,
          -31.922894,
          -30.479876,
          -7.6758437,
          -38.51438,
          -17.287054,
          -18.777342,
          -34.535275,
          -18.873583,
          -34.156734,
          7.8228126,
          -50.876022,
          -29.647736,
          11.547323,
          -11.437646,
          -52.1133,
          -9.787358,
          -9.083311,
          -10.063565,
          -3.460367,
          -11.552126,
          -23.06233,
          -13.700135,
          -8.60555,
          -9.216357,
          -23.061602,
          -23.981133,
          -23.980162,
          -51.53921,
          -40.718304,
          -12.947558,
          -9.861729,
          -38.30038,
          -38.258133,
          -39.844627,
          -43.43674,
          -11.98877,
          -40.168198,
          -50.044003,
          -23.23327,
          -23.23327,
          34.998306,
          26.6186,
          33.53369,
          9.466345,
          14.063039,
          -35.92262,
          14.250681,
          14.197884,
          5.9755526,
          17.568758,
          17.415615,
          -7.437645,
          17.394548,
          17.034798,
          17.09768,
          17.19798,
          -24.86616,
          17.264385,
          7.047467,
          4.5249867,
          11.868054,
          6.093932,
          6.0719013,
          9.04735,
          32.06099,
          9.042991,
          12.587239,
          5.7947483,
          6.1114683,
          6.069205,
          6.1277804,
          5.46912,
          5.919725,
          5.8077135,
          5.4310527,
          5.9041677,
          -17.453096,
          -17.38535,
          -15.698825,
          -15.721261,
          -8.652972,
          -17.474516,
          6.78003,
          4.0523953,
          11.762742,
          11.705166,
          11.760973,
          11.838497,
          11.7956915,
          11.285513,
          8.375314,
          -8.518504,
          -15.864551,
          -18.102093,
          -17.508549,
          -9.645276,
          -17.559195,
          -17.465357,
          -17.347849,
          -31.887474,
          -31.894451,
          -18.103563,
          -10.865452,
          -10.903173,
          12.598474,
          4.7241006,
          -43.504227,
          -51.355263,
          -47.35421,
          -47.374714,
          -52.307384,
          -48.026073,
          -46.006752,
          -47.634647,
          -51.19607,
          -36.80948,
          -39.976772,
          -4.1720843,
          -20.182522,
          -39.903683,
          -38.025734,
          -32.53833,
          -32.512585,
          -57.342487,
          -41.873066,
          -47.98232,
          7.793234,
          -0.25162944,
          -22.60619,
          7.6639805,
          -25.474524,
          9.346794,
          0.81604934,
          -25.561745,
          -23.040958,
          -10.59202,
          -27.51164,
          -27.51164,
          36.047295,
          12.746932,
          8.777807,
          9.477881,
          -22.447838,
          0.18889022,
          -4.76,
          -0.61669457,
          2.8801172,
          36.44131,
          -3.2412686,
          0.14757869,
          15.347679,
          -18.701527,
          5.604395,
          -51.027386,
          -51.789413,
          36.52224,
          -50.459286,
          -17.32206,
          -8.212703,
          0.4814621,
          0.9995429,
          1.1138368,
          -43.80669,
          25.90202,
          -8.180599,
          -24.656202,
          8.543169,
          -22.74763,
          -23.1392,
          21.02138,
          21.531483,
          -24.722826,
          6.1529627,
          6.1420183,
          -3.1863317,
          -35.008915,
          -25.422531,
          -10.032236,
          -12.45319,
          37.137676,
          -28.85237,
          -29.19395,
          -28.486639,
          -28.400482,
          -4.2096987,
          37.217396,
          -18.470884,
          38.03047,
          -10.13053,
          -10.163711,
          3.3664014,
          -31.928621,
          -37.699356,
          -21.49966,
          36.004494,
          -26.042334,
          3.765167,
          38.130157,
          -8.37754,
          36.36046,
          -43.031605,
          -25.276295,
          -8.340471,
          9.955532,
          7.4939847,
          44.078915,
          -7.2933297,
          -14.8692045,
          6.0961003,
          4.148958,
          -9.42234,
          -22.255526,
          -6.8043,
          8.98736,
          10.577522,
          4.0144954,
          4.7415895,
          4.3355556,
          4.4606676,
          9.801125,
          4.6112695,
          4.6249433,
          5.7248883,
          4.56061,
          12.168439,
          -7.022952,
          -18.759703,
          -2.656477,
          -16.249504,
          0.7247836,
          -8.778089,
          -6.7510614,
          -7.463813,
          -9.908613,
          -0.713527,
          -24.918133,
          -24.88065,
          9.614197,
          -0.15033336,
          0.05760125,
          40.44763,
          40.510315,
          -4.2964478,
          3.2890704,
          4.5489182,
          7.9074807,
          -6.0284514,
          15.139515,
          -21.27024,
          2.4826393,
          -0.08600631,
          3.7579644,
          3.7257953,
          3.282483,
          -57.97162,
          0.9789349,
          -6.465573,
          -8.567298,
          43.538616,
          -11.164289,
          4.00689,
          -6.2974453,
          -4.3704453,
          -6.8563623,
          -8.964722,
          -6.2243056,
          -7.3351173,
          -2.8161228,
          -2.9550102,
          1.906518,
          3.2332861,
          -3.1738276,
          -3.277177,
          -2.0965672,
          -3.1969576,
          -2.249874,
          -3.321978,
          -0.38775015,
          -0.39640805,
          0.31734157,
          -4.5011587,
          -0.41851544,
          -2.9406605,
          0.43619704,
          -0.77723515,
          -1.315901,
          -4.7240753,
          5.5002704,
          0.22007899,
          -3.712645,
          -6.8143325,
          -8.388713,
          -0.82173634,
          -1.0391961,
          0.84326863,
          1.8217134,
          2.3423705,
          0.7259532,
          0.77205426,
          -7.8930664,
          -7.8778143,
          -6.9404955,
          -6.981042,
          5.1585984,
          -11.368565,
          -22.912941,
          -22.880548,
          -21.934752,
          -21.989588,
          29.541376,
          -5.701883,
          -15.59437,
          -3.909732,
          16.354918,
          -6.1538997,
          31.315756,
          31.425041,
          -5.5602617,
          -5.600857,
          -21.537052,
          -21.301517,
          -4.2702394,
          -23.807285,
          -5.643087,
          -32.474888,
          -1.3396254,
          7.001257,
          -8.460422,
          3.2411804,
          -3.3522027,
          -7.325549,
          -7.2872906,
          -1.6850164,
          -2.6324763,
          -0.3410538,
          39.60723,
          -1.3391881,
          -0.18309358,
          -0.23762587,
          2.3549092,
          -24.070742,
          7.733013,
          6.029633,
          -4.1715508,
          10.3503685,
          -26.185028,
          -24.210836,
          -29.002428,
          -23.77918,
          -24.53465,
          -38.748997,
          -38.690437,
          -47.756718,
          -31.770826,
          -43.944477,
          -16.478027,
          -15.404213,
          -18.72345,
          -45.43649,
          -56.080566,
          -8.511843,
          -7.8465123,
          11.799737,
          11.044227,
          -34.81854,
          -34.74528,
          -44.74367,
          -38.568672,
          -26.564669,
          -47.231438,
          -20.356546,
          -5.267073,
          -43.782665,
          -27.673477,
          -12.743334,
          27.767958,
          24.959368,
          28.719261,
          14.53283,
          12.707303,
          -51.071262,
          -28.426252,
          -34.529453,
          -34.14368,
          -33.36862,
          -33.98579,
          -44.111626,
          -44.072895,
          -54.19348,
          -43.87391,
          -1.3013484,
          -3.696658,
          -2.9756987,
          -8.719684,
          -10.576824,
          -9.366661,
          -8.738918,
          -9.67674,
          -10.763788,
          -10.495745,
          -11.402583,
          -11.462252,
          -11.796284,
          -11.535358,
          -11.218602,
          -10.185284,
          -10.976091,
          -11.1560955,
          -11.41676,
          14.698646,
          -31.273773,
          10.921857,
          10.710942,
          10.538424,
          10.251153,
          -29.063164,
          23.000832,
          23.00243,
          13.433502,
          29.121971,
          24.964174,
          24.930956,
          23.701113,
          46.05709,
          20.610678,
          36.857204,
          37.161057,
          35.962933,
          33.59191,
          34.574203,
          41.855392,
          38.85341,
          19.946222,
          36.034256,
          33.22123,
          32.767555,
          36.386734,
          26.715895,
          32.388733,
          34.753872,
          12.816255,
          22.386898,
          23.192202,
          29.678267,
          42.510433,
          25.076538,
          38.128517,
          19.611652,
          30.942217,
          25.939207,
          29.220839,
          22.555305,
          23.554321,
          24.99303,
          22.811695,
          30.352634,
          21.548906,
          42.27901,
          41.454166,
          31.926647,
          30.409014,
          42.2661,
          28.802242,
          26.420017,
          27.042362,
          27.636646,
          25.700893,
          27.655659,
          27.115807,
          41.225357,
          28.437794,
          28.606157,
          26.957167,
          26.750284,
          28.790796,
          36.398052,
          31.772936,
          27.835772,
          26.39311,
          39.248417,
          28.803862,
          28.479034,
          28.725521,
          28.991142,
          26.630754,
          25.986513,
          30.61367,
          27.812784,
          33.279827,
          30.32901,
          23.591679,
          31.30142,
          34.14327,
          36.041782,
          38.22141,
          41.115734,
          39.357075,
          35.994576,
          40.16086,
          36.53091,
          38.655014,
          39.00107,
          37.19294,
          40.820942,
          36.348373,
          39.069313,
          33.062645,
          38.586563,
          33.71145,
          35.217743,
          71.77806,
          -4.0151205,
          30.256945,
          21.727919,
          20.898191,
          1.8498023,
          23.798668,
          25.717607,
          20.289,
          -39.233253,
          22.247501,
          18.706844,
          22.677113,
          28.624458,
          -24.469902,
          18.63459,
          -8.372459,
          28.253122,
          24.592981,
          43.967613,
          31.29097,
          30.51925,
          30.318808,
          31.302713,
          24.758514,
          31.936537,
          43.243584,
          30.347706,
          30.192318,
          -6.99016,
          30.72,
          30.67242,
          45.118725,
          43.969833,
          43.623142,
          42.553173,
          30.399382,
          26.635347,
          -23.993322,
          -24.081223,
          18.105854,
          -23.468973,
          -24.459696,
          -24.079998,
          -24.313284,
          -23.739473,
          -24.46138,
          -24.671099,
          -24.30335,
          -24.904097,
          -1.2117872,
          -12.840663,
          24.443563,
          22.958057,
          -25.743809,
          28.990694,
          31.31642,
          41.213036,
          32.42169,
          32.059887,
          23.326836,
          28.860626,
          27.771828,
          9.4852705,
          28.61375,
          24.444614,
          23.738022,
          26.897541,
          32.51556,
          31.025879,
          23.148668,
          36.49189,
          24.331287,
          37.867348,
          38.23182,
          29.767654,
          19.271881,
          28.357426,
          29.546572,
          28.92746,
          32.274967,
          28.360847,
          29.308819,
          29.759987,
          37.274563,
          24.269146,
          45.198784,
          45.84522,
          31.71538,
          25.45822,
          22.851583,
          36.069187,
          34.754387,
          23.934683,
          28.63356,
          -9.064572,
          25.968052,
          26.532713,
          23.894096,
          -48.510868,
          28.573925,
          34.508377,
          30.101841,
          30.43813,
          33.85331,
          29.179703,
          25.423397,
          24.841312,
          20.80427,
          31.6877,
          24.72811,
          25.37624,
          27.775576,
          27.704544,
          28.17544,
          22.69108,
          24.21182,
          26.951548,
          26.348375,
          33.395443,
          13.48983,
          -8.099281,
          -23.847063,
          -46.452023,
          -29.658424,
          -14.18968,
          -1.0209078,
          -45.673946,
          -30.101925,
          -32.380432,
          -50.532852,
          -47.10142,
          -48.49635,
          -22.577864,
          -30.848085,
          -30.84276,
          4.533541,
          -10.712533,
          1.9597198,
          1.9825467,
          -49.41311,
          -47.632156,
          -46.521496,
          34.490723,
          23.816786,
          7.19445,
          -34.89475,
          42.13776,
          7.821904,
          9.577302,
          9.191923,
          8.077382,
          57.474564,
          57.378395,
          44.284336,
          46.494213,
          -46.784508,
          -1.1994712,
          -1.1459919,
          -42.570053,
          -24.828382,
          12.597986,
          0.6826305,
          -54.313873,
          1.3057067,
          -52.48552,
          27.808609,
          -36.483738,
          -36.887367,
          -38.380016,
          -20.918364,
          -46.242584,
          -35.411766,
          -39.38305,
          -34.142586,
          -33.64809,
          -31.018948,
          -33.44312,
          -36.594643,
          -30.38998,
          -30.548588,
          -33.995045,
          -33.284542,
          -36.65842,
          -33.499626,
          -51.981907,
          -51.95703,
          -51.997643,
          -48.040302,
          -46.239395,
          -45.847054,
          -45.76248,
          -34.038704,
          9.199042,
          -38.35047,
          -38.296627,
          -38.52072,
          -38.537296,
          -38.964504,
          -38.58041,
          -36.845997,
          -36.845997,
          -11.351465,
          -12.602401,
          -29.039825,
          -13.452251,
          -13.518948,
          -42.395206,
          -10.165474,
          -0.57699394,
          4.973222,
          15.878322,
          15.584926,
          -54.15492,
          -54.236156,
          -37.046402,
          27.39735,
          13.780461,
          13.557705,
          13.992685,
          51.427246,
          51.512283,
          51.12433,
          51.599613,
          50.6964,
          51.472515,
          50.868423,
          7.3999043,
          6.6301756,
          10.068929,
          8.008595,
          11.392797,
          -11.370493,
          -13.27543,
          -13.868168,
          -12.904004,
          -14.022148,
          -15.638836,
          -10.306457,
          -11.897946,
          -13.013547,
          -13.624689,
          -12.84018,
          -12.804719,
          -14.235246,
          -14.144179,
          -14.965685,
          -11.072034,
          -15.924497,
          -14.311116,
          -10.407677,
          -15.137957,
          -12.262544,
          -14.8439455,
          -14.780221,
          -14.756677,
          -14.36116,
          -12.218789,
          -13.963334,
          -14.931843,
          -15.828096,
          -15.629383,
          -15.154725,
          -14.196873,
          -40.55749,
          -37.54166,
          -13.28264,
          37.822563,
          -11.4351425,
          16.799707,
          16.235044,
          16.431934,
          15.056977,
          18.415092,
          16.468874,
          18.233414,
          14.981393,
          14.965008,
          -9.560209,
          -10.361614,
          -11.167084,
          -9.468933,
          -12.549538,
          -17.463314,
          -15.125626,
          -14.942296,
          -13.616183,
          -17.1171,
          -50.537636,
          -45.032166,
          -12.4901085,
          -44.153175,
          -12.156894,
          -52.986256,
          -33.616238,
          -50.06103,
          -3.0127099,
          -15.713987,
          -48.394527,
          -1.3011572,
          12.886828,
          12.384951,
          12.49584,
          13.699897,
          -51.856018,
          -18.807255,
          -39.40346,
          -26.50917,
          -11.784096,
          -11.769271,
          14.278403,
          14.238037,
          -44.524067,
          1.6697979,
          1.6566606,
          -51.47087,
          9.185896,
          -32.00863,
          -18.753752,
          -4.033654,
          -32.829845,
          -43.848503,
          26.98715,
          13.59107,
          -52.005764,
          20.786898,
          24.31148,
          24.560766,
          -39.833584,
          13.002323,
          50.102222,
          9.775588,
          4.1427507,
          -25.10903,
          -18.751204,
          -15.691871,
          0.47783017,
          -44.968983,
          -25.9197,
          -46.78647,
          -29.423313,
          -9.849904,
          -7.7172704,
          -9.742415,
          -40.185795,
          -5.5252647,
          -48.659977,
          -50.057426,
          -33.555847,
          -28.753307,
          -34.5568,
          -32.94591,
          -9.71646,
          -10.444948,
          8.894574,
          9.048931,
          -25.556055,
          -25.526724,
          -25.54676,
          -25.511518,
          4.832698,
          4.836403,
          -46.42704,
          -41.166256,
          -54.596687,
          -44.43264,
          -23.145048,
          -8.49377,
          -33.81192,
          -16.846508,
          -13.323399,
          -12.9377165,
          -23.9365,
          -12.584609,
          11.267987,
          -31.699112,
          -53.115345,
          -11.0956,
          -33.069427,
          -33.052338,
          -25.149916,
          -29.280972,
          -57.003498,
          -53.00142,
          -43.170967,
          -4.0244923,
          -11.391791,
          -2.7199328,
          -13.9552145,
          -42.36044,
          11.285015,
          -8.544136,
          -40.807503,
          -17.591818,
          -25.074799,
          -28.31805,
          -31.25966,
          0.2717836,
          0.8194355,
          -6.031519,
          -32.480377,
          -44.58926,
          -44.00038,
          -26.462084,
          -25.872267,
          -25.778034,
          -26.221827,
          -40.60424,
          -12.8796625,
          -30.25667,
          -30.21451,
          1.5431148,
          -2.6901054,
          1.2723963,
          1.0060738,
          1.3264742,
          16.271095,
          25.480867,
          25.543585,
          27.151955,
          27.2162,
          28.88536,
          28.198484,
          27.565804,
          20.98726,
          27.882343,
          28.241142,
          28.35277,
          -38.596027,
          -45.201008,
          -41.53066,
          10.85903,
          -9.996783,
          13.12263,
          13.810075,
          11.763874,
          9.9547615,
          4.5719767,
          -4.2798777,
          21.75666,
          25.356441,
          -39.436,
          11.701846,
          -46.681644,
          -18.351418,
          12.252648,
          13.296433,
          23.957031,
          32.349503,
          12.29592,
          -0.46958742,
          3.6184192,
          3.7310574,
          0.60536426,
          -2.0084438,
          7.6589518,
          7.658357,
          34.415607,
          -3.3814168,
          -3.3593311,
          -3.384813,
          -3.323948,
          -1.1418937,
          3.5992007,
          3.8098674,
          3.7738008,
          -0.62836957,
          3.4562693,
          3.6285336,
          3.7832103,
          3.628111,
          -0.1677054,
          -0.09708582,
          -45.575245,
          14.977302,
          14.688787,
          -50.870358,
          -39.861263,
          -39.88574,
          -40.0648,
          -40.051193,
          -40.11952,
          -40.024307,
          -40.0304,
          -40.118088,
          28.832447,
          -53.24654,
          -53.27784,
          14.651295,
          15.402531,
          11.044124,
          -47.186287,
          -46.70048,
          -24.97782,
          -24.824886,
          -23.720787,
          -24.057507,
          -23.910164,
          -13.907829,
          -59.135784,
          28.151978,
          -7.559437,
          -33.85372,
          -54.015232,
          -54.122456,
          -43.632267,
          -12.839807,
          -29.32933,
          -29.382488,
          -39.711025,
          -39.804844,
          -30.53532,
          -39.364223,
          -30.551481,
          -33.728638,
          -16.495737,
          0.21406767,
          0.22611782,
          22.53114,
          23.035086,
          -40.624577,
          -39.06628,
          -50.171394,
          -50.08472,
          -56.81896,
          7.23022,
          -50.186947,
          -49.44606,
          9.707109,
          11.424108,
          -43.96407,
          -39.16033,
          -24.921402,
          21.118778,
          27.17633,
          15.247416,
          12.661524,
          -8.642231,
          -46.07128,
          6.5581026,
          22.41886,
          -30.58311,
          -9.630459,
          7.7419024,
          8.547412,
          30.022778,
          21.634466,
          16.536749,
          17.598866,
          23.885012,
          28.022879,
          -30.525116,
          -42.877876,
          -29.40651,
          -29.401413,
          -6.507813,
          -5.9620576,
          -32.253426,
          -43.508167,
          -56.779266,
          -37.77443,
          15.677342,
          16.707691,
          16.865974,
          16.871565,
          15.717672,
          16.625065,
          6.1957026,
          6.905396,
          12.109739,
          7.760604,
          9.692665,
          13.753123,
          22.389446,
          23.448,
          25.265368,
          28.877151,
          31.926054,
          24.300577,
          25.212177,
          26.621141,
          21.308594,
          23.982277,
          31.260721,
          23.16393,
          25.89399,
          27.432055,
          26.94626,
          24.232414,
          31.133896,
          25.285648,
          33.692497,
          24.99849,
          26.510576,
          30.766718,
          29.761614,
          28.815865,
          22.720251,
          29.834524,
          29.798275,
          29.177095,
          28.178669,
          34.88142,
          34.03391,
          30.813358,
          29.100578,
          28.868696,
          13.764007,
          17.598063,
          8.890587,
          2.5881572,
          -49.948692,
          -49.984486,
          1.4298954,
          2.2800746,
          2.1455228,
          -51.336937,
          -51.688953,
          -52.55632,
          -50.513767,
          -50.568226,
          3.2445168,
          0.9660468,
          4.5407987,
          -10.098213,
          0.1825305,
          -11.184739,
          -26.087612,
          -24.227686,
          -24.183897,
          -5.1850967,
          -4.205907,
          -10.370891,
          -15.140837,
          4.6795945,
          -30.04793,
          -56.527462,
          -6.7832427,
          -6.903754,
          -6.984503,
          -12.868996,
          -47.398705,
          7.095879,
          -21.122597,
          -55.211243,
          -46.091038,
          -26.367287,
          -43.822388,
          -9.495327,
          -15.048474,
          -34.79511,
          -38.25809,
          -4.7391133,
          -12.304838,
          -12.310905,
          -25.329199,
          -28.808157,
          -49.45465,
          0.9916973,
          -35.110413,
          -35.15798,
          -34.33157,
          -56.90897,
          -42.808323,
          -31.344727,
          -48.973206,
          -29.449469,
          -40.01139,
          -42.924942,
          -33.791138,
          -33.779087,
          -51.80757,
          -31.131449,
          3.858097,
          3.6776226,
          -27.111618,
          -27.433474,
          -11.479122,
          0.7101418,
          1.813275,
          -30.788816,
          11.759452,
          11.599442,
          -12.567507,
          -40.866,
          -43.20439,
          -24.623495,
          -24.670063,
          -11.152875,
          8.870331,
          -40.78903,
          -40.767696,
          -38.34065,
          16.721905,
          -25.252245,
          -27.92998,
          -49.829124,
          -49.26246,
          -56.00773,
          30.58856,
          -4.306744,
          -25.77816,
          -25.021034,
          -25.169968,
          -26.893719,
          -24.142483,
          -27.025036,
          2.9557023,
          5.2438054,
          -28.57958,
          -8.955728,
          -22.26679,
          -28.750042,
          -34.444687,
          -23.110853,
          -22.989422,
          -8.112351,
          1.9489245,
          -29.113743,
          29.928188,
          -3.4149415,
          -44.847332,
          -39.589046,
          -26.51193,
          -51.832333,
          -25.34825,
          -13.227129,
          11.238146,
          13.818436,
          6.422659,
          5.855143,
          6.0107846,
          10.510423,
          14.5734215,
          16.787628,
          16.760954,
          -30.900354,
          20.97834,
          -13.791226,
          -44.243,
          7.66833,
          7.7780538,
          -31.134106,
          -1.0248306,
          -37.63171,
          -40.700836,
          -40.736958,
          -56.488888,
          -56.56649,
          -22.012901,
          -22.020863,
          -25.440329,
          -20.463968,
          -39.611702,
          -1.7777702,
          -43.97606,
          -11.220114,
          -9.04492,
          -9.873685,
          -9.858862,
          -12.842603,
          28.72268,
          28.750868,
          -29.140537,
          -5.5789423,
          -1.0823374,
          -1.0353928,
          -6.28329,
          -16.220182,
          -10.117571,
          7.16376,
          6.811157,
          -43.346176,
          16.528753,
          28.558884,
          -10.048395,
          -51.1779,
          -51.146072,
          2.5972946,
          -34.05071,
          -34.348637,
          -15.724132,
          -17.084705,
          -8.967532,
          -50.90266,
          -49.347187,
          -52.05755,
          -50.721603,
          -50.87052,
          -50.574146,
          -49.23264,
          -49.394123,
          -50.47926,
          -50.80606,
          -50.157185,
          -4.345965,
          -3.1444607,
          -10.805285,
          16.543194,
          -5.9212947,
          7.830325,
          5.773554,
          15.408828,
          -55.13312,
          10.081671,
          -20.141197,
          -3.3523579,
          -12.892402,
          -9.020816,
          -1.8476874,
          -9.506542,
          -49.205963,
          9.909306,
          -1.1188157,
          -1.3044398,
          -0.5940574,
          -0.6086235,
          0.054240476,
          -14.00821,
          -41.536304,
          -26.607454,
          -48.338577,
          -44.586315,
          -44.72299,
          -56.549366,
          -44.219124,
          -12.865573,
          45.873707,
          52.87877,
          48.38264,
          7.423842,
          -34.169075,
          -43.567093,
          -17.17311,
          -16.977453,
          -27.638784,
          -28.155487,
          -13.267946,
          -29.387838,
          -12.012263,
          -25.481995,
          -25.604591,
          -25.58919,
          -25.535305,
          -17.653267,
          -28.360731,
          -4.2975616,
          22.84459,
          -23.355667,
          -13.063107,
          6.147096,
          -23.752253,
          28.46963,
          8.298724,
          -44.145092,
          -47.149567,
          -47.299824,
          -46.276863,
          -35.32843,
          -35.33333,
          15.3233795,
          -1.1355299,
          4.0507603,
          7.764853,
          -4.8220735,
          24.67836,
          -42.865055,
          41.018063,
          -42.978188,
          41.125664,
          9.49202,
          16.793365,
          -41.818295,
          -41.784103,
          8.2460165,
          -10.646355,
          7.952706,
          0.7950896,
          -3.7462976,
          -11.987333,
          -34.811264,
          -14.000249,
          -54.643246,
          -55.982517,
          -55.20359,
          -34.718353,
          -30.120481,
          -50.19718,
          -37.473366,
          -53.76092,
          -6.149989,
          -7.2885365,
          -13.943079,
          0.250956,
          51.859024,
          -21.872478,
          -5.724555,
          -3.6530983,
          -8.211782,
          -2.8914158,
          -25.239758,
          -25.24269,
          -26.422453,
          -28.46026,
          -7.9862766,
          5.1755924,
          -46.22771,
          6.331699,
          -1.7969574,
          -0.05465703,
          -13.975771,
          -17.492508,
          -7.376775,
          -4.768505,
          -34.052868,
          -25.842827,
          -35.320194,
          -55.124138,
          -6.6823087,
          -12.0591955,
          17.686808,
          0.8802126,
          4.7107654,
          11.391069,
          11.662657,
          -6.5197186,
          20.352139,
          41.50994,
          45.631203,
          -8.955223,
          -16.145823,
          -4.897715,
          -0.91892153,
          -55.75959,
          -31.908432,
          -28.61334,
          44.934963,
          -2.1988313,
          -2.976469,
          -19.032387,
          37.806305,
          -12.014663,
          1.1298418,
          10.342812,
          1.3682823,
          1.3968179,
          8.211684,
          -4.0815663,
          -34.410583,
          21.676508,
          -12.168393,
          -56.30168,
          -55.053146,
          -43.07406,
          -43.050793,
          22.266384,
          -44.980534,
          -37.926006,
          -22.277151,
          -22.290665,
          10.229285,
          -52.320908,
          -27.3349,
          -27.338617,
          -37.9447,
          -35.6237,
          -28.48877,
          -11.307056,
          -8.238922,
          -43.70134,
          -12.624697,
          -14.38806,
          -13.442794,
          -24.763046,
          -24.755646,
          1.4329699,
          0.6157912,
          11.836205,
          4.7051454,
          -6.7481937,
          22.18904,
          28.672068,
          1.7066149,
          12.070839,
          11.431712,
          -56.104515,
          -31.247223,
          46.5477,
          47.13437,
          47.250782,
          4.61695,
          4.6427407,
          4.636136,
          49.489685,
          47.818325,
          47.16301,
          47.35932,
          47.218174,
          -5.5386877,
          -48.048637,
          -44.140068,
          -33.673504,
          -5.2876544,
          2.8908334,
          4.6181283,
          2.8975828,
          -5.400756,
          -30.813536,
          31.075869,
          -44.093525,
          -12.533711,
          -46.83305,
          -36.13647,
          -34.082405,
          -41.41552,
          -53.973866,
          -40.495113,
          -46.832973,
          -42.058567,
          16.277615,
          -45.904476,
          -31.417402,
          -30.51784,
          -12.652783,
          45.176544,
          30.433338,
          35.060818,
          9.632355,
          33.571815,
          31.219793,
          39.659153,
          38.78304,
          37.226887,
          33.047153,
          36.213665,
          42.19271,
          32.675117,
          30.757973,
          29.573456,
          35.364513,
          35.689533,
          33.10942,
          33.296005,
          35.323345,
          35.527576,
          32.261066,
          42.687782,
          32.296238,
          32.28309,
          29.914288,
          39.143967,
          63.7498,
          18.770138,
          35.27226,
          37.600018,
          37.591427,
          7.432073,
          34.129147,
          40.46175,
          36.799564,
          37.00164,
          34.82749,
          47.4091,
          47.4091,
          37.624336,
          28.667107,
          21.016972,
          39.60574,
          32.133755,
          36.29436,
          23.777733,
          33.981056,
          35.590233,
          29.017044,
          33.916622,
          35.80111,
          36.215218,
          36.093876,
          39.277348,
          39.583477,
          33.88435,
          35.017864,
          40.46175,
          39.767876,
          34.811405,
          37.680683,
          33.782265,
          29.318823,
          41.15131,
          35.334785,
          37.41463,
          35.502247,
          40.01819,
          38.184723,
          40.689606,
          39.73116,
          43.77592,
          33.933727,
          -10.816563,
          39.50236,
          38.108425,
          31.261997,
          36.26741,
          38.09117,
          38.018513,
          39.794132,
          33.508877,
          28.456783,
          26.136354,
          -25.300896,
          25.10852,
          21.350893,
          26.757404,
          36.442917,
          37.189926,
          47.41663,
          30.16595,
          29.958012,
          36.62374,
          28.347948,
          41.927006,
          24.297567,
          -8.514269,
          27.712524,
          26.236612,
          40.683125,
          -28.409298,
          0.1286865,
          -1.901688,
          31.005457,
          -44.079884,
          -44.90789,
          -44.924507,
          -50.86332,
          -38.182755,
          -37.72648,
          -37.931274,
          -15.71567,
          -5.0684814,
          -18.669119,
          -38.5554,
          -7.4512415,
          -1.6567949,
          16.585999,
          18.556156,
          17.366158,
          18.304802,
          28.704943,
          17.924702,
          18.102243,
          33.982327,
          2.4105425,
          -52.688057,
          -5.30343,
          -13.551867,
          -54.416283,
          -27.981897,
          -11.600759,
          -30.0506,
          11.120317,
          28.568949,
          -9.710085,
          -1.9465017,
          -49.348694,
          -52.243023,
          13.010253,
          9.93546,
          5.668726,
          5.5620265,
          5.9505525,
          -13.044757,
          -53.9801,
          -45.919662,
          -12.845979,
          9.302577,
          8.400275,
          1.3158495,
          1.5258648,
          5.635934,
          -0.07312585,
          -0.3859011,
          8.540357,
          -12.838155,
          29.984755,
          13.384688,
          7.5446215,
          -4.5789742,
          -47.128124,
          23.957043,
          -23.861673,
          -22.106112,
          -35.70967,
          -55.882607,
          -49.129528,
          -49.568325,
          -49.383778,
          -49.810936,
          -50.06931,
          -49.835773,
          -49.866035,
          -53.17552,
          -44.36316,
          -47.91943,
          10.02442,
          9.81023,
          25.084463,
          31.611967,
          14.671066,
          -44.40845,
          -4.719253,
          -51.694557,
          -38.97909,
          5.7037444,
          -20.447048,
          27.715096,
          -5.778699,
          53.234528,
          55.936813,
          54.44528,
          55.735744,
          56.425884,
          54.59277,
          54.940273,
          55.150536,
          56.30773,
          55.15825,
          56.135025,
          51.49009,
          56.373295,
          55.367573,
          50.613235,
          50.8938,
          55.00944,
          55.7288,
          50.677376,
          51.243374,
          56.00469,
          52.731262,
          51.484577,
          54.447487,
          54.0735,
          54.26478,
          54.09519,
          53.019154,
          53.653465,
          53.771683,
          53.552395,
          54.33202,
          54.503807,
          52.778503,
          53.41205,
          53.50582,
          53.841778,
          56.020687,
          53.77391,
          54.653763,
          52.540432,
          52.777374,
          54.600704,
          54.449593,
          52.700558,
          51.17934,
          51.693264,
          54.211613,
          52.23016,
          51.93952,
          52.362114,
          53.054222,
          54.742496,
          54.095524,
          53.73105,
          56.42288,
          54.161537,
          54.1611,
          54.92291,
          55.36874,
          49.05666,
          51.63083,
          47.77202,
          50.102474,
          50.602165,
          50.320515,
          55.312057,
          49.917038,
          50.6103,
          49.866474,
          50.443886,
          51.18836,
          50.36877,
          51.049767,
          50.745213,
          50.168594,
          50.654884,
          55.745983,
          48.277832,
          51.745544,
          50.925037,
          54.95589,
          31.230055,
          -52.85344,
          44.20062,
          22.020325,
          -47.4563,
          -29.61066,
          -28.578499,
          -27.202475,
          -21.81273,
          -28.840807,
          -7.280725,
          -28.043242,
          36.447807,
          3.9242182,
          11.8093,
          -1.0057418,
          -44.66115,
          -44.658848,
          28.93022,
          -32.499287,
          -33.60376,
          -48.024242,
          9.687143,
          15.552465,
          15.5597,
          16.345303,
          15.43073,
          -3.0171208,
          1.1067399,
          1.0210837,
          29.796585,
          -46.107105,
          -51.09628,
          -23.318537,
          0.75436175,
          0.8617545,
          -19.244637,
          24.800364,
          29.12322,
          23.771994,
          28.266237,
          26.948719,
          26.614908,
          29.071821,
          18.663937,
          22.991186,
          45.80549,
          22.848402,
          25.57634,
          25.816668,
          25.789946,
          9.2706785,
          38.14611,
          22.571651,
          31.078835,
          25.650957,
          34.66626,
          26.069912,
          23.726696,
          30.137663,
          29.738836,
          31.276524,
          -31.350595,
          10.6123495,
          5.9792285,
          8.134504,
          10.419068,
          -0.25790977,
          10.7340555,
          7.5977592,
          8.334343,
          13.065867,
          12.8855505,
          8.4607115,
          -25.865181,
          10.4738655,
          -9.895071,
          45.214127,
          -21.705921,
          19.467167,
          45.21204,
          -52.292553,
          -25.577213,
          -8.348311,
          -49.04073,
          -3.7410023,
          -24.978357,
          -24.10445,
          30.9911,
          -6.667228,
          -0.3027088,
          -17.779129,
          -11.924934,
          -2.7815883,
          -17.200005,
          -23.702295,
          -29.156612,
          -18.815884,
          11.43037,
          -55.308975,
          -29.332073,
          -0.99855614,
          -31.577057,
          50.049145,
          60.918003,
          45.801193,
          64.85444,
          26.435913,
          -10.521978,
          58.220398,
          58.353577,
          7.894805,
          -40.28465,
          -40.370327,
          63.007526,
          57.43824,
          62.484848,
          65.27859,
          67.66355,
          59.812733,
          59.036785,
          64.06907,
          53.317356,
          63.834473,
          59.582165,
          52.24329,
          66.026924,
          58.954666,
          56.89565,
          51.029343,
          49.198368,
          51.85245,
          61.77723,
          38.095356,
          48.040527,
          53.584965,
          52.384167,
          61.145958,
          52.340816,
          52.20275,
          61.02663,
          66.13691,
          61.2228,
          58.175774,
          54.367832,
          62.13861,
          64.81196,
          64.06907,
          47.297935,
          51.980328,
          53.780613,
          53.433098,
          54.075245,
          47.37267,
          56.017685,
          59.789093,
          58.046337,
          55.133686,
          47.41684,
          47.499413,
          56.526577,
          55.002808,
          62.28248,
          58.408783,
          61.49325,
          63.011223,
          60.740814,
          56.986618,
          54.16493,
          62.053196,
          59.23703,
          58.89031,
          59.239567,
          58.190266,
          48.83837,
          60.653893,
          48.561844,
          65.38125,
          57.267395,
          60.848278,
          52.712765,
          57.90746,
          63.291233,
          60.92514,
          60.87059,
          62.315327,
          62.448555,
          58.431152,
          66.97049,
          66.97049,
          57.736904,
          60.748615,
          60.46332,
          53.87926,
          47.28684,
          47.866615,
          54.934185,
          58.563236,
          58.449562,
          47.624767,
          58.932537,
          50.56618,
          57.058495,
          52.762295,
          54.500034,
          51.3629,
          60.716072,
          53.44477,
          60.50092,
          55.9663,
          59.91713,
          49.48085,
          54.87195,
          51.34895,
          51.58094,
          46.532265,
          59.097515,
          57.059265,
          63.423515,
          56.577248,
          55.37152,
          63.61006,
          49.64963,
          60.033745,
          65.248474,
          57.76235,
          52.11507,
          49.285625,
          61.93628,
          62.416542,
          57.015373,
          49.997463,
          59.724033,
          52.953423,
          46.658024,
          53.514397,
          59.471535,
          51.502216,
          56.103313,
          47.899574,
          54.18139,
          52.249676,
          61.401283,
          68.84334,
          66.73483,
          66.05825,
          56.869904,
          58.35661,
          47.80311,
          63.611576,
          65.7176,
          55.42037,
          54.911068,
          61.460052,
          43.336197,
          59.99894,
          58.829334,
          61.795307,
          55.47587,
          58.007866,
          46.05833,
          65.25636,
          63.915062,
          54.303234,
          54.51482,
          57.712887,
          64.878876,
          61.177082,
          55.349545,
          65.013466,
          63.31441,
          72.02865,
          66.71861,
          52.65507,
          64.8509,
          72.53931,
          67.91796,
          45.08036,
          67.67523,
          46.819225,
          67.82133,
          65.456985,
          69.47907,
          57.4344,
          67.91856,
          61.46067,
          48.23869,
          49.43468,
          67.178986,
          50.93545,
          58.82952,
          65.289764,
          48.205486,
          48.952232,
          63.731274,
          61.877136,
          64.6239,
          65.38973,
          62.761314,
          49.033733,
          60.647385,
          62.03725,
          62.192097,
          60.580353,
          61.71982,
          67.823975,
          58.167282,
          57.96276,
          62.047092,
          62.60932,
          62.324703,
          59.29464,
          61.762665,
          61.84689,
          62.040718,
          60.912895,
          60.129616,
          62.60912,
          63.945934,
          63.312992,
          58.29062,
          59.87777,
          59.844925,
          59.607548,
          64.1138,
          63.778378,
          61.056522,
          58.792686,
          61.69969,
          61.65907,
          57.88744,
          59.29096,
          58.964336,
          59.60886,
          58.69834,
          65.08128,
          57.459427,
          63.355762,
          64.84592,
          57.489025,
          62.70791,
          62.35554,
          61.624638,
          62.06328,
          58.001392,
          63.670662,
          63.865833,
          62.395226,
          60.63346,
          63.601665,
          62.901585,
          59.971054,
          62.345387,
          61.19372,
          60.439228,
          59.513634,
          60.126423,
          63.557064,
          61.77388,
          56.616623,
          48.89428,
          50.96937,
          60.47941,
          50.558437,
          51.42345,
          52.95351,
          58.0168,
          57.232014,
          29.60763,
          57.599644,
          65.419044,
          62.913864,
          55.40805,
          50.289677,
          55.05468,
          60.13414,
          51.43447,
          56.38975,
          62.091736,
          54.60345,
          46.45408,
          53.07932,
          52.876602,
          53.19041,
          54.723816,
          45.667427,
          62.759045,
          51.4457,
          63.22479,
          48.478497,
          49.286304,
          48.61067,
          48.143417,
          51.392345,
          61.61551,
          57.48005,
          54.6235,
          62.56024,
          46.33524,
          48.745396,
          54.478157,
          61.067875,
          11.36576,
          62.873066,
          65.01593,
          50.839832,
          51.01342,
          63.649086,
          54.146614,
          53.005142,
          60.26249,
          51.89702,
          67.7493,
          46.324966,
          58.957294,
          50.44769,
          47.994987,
          64.829216,
          47.97931,
          53.04746,
          63.774097,
          54.41842,
          38.099926,
          45.92115,
          58.835934,
          52.436108,
          55.70606,
          55.16844,
          48.231655,
          32.571186,
          59.93969,
          61.789234,
          56.101845,
          61.515186,
          49.365646,
          65.83565,
          46.13232,
          45.90953,
          62.972206,
          51.439938,
          57.039406,
          54.961987,
          67.54513,
          49.487083,
          60.240704,
          49.5337,
          66.59413,
          55.26293,
          45.961567,
          43.002262,
          59.618057,
          69.17234,
          46.30554,
          56.372562,
          57.76304,
          71.434654,
          70.83205,
          56.441498,
          56.744473,
          49.894024,
          53.702335,
          44.739742,
          62.513638,
          60.44918,
          67.33016,
          51.97944,
          56.266766,
          65.26275,
          70.69106,
          52.047703,
          58.381416,
          53.303333,
          70.85844,
          53.446175,
          55.35861,
          48.26482,
          54.624664,
          56.44591,
          57.29177,
          56.49136,
          52.551556,
          53.154743,
          49.892376,
          48.117107,
          63.26869,
          47.59661,
          57.02256,
          64.7482,
          50.263042,
          51.210102,
          57.216988,
          48.871155,
          54.05092,
          45.587524,
          56.216114,
          48.551746,
          53.5174,
          58.789917,
          59.85291,
          61.758022,
          53.606434,
          55.294254,
          71.110596,
          60.17939,
          59.835358,
          63.898697,
          67.5767,
          58.699554,
          50.702915,
          71.10073,
          42.494316,
          51.5246,
          56.546093,
          46.55753,
          57.641396,
          55.32816,
          60.76006,
          51.344948,
          49.962433,
          70.943214,
          68.96279,
          61.683895,
          64.12266,
          56.067154,
          51.298264,
          53.47372,
          54.46874,
          52.814384,
          46.691196,
          46.896313,
          51.674866,
          57.657024,
          60.340443,
          47.12256,
          53.889286,
          59.94026,
          54.81809,
          48.70198,
          63.754776,
          41.07276,
          60.52837,
          68.5186,
          64.27109,
          69.09646,
          52.571304,
          71.442986,
          44.31289,
          49.99279,
          45.4715,
          46.202923,
          52.370518,
          67.10947,
          66.23911,
          67.12539,
          47.44811,
          54.406277,
          62.27414,
          54.390816,
          52.135887,
          -19.815498,
          -19.850084,
          -12.805687,
          -12.760623,
          32.4994,
          43.092102,
          45.4929,
          -26.560246,
          -16.062979,
          44.450863,
          -26.227488,
          -44.716583
         ],
         "xaxis": "x",
         "y": [
          -30.304617,
          -5.5525002,
          -7.5228314,
          -5.6566677,
          -6.23857,
          -7.5167127,
          -36.720642,
          -5.2404146,
          -5.28645,
          -4.844657,
          -7.29586,
          -5.4230695,
          -6.0661173,
          28.821949,
          -42.577038,
          -34.187153,
          -43.54164,
          -35.11361,
          15.9086685,
          -43.531643,
          -20.578579,
          -28.369522,
          -45.433887,
          -45.246635,
          -45.34076,
          18.140148,
          17.282906,
          18.070637,
          19.23799,
          -35.578354,
          -35.171463,
          -20.384598,
          -19.226776,
          36.600113,
          38.10759,
          40.757927,
          36.79011,
          38.53082,
          38.895405,
          30.632309,
          35.35199,
          34.881718,
          36.1578,
          34.368176,
          35.200027,
          36.402515,
          39.1435,
          35.891937,
          37.131157,
          38.616722,
          34.592922,
          24.864822,
          35.185703,
          40.82662,
          35.017616,
          35.31463,
          32.18347,
          39.668312,
          38.674824,
          40.62211,
          31.583183,
          39.51337,
          33.77657,
          34.419106,
          32.063347,
          36.292835,
          30.71955,
          35.803936,
          31.569958,
          39.928448,
          32.8644,
          38.88227,
          39.427967,
          39.261578,
          39.133896,
          34.917408,
          34.66491,
          39.503155,
          35.849213,
          33.434547,
          30.596878,
          38.739082,
          29.343304,
          36.072952,
          29.41291,
          42.978466,
          35.137356,
          36.47193,
          34.908623,
          38.32312,
          42.097668,
          36.42033,
          38.83249,
          36.867104,
          37.27671,
          39.843216,
          37.55892,
          40.109016,
          41.024918,
          42.098465,
          35.29679,
          44.83919,
          40.19955,
          38.507748,
          43.17439,
          37.615715,
          42.166916,
          42.4772,
          39.917557,
          41.465607,
          39.285976,
          35.538754,
          45.042618,
          39.13162,
          43.28888,
          19.304544,
          44.03916,
          41.46481,
          38.562256,
          38.58066,
          28.609041,
          38.849518,
          45.689102,
          44.96582,
          50.416527,
          39.57065,
          40.603794,
          45.712837,
          38.455433,
          40.53362,
          45.18311,
          -25.52915,
          -34.23228,
          -34.987144,
          -38.26916,
          -37.1833,
          -38.50786,
          -28.254051,
          -25.561844,
          19.28831,
          -36.75549,
          30.992254,
          -33.22662,
          -37.954597,
          -36.35434,
          3.2209485,
          3.2209485,
          3.2209485,
          3.2209485,
          3.2209485,
          3.2209485,
          -27.648796,
          -41.288166,
          46.424423,
          -49.479717,
          -49.482647,
          -49.39684,
          -49.397564,
          -49.397564,
          -35.497173,
          7.342143,
          45.67265,
          35.16309,
          23.706137,
          -7.177379,
          24.215586,
          -8.712198,
          23.903568,
          27.738152,
          26.975687,
          4.267456,
          4.3960385,
          -29.70831,
          21.763502,
          21.775196,
          -37.142357,
          -35.73069,
          -32.842575,
          -24.146402,
          -35.153477,
          -28.82151,
          -20.302692,
          -20.39479,
          -20.44516,
          2.2523625,
          45.50677,
          21.801237,
          16.754263,
          -31.975536,
          31.96726,
          -40.48596,
          19.883284,
          57.92784,
          38.68984,
          16.815271,
          16.63046,
          -29.867998,
          -31.53169,
          -9.67825,
          37.96674,
          -34.681717,
          28.037127,
          -23.228842,
          49.71654,
          59.169735,
          -46.72415,
          -19.410933,
          -18.805758,
          -39.613804,
          -50.62018,
          -51.046604,
          -46.82478,
          -20.740767,
          0.6214396,
          -16.046118,
          0.54984796,
          18.782095,
          20.355486,
          46.90324,
          46.370632,
          -20.061018,
          -15.061128,
          -45.515224,
          -29.261545,
          -59.31831,
          8.271669,
          21.827724,
          23.098442,
          -45.685024,
          27.619581,
          -27.607733,
          -38.9564,
          24.57441,
          24.319584,
          23.725796,
          42.33405,
          42.31356,
          21.211483,
          -9.490318,
          -9.570605,
          -36.522903,
          -36.936825,
          -34.38897,
          -31.815989,
          -38.239456,
          -37.603992,
          -35.294357,
          -33.493954,
          -39.247036,
          -39.308792,
          -35.07066,
          -34.534107,
          -33.893063,
          -37.55678,
          -34.003376,
          -35.635033,
          -7.6916847,
          -39.277668,
          -30.0802,
          -33.43849,
          -36.818764,
          -35.971367,
          -40.112247,
          -39.205437,
          -28.339144,
          -36.32706,
          -44.637043,
          -36.34755,
          51.424976,
          -36.31402,
          -31.154242,
          -31.909723,
          -31.200527,
          -38.034218,
          -35.42403,
          -31.544268,
          -30.53364,
          -32.111317,
          -35.442432,
          -31.505247,
          -31.267721,
          -31.016556,
          -30.049006,
          -30.071312,
          -31.382793,
          -36.07937,
          -35.918983,
          -33.513016,
          -33.60874,
          -29.20983,
          -29.177338,
          -29.032585,
          -32.52433,
          -34.452465,
          -31.587734,
          -32.189045,
          -29.763765,
          -31.85821,
          -34.16658,
          -35.696278,
          -34.504593,
          -38.447563,
          -34.89545,
          -44.025883,
          45.539978,
          44.55569,
          43.43805,
          45.9609,
          43.192173,
          51.273335,
          44.080822,
          46.693855,
          45.86583,
          46.529636,
          46.57456,
          44.75906,
          45.832355,
          46.56959,
          45.966846,
          46.536476,
          46.747032,
          45.11067,
          43.36264,
          43.374813,
          44.522648,
          44.657482,
          43.319992,
          42.167183,
          44.776257,
          42.19628,
          43.105038,
          44.988476,
          42.74402,
          42.76345,
          52.019928,
          44.086544,
          50.554005,
          41.93046,
          44.601566,
          45.508896,
          39.75717,
          37.60295,
          37.146053,
          39.874805,
          38.824783,
          41.16504,
          51.95225,
          56.56593,
          39.490337,
          32.26666,
          40.539703,
          39.23107,
          32.382214,
          44.610905,
          50.85538,
          50.607388,
          44.09796,
          44.843033,
          43.584545,
          44.211143,
          43.60441,
          45.443256,
          -38.906223,
          -39.59802,
          11.151654,
          -6.5808053,
          -5.413548,
          -2.9154344,
          -4.188931,
          20.505455,
          5.786628,
          -19.613169,
          15.758434,
          35.2406,
          -46.00721,
          -17.108103,
          -17.002518,
          -3.2221515,
          -3.1345758,
          21.376637,
          -12.127878,
          -44.089787,
          15.725841,
          25.052412,
          -14.653932,
          -27.598646,
          -27.67881,
          11.763564,
          -17.212696,
          -40.67789,
          -43.222675,
          23.686829,
          23.672134,
          23.303507,
          49.630676,
          24.051441,
          21.544859,
          -24.72505,
          -12.75756,
          -6.376094,
          43.90995,
          22.264608,
          -43.49353,
          -43.490772,
          -13.527035,
          7.6367297,
          7.3779597,
          8.341107,
          8.739262,
          11.368434,
          -31.5325,
          -46.704308,
          -44.588943,
          -42.451305,
          -42.871117,
          -42.71292,
          -42.89606,
          11.832927,
          -12.622089,
          -15.274653,
          -11.452951,
          7.8987226,
          -23.84562,
          7.1593947,
          -8.988237,
          -29.31578,
          -50.53046,
          -11.0427265,
          -35.404133,
          12.6231785,
          -31.178709,
          -35.102375,
          -20.023695,
          -19.914001,
          -21.436974,
          -48.746788,
          -54.79666,
          -1.6276159,
          19.892504,
          -20.8932,
          9.517311,
          24.590103,
          -35.74974,
          22.485092,
          28.066471,
          -3.1849368,
          -3.3027294,
          -3.221554,
          22.819698,
          -35.192707,
          -36.645634,
          -47.92352,
          -42.342766,
          -41.406338,
          -41.85558,
          -26.194618,
          -30.579006,
          -28.478045,
          -41.48111,
          -42.96159,
          -39.195656,
          -46.508728,
          -43.60746,
          -42.364864,
          -46.953663,
          -46.62809,
          -41.516308,
          -47.40411,
          -40.49089,
          -17.18268,
          5.4658375,
          6.657649,
          8.8778925,
          9.153057,
          -14.589469,
          10.072746,
          -14.194232,
          -14.6767435,
          -7.1484013,
          -30.392569,
          -36.067944,
          -36.231316,
          -39.185688,
          -8.246678,
          -39.649876,
          -34.73602,
          -8.1900215,
          -19.850239,
          -13.748045,
          -44.306255,
          -35.853367,
          -35.715477,
          -18.950909,
          -20.069342,
          -27.017996,
          -28.108294,
          -29.015402,
          -37.538105,
          -25.175114,
          -35.860184,
          -22.11497,
          -20.253326,
          41.675007,
          -25.56134,
          -23.522041,
          -37.6387,
          -27.884731,
          -16.984968,
          -27.850088,
          -16.758213,
          -22.503845,
          -21.869148,
          -17.836193,
          -42.323048,
          -21.199244,
          -18.199202,
          -8.760359,
          -19.848547,
          -17.460447,
          -21.119936,
          -21.08697,
          -15.722139,
          -18.0797,
          -18.080446,
          -18.909296,
          -19.330376,
          -15.04725,
          -17.545626,
          -34.416042,
          -24.565098,
          -6.867772,
          -23.753988,
          -28.574324,
          -22.648903,
          -25.011745,
          -23.905651,
          -27.128906,
          -23.658947,
          -28.916677,
          -25.864988,
          -26.41315,
          -24.8668,
          -25.18919,
          -23.606833,
          -22.896183,
          -18.972052,
          -18.846344,
          -18.722435,
          -19.388424,
          -38.778625,
          -20.344591,
          -19.182936,
          -20.311735,
          -19.588713,
          -20.254885,
          -19.860708,
          -18.623251,
          -19.620598,
          -39.13513,
          -18.938747,
          -21.010466,
          -26.229492,
          -20.600103,
          -25.431156,
          -25.538916,
          -8.170126,
          -8.173235,
          -21.977179,
          -19.16598,
          -19.511374,
          -35.00089,
          -26.78393,
          -20.616285,
          -20.347467,
          16.464336,
          -17.445232,
          -18.70325,
          -25.470905,
          -5.265185,
          -5.29505,
          -43.881245,
          -24.034826,
          -27.766125,
          -15.255768,
          -38.900173,
          -9.123826,
          48.97399,
          -42.169212,
          -33.662434,
          -31.39364,
          -9.83586,
          -39.209923,
          -8.668455,
          -9.461969,
          -8.870559,
          -38.64735,
          -50.424194,
          -22.901592,
          -54.023182,
          -53.87327,
          9.286444,
          -21.727383,
          -20.265207,
          -21.986414,
          -32.489338,
          -53.748924,
          -32.37656,
          -32.263588,
          -32.69618,
          -35.897697,
          -46.391197,
          -41.371677,
          -34.3792,
          -26.234112,
          -6.3318734,
          -6.441244,
          -6.009322,
          57.863384,
          -38.325672,
          -16.361626,
          -19.47332,
          23.642939,
          -13.773597,
          -40.300007,
          -40.67148,
          -37.96827,
          -41.242218,
          -47.491222,
          -48.82918,
          -48.79571,
          -48.796448,
          -39.407547,
          -39.424454,
          -40.18354,
          -19.938238,
          36.000813,
          -18.300621,
          -22.041796,
          -16.893944,
          19.193983,
          19.291422,
          12.13987,
          3.836261,
          3.818892,
          55.691494,
          60.4817,
          60.25263,
          62.459007,
          62.635567,
          -39.854126,
          12.912558,
          -30.045715,
          -31.51315,
          -52.934734,
          60.64065,
          56.784714,
          56.184925,
          56.355686,
          -25.70758,
          60.168682,
          53.019333,
          60.31401,
          21.273806,
          60.652107,
          52.472374,
          52.545307,
          63.440517,
          -33.070442,
          60.912586,
          52.56339,
          25.517223,
          60.299213,
          60.917454,
          31.886625,
          31.891796,
          60.46004,
          2.0093167,
          2.0041592,
          -47.916004,
          10.8942375,
          10.860531,
          23.966948,
          32.835495,
          32.54276,
          16.507269,
          32.540836,
          24.969814,
          16.667034,
          15.609065,
          47.324562,
          17.984444,
          25.633045,
          15.52344,
          17.95336,
          20.555855,
          18.382849,
          32.951576,
          16.9891,
          18.087505,
          -33.179043,
          25.6375,
          15.920618,
          32.92886,
          18.027409,
          20.58547,
          20.672277,
          17.08767,
          14.502243,
          16.10751,
          32.95086,
          -25.952698,
          32.808205,
          16.234901,
          7.5561786,
          -1.87765,
          23.666126,
          20.267298,
          20.21762,
          -32.0558,
          22.089897,
          22.18465,
          22.439426,
          4.895906,
          59.70244,
          -39.660168,
          -30.149826,
          -47.83838,
          -10.547131,
          -10.54742,
          -19.577188,
          -46.457176,
          -26.141964,
          -47.42745,
          -31.621067,
          -27.885847,
          -43.597717,
          -29.598608,
          -28.52756,
          -24.590603,
          27.545206,
          27.674227,
          -48.17388,
          -36.771713,
          -27.231934,
          -26.562284,
          -43.046024,
          -24.417627,
          -36.851303,
          -25.956999,
          -35.161198,
          -45.972363,
          -38.721,
          -43.646553,
          -45.910995,
          -28.624907,
          -26.08383,
          -46.283546,
          4.085069,
          4.116491,
          13.052573,
          36.972054,
          -28.718676,
          -25.802355,
          -47.739048,
          33.327766,
          -36.40545,
          -31.7158,
          8.993845,
          -31.074854,
          29.524141,
          29.640251,
          28.21473,
          28.078144,
          -42.15683,
          28.358534,
          30.980898,
          -38.097954,
          -37.971245,
          -4.2943783,
          -37.477627,
          -31.937065,
          -32.252804,
          -37.47577,
          21.860771,
          -13.520432,
          -18.605413,
          -34.74821,
          -30.794666,
          -33.461746,
          -43.568653,
          -34.26798,
          -34.27226,
          -34.005844,
          -34.00309,
          -19.560432,
          -19.218616,
          -19.456,
          -19.244722,
          -18.943441,
          -18.526735,
          -19.011353,
          -18.75439,
          -19.64223,
          -19.59122,
          -18.904142,
          -19.916677,
          -38.332916,
          -23.745928,
          44.85747,
          -31.774584,
          35.171925,
          -32.435352,
          -19.02134,
          10.525202,
          -16.577156,
          -27.58131,
          -18.151913,
          -34.208485,
          -32.028305,
          35.855568,
          15.217726,
          -29.787983,
          -30.994001,
          -30.941422,
          -29.366447,
          -33.739788,
          -34.891933,
          -35.658405,
          -50.723747,
          -37.505913,
          -37.977875,
          -32.12441,
          -39.036766,
          -47.514374,
          -39.66409,
          -45.462955,
          -37.048046,
          -44.51618,
          -44.7838,
          -31.711885,
          -37.406223,
          -35.811085,
          -37.453094,
          -49.876072,
          -41.846233,
          -53.650112,
          -49.74267,
          -49.77041,
          -44.46753,
          -45.32432,
          -43.572285,
          -40.80411,
          -42.703247,
          -46.73955,
          -46.47581,
          -45.3044,
          -42.56477,
          -43.493935,
          -42.041542,
          -35.83586,
          -46.102833,
          -44.999344,
          -40.133297,
          -43.070564,
          -43.041374,
          -44.529312,
          -46.1119,
          -45.915287,
          -48.335346,
          -44.76371,
          -43.11269,
          -43.125187,
          -45.718735,
          -42.447826,
          -23.637562,
          -25.63859,
          -26.10561,
          -25.903452,
          8.250896,
          -26.67703,
          11.678969,
          24.36706,
          -28.2079,
          -47.476894,
          37.394737,
          -28.333885,
          39.23108,
          36.948303,
          14.681997,
          -16.392262,
          33.16133,
          37.227276,
          -28.579628,
          43.77473,
          12.661123,
          33.667736,
          23.481682,
          -7.786143,
          -39.62248,
          21.656292,
          -10.026533,
          -12.8073,
          28.508228,
          -54.00583,
          -45.186935,
          -17.490133,
          -44.017746,
          -40.84903,
          46.33629,
          -20.054806,
          -38.897385,
          21.65062,
          23.46883,
          26.039837,
          -7.207195,
          25.124283,
          25.142262,
          -41.09942,
          -40.162876,
          25.344866,
          25.45024,
          29.195347,
          40.33296,
          -22.777819,
          -28.191353,
          -26.25853,
          -18.79866,
          37.283657,
          -42.606853,
          -25.770407,
          -29.106611,
          -25.128231,
          -22.796091,
          -30.057257,
          -29.611656,
          -23.668999,
          -38.518345,
          -26.68879,
          -19.980309,
          -30.094326,
          -34.961388,
          -16.152653,
          -15.185368,
          -18.101158,
          -17.01835,
          -16.940228,
          -16.940777,
          -41.13195,
          -29.713215,
          -30.36259,
          -17.093376,
          33.38651,
          36.661617,
          -35.559944,
          56.68156,
          56.343033,
          52.461983,
          30.777386,
          2.3817732,
          26.150082,
          -6.087577,
          55.685486,
          22.898233,
          38.945175,
          37.885345,
          27.33691,
          30.156504,
          34.400654,
          8.573685,
          34.211163,
          37.138607,
          37.119057,
          37.123207,
          37.120583,
          32.71236,
          37.85341,
          25.954918,
          31.57066,
          -4.2074623,
          30.905365,
          23.883081,
          64.24386,
          56.11532,
          64.47553,
          63.157314,
          63.34371,
          57.946953,
          27.280737,
          14.909067,
          58.68586,
          22.860424,
          39.23618,
          62.830814,
          22.834475,
          54.807957,
          57.570007,
          30.37518,
          49.3414,
          30.517662,
          -10.966848,
          0.5199325,
          -7.5221896,
          3.2782516,
          28.459284,
          28.473577,
          11.294087,
          3.6018944,
          30.717411,
          1.506703,
          33.717686,
          30.744602,
          33.788445,
          25.939346,
          24.979902,
          7.057251,
          5.704376,
          34.421413,
          26.15686,
          2.7714703,
          7.8546977,
          38.802456,
          46.26093,
          43.91348,
          47.20002,
          4.74376,
          55.00214,
          3.4860933,
          10.926729,
          43.328575,
          30.568375,
          30.684227,
          40.731266,
          13.110236,
          4.0228734,
          7.328977,
          32.779602,
          32.8929,
          57.428032,
          14.232473,
          30.735521,
          44.79048,
          36.627125,
          22.099007,
          22.091555,
          22.362417,
          22.274147,
          22.251148,
          16.807278,
          14.9505005,
          17.248398,
          16.654428,
          21.55982,
          23.70565,
          38.101555,
          15.980541,
          23.286577,
          24.880423,
          20.651667,
          22.068525,
          0.29842588,
          16.279366,
          16.606243,
          19.68412,
          20.652178,
          20.551056,
          24.753042,
          16.691965,
          16.335503,
          17.335442,
          0.42197385,
          24.08696,
          20.786913,
          22.109383,
          23.048239,
          16.852865,
          23.596495,
          24.443766,
          19.790031,
          27.103071,
          22.902498,
          7.5204234,
          21.093826,
          22.761877,
          23.9598,
          20.336447,
          17.2902,
          19.417953,
          22.236553,
          21.464844,
          20.955172,
          19.650225,
          8.514109,
          16.219273,
          8.017777,
          18.064608,
          10.406989,
          9.757961,
          15.941506,
          7.565028,
          8.323868,
          18.859087,
          -9.961923,
          16.658726,
          12.878778,
          -7.8047204,
          7.3226957,
          31.081396,
          16.562742,
          29.349548,
          23.204998,
          28.45496,
          28.349176,
          29.040802,
          28.771946,
          28.544544,
          29.266308,
          28.909136,
          28.282228,
          16.74215,
          57.26062,
          54.169506,
          52.967564,
          53.057556,
          53.900616,
          54.144558,
          53.227703,
          54.304955,
          55.791935,
          56.434284,
          14.424583,
          54.4904,
          52.646988,
          56.96992,
          53.58302,
          53.759586,
          54.38685,
          55.396935,
          53.337505,
          52.591946,
          53.47228,
          2.7489285,
          54.126427,
          54.348183,
          52.131233,
          23.506895,
          21.382227,
          24.586477,
          41.171757,
          31.02001,
          14.967203,
          34.47696,
          -2.2932076,
          19.684717,
          39.965374,
          68.368805,
          67.75634,
          68.949615,
          68.106064,
          64.531876,
          64.49465,
          7.298905,
          7.304904,
          14.074528,
          54.675636,
          53.96069,
          51.576187,
          11.7907505,
          43.49446,
          17.474974,
          11.860867,
          42.0115,
          64.825005,
          20.38328,
          3.1243389,
          22.92964,
          56.960197,
          57.176373,
          48.625732,
          48.579407,
          58.548466,
          68.939415,
          65.7928,
          65.912445,
          27.534163,
          68.883286,
          67.09441,
          66.911316,
          66.45404,
          65.6865,
          64.72604,
          67.254906,
          67.237526,
          64.55805,
          64.66281,
          25.033228,
          63.387623,
          63.360313,
          63.19234,
          63.13597,
          63.473095,
          63.423084,
          66.46244,
          66.40879,
          21.379387,
          21.378248,
          25.456402,
          22.452074,
          35.086903,
          1.9116548,
          30.317863,
          30.288275,
          35.65922,
          27.898756,
          14.167608,
          24.725285,
          29.61798,
          10.06031,
          34.25512,
          34.33133,
          24.305593,
          24.31162,
          27.913517,
          29.722765,
          29.742535,
          24.32676,
          25.463556,
          24.689528,
          24.776463,
          25.161236,
          26.361687,
          24.515429,
          25.359034,
          25.770243,
          25.529583,
          26.407412,
          15.080875,
          17.133707,
          19.456234,
          3.0261843,
          5.728497,
          5.795817,
          16.03253,
          26.535677,
          37.347244,
          19.88311,
          19.872978,
          37.265015,
          22.769985,
          23.26402,
          2.6262836,
          27.564856,
          22.224766,
          22.317348,
          23.371979,
          19.952894,
          23.447384,
          40.117878,
          28.306078,
          28.3314,
          2.1969154,
          14.926546,
          15.377753,
          34.709225,
          43.50462,
          43.263443,
          35.075848,
          34.728165,
          18.289639,
          18.662886,
          18.52315,
          35.12465,
          34.66737,
          1.115744,
          3.427547,
          35.030113,
          34.205475,
          35.088665,
          34.818264,
          34.930542,
          43.093178,
          34.903175,
          5.387703,
          -4.7490063,
          39.334156,
          42.342083,
          21.2596,
          20.4237,
          11.276708,
          21.7292,
          -1.5642493,
          31.19591,
          43.429016,
          23.85086,
          23.607727,
          24.375067,
          22.902296,
          23.422112,
          51.795082,
          53.6868,
          53.91146,
          2.7106671,
          54.334133,
          52.33804,
          54.80315,
          53.687057,
          52.868675,
          54.299652,
          54.321003,
          52.66953,
          54.145916,
          53.73946,
          49.994328,
          56.60119,
          52.287605,
          43.978264,
          46.26782,
          47.743187,
          60.507538,
          58.325565,
          55.40901,
          56.27798,
          5.2140784,
          58.42191,
          5.8596926,
          8.2402525,
          11.715798,
          18.603273,
          6.3807926,
          6.301133,
          8.256108,
          9.140488,
          10.0435095,
          8.241834,
          20.401318,
          20.565372,
          17.42538,
          17.446516,
          21.21619,
          6.5521617,
          0.14931023,
          19.506252,
          25.359169,
          49.252857,
          20.778282,
          51.89294,
          20.051369,
          24.556293,
          0.57115954,
          0.478661,
          -6.0801845,
          1.4305785,
          17.830801,
          27.524294,
          27.645666,
          27.301775,
          2.3628988,
          2.0688026,
          -6.512208,
          2.9088585,
          6.0537696,
          30.518152,
          -0.7478879,
          1.9523121,
          5.761381,
          1.7859262,
          5.453834,
          8.331338,
          3.524801,
          6.045076,
          3.0057077,
          -2.0974371,
          -1.2293738,
          60.114006,
          -0.50017536,
          60.091415,
          57.043587,
          1.6461638,
          16.964207,
          16.97627,
          48.861137,
          16.02745,
          54.295914,
          36.233,
          16.139225,
          61.821636,
          35.7689,
          35.73997,
          67.03545,
          67.02142,
          -0.08421705,
          43.55423,
          30.393024,
          23.5428,
          52.76702,
          19.41551,
          62.340176,
          27.07499,
          48.057785,
          55.261574,
          67.427216,
          0.5604971,
          -5.190417,
          23.515917,
          61.683483,
          48.04815,
          52.93438,
          68.1151,
          67.53221,
          0.46014747,
          58.69404,
          27.122227,
          54.71942,
          18.295107,
          18.299461,
          13.884886,
          13.8461075,
          61.971294,
          32.985207,
          34.6146,
          33.877277,
          34.31535,
          33.782944,
          53.072445,
          51.491497,
          -0.8471406,
          24.75695,
          20.855202,
          -3.1336193,
          -3.7687583,
          -3.3421655,
          -7.571946,
          -4.0910997,
          -7.5035853,
          -7.531083,
          -4.5737987,
          -3.250331,
          -4.165174,
          31.725967,
          31.706932,
          9.5028,
          -13.1714945,
          -4.695078,
          30.297148,
          33.097633,
          52.252613,
          32.552364,
          32.859695,
          49.694138,
          -4.476466,
          19.907698,
          68.3184,
          3.9285293,
          36.230247,
          32.1451,
          30.298208,
          33.290054,
          33.82076,
          68.15612,
          67.74658,
          53.286827,
          52.689278,
          15.379516,
          46.896675,
          15.05982,
          64.28556,
          64.32591,
          6.76384,
          32.005276,
          46.379135,
          21.844872,
          27.658241,
          61.684193,
          24.715626,
          32.894516,
          48.25395,
          26.525211,
          68.506004,
          68.37392,
          32.565254,
          32.505325,
          3.1143694,
          49.153767,
          42.98809,
          43.19708,
          16.993204,
          32.105087,
          32.115158,
          18.351856,
          33.305477,
          6.9719276,
          23.371098,
          24.886293,
          46.991257,
          61.17866,
          51.932796,
          54.959167,
          29.322172,
          20.60199,
          21.092997,
          42.4988,
          38.00836,
          33.0888,
          46.964558,
          61.566124,
          67.702126,
          32.59365,
          1.5630713,
          32.845726,
          19.625107,
          16.927113,
          34.522472,
          1.7808961,
          43.30359,
          48.070354,
          42.647785,
          21.998398,
          18.839504,
          29.709774,
          -10.032989,
          32.918694,
          19.53775,
          33.06789,
          32.28608,
          33.14687,
          21.0647,
          20.655375,
          -3.099896,
          68.55083,
          34.52737,
          -10.021742,
          68.4965,
          40.282215,
          45.57999,
          61.418903,
          42.39151,
          2.0895567,
          2.28263,
          30.963129,
          29.348915,
          34.020813,
          9.373593,
          16.159672,
          7.6367426,
          12.96867,
          17.2089,
          12.353858,
          22.23423,
          22.698248,
          22.483837,
          19.857992,
          24.75249,
          8.373062,
          8.630361,
          8.327371,
          7.7325554,
          9.703875,
          8.195755,
          8.380511,
          8.390069,
          53.42356,
          25.056623,
          -25.49747,
          25.892946,
          48.65797,
          34.750965,
          57.01288,
          24.71765,
          22.096144,
          18.873598,
          20.27108,
          18.867855,
          22.96591,
          21.962679,
          20.388178,
          22.127102,
          19.74893,
          16.291752,
          61.518085,
          16.530846,
          -6.202396,
          2.3973973,
          53.55227,
          68.38914,
          67.721664,
          62.20401,
          -2.1491077,
          16.28568,
          6.305463,
          53.55774,
          62.14183,
          4.7977343,
          11.0450945,
          49.326084,
          30.696907,
          25.116934,
          55.718666,
          64.58773,
          64.56946,
          1.5234683,
          62.083168,
          7.4990835,
          62.58286,
          26.452837,
          4.769536,
          27.952274,
          27.903055,
          37.028736,
          7.550856,
          61.80747,
          24.320305,
          33.08176,
          24.191954,
          7.2608123,
          1.0645434,
          12.261276,
          30.812546,
          30.817091,
          32.53267,
          33.92458,
          53.420616,
          53.347107,
          53.39005,
          48.36694,
          23.622002,
          53.869286,
          1.4637989,
          54.559624,
          61.59881,
          49.19284,
          54.323185,
          49.40014,
          66.62662,
          32.481686,
          15.8175,
          -0.77159363,
          29.440582,
          29.446615,
          61.73028,
          49.077682,
          68.43432,
          0.43950444,
          22.642458,
          13.688755,
          8.411867,
          -2.1486645,
          -3.5810766,
          4.524265,
          17.689945,
          26.507238,
          15.679134,
          3.608054,
          -3.8727887,
          39.253895,
          16.262886,
          30.397087,
          30.919798,
          29.03152,
          65.33425,
          9.364038,
          9.58521,
          10.57657,
          10.38494,
          11.738447,
          8.916213,
          11.924202,
          9.638603,
          11.424866,
          10.976484,
          10.838032,
          10.311082,
          10.392895,
          11.340298,
          10.9411745,
          10.4021225,
          14.365836,
          18.575748,
          9.940261,
          10.029956,
          18.281471,
          17.7146,
          17.719099,
          12.498692,
          9.572499,
          10.949614,
          18.18919,
          18.622,
          18.472807,
          18.591867,
          43.24494,
          -8.929313,
          -35.07686,
          -32.6403,
          -32.623806,
          -16.17985,
          3.9849362,
          -48.944637,
          -22.511793,
          -32.27653,
          -10.707705,
          -8.633641,
          -15.974934,
          20.406189,
          12.742004,
          -15.593899,
          -15.44847,
          -6.097427,
          -15.913069,
          14.636664,
          -44.206955,
          20.099537,
          -13.507224,
          -38.219894,
          24.276594,
          -2.2559352,
          -28.349638,
          48.27445,
          -41.17858,
          11.401025,
          -35.56573,
          -29.249138,
          30.559822,
          -18.027544,
          19.20239,
          19.205051,
          -7.636231,
          -12.6084385,
          -17.396063,
          5.5546074,
          60.49529,
          58.73103,
          14.15751,
          -36.913074,
          -39.65753,
          -36.853363,
          -38.020943,
          -10.213875,
          -37.783474,
          -21.805315,
          33.164917,
          58.03062,
          32.232132,
          -22.559679,
          -54.102013,
          -10.078861,
          19.399895,
          -16.551573,
          -14.431242,
          -27.936197,
          -46.887913,
          -26.939583,
          -0.3433089,
          -2.1665971,
          -41.8377,
          -46.786346,
          1.7680936,
          -2.5564709,
          -4.329633,
          3.5442746,
          -1.2069587,
          -4.173573,
          -3.123463,
          -3.6514478,
          -1.3448769,
          5.2063556,
          -22.724682,
          0.2696254,
          -1.8037032,
          -1.5853976,
          -1.7427018,
          -5.018268,
          -1.7028502,
          -0.47464234,
          -5.133511,
          -1.76515,
          -2.5506902,
          18.010235,
          -0.25578725,
          -0.6293092,
          5.3339815,
          -2.3998938,
          0.24444436,
          10.992208,
          -0.47345442,
          -0.64908975,
          -4.701416,
          8.031532,
          29.449823,
          -1.5240035,
          2.9409153,
          0.06367831,
          -1.8732396,
          -1.3135984,
          -0.06381316,
          5.77189,
          4.488873,
          2.4198442,
          -6.7194605,
          -4.0246115,
          -15.525587,
          -2.460651,
          5.757193,
          -26.067038,
          -14.724784,
          -19.37163,
          22.488462,
          -18.75238,
          -27.372238,
          -27.7314,
          -36.849037,
          -4.790793,
          -4.870465,
          42.30466,
          -8.749375,
          7.49082,
          -4.729682,
          -26.377382,
          -31.643116,
          -41.709126,
          -33.394596,
          -24.182127,
          -2.3549752,
          -6.295801,
          36.968807,
          -13.44982,
          -28.590502,
          7.272306,
          -20.95509,
          42.91645,
          45.55591,
          -16.400612,
          -8.951049,
          -54.733295,
          26.652231,
          -17.177298,
          -39.90663,
          -4.49633,
          -4.747696,
          -4.048476,
          -4.037134,
          -4.0776615,
          -11.635114,
          -8.861079,
          -10.636253,
          -3.9779017,
          -3.711269,
          -20.779394,
          0.6652617,
          -48.722786,
          12.7314625,
          -1.1702598,
          14.52039,
          38.12971,
          27.42618,
          -34.593872,
          -54.046207,
          -54.961853,
          -55.415012,
          -48.000637,
          33.0239,
          15.729233,
          32.838764,
          -42.022747,
          -39.76301,
          -8.166039,
          -18.135447,
          -6.1374893,
          -18.28931,
          23.919771,
          -3.741803,
          24.81393,
          -31.2875,
          -9.733188,
          -7.635078,
          -14.881762,
          -10.410384,
          46.51804,
          -36.94287,
          -30.298325,
          24.204485,
          -32.10536,
          -53.430668,
          -17.07815,
          21.87927,
          21.870392,
          23.51602,
          23.34671,
          23.40407,
          25.465963,
          -1.3302108,
          21.615625,
          21.762047,
          22.226807,
          21.944517,
          22.29253,
          22.47654,
          22.26675,
          22.292473,
          -24.342957,
          20.715803,
          5.526669,
          5.603938,
          -17.950895,
          -34.931557,
          63.389103,
          26.879408,
          -0.70079935,
          -13.098135,
          -9.989772,
          -38.55252,
          1.7278172,
          8.343555,
          1.90818,
          -49.8076,
          26.051338,
          -17.861128,
          28.763252,
          43.27373,
          -1.4476786,
          15.050784,
          11.290785,
          11.25475,
          15.069159,
          10.83678,
          10.78752,
          24.828588,
          31.278555,
          31.202757,
          24.863503,
          -50.189056,
          60.6302,
          -27.907227,
          28.344534,
          15.325364,
          25.730518,
          27.347246,
          -19.359459,
          -19.304785,
          -39.429417,
          -33.881256,
          -32.22545,
          -32.57009,
          -40.331867,
          -47.56578,
          12.492459,
          -28.071358,
          -13.468012,
          -16.239376,
          20.96376,
          -40.78496,
          -19.685131,
          -14.602874,
          4.0782986,
          -13.31426,
          20.335896,
          0.9798434,
          -34.09041,
          -34.297493,
          -44.881,
          -31.868784,
          -24.653805,
          -38.89658,
          -38.08994,
          -38.59739,
          -24.70458,
          -24.924944,
          -29.199276,
          -29.316532,
          -29.185978,
          -29.332418,
          -40.29884,
          -34.252052,
          -34.772194,
          -36.34072,
          -18.635736,
          -31.401245,
          -25.866455,
          -36.694683,
          -37.239468,
          -44.875683,
          21.781784,
          21.013187,
          -37.04135,
          -31.980774,
          -38.177906,
          -38.058952,
          -30.315475,
          -36.93768,
          4.729932,
          -40.434654,
          -13.235018,
          -13.217047,
          -31.889896,
          -14.106717,
          -13.881033,
          -14.700394,
          -14.503175,
          -12.785836,
          -14.532453,
          -40.655663,
          -38.410072,
          -40.97405,
          -37.582623,
          -39.53458,
          8.785676,
          -10.4639,
          -15.612804,
          25.21336,
          -35.762806,
          22.261309,
          26.745968,
          26.876331,
          -38.86787,
          -32.087704,
          9.155038,
          -33.665356,
          24.137032,
          27.402733,
          24.932953,
          27.598219,
          -24.573952,
          21.706364,
          -42.72971,
          -18.189533,
          -27.596947,
          14.737117,
          -28.541077,
          -28.874784,
          -29.632187,
          30.036968,
          -30.94705,
          -42.767895,
          -31.709637,
          -29.22769,
          -28.601934,
          -42.756744,
          -40.878445,
          -40.86645,
          20.123728,
          3.8935497,
          5.210209,
          10.9977455,
          25.000584,
          24.718021,
          21.256073,
          21.641344,
          -5.266194,
          21.90268,
          17.825047,
          19.594398,
          19.594398,
          -2.9226491,
          -26.565783,
          -3.8087492,
          -21.385632,
          -25.545055,
          -26.88605,
          -25.567944,
          -25.57834,
          -0.9701602,
          -23.8661,
          -23.932821,
          4.4099474,
          -23.900177,
          -23.763905,
          -23.795994,
          -23.817728,
          -39.256073,
          -23.931059,
          -2.1635823,
          -49.02643,
          -22.05315,
          -1.3735378,
          -1.2978047,
          11.194864,
          -0.10940611,
          11.190043,
          -20.624176,
          -24.735334,
          -24.443024,
          -24.682688,
          -24.730278,
          -24.39902,
          -23.906101,
          -24.749954,
          -25.10663,
          -24.773418,
          9.6808195,
          9.9213295,
          10.811848,
          10.83962,
          -1.4152383,
          10.344897,
          -33.78127,
          -17.65376,
          -17.337177,
          -17.071312,
          -17.182323,
          -17.330723,
          -17.131605,
          -47.90472,
          -30.219963,
          21.072947,
          15.57794,
          9.65903,
          9.60644,
          21.852802,
          10.463723,
          9.594452,
          10.721255,
          22.891869,
          22.891314,
          9.664262,
          3.9848588,
          3.9390955,
          -20.696014,
          -38.38566,
          -16.076809,
          -24.031357,
          -15.171821,
          -14.879188,
          -28.988205,
          -22.255486,
          -24.8775,
          -14.531568,
          -23.837122,
          -32.702423,
          -26.561403,
          -38.926132,
          -40.291264,
          -21.682392,
          -21.794346,
          -30.406342,
          -30.43515,
          -21.311386,
          -19.837057,
          -25.933496,
          -22.090773,
          -37.939915,
          40.109543,
          -22.25549,
          33.416985,
          -33.00655,
          -38.111244,
          33.86807,
          38.125076,
          7.4509654,
          32.76873,
          32.76873,
          22.401312,
          -37.19172,
          -33.90112,
          -32.94167,
          39.657627,
          -37.698402,
          -27.949036,
          -37.967148,
          -17.034447,
          22.724998,
          -38.48761,
          -37.49862,
          -33.487976,
          23.343843,
          -18.680231,
          -13.950504,
          -17.548496,
          22.900356,
          -13.061836,
          -18.981808,
          -20.62101,
          -16.056707,
          -16.262596,
          -16.279858,
          -3.9361928,
          -31.840147,
          -20.393723,
          -18.022629,
          -21.491297,
          40.416027,
          -3.7466938,
          -33.83123,
          -33.771564,
          -18.032553,
          -20.286919,
          -20.293407,
          -37.96917,
          26.398268,
          -17.0902,
          -27.334435,
          -45.94457,
          22.665941,
          27.636469,
          27.831709,
          28.683538,
          29.508307,
          -11.428509,
          20.238667,
          -38.309265,
          20.581423,
          0.52979004,
          -28.660097,
          -17.298315,
          27.787184,
          35.559376,
          -37.903828,
          22.634373,
          -16.512348,
          -17.729214,
          20.589243,
          7.934339,
          22.680065,
          -12.630994,
          -17.431437,
          7.554816,
          -32.25801,
          -31.173157,
          24.4943,
          7.6213183,
          -41.868694,
          -30.237904,
          55.80789,
          12.671478,
          46.685936,
          7.950255,
          -51.33801,
          -36.878963,
          -28.558182,
          -27.774712,
          -28.436075,
          -28.315388,
          -45.30909,
          -28.567678,
          -28.480194,
          -26.991627,
          -28.399569,
          -46.58684,
          7.5148706,
          -38.32869,
          61.352566,
          14.143529,
          0.52185726,
          21.212242,
          32.248386,
          32.057587,
          23.354593,
          66.48378,
          -6.335135,
          -6.23011,
          -21.664053,
          2.7899315,
          9.515989,
          20.16077,
          20.034988,
          56.053158,
          40.618168,
          0.12982428,
          1.7086664,
          1.4947894,
          21.247276,
          40.16555,
          16.428383,
          9.141167,
          -6.505185,
          -6.482749,
          -3.4986978,
          -27.607796,
          3.3805015,
          0.9941601,
          23.017015,
          10.906066,
          29.792774,
          8.516036,
          -0.04697233,
          -1.3434293,
          -0.11662935,
          1.7136116,
          -0.46786302,
          -0.49794123,
          8.459818,
          0.2966466,
          2.9864018,
          8.640432,
          1.84582,
          1.1745473,
          7.3355436,
          0.7449346,
          1.3070817,
          9.734974,
          8.128308,
          9.352119,
          8.56561,
          8.537663,
          8.484862,
          8.580768,
          9.187343,
          9.069299,
          9.767016,
          9.171767,
          5.719692,
          8.133289,
          -0.008014727,
          15.916257,
          -0.5140452,
          8.703073,
          0.6396654,
          10.1211195,
          19.515871,
          20.894066,
          18.18775,
          18.23354,
          25.70427,
          25.752495,
          22.026928,
          22.059393,
          10.62208,
          30.151323,
          26.15412,
          26.243137,
          27.555176,
          27.511372,
          36.196377,
          29.060505,
          27.451513,
          -2.3060892,
          17.06824,
          30.470982,
          34.34005,
          34.328278,
          29.621185,
          29.719807,
          36.118973,
          36.319508,
          36.681858,
          30.965612,
          21.391827,
          34.349705,
          26.888237,
          32.573765,
          15.920696,
          37.760227,
          37.91658,
          17.754019,
          17.736914,
          12.377128,
          61.341606,
          10.195934,
          26.307587,
          7.369093,
          30.104235,
          30.143263,
          64.270775,
          7.2840686,
          4.7148976,
          5.6666574,
          -0.0015734235,
          5.8345757,
          46.687828,
          53.23172,
          53.55421,
          51.949493,
          54.995743,
          30.494165,
          30.50167,
          7.5515985,
          -44.722847,
          -6.086668,
          17.101843,
          16.905325,
          33.68743,
          -9.808004,
          19.86172,
          30.33916,
          29.609293,
          -41.98991,
          -52.49149,
          14.76238,
          14.125503,
          -6.1818104,
          18.752048,
          13.643589,
          8.00604,
          29.473444,
          42.050663,
          -7.830459,
          -42.35508,
          -33.744553,
          -45.827396,
          -25.994648,
          -33.02431,
          -45.419018,
          -50.565746,
          21.14971,
          30.120655,
          11.861285,
          12.382049,
          11.3559065,
          11.2825575,
          -14.516752,
          -14.339334,
          -28.273296,
          -14.974793,
          -14.534465,
          -5.4394646,
          -14.805218,
          -10.631407,
          -9.3491125,
          -10.860014,
          -10.541689,
          -10.608149,
          -8.184831,
          -6.501258,
          -7.783149,
          -7.2494063,
          -8.535401,
          -6.592875,
          -7.542211,
          -6.2884865,
          -8.731813,
          -10.008071,
          -9.573252,
          -35.367996,
          -39.74801,
          -36.021355,
          -35.97013,
          -35.42719,
          -35.387756,
          40.982204,
          2.2287996,
          2.1570532,
          -14.303482,
          0.24185936,
          0.24528913,
          0.33649755,
          -0.21084775,
          1.8005213,
          -13.343053,
          2.594778,
          -2.9118478,
          4.0105534,
          3.484497,
          2.1380088,
          2.888342,
          1.2289995,
          -0.85784626,
          4.09428,
          5.7225814,
          4.1582084,
          4.8818593,
          -15.01189,
          -3.327801,
          -19.12187,
          -15.0082245,
          -0.6164676,
          0.4678666,
          -13.838858,
          -2.367651,
          -17.009996,
          -18.849522,
          -6.4683237,
          -6.117105,
          -12.322692,
          -5.9298186,
          0.03697565,
          -0.12524994,
          -15.064227,
          -33.689167,
          -9.135637,
          -20.255968,
          -3.6797693,
          1.5569912,
          -5.789939,
          11.27095,
          -3.276543,
          8.674701,
          7.8243375,
          11.478823,
          11.78023,
          -8.344518,
          11.690681,
          8.217121,
          -11.347623,
          10.171544,
          12.339234,
          9.09078,
          9.086742,
          12.557006,
          -15.790586,
          -12.200227,
          -10.683229,
          7.82642,
          -14.033252,
          13.402918,
          9.215327,
          14.486631,
          -14.4183035,
          7.9552784,
          -29.189646,
          13.412934,
          12.213573,
          -14.770663,
          11.53951,
          -5.57259,
          -10.46602,
          -9.028149,
          -9.281089,
          -12.377754,
          -11.166178,
          -8.387389,
          -9.492167,
          -11.932869,
          -14.632713,
          -15.920534,
          -14.066976,
          -14.627968,
          -11.378767,
          -15.470685,
          -14.057025,
          -16.174173,
          -15.873791,
          -16.121675,
          -13.379007,
          4.07481,
          -50.663662,
          -14.722775,
          -20.211147,
          -14.492316,
          9.429669,
          -9.542307,
          -13.784983,
          -13.016985,
          -13.699286,
          -20.322302,
          6.1440396,
          -11.708119,
          -19.261906,
          15.999267,
          6.163735,
          50.08624,
          -20.935022,
          -13.026766,
          3.2716157,
          2.5379279,
          2.798147,
          1.3499749,
          2.1601317,
          0.16373104,
          2.4076147,
          17.595709,
          0.98038435,
          2.70345,
          -22.860546,
          2.9528818,
          0.3485465,
          -0.22405607,
          -2.0676587,
          -2.0753121,
          -1.4022917,
          6.0480533,
          3.9404824,
          1.1582876,
          0.3531959,
          2.4117358,
          0.10965499,
          1.0159023,
          0.27990013,
          -0.056579184,
          0.10317689,
          -0.28914934,
          1.1396415,
          0.10674733,
          -0.49254918,
          -29.631245,
          -44.134132,
          7.8775687,
          1.0470093,
          -3.2939422,
          -9.126537,
          -10.08393,
          2.3986006,
          -13.264231,
          -12.487868,
          -13.824153,
          -12.85937,
          -12.78761,
          -3.6115103,
          -18.53005,
          -13.74021,
          -17.312336,
          -14.89829,
          -13.333416,
          -6.668586,
          -15.497357,
          -8.220649,
          -3.5458326,
          -0.36376408,
          6.421601,
          13.468782,
          -10.429584,
          -21.287127,
          -4.161513,
          -11.009735,
          -17.499681,
          -6.5064216,
          13.496671,
          -4.427532,
          -9.976065,
          7.834874,
          4.795425,
          1.5275832,
          -9.640131,
          -5.6379523,
          -14.059243,
          -12.295872,
          -19.175186,
          -3.1745493,
          5.1744275,
          -32.272503,
          3.3128107,
          4.0527425,
          -6.350924,
          3.1360996,
          5.13346,
          -13.562428,
          -12.5058775,
          -5.047989,
          -13.750917,
          -2.0636442,
          -10.501161,
          -10.817899,
          -20.515976,
          -15.423579,
          -18.938215,
          -11.153258,
          -14.719285,
          -17.671297,
          -20.944239,
          -15.030816,
          -23.003115,
          -6.6145887,
          -10.030234,
          -8.531632,
          -18.474747,
          -36.041676,
          22.374178,
          -24.786058,
          -45.76431,
          -33.037212,
          -17.328573,
          -35.852562,
          -45.19432,
          -41.927147,
          -12.4225855,
          -25.224468,
          -27.100542,
          -49.646046,
          -25.06087,
          -25.023565,
          -19.015253,
          -1.4774038,
          -19.172781,
          -19.180506,
          -28.825481,
          -10.557581,
          -17.712051,
          -4.1578016,
          -27.904514,
          -10.974059,
          -19.255342,
          24.509964,
          -40.348072,
          -40.74786,
          -49.624218,
          -40.375866,
          -44.79216,
          -44.83116,
          -48.34788,
          -47.00939,
          13.046056,
          -12.44094,
          -8.219224,
          -21.144827,
          -44.811653,
          -16.735691,
          56.237843,
          -17.56834,
          -47.967285,
          -20.328867,
          -35.700504,
          -33.694103,
          -32.95001,
          -25.451168,
          -42.318897,
          -13.229407,
          -32.334053,
          -18.323177,
          12.111379,
          11.954108,
          -47.116695,
          -44.0227,
          -35.874786,
          -43.05096,
          -42.929836,
          -43.958405,
          -41.84662,
          -35.83225,
          -46.09855,
          -32.721718,
          -32.442226,
          -32.7723,
          -29.709316,
          -18.862696,
          11.31694,
          11.367117,
          27.603228,
          -51.251038,
          7.426485,
          7.3778534,
          7.6124315,
          7.648301,
          8.042794,
          7.9944105,
          32.116295,
          32.116295,
          -29.28699,
          -26.027718,
          27.592344,
          20.854275,
          20.876703,
          24.263924,
          5.0609236,
          -50.52601,
          -12.97748,
          -46.16528,
          -46.264328,
          -23.631678,
          -25.425442,
          29.322077,
          -43.18072,
          -46.187298,
          -46.370068,
          -38.267796,
          -51.27439,
          -51.220318,
          -51.09602,
          -51.30176,
          -51.488598,
          -51.427643,
          -51.429695,
          -44.782265,
          -44.8237,
          -40.89184,
          -45.50702,
          -44.46183,
          -10.616912,
          -8.998175,
          -10.496059,
          -11.606959,
          -11.270978,
          -10.956654,
          -11.337637,
          -12.507068,
          -12.411419,
          -11.028883,
          -11.532283,
          -9.737773,
          -10.828789,
          -11.98848,
          -10.256785,
          -12.163247,
          -10.581621,
          -10.37094,
          -11.080037,
          -8.650701,
          -10.039792,
          -9.600106,
          -9.130991,
          -9.265104,
          -7.31464,
          -9.155754,
          -8.620919,
          -7.812502,
          -10.597005,
          -10.025646,
          -10.47112,
          -7.5750074,
          31.934002,
          13.603469,
          -9.59608,
          -23.68139,
          -27.681608,
          -19.688847,
          -19.38517,
          -18.7006,
          -16.679722,
          -37.938377,
          -19.390627,
          -37.238415,
          -18.08418,
          -16.815577,
          -10.902158,
          -10.443842,
          -11.987075,
          -11.804627,
          -10.488331,
          -36.224915,
          45.12437,
          44.70309,
          46.994015,
          -3.8310492,
          20.803492,
          -22.850489,
          32.290848,
          7.3380938,
          34.49395,
          -17.024366,
          -18.43172,
          -13.91068,
          -10.773543,
          1.6797621,
          -23.895678,
          -13.290459,
          -48.64203,
          -47.654175,
          -47.46911,
          -48.095085,
          -31.411543,
          24.263166,
          -33.463642,
          -15.907946,
          1.8719293,
          1.8806766,
          -10.297986,
          -10.294184,
          -18.173824,
          -51.892036,
          -51.81181,
          7.3441157,
          -18.914509,
          -43.37953,
          4.0669856,
          59.84764,
          -14.91245,
          -22.652649,
          -33.45181,
          -50.017895,
          -23.039927,
          -41.307568,
          -36.401836,
          -35.38533,
          -21.405436,
          -51.063847,
          -49.941032,
          -13.399246,
          -14.130555,
          -8.277299,
          4.073285,
          15.122108,
          -0.75185686,
          -31.355995,
          18.161343,
          12.354502,
          -45.076065,
          -36.052696,
          -36.296352,
          -40.888165,
          -21.166565,
          -42.393337,
          -21.30837,
          -22.022438,
          16.007658,
          26.666128,
          -13.497154,
          49.00386,
          -36.294575,
          -34.51343,
          -37.892868,
          -37.83561,
          42.235867,
          42.22138,
          42.210957,
          42.235207,
          18.942062,
          18.955883,
          -16.881313,
          -27.54045,
          -24.019728,
          -26.088722,
          38.05148,
          -28.336737,
          -25.214724,
          -39.99494,
          -31.239008,
          -29.701674,
          -31.793877,
          -28.292402,
          -35.090683,
          -39.33566,
          -15.272846,
          -34.721024,
          40.827663,
          40.856472,
          -38.56868,
          -41.40213,
          -26.692963,
          -24.350481,
          -15.162159,
          -16.073727,
          -34.18492,
          -38.548595,
          -28.99374,
          32.268757,
          -48.94814,
          -26.615973,
          30.692303,
          -33.33218,
          -34.956955,
          -15.130217,
          -16.092512,
          -21.62898,
          -3.715093,
          -34.16168,
          -21.639828,
          24.584412,
          25.221676,
          48.002377,
          48.254986,
          48.210003,
          46.58218,
          4.6508822,
          -29.1879,
          -36.108498,
          -35.961594,
          -50.106125,
          -20.757883,
          -50.025925,
          -50.272503,
          -50.121277,
          -3.2139626,
          -43.51458,
          -43.575783,
          -45.51011,
          -45.402107,
          -43.72679,
          -46.392593,
          -48.12477,
          -27.555147,
          -44.72019,
          -45.611042,
          -43.830788,
          -21.08511,
          25.518818,
          -21.709177,
          -53.65535,
          -30.220444,
          -53.005695,
          -48.452877,
          -47.238556,
          -13.666763,
          -13.629175,
          -45.35618,
          -39.446785,
          -36.52866,
          -27.835335,
          -58.072617,
          -22.65171,
          -40.582428,
          -48.551266,
          -48.34086,
          -32.199276,
          -33.591675,
          -15.309562,
          -14.204025,
          -21.842302,
          -21.594885,
          -53.48298,
          -50.67661,
          -13.065662,
          -13.056064,
          -5.860286,
          -50.3779,
          -50.337837,
          -50.33015,
          -50.396538,
          -51.376,
          -46.010166,
          -21.797106,
          -21.805498,
          -52.574196,
          -49.885777,
          -50.055466,
          -50.218594,
          -50.796806,
          -51.762794,
          -52.018112,
          -22.510818,
          -48.777412,
          -48.852978,
          4.315826,
          32.911335,
          32.970745,
          32.718964,
          32.077972,
          32.375576,
          32.397373,
          33.031,
          32.12797,
          -33.440075,
          1.5915738,
          1.4873396,
          -48.914757,
          -49.112885,
          -58.068333,
          -2.4341953,
          -3.9026885,
          -8.974496,
          -9.171413,
          -9.883087,
          -9.771224,
          -9.850205,
          -27.170496,
          15.42357,
          -33.82663,
          -34.661327,
          -10.7464,
          -21.507015,
          -23.510508,
          -16.361443,
          -32.76092,
          7.008624,
          6.926926,
          37.501892,
          37.256462,
          5.3445024,
          37.989655,
          5.3078876,
          -36.344803,
          -29.88224,
          -49.346004,
          -49.11052,
          -27.237715,
          -27.505419,
          -6.954783,
          38.367107,
          -15.784808,
          -15.696766,
          -21.566048,
          -47.89715,
          -14.994962,
          -16.710299,
          -44.74645,
          -58.107826,
          -17.700218,
          27.214186,
          -39.490353,
          -32.79027,
          -39.633583,
          -38.11231,
          -48.401257,
          -34.97534,
          -16.905115,
          -49.79526,
          -26.560078,
          -35.405315,
          -36.07842,
          -47.091457,
          -49.6461,
          -26.261538,
          -27.068605,
          -50.788128,
          -50.169758,
          -36.80576,
          -32.68652,
          53.32641,
          -6.237334,
          19.830566,
          19.835522,
          61.334938,
          62.853523,
          -13.612587,
          -21.883394,
          -21.742016,
          -19.673689,
          -54.475098,
          -53.93011,
          -53.58691,
          -53.986725,
          -54.469162,
          -54.00626,
          -51.092285,
          -50.93494,
          -45.163116,
          -48.233833,
          -50.81379,
          -50.293686,
          -30.587599,
          -36.6563,
          -34.839622,
          -35.9257,
          -31.571043,
          -32.878975,
          -33.52677,
          20.103497,
          -41.441753,
          -37.522606,
          -30.34297,
          -36.79511,
          -37.75558,
          -34.359432,
          -36.276726,
          -37.302658,
          -33.093327,
          -39.20676,
          -40.21714,
          -30.93137,
          -36.153683,
          -37.306637,
          -33.89121,
          -39.1618,
          -35.77257,
          -33.148567,
          -30.072096,
          -30.596165,
          -37.21635,
          -27.761084,
          -39.327347,
          -35.58131,
          -34.187637,
          -29.059444,
          -47.71923,
          -50.15219,
          -56.80798,
          -13.544738,
          5.579961,
          5.7162127,
          -13.899948,
          -13.689966,
          -14.064457,
          7.3312817,
          6.8684335,
          6.9810348,
          4.3765407,
          5.179488,
          -2.5524743,
          -4.747716,
          12.23692,
          -5.452386,
          65.35355,
          22.863054,
          27.74589,
          29.816656,
          29.903585,
          26.355307,
          43.995102,
          46.79986,
          24.25295,
          23.818132,
          -0.71189034,
          20.269556,
          -5.2864957,
          -4.9828663,
          -5.123302,
          -24.759993,
          23.195004,
          -8.527712,
          -36.79039,
          17.317888,
          11.18728,
          46.751278,
          -6.54986,
          42.544662,
          26.690617,
          14.779647,
          34.9757,
          -40.417953,
          -1.4986535,
          -1.5122991,
          -37.242294,
          -20.27138,
          7.262916,
          -10.673985,
          -13.946045,
          -14.032342,
          -14.394999,
          13.268477,
          -16.388355,
          -19.412683,
          7.4689097,
          51.082897,
          36.58256,
          3.3427973,
          19.859999,
          19.886137,
          20.970596,
          37.869892,
          22.639385,
          22.227623,
          48.916016,
          47.19765,
          -32.742496,
          -4.847423,
          -3.957242,
          -13.707403,
          -52.21055,
          -52.073418,
          9.760794,
          -23.526255,
          -8.898382,
          27.400162,
          27.456556,
          27.304651,
          -56.797024,
          -30.62141,
          -30.743462,
          -23.164316,
          -42.92329,
          -37.056137,
          -40.32508,
          10.302732,
          11.341569,
          18.800468,
          -28.423504,
          -2.9731452,
          56.782516,
          56.127155,
          56.451927,
          53.354153,
          55.610985,
          53.658802,
          64.25116,
          61.06389,
          47.616333,
          48.177147,
          46.548473,
          52.37001,
          -19.059986,
          27.526749,
          28.615784,
          -19.931295,
          -14.854994,
          -22.537167,
          -32.196102,
          56.92258,
          -6.7276244,
          16.848366,
          -15.406844,
          20.107769,
          26.206356,
          -47.113884,
          -54.131325,
          -51.86075,
          -50.811195,
          -50.683956,
          -51.65195,
          -53.75541,
          -48.01165,
          -51.893314,
          -51.937843,
          15.703379,
          20.596186,
          44.674095,
          24.974276,
          3.8948476,
          4.133836,
          -47.86545,
          55.891716,
          -17.808868,
          28.606321,
          28.650208,
          -17.502102,
          -17.332232,
          -35.735725,
          -35.632534,
          49.94396,
          35.35593,
          16.801048,
          -9.241407,
          -20.739105,
          -28.597486,
          45.62992,
          -31.906404,
          -32.5724,
          -24.925926,
          16.880259,
          16.78085,
          -22.54483,
          43.253548,
          58.61011,
          58.642635,
          46.329094,
          23.985785,
          18.83009,
          35.6142,
          -2.2708452,
          -24.282581,
          -28.20936,
          -43.00814,
          -32.4217,
          9.332404,
          11.77373,
          58.007328,
          12.404227,
          11.463367,
          -6.601802,
          -9.925788,
          -0.14185077,
          10.313708,
          10.717303,
          12.20831,
          11.013713,
          8.838401,
          8.965276,
          9.140746,
          9.185365,
          9.708111,
          8.875022,
          9.868947,
          27.485802,
          26.501541,
          -37.854332,
          -48.020546,
          33.880646,
          21.437088,
          -18.255962,
          -33.268993,
          8.025089,
          -51.375324,
          36.62706,
          51.74797,
          22.885508,
          47.915657,
          -2.5742207,
          -9.392313,
          -21.028755,
          -59.17389,
          49.59101,
          50.76969,
          51.51649,
          50.44385,
          50.559124,
          -32.048492,
          -3.536376,
          47.839825,
          18.42807,
          17.432608,
          17.56727,
          20.752838,
          17.022831,
          38.694656,
          -47.760487,
          -47.438717,
          -49.44756,
          -40.059254,
          -14.390811,
          -7.820341,
          23.928139,
          37.79304,
          53.512844,
          47.73335,
          34.575504,
          50.890785,
          -29.003994,
          -25.3295,
          -25.126888,
          -25.149895,
          -25.221601,
          26.890745,
          15.350882,
          16.170311,
          -40.011333,
          -36.03062,
          21.445084,
          60.059017,
          -34.306263,
          -42.456497,
          59.125233,
          -7.1689343,
          8.787799,
          8.4812155,
          7.985229,
          51.628933,
          51.626064,
          -47.100197,
          -13.272438,
          -8.9274235,
          -42.428234,
          48.834625,
          25.259117,
          10.089069,
          10.843089,
          9.948919,
          9.73067,
          -8.710856,
          29.666634,
          10.98464,
          11.781774,
          -8.84197,
          -1.5168349,
          4.1652594,
          40.529713,
          38.29254,
          19.70598,
          -37.115295,
          13.956782,
          -27.70506,
          -24.898811,
          -27.579231,
          -18.114952,
          -12.650085,
          23.624338,
          13.69797,
          -27.166275,
          43.62377,
          47.20833,
          42.085026,
          40.824673,
          -49.85471,
          12.714182,
          47.129883,
          41.58277,
          46.425755,
          -2.4542112,
          10.697901,
          10.695139,
          24.696451,
          35.274227,
          29.509516,
          -4.76476,
          6.906192,
          38.26726,
          50.751575,
          56.78844,
          42.063313,
          54.729816,
          46.53464,
          40.52102,
          -41.002796,
          -18.88323,
          -45.68657,
          -27.561594,
          -6.9248915,
          15.142657,
          -31.684845,
          46.35231,
          2.0665853,
          -50.205196,
          -50.511974,
          -6.932359,
          -13.176052,
          -11.717076,
          -49.871185,
          20.091429,
          18.140793,
          41.731903,
          -15.215883,
          -18.859177,
          -14.369449,
          13.258477,
          -49.199074,
          25.01292,
          26.047585,
          -41.021267,
          -23.688639,
          -41.152042,
          23.062105,
          -14.237077,
          31.16824,
          31.167303,
          8.655957,
          27.544865,
          -23.908575,
          -29.078789,
          -36.10369,
          5.7347937,
          -29.327877,
          32.621853,
          32.54096,
          -27.41395,
          -27.230618,
          -33.067547,
          50.262604,
          50.246292,
          -50.15933,
          -26.10887,
          22.606485,
          22.58892,
          -21.335485,
          -21.436317,
          -13.442764,
          -7.4248676,
          -8.124884,
          24.241531,
          -11.01136,
          -9.544612,
          -10.010169,
          -28.500147,
          -28.502903,
          -53.27261,
          -52.971577,
          -12.999772,
          -15.021648,
          -34.367535,
          -26.479294,
          -33.308804,
          61.087944,
          10.634491,
          -10.665823,
          -20.0036,
          -19.601503,
          -47.990738,
          -48.579544,
          -48.497196,
          -42.521515,
          -42.504242,
          -42.52799,
          -43.378357,
          -48.246998,
          -48.682064,
          -48.627167,
          -48.81549,
          -44.936386,
          -23.867554,
          -25.354477,
          -19.591938,
          64.48891,
          13.855234,
          31.277811,
          16.281874,
          64.554825,
          -16.448566,
          -43.716915,
          1.7320335,
          49.99546,
          -27.676336,
          -19.888273,
          -24.380936,
          -16.26159,
          -22.462637,
          -22.745628,
          -27.676258,
          -8.767418,
          -48.390812,
          -26.905035,
          -20.565887,
          -19.580297,
          -28.430065,
          -0.17401823,
          -5.6168404,
          10.172568,
          47.328224,
          8.927146,
          13.512879,
          -2.625672,
          -0.830487,
          -2.105456,
          1.9659101,
          6.254516,
          -2.5418909,
          6.4464936,
          7.94723,
          -17.229183,
          7.1319957,
          0.8323767,
          6.129213,
          3.2416883,
          0.8415187,
          0.89851475,
          9.002899,
          -1.9537438,
          9.004784,
          9.280691,
          16.68795,
          -1.40507,
          17.420721,
          -7.210639,
          10.367205,
          10.536046,
          11.52076,
          -8.76453,
          11.102789,
          5.7069144,
          -28.529139,
          11.096691,
          9.28207,
          -42.368973,
          -42.368973,
          4.90797,
          -18.721539,
          -8.253123,
          -5.0664487,
          -20.27365,
          -10.404811,
          -5.888358,
          -9.011523,
          -13.1429205,
          -46.840904,
          -15.203806,
          -15.4205675,
          -10.539129,
          -9.195025,
          7.648388,
          -4.942403,
          -11.517683,
          10.001925,
          5.7069144,
          -8.5264,
          -12.091272,
          9.809709,
          4.3503146,
          -9.639267,
          1.9032687,
          7.174277,
          9.876297,
          14.651123,
          8.008557,
          8.903427,
          6.2724648,
          7.946955,
          -6.730175,
          10.913991,
          56.921337,
          -1.432869,
          7.4525094,
          13.464489,
          -13.345014,
          7.353253,
          2.7856896,
          -8.727213,
          -9.365767,
          -10.86246,
          -6.3255672,
          1.639463,
          -3.600118,
          -8.044349,
          -3.8805437,
          8.87688,
          8.3401375,
          -42.407513,
          -16.592281,
          -43.002792,
          8.733038,
          -20.390917,
          -10.136233,
          -11.030834,
          42.217213,
          -9.709807,
          -11.363591,
          -8.164918,
          8.896353,
          37.316204,
          10.463013,
          -46.11443,
          -32.207386,
          2.9811795,
          2.9411547,
          -17.155365,
          -32.30988,
          -32.356262,
          33.677567,
          -35.53067,
          -31.605263,
          43.581745,
          9.897088,
          -39.32647,
          -33.94369,
          -40.95202,
          -40.03501,
          -39.45868,
          -40.291344,
          -46.3941,
          -40.05326,
          -40.44927,
          -33.715473,
          -13.015712,
          6.4472303,
          -44.784992,
          -28.06951,
          -25.575546,
          -40.285744,
          -31.360197,
          -21.800735,
          -48.87574,
          -46.25151,
          -34.72122,
          -12.856005,
          -23.83853,
          9.938737,
          -50.059166,
          -59.20074,
          -44.75836,
          -44.756207,
          -49.26697,
          -29.732042,
          -29.810059,
          -31.039778,
          34.517517,
          -40.577785,
          -41.926823,
          -46.26965,
          -45.848732,
          -47.425266,
          -46.94381,
          -46.849,
          -5.9976006,
          -28.035654,
          -26.248894,
          -4.25391,
          4.801472,
          66.20911,
          10.816611,
          -30.80062,
          42.337154,
          43.61926,
          -2.3402987,
          -18.94369,
          14.945378,
          15.956448,
          14.988085,
          18.159626,
          13.707229,
          16.903715,
          16.17912,
          19.2324,
          9.677273,
          7.977822,
          -41.73549,
          -52.13697,
          -25.838394,
          -30.898556,
          -22.140614,
          -30.304823,
          -31.558693,
          7.5828023,
          30.590815,
          -54.879627,
          -37.92393,
          -38.88113,
          -42.62638,
          -39.758766,
          -42.17083,
          -44.93215,
          -43.33502,
          -44.77975,
          -43.71697,
          -43.41168,
          -43.805214,
          -42.382076,
          -44.12044,
          -43.924286,
          -39.833122,
          -46.865585,
          -47.966335,
          -43.565887,
          -42.387653,
          -45.951847,
          -45.389866,
          -41.73726,
          -41.945457,
          -46.178825,
          -40.221485,
          -39.739086,
          -46.242466,
          -46.86404,
          -47.232952,
          -46.70702,
          -42.19398,
          -44.027447,
          -42.505966,
          -44.066303,
          -46.449005,
          -45.893116,
          -46.70949,
          -44.393044,
          -43.733974,
          -42.99133,
          -41.212887,
          -41.280876,
          -42.108852,
          -44.278633,
          -42.61911,
          -40.830406,
          -45.492382,
          -45.52274,
          -42.173653,
          -40.261997,
          -45.213497,
          -43.92452,
          -43.451374,
          -42.707954,
          -43.373695,
          -41.551582,
          -43.77416,
          -44.616226,
          -43.07679,
          -42.401184,
          -43.259617,
          -44.79567,
          -47.368702,
          -45.494743,
          -49.075577,
          -47.551945,
          -45.91243,
          -45.122787,
          -45.02972,
          -42.988525,
          -46.27044,
          -45.90582,
          -44.852608,
          -44.858936,
          -45.77114,
          -44.999866,
          -45.142387,
          -45.966805,
          -45.946026,
          -46.961178,
          -44.62734,
          -46.957317,
          -47.195324,
          -47.823906,
          -42.68443,
          -34.330784,
          -22.776709,
          10.1322775,
          -6.012831,
          -25.046427,
          -20.200956,
          -16.369265,
          -13.812929,
          -21.613192,
          -16.599586,
          48.167152,
          -12.7523,
          5.4294524,
          -13.45984,
          -0.7045867,
          -18.99219,
          35.04787,
          35.07422,
          23.202272,
          -14.625569,
          -14.051263,
          5.9454412,
          -17.695814,
          -29.40526,
          -29.623997,
          -28.59252,
          -29.289791,
          -31.517378,
          -47.469913,
          -47.52611,
          -36.333355,
          9.428532,
          19.82465,
          -36.803936,
          -21.867537,
          -21.958698,
          -37.292812,
          -0.7627559,
          -7.853236,
          -17.30366,
          -18.029375,
          -13.119092,
          6.661896,
          0.077630624,
          6.156631,
          2.2566884,
          6.528634,
          -17.08984,
          0.3987206,
          -14.984912,
          -2.449991,
          -3.5901282,
          -18.836834,
          12.970162,
          3.8186634,
          -8.286479,
          2.5050557,
          -8.24804,
          -17.193024,
          -9.35267,
          -10.398843,
          -1.7196487,
          -14.309302,
          30.903019,
          15.35946,
          6.298393,
          6.0403314,
          38.437893,
          31.086784,
          5.914487,
          6.205051,
          5.1400743,
          5.075853,
          -49.91602,
          28.555965,
          -49.27865,
          11.458109,
          -50.184647,
          33.548885,
          -31.26085,
          -50.110287,
          9.36697,
          33.253967,
          -20.939415,
          -17.646652,
          -18.371368,
          -15.740131,
          -15.67836,
          -40.206787,
          -16.361092,
          41.073208,
          -7.801372,
          15.615674,
          3.3565643,
          37.85107,
          50.64823,
          41.239956,
          34.048798,
          -10.681679,
          -28.441856,
          -14.832204,
          -8.085402,
          -12.633631,
          13.979962,
          18.603464,
          10.889899,
          -15.146224,
          20.155107,
          29.391588,
          0.91671795,
          9.147832,
          0.7483277,
          -14.151887,
          -14.075721,
          7.417171,
          4.2462006,
          4.4429965,
          7.5375633,
          4.4380665,
          13.820024,
          9.626049,
          7.929102,
          3.4926653,
          -2.7702281,
          17.40755,
          8.270707,
          4.4338417,
          13.840737,
          8.323347,
          21.503681,
          20.80156,
          21.655807,
          9.538503,
          12.988031,
          20.293415,
          21.366323,
          19.747007,
          4.1266603,
          21.178068,
          22.305576,
          4.838444,
          11.825777,
          3.9901233,
          10.430884,
          20.342918,
          9.83266,
          13.887688,
          7.929102,
          4.857966,
          2.149151,
          5.91781,
          2.5721998,
          5.269561,
          3.5788996,
          9.413224,
          0.5720241,
          5.324222,
          3.3036666,
          7.4247828,
          11.301323,
          3.6628923,
          3.2894304,
          -2.7591374,
          0.8177007,
          9.247754,
          14.681448,
          2.228393,
          10.908791,
          11.152794,
          15.204996,
          15.031683,
          11.799148,
          3.758524,
          3.3109052,
          11.065178,
          0.79183936,
          11.379374,
          12.583996,
          7.9505644,
          16.439697,
          7.273666,
          8.397945,
          -0.6601367,
          13.414188,
          16.415804,
          14.902169,
          -1.767094,
          19.22003,
          2.4724717,
          2.4724717,
          9.598433,
          15.845741,
          11.848051,
          15.544584,
          7.164531,
          12.002328,
          9.141128,
          16.962442,
          18.552084,
          11.502666,
          16.187866,
          7.1945963,
          16.873161,
          4.3101296,
          7.4573693,
          -7.1659484,
          18.367962,
          6.668706,
          14.480425,
          15.732563,
          13.455023,
          2.558609,
          15.934512,
          3.6753924,
          6.7647176,
          13.616873,
          0.48417896,
          7.6612988,
          3.0490468,
          14.851505,
          16.390781,
          15.148079,
          6.6146517,
          17.40677,
          0.6288525,
          16.855053,
          11.215391,
          10.61407,
          17.466396,
          15.779056,
          9.765088,
          5.8090267,
          8.607866,
          3.157298,
          11.347352,
          1.3522694,
          11.615659,
          11.117299,
          14.909084,
          13.746168,
          12.565461,
          13.775367,
          7.3206096,
          6.946221,
          7.5825086,
          1.1975574,
          1.8662246,
          11.875704,
          8.506865,
          15.852591,
          0.14502001,
          2.9064937,
          11.268613,
          7.429366,
          8.491738,
          6.106658,
          6.2636986,
          1.8300303,
          6.1756577,
          7.2206297,
          12.459426,
          6.2946334,
          9.230078,
          16.274538,
          -1.2273257,
          4.29618,
          8.915518,
          3.0314946,
          1.9669377,
          2.6560493,
          6.714911,
          5.2602386,
          6.740616,
          13.699958,
          2.1136513,
          5.5933533,
          8.229688,
          14.187261,
          3.7488658,
          9.716672,
          0.6312402,
          -0.08575332,
          2.658324,
          6.413147,
          0.9931911,
          6.6476216,
          9.418759,
          8.295514,
          5.9332643,
          4.8675475,
          6.2635136,
          5.213534,
          10.001591,
          9.005532,
          3.6191149,
          11.303646,
          4.448278,
          12.353867,
          5.9591613,
          2.8884728,
          3.0324414,
          -8.461222,
          -9.505319,
          -12.022119,
          -10.526358,
          0.69592744,
          -17.242872,
          -14.596408,
          -10.210471,
          -11.241585,
          -9.437494,
          -13.007864,
          -9.536778,
          -12.736074,
          -10.807658,
          -12.514082,
          -13.278093,
          -12.996222,
          -13.994495,
          -13.022939,
          -17.088722,
          -13.903975,
          -16.306349,
          -16.547384,
          -13.223256,
          -12.5224695,
          -13.6265335,
          -15.572793,
          -11.965538,
          -13.358725,
          -16.052843,
          -17.499844,
          -17.49685,
          -15.741929,
          -15.508868,
          -14.554384,
          -15.473459,
          -14.839507,
          -13.7405815,
          -15.053037,
          -14.768939,
          -13.622127,
          -13.958597,
          -13.674125,
          -15.057254,
          -13.194598,
          -13.842767,
          -12.77149,
          -12.559845,
          -13.432679,
          -13.938078,
          -11.444829,
          -12.039155,
          -15.256696,
          -13.168905,
          -12.868471,
          1.5611621,
          12.09673,
          1.1978893,
          14.106388,
          12.806537,
          22.14376,
          11.871794,
          14.636693,
          12.354201,
          19.611162,
          13.069743,
          15.063866,
          37.140255,
          11.712963,
          0.7662127,
          3.1995356,
          14.037997,
          16.218592,
          8.054284,
          11.12875,
          13.828732,
          12.792859,
          -1.2141234,
          21.045975,
          19.059196,
          22.325687,
          18.903837,
          18.680521,
          17.289701,
          18.634846,
          -1.8374804,
          12.073392,
          -0.5529552,
          4.4504657,
          11.828364,
          12.487789,
          16.959406,
          -7.0809383,
          14.261387,
          0.44036958,
          -0.36754763,
          13.643489,
          11.346647,
          14.777018,
          -1.241304,
          15.628851,
          -5.5375547,
          4.686822,
          2.654827,
          8.813893,
          14.005314,
          6.1871834,
          12.663919,
          13.407475,
          11.922597,
          13.763717,
          6.902906,
          13.790304,
          -0.5276375,
          12.406373,
          20.272827,
          -0.69985366,
          6.936587,
          13.859541,
          12.657289,
          10.0827265,
          12.96511,
          7.2234864,
          14.915495,
          4.7654233,
          16.804546,
          8.371439,
          9.227491,
          31.246202,
          16.349644,
          -5.979108,
          4.9091654,
          2.9193854,
          8.744348,
          4.0316706,
          19.398668,
          19.386255,
          2.1759696,
          18.658882,
          0.21339315,
          4.991054,
          -1.3067558,
          5.1500382,
          10.728853,
          6.4707804,
          4.9606357,
          6.979115,
          15.088817,
          12.896546,
          13.245003,
          2.5946507,
          9.601343,
          9.929546,
          7.570946,
          5.5035896,
          5.721514,
          18.1062,
          12.433393,
          3.2873623,
          5.8389053,
          7.6609907,
          -1.6330605,
          6.8786273,
          5.6051235,
          15.7139635,
          18.31211,
          6.6956344,
          3.8127353,
          -1.6377897,
          13.092568,
          11.679468,
          3.9584124,
          10.274301,
          11.298907,
          3.3174396,
          4.08347,
          8.971412,
          4.6459045,
          5.961288,
          2.771262,
          19.09323,
          18.721334,
          14.072377,
          7.234372,
          18.49369,
          12.106049,
          4.1630726,
          5.943877,
          9.945969,
          10.152765,
          3.8373547,
          9.352638,
          13.752697,
          7.168062,
          5.2789083,
          8.397725,
          2.5392487,
          2.2655456,
          -0.84438956,
          2.55674,
          10.6607,
          5.757753,
          0.03684385,
          8.657114,
          7.931015,
          4.7454524,
          7.9532933,
          15.846964,
          4.8577538,
          8.712298,
          2.0507028,
          16.041618,
          12.475355,
          10.41167,
          17.52513,
          14.954857,
          12.180603,
          10.435481,
          5.885284,
          4.66376,
          17.474997,
          2.5328097,
          15.8638,
          21.497305,
          14.206076,
          -1.4653507,
          16.782248,
          15.50479,
          10.242267,
          14.79546,
          17.31493,
          15.078908,
          5.2497673,
          21.308617,
          17.658869,
          14.815122,
          16.933386,
          4.3222833,
          15.05883,
          1.3232713,
          5.8134847,
          9.008639,
          7.31611,
          20.97113,
          4.7617564,
          7.4854794,
          17.010925,
          18.373444,
          20.442335,
          17.902447,
          13.656276,
          13.085191,
          13.711713,
          18.655184,
          -2.8205884,
          -9.4273405,
          -2.3686256,
          -1.8739779,
          48.0083,
          48.01954,
          52.452225,
          52.47204,
          31.399912,
          15.165058,
          18.92832,
          -14.82648,
          54.87401,
          12.948971,
          51.199467,
          35.272114
         ],
         "yaxis": "y"
        }
       ],
       "layout": {
        "legend": {
         "tracegroupgap": 0
        },
        "template": {
         "data": {
          "bar": [
           {
            "error_x": {
             "color": "#2a3f5f"
            },
            "error_y": {
             "color": "#2a3f5f"
            },
            "marker": {
             "line": {
              "color": "#E5ECF6",
              "width": 0.5
             },
             "pattern": {
              "fillmode": "overlay",
              "size": 10,
              "solidity": 0.2
             }
            },
            "type": "bar"
           }
          ],
          "barpolar": [
           {
            "marker": {
             "line": {
              "color": "#E5ECF6",
              "width": 0.5
             },
             "pattern": {
              "fillmode": "overlay",
              "size": 10,
              "solidity": 0.2
             }
            },
            "type": "barpolar"
           }
          ],
          "carpet": [
           {
            "aaxis": {
             "endlinecolor": "#2a3f5f",
             "gridcolor": "white",
             "linecolor": "white",
             "minorgridcolor": "white",
             "startlinecolor": "#2a3f5f"
            },
            "baxis": {
             "endlinecolor": "#2a3f5f",
             "gridcolor": "white",
             "linecolor": "white",
             "minorgridcolor": "white",
             "startlinecolor": "#2a3f5f"
            },
            "type": "carpet"
           }
          ],
          "choropleth": [
           {
            "colorbar": {
             "outlinewidth": 0,
             "ticks": ""
            },
            "type": "choropleth"
           }
          ],
          "contour": [
           {
            "colorbar": {
             "outlinewidth": 0,
             "ticks": ""
            },
            "colorscale": [
             [
              0,
              "#0d0887"
             ],
             [
              0.1111111111111111,
              "#46039f"
             ],
             [
              0.2222222222222222,
              "#7201a8"
             ],
             [
              0.3333333333333333,
              "#9c179e"
             ],
             [
              0.4444444444444444,
              "#bd3786"
             ],
             [
              0.5555555555555556,
              "#d8576b"
             ],
             [
              0.6666666666666666,
              "#ed7953"
             ],
             [
              0.7777777777777778,
              "#fb9f3a"
             ],
             [
              0.8888888888888888,
              "#fdca26"
             ],
             [
              1,
              "#f0f921"
             ]
            ],
            "type": "contour"
           }
          ],
          "contourcarpet": [
           {
            "colorbar": {
             "outlinewidth": 0,
             "ticks": ""
            },
            "type": "contourcarpet"
           }
          ],
          "heatmap": [
           {
            "colorbar": {
             "outlinewidth": 0,
             "ticks": ""
            },
            "colorscale": [
             [
              0,
              "#0d0887"
             ],
             [
              0.1111111111111111,
              "#46039f"
             ],
             [
              0.2222222222222222,
              "#7201a8"
             ],
             [
              0.3333333333333333,
              "#9c179e"
             ],
             [
              0.4444444444444444,
              "#bd3786"
             ],
             [
              0.5555555555555556,
              "#d8576b"
             ],
             [
              0.6666666666666666,
              "#ed7953"
             ],
             [
              0.7777777777777778,
              "#fb9f3a"
             ],
             [
              0.8888888888888888,
              "#fdca26"
             ],
             [
              1,
              "#f0f921"
             ]
            ],
            "type": "heatmap"
           }
          ],
          "heatmapgl": [
           {
            "colorbar": {
             "outlinewidth": 0,
             "ticks": ""
            },
            "colorscale": [
             [
              0,
              "#0d0887"
             ],
             [
              0.1111111111111111,
              "#46039f"
             ],
             [
              0.2222222222222222,
              "#7201a8"
             ],
             [
              0.3333333333333333,
              "#9c179e"
             ],
             [
              0.4444444444444444,
              "#bd3786"
             ],
             [
              0.5555555555555556,
              "#d8576b"
             ],
             [
              0.6666666666666666,
              "#ed7953"
             ],
             [
              0.7777777777777778,
              "#fb9f3a"
             ],
             [
              0.8888888888888888,
              "#fdca26"
             ],
             [
              1,
              "#f0f921"
             ]
            ],
            "type": "heatmapgl"
           }
          ],
          "histogram": [
           {
            "marker": {
             "pattern": {
              "fillmode": "overlay",
              "size": 10,
              "solidity": 0.2
             }
            },
            "type": "histogram"
           }
          ],
          "histogram2d": [
           {
            "colorbar": {
             "outlinewidth": 0,
             "ticks": ""
            },
            "colorscale": [
             [
              0,
              "#0d0887"
             ],
             [
              0.1111111111111111,
              "#46039f"
             ],
             [
              0.2222222222222222,
              "#7201a8"
             ],
             [
              0.3333333333333333,
              "#9c179e"
             ],
             [
              0.4444444444444444,
              "#bd3786"
             ],
             [
              0.5555555555555556,
              "#d8576b"
             ],
             [
              0.6666666666666666,
              "#ed7953"
             ],
             [
              0.7777777777777778,
              "#fb9f3a"
             ],
             [
              0.8888888888888888,
              "#fdca26"
             ],
             [
              1,
              "#f0f921"
             ]
            ],
            "type": "histogram2d"
           }
          ],
          "histogram2dcontour": [
           {
            "colorbar": {
             "outlinewidth": 0,
             "ticks": ""
            },
            "colorscale": [
             [
              0,
              "#0d0887"
             ],
             [
              0.1111111111111111,
              "#46039f"
             ],
             [
              0.2222222222222222,
              "#7201a8"
             ],
             [
              0.3333333333333333,
              "#9c179e"
             ],
             [
              0.4444444444444444,
              "#bd3786"
             ],
             [
              0.5555555555555556,
              "#d8576b"
             ],
             [
              0.6666666666666666,
              "#ed7953"
             ],
             [
              0.7777777777777778,
              "#fb9f3a"
             ],
             [
              0.8888888888888888,
              "#fdca26"
             ],
             [
              1,
              "#f0f921"
             ]
            ],
            "type": "histogram2dcontour"
           }
          ],
          "mesh3d": [
           {
            "colorbar": {
             "outlinewidth": 0,
             "ticks": ""
            },
            "type": "mesh3d"
           }
          ],
          "parcoords": [
           {
            "line": {
             "colorbar": {
              "outlinewidth": 0,
              "ticks": ""
             }
            },
            "type": "parcoords"
           }
          ],
          "pie": [
           {
            "automargin": true,
            "type": "pie"
           }
          ],
          "scatter": [
           {
            "fillpattern": {
             "fillmode": "overlay",
             "size": 10,
             "solidity": 0.2
            },
            "type": "scatter"
           }
          ],
          "scatter3d": [
           {
            "line": {
             "colorbar": {
              "outlinewidth": 0,
              "ticks": ""
             }
            },
            "marker": {
             "colorbar": {
              "outlinewidth": 0,
              "ticks": ""
             }
            },
            "type": "scatter3d"
           }
          ],
          "scattercarpet": [
           {
            "marker": {
             "colorbar": {
              "outlinewidth": 0,
              "ticks": ""
             }
            },
            "type": "scattercarpet"
           }
          ],
          "scattergeo": [
           {
            "marker": {
             "colorbar": {
              "outlinewidth": 0,
              "ticks": ""
             }
            },
            "type": "scattergeo"
           }
          ],
          "scattergl": [
           {
            "marker": {
             "colorbar": {
              "outlinewidth": 0,
              "ticks": ""
             }
            },
            "type": "scattergl"
           }
          ],
          "scattermapbox": [
           {
            "marker": {
             "colorbar": {
              "outlinewidth": 0,
              "ticks": ""
             }
            },
            "type": "scattermapbox"
           }
          ],
          "scatterpolar": [
           {
            "marker": {
             "colorbar": {
              "outlinewidth": 0,
              "ticks": ""
             }
            },
            "type": "scatterpolar"
           }
          ],
          "scatterpolargl": [
           {
            "marker": {
             "colorbar": {
              "outlinewidth": 0,
              "ticks": ""
             }
            },
            "type": "scatterpolargl"
           }
          ],
          "scatterternary": [
           {
            "marker": {
             "colorbar": {
              "outlinewidth": 0,
              "ticks": ""
             }
            },
            "type": "scatterternary"
           }
          ],
          "surface": [
           {
            "colorbar": {
             "outlinewidth": 0,
             "ticks": ""
            },
            "colorscale": [
             [
              0,
              "#0d0887"
             ],
             [
              0.1111111111111111,
              "#46039f"
             ],
             [
              0.2222222222222222,
              "#7201a8"
             ],
             [
              0.3333333333333333,
              "#9c179e"
             ],
             [
              0.4444444444444444,
              "#bd3786"
             ],
             [
              0.5555555555555556,
              "#d8576b"
             ],
             [
              0.6666666666666666,
              "#ed7953"
             ],
             [
              0.7777777777777778,
              "#fb9f3a"
             ],
             [
              0.8888888888888888,
              "#fdca26"
             ],
             [
              1,
              "#f0f921"
             ]
            ],
            "type": "surface"
           }
          ],
          "table": [
           {
            "cells": {
             "fill": {
              "color": "#EBF0F8"
             },
             "line": {
              "color": "white"
             }
            },
            "header": {
             "fill": {
              "color": "#C8D4E3"
             },
             "line": {
              "color": "white"
             }
            },
            "type": "table"
           }
          ]
         },
         "layout": {
          "annotationdefaults": {
           "arrowcolor": "#2a3f5f",
           "arrowhead": 0,
           "arrowwidth": 1
          },
          "autotypenumbers": "strict",
          "coloraxis": {
           "colorbar": {
            "outlinewidth": 0,
            "ticks": ""
           }
          },
          "colorscale": {
           "diverging": [
            [
             0,
             "#8e0152"
            ],
            [
             0.1,
             "#c51b7d"
            ],
            [
             0.2,
             "#de77ae"
            ],
            [
             0.3,
             "#f1b6da"
            ],
            [
             0.4,
             "#fde0ef"
            ],
            [
             0.5,
             "#f7f7f7"
            ],
            [
             0.6,
             "#e6f5d0"
            ],
            [
             0.7,
             "#b8e186"
            ],
            [
             0.8,
             "#7fbc41"
            ],
            [
             0.9,
             "#4d9221"
            ],
            [
             1,
             "#276419"
            ]
           ],
           "sequential": [
            [
             0,
             "#0d0887"
            ],
            [
             0.1111111111111111,
             "#46039f"
            ],
            [
             0.2222222222222222,
             "#7201a8"
            ],
            [
             0.3333333333333333,
             "#9c179e"
            ],
            [
             0.4444444444444444,
             "#bd3786"
            ],
            [
             0.5555555555555556,
             "#d8576b"
            ],
            [
             0.6666666666666666,
             "#ed7953"
            ],
            [
             0.7777777777777778,
             "#fb9f3a"
            ],
            [
             0.8888888888888888,
             "#fdca26"
            ],
            [
             1,
             "#f0f921"
            ]
           ],
           "sequentialminus": [
            [
             0,
             "#0d0887"
            ],
            [
             0.1111111111111111,
             "#46039f"
            ],
            [
             0.2222222222222222,
             "#7201a8"
            ],
            [
             0.3333333333333333,
             "#9c179e"
            ],
            [
             0.4444444444444444,
             "#bd3786"
            ],
            [
             0.5555555555555556,
             "#d8576b"
            ],
            [
             0.6666666666666666,
             "#ed7953"
            ],
            [
             0.7777777777777778,
             "#fb9f3a"
            ],
            [
             0.8888888888888888,
             "#fdca26"
            ],
            [
             1,
             "#f0f921"
            ]
           ]
          },
          "colorway": [
           "#636efa",
           "#EF553B",
           "#00cc96",
           "#ab63fa",
           "#FFA15A",
           "#19d3f3",
           "#FF6692",
           "#B6E880",
           "#FF97FF",
           "#FECB52"
          ],
          "font": {
           "color": "#2a3f5f"
          },
          "geo": {
           "bgcolor": "white",
           "lakecolor": "white",
           "landcolor": "#E5ECF6",
           "showlakes": true,
           "showland": true,
           "subunitcolor": "white"
          },
          "hoverlabel": {
           "align": "left"
          },
          "hovermode": "closest",
          "mapbox": {
           "style": "light"
          },
          "paper_bgcolor": "white",
          "plot_bgcolor": "#E5ECF6",
          "polar": {
           "angularaxis": {
            "gridcolor": "white",
            "linecolor": "white",
            "ticks": ""
           },
           "bgcolor": "#E5ECF6",
           "radialaxis": {
            "gridcolor": "white",
            "linecolor": "white",
            "ticks": ""
           }
          },
          "scene": {
           "xaxis": {
            "backgroundcolor": "#E5ECF6",
            "gridcolor": "white",
            "gridwidth": 2,
            "linecolor": "white",
            "showbackground": true,
            "ticks": "",
            "zerolinecolor": "white"
           },
           "yaxis": {
            "backgroundcolor": "#E5ECF6",
            "gridcolor": "white",
            "gridwidth": 2,
            "linecolor": "white",
            "showbackground": true,
            "ticks": "",
            "zerolinecolor": "white"
           },
           "zaxis": {
            "backgroundcolor": "#E5ECF6",
            "gridcolor": "white",
            "gridwidth": 2,
            "linecolor": "white",
            "showbackground": true,
            "ticks": "",
            "zerolinecolor": "white"
           }
          },
          "shapedefaults": {
           "line": {
            "color": "#2a3f5f"
           }
          },
          "ternary": {
           "aaxis": {
            "gridcolor": "white",
            "linecolor": "white",
            "ticks": ""
           },
           "baxis": {
            "gridcolor": "white",
            "linecolor": "white",
            "ticks": ""
           },
           "bgcolor": "#E5ECF6",
           "caxis": {
            "gridcolor": "white",
            "linecolor": "white",
            "ticks": ""
           }
          },
          "title": {
           "x": 0.05
          },
          "xaxis": {
           "automargin": true,
           "gridcolor": "white",
           "linecolor": "white",
           "ticks": "",
           "title": {
            "standoff": 15
           },
           "zerolinecolor": "white",
           "zerolinewidth": 2
          },
          "yaxis": {
           "automargin": true,
           "gridcolor": "white",
           "linecolor": "white",
           "ticks": "",
           "title": {
            "standoff": 15
           },
           "zerolinecolor": "white",
           "zerolinewidth": 2
          }
         }
        },
        "title": {
         "text": "Artwork Embeddings Visualization"
        },
        "xaxis": {
         "anchor": "y",
         "domain": [
          0,
          1
         ],
         "title": {
          "text": "x"
         }
        },
        "yaxis": {
         "anchor": "x",
         "domain": [
          0,
          1
         ],
         "title": {
          "text": "y"
         }
        }
       }
      }
     },
     "metadata": {},
     "output_type": "display_data"
    }
   ],
   "source": [
    "fig.show()"
   ]
  }
 ],
 "metadata": {
  "kernelspec": {
   "display_name": "met-museum-medieval",
   "language": "python",
   "name": "python3"
  },
  "language_info": {
   "codemirror_mode": {
    "name": "ipython",
    "version": 3
   },
   "file_extension": ".py",
   "mimetype": "text/x-python",
   "name": "python",
   "nbconvert_exporter": "python",
   "pygments_lexer": "ipython3",
   "version": "3.10.15"
  }
 },
 "nbformat": 4,
 "nbformat_minor": 2
}
